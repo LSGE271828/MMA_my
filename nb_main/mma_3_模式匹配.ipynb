{
 "cells": [
  {
   "cell_type": "markdown",
   "metadata": {},
   "source": [
    "### 模式匹配\n",
    "已经提过 Mathematica 的第二原理：计算即重写。重写分两步，分别是模式匹配和规则带入。我们先来讲模式匹配。<br/>\n",
    "模式，是指满足一定条件的表达式构成的集合。"
   ]
  },
  {
   "cell_type": "markdown",
   "metadata": {},
   "source": [
    "最简单的（非平凡）模式是\"_\"，全名为 $Blank[ ]$，它代表一切表达式。"
   ]
  },
  {
   "cell_type": "code",
   "execution_count": 1,
   "metadata": {},
   "outputs": [
    {
     "data": {
      "text/html": [
       "<div><img alt=\"Output\" src=\"data:image/png;base64,iVBORw0KGgoAAAANSUhEUgAAAlEAAAAPCAIAAABLBQ0nAAAAhXpUWHRSYXcgcHJvZmlsZSB0eXBlIGV4aWYAAHjaVYvBDcMwDAP/mqIjyLJM2uMYiQNkg45fuu0n9yApgbT1vi97felp2dgxABc5csRU6P6juNciDXn+X9MfZGWgoRhTluEkhnJXkqKFN+LCAahYcIbnIV8gNQN3o86928QyPusLVffpbh/5eCey76LuBgAAAAlwSFlzAAALEwAACxMBAJqcGAAAADx0RVh0U29mdHdhcmUAQ3JlYXRlZCB3aXRoIHRoZSBXb2xmcmFtIExhbmd1YWdlIDogd3d3LndvbGZyYW0uY29tXKKmhQAAACF0RVh0Q3JlYXRpb24gVGltZQAyMDIyOjA1OjE5IDE2OjA4OjQxu66gJgAABC5JREFUeJztnT+SsjAYxl++k8SxsfAQMNvg2HoD6LaF8Qw70jo2cANaRxuGHMJiG4fcJF/BHwMaDIJsgvl1hpA8zwvLm4Qwa1BKQaPRaDSaD+DfXwvQaDQajWYkdM7TaDQazafQyHmENCuQaGXkrCJSr0ruazfAfnGuj1/QRqJV24kPBPA0iWjtiEr2uyOL8uk5en6wNx8cNKkEd0Irf3y4/7PirpDJeSTyo+ZhwHsXwoxSSunJQUw5rletjNfMmztKaRbaD5T0pSmghCT3JtrKh+ldevv8hmRXPj1HvPoDMv2gSS+Y35BWLtzhMM+KyI8w85PNefO1Y6JGI9cLLOeNwgKEUO2Al1JKKaWpF1gvpfyuNAUA3BU8KR+yd4ntP0Fi5dNzxKs/rJhXTlMuaNIL5qKVC9P/WYGQs4YruRVw3+fla5oz9wyB1Xnmai8edw8A9dFC2Sj2DT8qV1FXd8k6FzNKjDlCH6nioq59dZXzkN8R9uu9C91pJFox9eq/+iN/0BooJ7hCKy8ZTTk35yHnVExZi9S+M580VeRGw7qEB3YZtIm5owVZeLkNFgL3d5uPIM7uHjP1sW/M4k0moGBQsG9dilXd1AO73ROobF9d5TyUcmTuqlFzfs+dntxpAADI2XrnOCEAAECS+OxtBc5qRamgKSlYK5fiWVHlPIKvV9SrqXLam23iWeugsxoDzNwze3puFy3YleHAMixIqchj4I9R1766ynmo5sjcZeHFMgwLUuHmzXWZ9EgSQ/ht9hWhWtDUE8x0rZUzdd+u3JxDMTwEuOU8Qq7AeW/XFfS1aXufycyfBF58euloK8cNzLV3dmdCg5oa6tpXVzkPpRzZdrdtAOZ3CHFCAO/dZe9JHoNSQQNQUHCFVg4AYyhHAEm1f7PMech05jBMpySJz7x9L/mumAK8Z4cAPIox8FsiUnuVUodEP+VVo51GIBLab7FZ0yafch4Tc4T9Wbw5nA7hxaoNntttIme7jJPoGHhrU6yXSQXtJkk+weqGWl3lLeAEvpxqi8uA36SXS72zeJPlM9jmPhgfFy8i8vnTzyL0RBpGzin1AmvQt/RFywsbIDjih51ul8U0r/YilovE9ltsSq6c2/KEHGG/XEhAziEEl1kzemITzPXSdUVT3qSCJrlgdUOtrnJxaEWaplSYTpXfAU9AGlazM4Hy1LstUbcdST2w2fMVs8+3OT7vvnDj09mR+M3zzGbzvmzv+kOC9h4+5S9OXeWi5ew873p8/8ey8kCilWFYlzAT2CmEjwH3M0XJ6WJTDabn6CECNrFvBYL7NT8kaDKgbqjVVd4Ouf6yPw3K/l8FgjEgU+RrRUIwIQDIbH7FPhYPBPA0vaaVRKvbliO7sYNcJfuS8fYLNzpdr8UQtrBvWMHdbTlU6yPwF0HrxUf8xUnGEM+K+5z2H3GhJZnb8vR+AAAAAElFTkSuQmCC\"></div>"
      ],
      "text/plain": [
       "{f[Blank[]], g[Blank[], Blank[]], Blank[][x, y], Blank[][Blank[], Blank[], Blank[]]}"
      ]
     },
     "execution_count": 1,
     "metadata": {
      "text/html": [],
      "text/plain": []
     },
     "output_type": "execute_result"
    }
   ],
   "source": [
    "FullForm /@ {f[_], g[_, _], _[x, y], _[_, _, _]}"
   ]
  },
  {
   "cell_type": "code",
   "execution_count": 2,
   "metadata": {},
   "outputs": [
    {
     "data": {
      "text/html": [
       "<div><img alt=\"Output\" src=\"data:image/png;base64,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\"></div>"
      ],
      "text/plain": [
       "_[|      , |                  , |      ]\n",
       "  Blank[]  _[|      , |      ]  Blank[]\n",
       "             Blank[]  Blank[]"
      ]
     },
     "execution_count": 2,
     "metadata": {
      "text/html": [],
      "text/plain": []
     },
     "output_type": "execute_result"
    }
   ],
   "source": [
    "TreeForm[_[_, _[_, _], _]]"
   ]
  },
  {
   "cell_type": "code",
   "execution_count": 3,
   "metadata": {},
   "outputs": [
    {
     "data": {
      "text/html": [
       "<div><img alt=\"Output\" src=\"data:image/png;base64,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\"></div>"
      ],
      "text/plain": [
       "{Times[2, Blank[]], 0, Power[Blank[], 2], 1, Power[Blank[], Blank[]]}"
      ]
     },
     "execution_count": 3,
     "metadata": {
      "text/html": [],
      "text/plain": []
     },
     "output_type": "execute_result"
    }
   ],
   "source": [
    "FullForm /@ {_ + _, _ - _, _*_, _/_, _^_}"
   ]
  },
  {
   "cell_type": "code",
   "execution_count": 1,
   "metadata": {},
   "outputs": [
    {
     "data": {
      "text/html": [
       "<style>\n",
       "\t\t\t\t\t\t\t\t\t\t\t\t\t.grid-container {\n",
       "\t\t\t\t\t\t\t\t\t\t\t\t\t\tdisplay: inline-grid;\n",
       "\t\t\t\t\t\t\t\t\t\t\t\t\t\tgrid-template-columns: auto;\n",
       "\t\t\t\t\t\t\t\t\t\t\t\t\t}\n",
       "\t\t\t\t\t\t\t\t\t\t\t\t</style>\n",
       "\n",
       "\t\t\t\t\t\t\t\t\t\t\t\t<div><div class=\"grid-container\"><div class=\"grid-item\"><img alt=\"Output\" src=\"data:image/png;base64,iVBORw0KGgoAAAANSUhEUgAAACMAAAAPCAIAAADh1eFDAAAAhXpUWHRSYXcgcHJvZmlsZSB0eXBlIGV4aWYAAHjaVYvBDcMwDAP/mqIjyLJM2uMYiQNkg45fuu0n9yApgbT1vi97felp2dgxABc5csRU6P6juNciDXn+X9MfZGWgoRhTluEkhnJXkqKFN+LCAahYcIbnIV8gNQN3o86928QyPusLVffpbh/5eCey76LuBgAAAAlwSFlzAAALEwAACxMBAJqcGAAAADx0RVh0U29mdHdhcmUAQ3JlYXRlZCB3aXRoIHRoZSBXb2xmcmFtIExhbmd1YWdlIDogd3d3LndvbGZyYW0uY29tXKKmhQAAACF0RVh0Q3JlYXRpb24gVGltZQAyMDIyOjA1OjE5IDIxOjM1OjAyuCmv+AAAAPpJREFUOI3tlDGOgzAQRYdoD0K6FDmE3RnlGOEIRjkEtHTmGFHo7ENQpInsm/wUjIEQBXazUrTF/gZp+OM3f2Q5AUAf0eYzmD9MckXSq3BvkYb+1UNECcAb9WMMEX31H21Rinf6v6+X25sGXdlVaLLozJrwXOzbmVTJuVeUYHnTySWWq/O9Ze/lmPKc2+uJa5Zk1oRI0tE6eMdQ27xdjJTuVCUfg4dbNw4vK5pkeh60kJ3xnGn5BqTHCwAczuOmwrVV3D2M/4IUbt3ArFcysUQJb1R1dkQkDrrNa/doAGD1ZHtRVrNBGRP/z9NpOy+O50zLyngg+X/3fqE73eq59mZMEtcAAAAASUVORK5CYII=\"></div><div class=\"grid-item\"><img alt=\"Output\" src=\"data:image/png;base64,iVBORw0KGgoAAAANSUhEUgAAABwAAAAPCAIAAAB4LTj2AAAAhXpUWHRSYXcgcHJvZmlsZSB0eXBlIGV4aWYAAHjaVYvBDcMwDAP/mqIjyLJM2uMYiQNkg45fuu0n9yApgbT1vi97felp2dgxABc5csRU6P6juNciDXn+X9MfZGWgoRhTluEkhnJXkqKFN+LCAahYcIbnIV8gNQN3o86928QyPusLVffpbh/5eCey76LuBgAAAAlwSFlzAAALEwAACxMBAJqcGAAAADx0RVh0U29mdHdhcmUAQ3JlYXRlZCB3aXRoIHRoZSBXb2xmcmFtIExhbmd1YWdlIDogd3d3LndvbGZyYW0uY29tXKKmhQAAACF0RVh0Q3JlYXRpb24gVGltZQAyMDIyOjA1OjE5IDIxOjM1OjAyuCmv+AAAAMVJREFUOI3lkzEOgjAUhv8aDyI3aTcbV28gi2Et4RB0NS7tDViNbPQQDCyEd5M6UEw6QCSyGL+p+fvyv/c3r8x7j63Zbe74W6ZkJYuRlr519YFGQTV+G2bju5zl9p0id5PmxmuyMjpHdUtvqivcQwr9cPPdk66Y4kJIS4umqrgcAAC89CWfKaK+hRZhUKEBAPsF04+grj6a4Rnaj6xdqbYnAGSvaT0K/KTq9OaiolWmPDNIE8ZYUp2NmsRyMK2I9pH9999/AYVknc1lM5hoAAAAAElFTkSuQmCC\"></div><div class=\"grid-item\"><img alt=\"Output\" src=\"data:image/png;base64,iVBORw0KGgoAAAANSUhEUgAAACMAAAAPCAIAAADh1eFDAAAAhXpUWHRSYXcgcHJvZmlsZSB0eXBlIGV4aWYAAHjaVYvBDcMwDAP/mqIjyLJM2uMYiQNkg45fuu0n9yApgbT1vi97felp2dgxABc5csRU6P6juNciDXn+X9MfZGWgoRhTluEkhnJXkqKFN+LCAahYcIbnIV8gNQN3o86928QyPusLVffpbh/5eCey76LuBgAAAAlwSFlzAAALEwAACxMBAJqcGAAAADx0RVh0U29mdHdhcmUAQ3JlYXRlZCB3aXRoIHRoZSBXb2xmcmFtIExhbmd1YWdlIDogd3d3LndvbGZyYW0uY29tXKKmhQAAACF0RVh0Q3JlYXRpb24gVGltZQAyMDIyOjA1OjE5IDIxOjM1OjAyuCmv+AAAAPpJREFUOI3tlDGOgzAQRYdoD0K6FDmE3RnlGOEIRjkEtHTmGFHo7ENQpInsm/wUjIEQBXazUrTF/gZp+OM3f2Q5AUAf0eYzmD9MckXSq3BvkYb+1UNECcAb9WMMEX31H21Rinf6v6+X25sGXdlVaLLozJrwXOzbmVTJuVeUYHnTySWWq/O9Ze/lmPKc2+uJa5Zk1oRI0tE6eMdQ27xdjJTuVCUfg4dbNw4vK5pkeh60kJ3xnGn5BqTHCwAczuOmwrVV3D2M/4IUbt3ArFcysUQJb1R1dkQkDrrNa/doAGD1ZHtRVrNBGRP/z9NpOy+O50zLyngg+X/3fqE73eq59mZMEtcAAAAASUVORK5CYII=\"></div><div class=\"grid-item\"><img alt=\"Output\" src=\"data:image/png;base64,iVBORw0KGgoAAAANSUhEUgAAABwAAAAPCAIAAAB4LTj2AAAAhXpUWHRSYXcgcHJvZmlsZSB0eXBlIGV4aWYAAHjaVYvBDcMwDAP/mqIjyLJM2uMYiQNkg45fuu0n9yApgbT1vi97felp2dgxABc5csRU6P6juNciDXn+X9MfZGWgoRhTluEkhnJXkqKFN+LCAahYcIbnIV8gNQN3o86928QyPusLVffpbh/5eCey76LuBgAAAAlwSFlzAAALEwAACxMBAJqcGAAAADx0RVh0U29mdHdhcmUAQ3JlYXRlZCB3aXRoIHRoZSBXb2xmcmFtIExhbmd1YWdlIDogd3d3LndvbGZyYW0uY29tXKKmhQAAACF0RVh0Q3JlYXRpb24gVGltZQAyMDIyOjA1OjE5IDIxOjM1OjAyuCmv+AAAAMVJREFUOI3lkzEOgjAUhv8aDyI3aTcbV28gi2Et4RB0NS7tDViNbPQQDCyEd5M6UEw6QCSyGL+p+fvyv/c3r8x7j63Zbe74W6ZkJYuRlr519YFGQTV+G2bju5zl9p0id5PmxmuyMjpHdUtvqivcQwr9cPPdk66Y4kJIS4umqrgcAAC89CWfKaK+hRZhUKEBAPsF04+grj6a4Rnaj6xdqbYnAGSvaT0K/KTq9OaiolWmPDNIE8ZYUp2NmsRyMK2I9pH9999/AYVknc1lM5hoAAAAAElFTkSuQmCC\"></div><div class=\"grid-item\"><img alt=\"Output\" src=\"data:image/png;base64,iVBORw0KGgoAAAANSUhEUgAAACMAAAAPCAIAAADh1eFDAAAAhXpUWHRSYXcgcHJvZmlsZSB0eXBlIGV4aWYAAHjaVYvBDcMwDAP/mqIjyLJM2uMYiQNkg45fuu0n9yApgbT1vi97felp2dgxABc5csRU6P6juNciDXn+X9MfZGWgoRhTluEkhnJXkqKFN+LCAahYcIbnIV8gNQN3o86928QyPusLVffpbh/5eCey76LuBgAAAAlwSFlzAAALEwAACxMBAJqcGAAAADx0RVh0U29mdHdhcmUAQ3JlYXRlZCB3aXRoIHRoZSBXb2xmcmFtIExhbmd1YWdlIDogd3d3LndvbGZyYW0uY29tXKKmhQAAACF0RVh0Q3JlYXRpb24gVGltZQAyMDIyOjA1OjE5IDIxOjM1OjAyuCmv+AAAAPpJREFUOI3tlDGOgzAQRYdoD0K6FDmE3RnlGOEIRjkEtHTmGFHo7ENQpInsm/wUjIEQBXazUrTF/gZp+OM3f2Q5AUAf0eYzmD9MckXSq3BvkYb+1UNECcAb9WMMEX31H21Rinf6v6+X25sGXdlVaLLozJrwXOzbmVTJuVeUYHnTySWWq/O9Ze/lmPKc2+uJa5Zk1oRI0tE6eMdQ27xdjJTuVCUfg4dbNw4vK5pkeh60kJ3xnGn5BqTHCwAczuOmwrVV3D2M/4IUbt3ArFcysUQJb1R1dkQkDrrNa/doAGD1ZHtRVrNBGRP/z9NpOy+O50zLyngg+X/3fqE73eq59mZMEtcAAAAASUVORK5CYII=\"></div><div class=\"grid-item\"><img alt=\"Output\" src=\"data:image/png;base64,iVBORw0KGgoAAAANSUhEUgAAABwAAAAPCAIAAAB4LTj2AAAAhXpUWHRSYXcgcHJvZmlsZSB0eXBlIGV4aWYAAHjaVYvBDcMwDAP/mqIjyLJM2uMYiQNkg45fuu0n9yApgbT1vi97felp2dgxABc5csRU6P6juNciDXn+X9MfZGWgoRhTluEkhnJXkqKFN+LCAahYcIbnIV8gNQN3o86928QyPusLVffpbh/5eCey76LuBgAAAAlwSFlzAAALEwAACxMBAJqcGAAAADx0RVh0U29mdHdhcmUAQ3JlYXRlZCB3aXRoIHRoZSBXb2xmcmFtIExhbmd1YWdlIDogd3d3LndvbGZyYW0uY29tXKKmhQAAACF0RVh0Q3JlYXRpb24gVGltZQAyMDIyOjA1OjE5IDIxOjM1OjAyuCmv+AAAAMVJREFUOI3lkzEOgjAUhv8aDyI3aTcbV28gi2Et4RB0NS7tDViNbPQQDCyEd5M6UEw6QCSyGL+p+fvyv/c3r8x7j63Zbe74W6ZkJYuRlr519YFGQTV+G2bju5zl9p0id5PmxmuyMjpHdUtvqivcQwr9cPPdk66Y4kJIS4umqrgcAAC89CWfKaK+hRZhUKEBAPsF04+grj6a4Rnaj6xdqbYnAGSvaT0K/KTq9OaiolWmPDNIE8ZYUp2NmsRyMK2I9pH9999/AYVknc1lM5hoAAAAAElFTkSuQmCC\"></div><div class=\"grid-item\"><img alt=\"Output\" src=\"data:image/png;base64,iVBORw0KGgoAAAANSUhEUgAAABwAAAAPCAIAAAB4LTj2AAAAhXpUWHRSYXcgcHJvZmlsZSB0eXBlIGV4aWYAAHjaVYvBDcMwDAP/mqIjyLJM2uMYiQNkg45fuu0n9yApgbT1vi97felp2dgxABc5csRU6P6juNciDXn+X9MfZGWgoRhTluEkhnJXkqKFN+LCAahYcIbnIV8gNQN3o86928QyPusLVffpbh/5eCey76LuBgAAAAlwSFlzAAALEwAACxMBAJqcGAAAADx0RVh0U29mdHdhcmUAQ3JlYXRlZCB3aXRoIHRoZSBXb2xmcmFtIExhbmd1YWdlIDogd3d3LndvbGZyYW0uY29tXKKmhQAAACF0RVh0Q3JlYXRpb24gVGltZQAyMDIyOjA1OjE5IDIxOjM1OjAyuCmv+AAAAMVJREFUOI3lkzEOgjAUhv8aDyI3aTcbV28gi2Et4RB0NS7tDViNbPQQDCyEd5M6UEw6QCSyGL+p+fvyv/c3r8x7j63Zbe74W6ZkJYuRlr519YFGQTV+G2bju5zl9p0id5PmxmuyMjpHdUtvqivcQwr9cPPdk66Y4kJIS4umqrgcAAC89CWfKaK+hRZhUKEBAPsF04+grj6a4Rnaj6xdqbYnAGSvaT0K/KTq9OaiolWmPDNIE8ZYUp2NmsRyMK2I9pH9999/AYVknc1lM5hoAAAAAElFTkSuQmCC\"></div><div class=\"grid-item\"><img alt=\"Output\" src=\"data:image/png;base64,iVBORw0KGgoAAAANSUhEUgAAABwAAAAPCAIAAAB4LTj2AAAAhXpUWHRSYXcgcHJvZmlsZSB0eXBlIGV4aWYAAHjaVYvBDcMwDAP/mqIjyLJM2uMYiQNkg45fuu0n9yApgbT1vi97felp2dgxABc5csRU6P6juNciDXn+X9MfZGWgoRhTluEkhnJXkqKFN+LCAahYcIbnIV8gNQN3o86928QyPusLVffpbh/5eCey76LuBgAAAAlwSFlzAAALEwAACxMBAJqcGAAAADx0RVh0U29mdHdhcmUAQ3JlYXRlZCB3aXRoIHRoZSBXb2xmcmFtIExhbmd1YWdlIDogd3d3LndvbGZyYW0uY29tXKKmhQAAACF0RVh0Q3JlYXRpb24gVGltZQAyMDIyOjA1OjE5IDIxOjM1OjAyuCmv+AAAAMVJREFUOI3lkzEOgjAUhv8aDyI3aTcbV28gi2Et4RB0NS7tDViNbPQQDCyEd5M6UEw6QCSyGL+p+fvyv/c3r8x7j63Zbe74W6ZkJYuRlr519YFGQTV+G2bju5zl9p0id5PmxmuyMjpHdUtvqivcQwr9cPPdk66Y4kJIS4umqrgcAAC89CWfKaK+hRZhUKEBAPsF04+grj6a4Rnaj6xdqbYnAGSvaT0K/KTq9OaiolWmPDNIE8ZYUp2NmsRyMK2I9pH9999/AYVknc1lM5hoAAAAAElFTkSuQmCC\"></div><div class=\"grid-item\"><img alt=\"Output\" src=\"data:image/png;base64,iVBORw0KGgoAAAANSUhEUgAAABwAAAAPCAIAAAB4LTj2AAAAhXpUWHRSYXcgcHJvZmlsZSB0eXBlIGV4aWYAAHjaVYvBDcMwDAP/mqIjyLJM2uMYiQNkg45fuu0n9yApgbT1vi97felp2dgxABc5csRU6P6juNciDXn+X9MfZGWgoRhTluEkhnJXkqKFN+LCAahYcIbnIV8gNQN3o86928QyPusLVffpbh/5eCey76LuBgAAAAlwSFlzAAALEwAACxMBAJqcGAAAADx0RVh0U29mdHdhcmUAQ3JlYXRlZCB3aXRoIHRoZSBXb2xmcmFtIExhbmd1YWdlIDogd3d3LndvbGZyYW0uY29tXKKmhQAAACF0RVh0Q3JlYXRpb24gVGltZQAyMDIyOjA1OjE5IDIxOjM1OjAzzy6fbgAAAMVJREFUOI3lkzEOgjAUhv8aDyI3aTcbV28gi2Et4RB0NS7tDViNbPQQDCyEd5M6UEw6QCSyGL+p+fvyv/c3r8x7j63Zbe74W6ZkJYuRlr519YFGQTV+G2bju5zl9p0id5PmxmuyMjpHdUtvqivcQwr9cPPdk66Y4kJIS4umqrgcAAC89CWfKaK+hRZhUKEBAPsF04+grj6a4Rnaj6xdqbYnAGSvaT0K/KTq9OaiolWmPDNIE8ZYUp2NmsRyMK2I9pH9999/AYVknc1lM5hoAAAAAElFTkSuQmCC\"></div></div></div>"
      ],
      "text/plain": [
       "False\n",
       "True\n",
       "False\n",
       "True\n",
       "False\n",
       "True\n",
       "True\n",
       "True\n",
       "True"
      ]
     },
     "execution_count": 1,
     "metadata": {
      "text/html": [],
      "text/plain": []
     },
     "output_type": "execute_result"
    }
   ],
   "source": [
    "MatchQ[a + b, _ + _]\n",
    "MatchQ[a + a, _ + _]\n",
    "MatchQ[a - b, _ - _]\n",
    "MatchQ[a - a, _ - _]\n",
    "MatchQ[a*b, _*_]\n",
    "MatchQ[a*a, _*_]\n",
    "MatchQ[a/b, _/__]\n",
    "MatchQ[a/a, _/_]\n",
    "MatchQ[g[a, b], _[_, _]]"
   ]
  },
  {
   "cell_type": "markdown",
   "metadata": {},
   "source": [
    "我们可以将匹配好的模式命名，其完整形式为$ Pattern[name, pattern] $，简写形式则有两种，分别对应不同的优先级。"
   ]
  },
  {
   "cell_type": "code",
   "execution_count": 13,
   "metadata": {},
   "outputs": [
    {
     "data": {
      "text/html": [
       "<style>\n",
       "\t\t\t\t\t\t\t\t\t\t\t\t\t.grid-container {\n",
       "\t\t\t\t\t\t\t\t\t\t\t\t\t\tdisplay: inline-grid;\n",
       "\t\t\t\t\t\t\t\t\t\t\t\t\t\tgrid-template-columns: auto;\n",
       "\t\t\t\t\t\t\t\t\t\t\t\t\t}\n",
       "\t\t\t\t\t\t\t\t\t\t\t\t</style>\n",
       "\n",
       "\t\t\t\t\t\t\t\t\t\t\t\t<div><div class=\"grid-container\"><div class=\"grid-item\"><img alt=\"Output\" src=\"data:image/png;base64,iVBORw0KGgoAAAANSUhEUgAAAIYAAAAPCAIAAACupCDWAAAAhXpUWHRSYXcgcHJvZmlsZSB0eXBlIGV4aWYAAHjaVYvBDcMwDAP/mqIjyLJM2uMYiQNkg45fuu0n9yApgbT1vi97felp2dgxABc5csRU6P6juNciDXn+X9MfZGWgoRhTluEkhnJXkqKFN+LCAahYcIbnIV8gNQN3o86928QyPusLVffpbh/5eCey76LuBgAAAAlwSFlzAAALEwAACxMBAJqcGAAAADx0RVh0U29mdHdhcmUAQ3JlYXRlZCB3aXRoIHRoZSBXb2xmcmFtIExhbmd1YWdlIDogd3d3LndvbGZyYW0uY29tXKKmhQAAACF0RVh0Q3JlYXRpb24gVGltZQAyMDIyOjA1OjE5IDE2OjExOjIzQ5IAtgAAAllJREFUWIXtWDGOqzAQHe9JjLZJsYfA2gb0W25Aut8a7Rm+QrtKY26Q9is0K/sQFNtEzE38C2OCwQ5JPlGyUl5FnsfDm8x4xoJoreGJR8LLvQU8McYzJQ+HR08JIiLexLMqiEGhrtiNVXpqo0d2KJIJ/zLQdo4+r5QZfddDKVzCizfAeKO1bkWywAsmLwzIxq/Ku+Dy5pRwqbXWWreiYal/271AKaX/78UGKHnJblI8Y0xlh+KY8G7jou9ZUn8jgFtaJgisUkKidQ0lM3RaoZ/srUeFqQpSVD1vaIebKQdVDLypYtbei2RFw4vTqGcVmkCXzLPWkg+KCCARrXbQiqQ3cH94LayjnpDc+hy6txaSgy1iyWHsRo5fZW2OTuch+SAh7iZvOKMVr8Ju2fuHeWR3vPBLdnlzSmyJs0a0+5y6BROt60vzjIem90lYOVjhH537eKM3ccdJ80RX84093rSiYYQwkFboOeg7c7aLTh4tf9R+hSUjDKS+RMc5cGfJ0b0qWNOl7ooRiN+1UzsLq06Sa4cyfc9Obb0sai5vMpoCl2A8NPZRfQ7rhb6+QXNA13pCxr94vf5Ui6k8QhXRLtvut+N7iDNmwsCvXf32SkOroahD6M7sslkJpITmH7xeR4QQ8mclBr0Y4t8CzMJg1E1I21/OmtpnQxWENWKbU6D5VsB60IPoKgEo/6rATttFo13Wmh5kpvLxYlKoU1EHQfO95CVbLEQAAO8cehSE5qTPdHI3uB+WGO8/G1il5mZi7ws/G0Q/8pdgRIUIQOOY3lvKJfDIDkXi4f8BOPMTxAy2RhIAAAAASUVORK5CYII=\"></div><div class=\"grid-item\"><img alt=\"Output\" src=\"data:image/png;base64,iVBORw0KGgoAAAANSUhEUgAAAIYAAAAPCAIAAACupCDWAAAAhXpUWHRSYXcgcHJvZmlsZSB0eXBlIGV4aWYAAHjaVYvBDcMwDAP/mqIjyLJM2uMYiQNkg45fuu0n9yApgbT1vi97felp2dgxABc5csRU6P6juNciDXn+X9MfZGWgoRhTluEkhnJXkqKFN+LCAahYcIbnIV8gNQN3o86928QyPusLVffpbh/5eCey76LuBgAAAAlwSFlzAAALEwAACxMBAJqcGAAAADx0RVh0U29mdHdhcmUAQ3JlYXRlZCB3aXRoIHRoZSBXb2xmcmFtIExhbmd1YWdlIDogd3d3LndvbGZyYW0uY29tXKKmhQAAACF0RVh0Q3JlYXRpb24gVGltZQAyMDIyOjA1OjE5IDE2OjExOjIzQ5IAtgAAAllJREFUWIXtWDGOqzAQHe9JjLZJsYfA2gb0W25Aut8a7Rm+QrtKY26Q9is0K/sQFNtEzE38C2OCwQ5JPlGyUl5FnsfDm8x4xoJoreGJR8LLvQU8McYzJQ+HR08JIiLexLMqiEGhrtiNVXpqo0d2KJIJ/zLQdo4+r5QZfddDKVzCizfAeKO1bkWywAsmLwzIxq/Ku+Dy5pRwqbXWWreiYal/271AKaX/78UGKHnJblI8Y0xlh+KY8G7jou9ZUn8jgFtaJgisUkKidQ0lM3RaoZ/srUeFqQpSVD1vaIebKQdVDLypYtbei2RFw4vTqGcVmkCXzLPWkg+KCCARrXbQiqQ3cH94LayjnpDc+hy6txaSgy1iyWHsRo5fZW2OTuch+SAh7iZvOKMVr8Ju2fuHeWR3vPBLdnlzSmyJs0a0+5y6BROt60vzjIem90lYOVjhH537eKM3ccdJ80RX84093rSiYYQwkFboOeg7c7aLTh4tf9R+hSUjDKS+RMc5cGfJ0b0qWNOl7ooRiN+1UzsLq06Sa4cyfc9Obb0sai5vMpoCl2A8NPZRfQ7rhb6+QXNA13pCxr94vf5Ui6k8QhXRLtvut+N7iDNmwsCvXf32SkOroahD6M7sslkJpITmH7xeR4QQ8mclBr0Y4t8CzMJg1E1I21/OmtpnQxWENWKbU6D5VsB60IPoKgEo/6rATttFo13Wmh5kpvLxYlKoU1EHQfO95CVbLEQAAO8cehSE5qTPdHI3uB+WGO8/G1il5mZi7ws/G0Q/8pdgRIUIQOOY3lvKJfDIDkXi4f8BOPMTxAy2RhIAAAAASUVORK5CYII=\"></div><div class=\"grid-item\"><img alt=\"Output\" src=\"data:image/png;base64,iVBORw0KGgoAAAANSUhEUgAAAMkAAAAPCAIAAADBFXz7AAAAhXpUWHRSYXcgcHJvZmlsZSB0eXBlIGV4aWYAAHjaVYvBDcMwDAP/mqIjyLJM2uMYiQNkg45fuu0n9yApgbT1vi97felp2dgxABc5csRU6P6juNciDXn+X9MfZGWgoRhTluEkhnJXkqKFN+LCAahYcIbnIV8gNQN3o86928QyPusLVffpbh/5eCey76LuBgAAAAlwSFlzAAALEwAACxMBAJqcGAAAADx0RVh0U29mdHdhcmUAQ3JlYXRlZCB3aXRoIHRoZSBXb2xmcmFtIExhbmd1YWdlIDogd3d3LndvbGZyYW0uY29tXKKmhQAAACF0RVh0Q3JlYXRpb24gVGltZQAyMDIyOjA1OjE5IDE2OjExOjIzQ5IAtgAAApxJREFUaIHtmj+OozAUxu2cxGiaFHMIrGmItuUGodsWK2dYQRulgRvQrkIzsg9BkSbCN/EWBmLABuffACu+Knq2H99PebYfUaAQAqxa9QZtpjaw6r/VWlur3qW51xbnnPO3ZGYEShH2wGqe7oYWamybSAYJbfBnC7JRvNn401oZ8fe4GOOvyKIFdCMhRJl4L3hA74EG2/w71Q6Y4t08CwOR51ZIhRBCiDIp8E6/bCohhNDzWWpAGsb4Lbugq75tE8cwXzfPkkDadyL68r38wgFo7xEJwdMdhE6QgxjL8C7l+mAzu7PDGIEkbeIy3IqN1DUjSjZGRudr5W2RebBPPepQgv7I99zW7EHatcWOQV5ZdiMhbocZYQCg/VmevfXeOe+RPggAI87lUK2nQDkL4wyc6o33t8KIAzmXhnlwHEJzo2a/MoKLpJQPs1Bd+bhITkNr+tTDDhmBTuaXQkSunZFntSSQTddx8301le8E+b1Z+bVockIcKyPhoUrvRg1GSOUntB3vGdyoTAoMIQbUurCAcun7mTN42Omp9Q5jDDGg4h4fT2tJIO1+65ZengtV4d/dJvJL7lWr22lfI897tHFFX/7Q0vuoQ/pjXU9PSwAx/AbBr0X9kR3Vwkcfn6C48vbsXtD9NXa9PSpGnMw/nU/dl45WK2YW/87yzw9kGjVRm1SdohOU1xJADLWF9ocwDxwIIfyzTULVxe8EyAGlHewF66vLqkW3FiN1n4H2pwQEyq2Ath4ATQfXU31BO5lfyltBdq63txDZUZqojUL7Mw1j/DLEMS0KRMxZlFLrqaFytU8sk22aqI2CRdwe/z16DmTuv8vbiKc7+RryUy9rq6wExZz/B8E54xwA5Lpoaiv3SGPbRDJIODn+cyD/AGAzw/B5bjiiAAAAAElFTkSuQmCC\"></div><div class=\"grid-item\"><img alt=\"Output\" src=\"data:image/png;base64,iVBORw0KGgoAAAANSUhEUgAAAMkAAAAPCAIAAADBFXz7AAAAhXpUWHRSYXcgcHJvZmlsZSB0eXBlIGV4aWYAAHjaVYvBDcMwDAP/mqIjyLJM2uMYiQNkg45fuu0n9yApgbT1vi97felp2dgxABc5csRU6P6juNciDXn+X9MfZGWgoRhTluEkhnJXkqKFN+LCAahYcIbnIV8gNQN3o86928QyPusLVffpbh/5eCey76LuBgAAAAlwSFlzAAALEwAACxMBAJqcGAAAADx0RVh0U29mdHdhcmUAQ3JlYXRlZCB3aXRoIHRoZSBXb2xmcmFtIExhbmd1YWdlIDogd3d3LndvbGZyYW0uY29tXKKmhQAAACF0RVh0Q3JlYXRpb24gVGltZQAyMDIyOjA1OjE5IDE2OjExOjIzQ5IAtgAAAp5JREFUaIHtmj+OozAUxu05idE0KeYQWNMQbcsNoNsWK2dYQRulgRvQrkIzsg9BkSbCN/EWBmLABpMNEzLiV0XPf/g+4Wc/o0AhBNjYWIC3ZwvY+LFsa2tjKda+tjjnnC8yMyNQQtgdo3m2HxuokT3qxMbmWgRbx98UzTa6tRIndN8PY/wRs2gNurEQokq9Bzxg8ECDbP6VaRv6/Vcv2C4u962ICiGEEFVa4r1+2LNACKH/n6UxSKMEL5IFfYayx330+69YsHW8eyaiT98rLhyAbu5IczzbQ+iEBUiwDO8zrg+2vXuZxwgkWRuX4U5sYl0zoszGyGR/Ld4OmRuHricVSqMLvv+XE9zQXVvsGBa1FTcW4raZEQYACs5yT25y6hwgfRAARpzLoR5PgbIXJjk4NQn5t7aXhLIvjYrwOGbZjds8ZgSXaSUfZkGz8nGZnsbGDF2PK2QEOrlfCRG7dkJseTnBGuTaUpy076vNCCcs5s7Kr2U7J8SJ0hId6unduLUXUfkL7aZrCTeu0hJDiAG1XlhAOfT93Bnd7PSu9QoTDDGgYo6OnytYQ7feuj1W7gt1QswuH/ml8OrR3Wkfg+fdW9CiT39s6DzXEV2+Gno5wQqGbxD8WjY/2VFNCPT+Acor7/YeBN1fU8fbvTDi5P7pfOpfOjqlmBn+lRcf78jUanJtot5FF3xbLydYwbC2UHCIitCBEMI/uzRS1f1OgWxQysRBsDm6rEp0axhp6g8UnFIQKqcF2nkAtBXcgOaAdnK/kqeFrGhvtxBZUZpcG0HBmUYJfpjFlxWsQ6wZSql110g52p+MSTZN1UJhuv+3MVuwVXzt3+Vt4NleXkO+4e6zYQ8Ua/4fBOeMcwCQ66JnS5mDRvaok6fbnCF4RvwfFlfD8P/ord0AAAAASUVORK5CYII=\"></div></div></div>"
      ],
      "text/plain": [
       "Pattern[x, Blank[]]\n",
       "Pattern[x, Blank[]]\n",
       "Pattern[x, Blank[]][Blank[]]\n",
       "Pattern[x, Blank[][Blank[]]]"
      ]
     },
     "execution_count": 13,
     "metadata": {
      "text/html": [],
      "text/plain": []
     },
     "output_type": "execute_result"
    }
   ],
   "source": [
    "FullForm[x_]\n",
    "FullForm[x : _]\n",
    "FullForm[x_[_]]\n",
    "FullForm[x : _[_]]"
   ]
  },
  {
   "cell_type": "markdown",
   "metadata": {},
   "source": [
    "如果在一个模式中，同一个命名模式出现了多次，它们会被认为是同样的量。"
   ]
  },
  {
   "cell_type": "code",
   "execution_count": 17,
   "metadata": {},
   "outputs": [
    {
     "data": {
      "text/html": [
       "<style>\n",
       "\t\t\t\t\t\t\t\t\t\t\t\t\t.grid-container {\n",
       "\t\t\t\t\t\t\t\t\t\t\t\t\t\tdisplay: inline-grid;\n",
       "\t\t\t\t\t\t\t\t\t\t\t\t\t\tgrid-template-columns: auto;\n",
       "\t\t\t\t\t\t\t\t\t\t\t\t\t}\n",
       "\t\t\t\t\t\t\t\t\t\t\t\t</style>\n",
       "\n",
       "\t\t\t\t\t\t\t\t\t\t\t\t<div><div class=\"grid-container\"><div class=\"grid-item\"><img alt=\"Output\" src=\"data:image/png;base64,iVBORw0KGgoAAAANSUhEUgAAABwAAAAPCAIAAAB4LTj2AAAAhXpUWHRSYXcgcHJvZmlsZSB0eXBlIGV4aWYAAHjaVYvBDcMwDAP/mqIjyLJM2uMYiQNkg45fuu0n9yApgbT1vi97felp2dgxABc5csRU6P6juNciDXn+X9MfZGWgoRhTluEkhnJXkqKFN+LCAahYcIbnIV8gNQN3o86928QyPusLVffpbh/5eCey76LuBgAAAAlwSFlzAAALEwAACxMBAJqcGAAAADx0RVh0U29mdHdhcmUAQ3JlYXRlZCB3aXRoIHRoZSBXb2xmcmFtIExhbmd1YWdlIDogd3d3LndvbGZyYW0uY29tXKKmhQAAACF0RVh0Q3JlYXRpb24gVGltZQAyMDIyOjA1OjE5IDE2OjExOjI3RP/ErwAAAMVJREFUOI3lkzEOgjAUhv8aDyI3aTcbV28gi2Et4RB0NS7tDViNbPQQDCyEd5M6UEw6QCSyGL+p+fvyv/c3r8x7j63Zbe74W6ZkJYuRlr519YFGQTV+G2bju5zl9p0id5PmxmuyMjpHdUtvqivcQwr9cPPdk66Y4kJIS4umqrgcAAC89CWfKaK+hRZhUKEBAPsF04+grj6a4Rnaj6xdqbYnAGSvaT0K/KTq9OaiolWmPDNIE8ZYUp2NmsRyMK2I9pH9999/AYVknc1lM5hoAAAAAElFTkSuQmCC\"></div><div class=\"grid-item\"><img alt=\"Output\" src=\"data:image/png;base64,iVBORw0KGgoAAAANSUhEUgAAACMAAAAPCAIAAADh1eFDAAAAhXpUWHRSYXcgcHJvZmlsZSB0eXBlIGV4aWYAAHjaVYvBDcMwDAP/mqIjyLJM2uMYiQNkg45fuu0n9yApgbT1vi97felp2dgxABc5csRU6P6juNciDXn+X9MfZGWgoRhTluEkhnJXkqKFN+LCAahYcIbnIV8gNQN3o86928QyPusLVffpbh/5eCey76LuBgAAAAlwSFlzAAALEwAACxMBAJqcGAAAADx0RVh0U29mdHdhcmUAQ3JlYXRlZCB3aXRoIHRoZSBXb2xmcmFtIExhbmd1YWdlIDogd3d3LndvbGZyYW0uY29tXKKmhQAAACF0RVh0Q3JlYXRpb24gVGltZQAyMDIyOjA1OjE5IDE2OjExOjI3RP/ErwAAAPpJREFUOI3tlDGOgzAQRYdoD0K6FDmE3RnlGOEIRjkEtHTmGFHo7ENQpInsm/wUjIEQBXazUrTF/gZp+OM3f2Q5AUAf0eYzmD9MckXSq3BvkYb+1UNECcAb9WMMEX31H21Rinf6v6+X25sGXdlVaLLozJrwXOzbmVTJuVeUYHnTySWWq/O9Ze/lmPKc2+uJa5Zk1oRI0tE6eMdQ27xdjJTuVCUfg4dbNw4vK5pkeh60kJ3xnGn5BqTHCwAczuOmwrVV3D2M/4IUbt3ArFcysUQJb1R1dkQkDrrNa/doAGD1ZHtRVrNBGRP/z9NpOy+O50zLyngg+X/3fqE73eq59mZMEtcAAAAASUVORK5CYII=\"></div><div class=\"grid-item\"><img alt=\"Output\" src=\"data:image/png;base64,iVBORw0KGgoAAAANSUhEUgAAABwAAAAPCAIAAAB4LTj2AAAAhXpUWHRSYXcgcHJvZmlsZSB0eXBlIGV4aWYAAHjaVYvBDcMwDAP/mqIjyLJM2uMYiQNkg45fuu0n9yApgbT1vi97felp2dgxABc5csRU6P6juNciDXn+X9MfZGWgoRhTluEkhnJXkqKFN+LCAahYcIbnIV8gNQN3o86928QyPusLVffpbh/5eCey76LuBgAAAAlwSFlzAAALEwAACxMBAJqcGAAAADx0RVh0U29mdHdhcmUAQ3JlYXRlZCB3aXRoIHRoZSBXb2xmcmFtIExhbmd1YWdlIDogd3d3LndvbGZyYW0uY29tXKKmhQAAACF0RVh0Q3JlYXRpb24gVGltZQAyMDIyOjA1OjE5IDE2OjExOjI3RP/ErwAAAMVJREFUOI3lkzEOgjAUhv8aDyI3aTcbV28gi2Et4RB0NS7tDViNbPQQDCyEd5M6UEw6QCSyGL+p+fvyv/c3r8x7j63Zbe74W6ZkJYuRlr519YFGQTV+G2bju5zl9p0id5PmxmuyMjpHdUtvqivcQwr9cPPdk66Y4kJIS4umqrgcAAC89CWfKaK+hRZhUKEBAPsF04+grj6a4Rnaj6xdqbYnAGSvaT0K/KTq9OaiolWmPDNIE8ZYUp2NmsRyMK2I9pH9999/AYVknc1lM5hoAAAAAElFTkSuQmCC\"></div></div></div>"
      ],
      "text/plain": [
       "True\n",
       "False\n",
       "True"
      ]
     },
     "execution_count": 17,
     "metadata": {
      "text/html": [],
      "text/plain": []
     },
     "output_type": "execute_result"
    }
   ],
   "source": [
    "MatchQ[f[a, a], f[x_, x_]]\n",
    "MatchQ[f[a, b], f[x_, x_]]\n",
    "MatchQ[f[a, b], f[x_, y_]]"
   ]
  },
  {
   "cell_type": "markdown",
   "metadata": {},
   "source": [
    "注意模式匹配是按 Mathematica 内部的 FullForm 匹配的，它总是基于词法的，而非基于数学的。例如当我们匹配 $x$^ $\\_ $ 这个模式时，$x$ 本身并不会被匹配到，尽管在数学上，$x=x^1$。"
   ]
  },
  {
   "cell_type": "code",
   "execution_count": 10,
   "metadata": {},
   "outputs": [
    {
     "data": {
      "text/html": [
       "<div><pre style=\"&#102;&#111;&#110;&#116;&#45;&#102;&#97;&#109;&#105;&#108;&#121;&#58;&#32;&#34;&#67;&#111;&#117;&#114;&#105;&#101;&#114;&#32;&#78;&#101;&#119;&#34;&#44;&#67;&#111;&#117;&#114;&#105;&#101;&#114;&#44;&#109;&#111;&#110;&#111;&#115;&#112;&#97;&#99;&#101;&#59;\">&#123;&#112;&#91;&#48;&#93;&#44;&#32;&#112;&#91;&#49;&#93;&#44;&#32;&#112;&#91;&#50;&#93;&#44;&#32;&#112;&#91;&#51;&#93;&#125;</pre></div>"
      ],
      "text/plain": [
       "{p[0], p[1], p[2], p[3]}"
      ]
     },
     "execution_count": 10,
     "metadata": {
      "text/html": [],
      "text/plain": []
     },
     "output_type": "execute_result"
    }
   ],
   "source": [
    "{1, x, x^2, x^3} /. {x^n_:> p[n], 1 -> p[0], x -> p[1]}"
   ]
  },
  {
   "cell_type": "code",
   "execution_count": 21,
   "metadata": {},
   "outputs": [
    {
     "data": {
      "text/html": [
       "<div><img alt=\"Output\" src=\"data:image/png;base64,iVBORw0KGgoAAAANSUhEUgAAAFAAAAAPCAIAAAD8q9/YAAAAhXpUWHRSYXcgcHJvZmlsZSB0eXBlIGV4aWYAAHjaVYvBDcMwDAP/mqIjyLJM2uMYiQNkg45fuu0n9yApgbT1vi97felp2dgxABc5csRU6P6juNciDXn+X9MfZGWgoRhTluEkhnJXkqKFN+LCAahYcIbnIV8gNQN3o86928QyPusLVffpbh/5eCey76LuBgAAAAlwSFlzAAALEwAACxMBAJqcGAAAADx0RVh0U29mdHdhcmUAQ3JlYXRlZCB3aXRoIHRoZSBXb2xmcmFtIExhbmd1YWdlIDogd3d3LndvbGZyYW0uY29tXKKmhQAAACF0RVh0Q3JlYXRpb24gVGltZQAyMDIyOjA1OjE5IDE2OjExOjM3XeT17gAAAVhJREFUSInllz2OgzAQhcd7Ekc0OQZ0rHIM0m0L2jOskiOYY6BNE9mHoKCxmJs4BX/mb9aIQKTN1yAzerx5Y9kSzBgD78THqxvYm3cPjPiSLrZjFMgKjGmSDsv/gDRJlbW0A3unyOc7t7M1nEcn0Ni9oM6wSlhLoha4WEJXnZMXKoVrTanA/sXUlCIPFrQegGyUF99N5eSFWq82bQOj0pqPP1NxON/c+gZQ2TUUX4TjnI72QkTE5omLTH0P7p2iCYyoweODFoJclPXUw8UJFvGHVxUTdVHo6cQkHODeSUyLlNJYlCKEsGpCxgAQd9XheiibrhEqwqv3BVEPxd10pJo/wzz6jm/nA2OM/RxF3CsdQ4BrpqZlv6XIg4n7g1ARXk7Mm46xJtHfYQoZzw/02arVzO+wzohbvwHTT8aCXJSu9+8K1VNAXdhLZuy/JVQKuM/5zj1txzjQA0o/dlkAFnXUAAAAAElFTkSuQmCC\"></div>"
      ],
      "text/plain": [
       "{a, c, a + c}"
      ]
     },
     "execution_count": 21,
     "metadata": {
      "text/html": [],
      "text/plain": []
     },
     "output_type": "execute_result"
    }
   ],
   "source": [
    "{a + b, b + c, Plus[a, Plus[b, c]]} /. {b + x_ :> x}"
   ]
  },
  {
   "cell_type": "markdown",
   "metadata": {},
   "source": [
    "$这是因为 Plus 这个函数在 Mathematica 内部具有 Flat 和 Orderless 两种属性，分别对应结合性和交换性。$mma有时会考虑这些属性导致的一些等价形式;<br/>\n",
    "可以用$ Cases$ 函数来列出所有匹配到的东西。"
   ]
  },
  {
   "cell_type": "code",
   "execution_count": 11,
   "metadata": {},
   "outputs": [
    {
     "data": {
      "text/html": [
       "<style>\n",
       "\t\t\t\t\t\t\t\t\t\t\t\t\t.grid-container {\n",
       "\t\t\t\t\t\t\t\t\t\t\t\t\t\tdisplay: inline-grid;\n",
       "\t\t\t\t\t\t\t\t\t\t\t\t\t\tgrid-template-columns: auto;\n",
       "\t\t\t\t\t\t\t\t\t\t\t\t\t}\n",
       "\t\t\t\t\t\t\t\t\t\t\t\t</style>\n",
       "\n",
       "\t\t\t\t\t\t\t\t\t\t\t\t<div><div class=\"grid-container\"><div class=\"grid-item\"><img alt=\"Output\" src=\"data:image/png;base64,iVBORw0KGgoAAAANSUhEUgAAABAAAAAPCAIAAABiEdh4AAAAhXpUWHRSYXcgcHJvZmlsZSB0eXBlIGV4aWYAAHjaVYvBDcMwDAP/mqIjyLJM2uMYiQNkg45fuu0n9yApgbT1vi97felp2dgxABc5csRU6P6juNciDXn+X9MfZGWgoRhTluEkhnJXkqKFN+LCAahYcIbnIV8gNQN3o86928QyPusLVffpbh/5eCey76LuBgAAAAlwSFlzAAALEwAACxMBAJqcGAAAADx0RVh0U29mdHdhcmUAQ3JlYXRlZCB3aXRoIHRoZSBXb2xmcmFtIExhbmd1YWdlIDogd3d3LndvbGZyYW0uY29tXKKmhQAAACF0RVh0Q3JlYXRpb24gVGltZQAyMDIyOjA1OjE5IDIxOjQ0OjM5DkqexgAAAHJJREFUKJHNkNEJgDAMRE8nKXQRl3Kbdgw/SzqGP6G3SfxTq0URRLy/S+5BLp2Z4Yn6R+kXABI3gx3AOMbjGkAcY957WyUi1pKEUDb3YWlmVdeMDB6JJ4BU+DYAB6TtWz8uDUCnzHOCOle+OreIlHI5sAUoFacVELPFNAAAAABJRU5ErkJggg==\"></div><div class=\"grid-item\"><img alt=\"Output\" src=\"data:image/png;base64,iVBORw0KGgoAAAANSUhEUgAAADUAAAATCAIAAAC/cdIMAAAAhXpUWHRSYXcgcHJvZmlsZSB0eXBlIGV4aWYAAHjaVYvBDcMwDAP/mqIjyLJM2uMYiQNkg45fuu0n9yApgbT1vi97felp2dgxABc5csRU6P6juNciDXn+X9MfZGWgoRhTluEkhnJXkqKFN+LCAahYcIbnIV8gNQN3o86928QyPusLVffpbh/5eCey76LuBgAAAAlwSFlzAAALEwAACxMBAJqcGAAAADx0RVh0U29mdHdhcmUAQ3JlYXRlZCB3aXRoIHRoZSBXb2xmcmFtIExhbmd1YWdlIDogd3d3LndvbGZyYW0uY29tXKKmhQAAACF0RVh0Q3JlYXRpb24gVGltZQAyMDIyOjA1OjE5IDIxOjQ0OjM5DkqexgAAAYRJREFUSInFljFywjAQRRcmB1GGJgWHULplaLmB6dKKySFI66GRb5CWScWsD+GCxiPdZFNgJxIYCckwvMqWdr6/pN2VgX2M4SBGK0REpSNxEQwpRERUFNEB55m0oqg/Y5jZaMSRDk9qGhV5A6T9pU/hjxpmWykEBBF9wHwWiYxibV0e50vpyctiCQf7PzCFdGxVHj+3MhoXUbEW3qDZ18Gol2TZalPCx2h3AEJKIUW7KGuQ19US/dWb1/UXYrP4hvlqty1EpjlbbcojADSw2hXBSKc8yEtVUgDQZy8pgMyKSNUh7c5f99epKWImlWsuQ2fYnyGtz+0xs9EIzvKzSdEh7XTFrn6tbeFKw0DEzCTL1BEzaA/Wdm/OEi82sDsPozGaNG6SDc3eqHPy4YSE66NXMxrDeX06v0GDSTqcVB8J9CUwHt9fzv1xhq0Wk8l7o80dmvYFyffHJaL44XCPHcEd9u+hOP5Eu6/s04x02HrvNzovN42h2A/jIxn4/ISZn7VXt/ALnDhbFIXotqgAAAAASUVORK5CYII=\"></div><div class=\"grid-item\"><img alt=\"Output\" src=\"data:image/png;base64,iVBORw0KGgoAAAANSUhEUgAAAAcAAAAPCAIAAACnY0LpAAAAhXpUWHRSYXcgcHJvZmlsZSB0eXBlIGV4aWYAAHjaVYvBDcMwDAP/mqIjyLJM2uMYiQNkg45fuu0n9yApgbT1vi97felp2dgxABc5csRU6P6juNciDXn+X9MfZGWgoRhTluEkhnJXkqKFN+LCAahYcIbnIV8gNQN3o86928QyPusLVffpbh/5eCey76LuBgAAAAlwSFlzAAALEwAACxMBAJqcGAAAADx0RVh0U29mdHdhcmUAQ3JlYXRlZCB3aXRoIHRoZSBXb2xmcmFtIExhbmd1YWdlIDogd3d3LndvbGZyYW0uY29tXKKmhQAAACF0RVh0Q3JlYXRpb24gVGltZQAyMDIyOjA1OjE5IDIxOjQ0OjM5DkqexgAAAF1JREFUGJVj/P//PwMGYMIUIlGU4f////tL4DyPOff/////n+E/Erg/xwMijmGCjrICxASEGVADUE34v7+EgaFkP7oJDt4lDFfuPmDAUOsx5/7//wzYHPafkeJwAADFNl+KlHyIEwAAAABJRU5ErkJggg==\"></div><div class=\"grid-item\"><img alt=\"Output\" src=\"data:image/png;base64,iVBORw0KGgoAAAANSUhEUgAAAC8AAAAPCAIAAAD76QHNAAAAhXpUWHRSYXcgcHJvZmlsZSB0eXBlIGV4aWYAAHjaVYvBDcMwDAP/mqIjyLJM2uMYiQNkg45fuu0n9yApgbT1vi97felp2dgxABc5csRU6P6juNciDXn+X9MfZGWgoRhTluEkhnJXkqKFN+LCAahYcIbnIV8gNQN3o86928QyPusLVffpbh/5eCey76LuBgAAAAlwSFlzAAALEwAACxMBAJqcGAAAADx0RVh0U29mdHdhcmUAQ3JlYXRlZCB3aXRoIHRoZSBXb2xmcmFtIExhbmd1YWdlIDogd3d3LndvbGZyYW0uY29tXKKmhQAAACF0RVh0Q3JlYXRpb24gVGltZQAyMDIyOjA1OjE5IDIxOjQ0OjM5DkqexgAAASlJREFUSInNk0FugzAQRT9VD+KIixhlQ8S2NyCbqlv7FOkR7GNEyiayD5EFG8u+yXRBQm0wRK0amreDYf48j0xBRHgaXv5bIOGpbUL4+xFWFtJmK5NpkU3QUj9AZhEttZ2xKZuWszVdGGsbuJC1mWBlMTCz64hg9cI3t6zd4vqXbPiBrnh1qe75ML6FnBH6rI5Nn4P9+4LPYBOsc2xUHJaz2Z8yvWEE2EfpskLCHDgAsO1bfepiG17i/P38OiQ7lHzkUl2Up5YBQe82XU5m/M516BDwg+vHgHMILes7aMAYQxFe1aiVJyIyAoBIqlm8En1DghFDrxHjHKPijnmbqwQA1EqJuzY+Dc7EALfj/cZmDVKb+J9yRzu5CA8muPQ6JqbeGO9pLabTvgDo13CP3zNpYAAAAABJRU5ErkJggg==\"></div><div class=\"grid-item\"><img alt=\"Output\" src=\"data:image/png;base64,iVBORw0KGgoAAAANSUhEUgAAAB4AAAAPCAIAAAB82OjLAAAAhXpUWHRSYXcgcHJvZmlsZSB0eXBlIGV4aWYAAHjaVYvBDcMwDAP/mqIjyLJM2uMYiQNkg45fuu0n9yApgbT1vi97felp2dgxABc5csRU6P6juNciDXn+X9MfZGWgoRhTluEkhnJXkqKFN+LCAahYcIbnIV8gNQN3o86928QyPusLVffpbh/5eCey76LuBgAAAAlwSFlzAAALEwAACxMBAJqcGAAAADx0RVh0U29mdHdhcmUAQ3JlYXRlZCB3aXRoIHRoZSBXb2xmcmFtIExhbmd1YWdlIDogd3d3LndvbGZyYW0uY29tXKKmhQAAACF0RVh0Q3JlYXRpb24gVGltZQAyMDIyOjA1OjE5IDIxOjQ0OjM5DkqexgAAAPRJREFUOI3FkrENwjAQRT+IQTxAhoAuEWNQ0hoxAyIjOBvQItFE5yHo7U0+BUTYOcmYAnGVT/73/fTPC5L4TS1/5Ptv6xhjjBVOSvfJ2vsa28l9HBJ1RSDGGFPhq1RLAPCHRVJd+vQMa+iS67zTRYpF6wLJ7PgqEWHWvxXBtbDZrbh0+Nsfst7a22WMAOJ4gduvC9onyVQzZk1NBte2LlDsDFlRrxCH090F7kwlt9kdm24cmt5uz2VlTg3M41PU04Bi1ln7w6Z/y8T2p8LSk+SKMQPAKm/9tUcjpjjyYimLAOD5iRKafI8hiIhISJLQu1Y6kuQDNjJjfUy7HsgAAAAASUVORK5CYII=\"></div><div class=\"grid-item\"><img alt=\"Output\" src=\"data:image/png;base64,iVBORw0KGgoAAAANSUhEUgAAAJsAAAAPCAIAAAB89CqOAAAAhXpUWHRSYXcgcHJvZmlsZSB0eXBlIGV4aWYAAHjaVYvBDcMwDAP/mqIjyLJM2uMYiQNkg45fuu0n9yApgbT1vi97felp2dgxABc5csRU6P6juNciDXn+X9MfZGWgoRhTluEkhnJXkqKFN+LCAahYcIbnIV8gNQN3o86928QyPusLVffpbh/5eCey76LuBgAAAAlwSFlzAAALEwAACxMBAJqcGAAAADx0RVh0U29mdHdhcmUAQ3JlYXRlZCB3aXRoIHRoZSBXb2xmcmFtIExhbmd1YWdlIDogd3d3LndvbGZyYW0uY29tXKKmhQAAACF0RVh0Q3JlYXRpb24gVGltZQAyMDIyOjA1OjE5IDIxOjQ0OjM5DkqexgAAAgZJREFUWIXtmbFuwyAQho8+CVHWPIS9OcqaN0iX7KA+Q9XuXc5vkLXqVMFDZOgSwZtcB7s2GOMgx2qdyv9S2dx9XO/HgBRGRLDoH+nhrwtYNLEWR/+bOo5a+ydVLBqtwDHHUVvK0h+25ZZV2nZGhqRlncSkvhHlpLasXtQ8+RO2Ip5VylI7j66j690h4y7j+PVEREQG4fGYNrsttzkoIiIiBXk9u5arx0311uxPK+ffuyotV6eNKIarmiV/ylbEveD8sIOLdWKpkVKKIlICQERHO5FtoBJQoGn/EpHBAlJZDcFg0ZfSVDVP/sStCKpq32BNJCKipJuRvZxB7LKk1QTw+q7rdfX82qRv1hxAS7Y67VHA2VtUUWmZn/HtwK9UNVv+hK0Iq4qpcdTqy4X3hlT7xMsAxFH2YvCcM8YYO8JeeBiWg6KPwzoJBKBlDuoj1u+gqtnxJ2xFvCoAgGwNn7Z9rL9VoxB7vn+DxYiNwUn+2bXA22wSiNWe5MvbrxzGHPnhbKNb4VbcG24Q0Zj6YegcjSKUgOs+Gyya0p3To3MMJKOamL6q7oB/YyuGPi3/HI07Giziljd0prdp3nj7unCnT7seOB2PVTVH/nStGPCC0h0dUvrd9zdR984fi4o7ikKZbnSgarn4q2ukJkTdO/8WlEHh5jFyf3uxWgPPOA/uDItmqtCxb93rS2vZUTJ9AAAAAElFTkSuQmCC\"></div></div></div>"
      ],
      "text/plain": [
       "{}\n",
       "  2   3\n",
       "{x , x }\n",
       "3\n",
       "{a -> b}\n",
       "g[y]\n",
       "{2, 90, 420, 420, 90, 2}"
      ]
     },
     "execution_count": 11,
     "metadata": {
      "text/html": [],
      "text/plain": []
     },
     "output_type": "execute_result"
    }
   ],
   "source": [
    "Cases[1 + x + f[x^2, x^3], x^_]\n",
    "Cases[1 + x + f[x^2, x^3], x^_, Infinity]\n",
    "Max[Cases[a0 + a1 x + a2 x^2 + a3 x^3, x^n_ :> n, Infinity]]\n",
    "Cases[{a -> b, c -> d}, HoldPattern[a -> _]]\n",
    "DeleteCases[f[x] + g[y], f[_]]\n",
    "DeleteCases[CoefficientList[(1 + x)^10 + (1 - x)^10, x], 0]"
   ]
  },
  {
   "cell_type": "markdown",
   "metadata": {},
   "source": [
    "比简单匹配稍复杂一点的是类型匹配，完整形式为$ Blank[head]$。"
   ]
  },
  {
   "cell_type": "code",
   "execution_count": 17,
   "metadata": {},
   "outputs": [
    {
     "data": {
      "text/html": [
       "<style>\n",
       "\t\t\t\t\t\t\t\t\t\t\t\t\t.grid-container {\n",
       "\t\t\t\t\t\t\t\t\t\t\t\t\t\tdisplay: inline-grid;\n",
       "\t\t\t\t\t\t\t\t\t\t\t\t\t\tgrid-template-columns: auto;\n",
       "\t\t\t\t\t\t\t\t\t\t\t\t\t}\n",
       "\t\t\t\t\t\t\t\t\t\t\t\t</style>\n",
       "\n",
       "\t\t\t\t\t\t\t\t\t\t\t\t<div><div class=\"grid-container\"><div class=\"grid-item\"><pre style=\"&#102;&#111;&#110;&#116;&#45;&#102;&#97;&#109;&#105;&#108;&#121;&#58;&#32;&#34;&#67;&#111;&#117;&#114;&#105;&#101;&#114;&#32;&#78;&#101;&#119;&#34;&#44;&#67;&#111;&#117;&#114;&#105;&#101;&#114;&#44;&#109;&#111;&#110;&#111;&#115;&#112;&#97;&#99;&#101;&#59;\">&#123;&#102;&#91;&#120;&#93;&#125;</pre></div><div class=\"grid-item\"><pre style=\"&#102;&#111;&#110;&#116;&#45;&#102;&#97;&#109;&#105;&#108;&#121;&#58;&#32;&#34;&#67;&#111;&#117;&#114;&#105;&#101;&#114;&#32;&#78;&#101;&#119;&#34;&#44;&#67;&#111;&#117;&#114;&#105;&#101;&#114;&#44;&#109;&#111;&#110;&#111;&#115;&#112;&#97;&#99;&#101;&#59;\">&#123;&#120;&#44;&#32;&#121;&#125;</pre></div><div class=\"grid-item\"><pre style=\"&#102;&#111;&#110;&#116;&#45;&#102;&#97;&#109;&#105;&#108;&#121;&#58;&#32;&#34;&#67;&#111;&#117;&#114;&#105;&#101;&#114;&#32;&#78;&#101;&#119;&#34;&#44;&#67;&#111;&#117;&#114;&#105;&#101;&#114;&#44;&#109;&#111;&#110;&#111;&#115;&#112;&#97;&#99;&#101;&#59;\">&#123;&#49;&#125;</pre></div><div class=\"grid-item\"><pre style=\"&#102;&#111;&#110;&#116;&#45;&#102;&#97;&#109;&#105;&#108;&#121;&#58;&#32;&#34;&#67;&#111;&#117;&#114;&#105;&#101;&#114;&#32;&#78;&#101;&#119;&#34;&#44;&#67;&#111;&#117;&#114;&#105;&#101;&#114;&#44;&#109;&#111;&#110;&#111;&#115;&#112;&#97;&#99;&#101;&#59;\">&#123;&#50;&#46;&#53;&#125;</pre></div></div></div>"
      ],
      "text/plain": [
       "{f[x]}\n",
       "{x, y}\n",
       "{1}\n",
       "{2.5}"
      ]
     },
     "execution_count": 17,
     "metadata": {
      "text/html": [],
      "text/plain": []
     },
     "output_type": "execute_result"
    }
   ],
   "source": [
    "Cases[{1, 2.5, x, y, f[x]}, _f]\n",
    "Cases[{1, 2.5, x, y, f[x]}, _Symbol]\n",
    "Cases[{1, 2.5, x, y, f[x]}, _Integer]\n",
    "Cases[{1, 2.5, x, y, f[x]}, _Real]"
   ]
  },
  {
   "cell_type": "markdown",
   "metadata": {},
   "source": [
    "更复杂的是带条件的模式："
   ]
  },
  {
   "cell_type": "code",
   "execution_count": 21,
   "metadata": {},
   "outputs": [
    {
     "data": {
      "text/html": [
       "<style>\n",
       "\t\t\t\t\t\t\t\t\t\t\t\t\t.grid-container {\n",
       "\t\t\t\t\t\t\t\t\t\t\t\t\t\tdisplay: inline-grid;\n",
       "\t\t\t\t\t\t\t\t\t\t\t\t\t\tgrid-template-columns: auto;\n",
       "\t\t\t\t\t\t\t\t\t\t\t\t\t}\n",
       "\t\t\t\t\t\t\t\t\t\t\t\t</style>\n",
       "\n",
       "\t\t\t\t\t\t\t\t\t\t\t\t<div><div class=\"grid-container\"><div class=\"grid-item\"><pre style=\"&#102;&#111;&#110;&#116;&#45;&#102;&#97;&#109;&#105;&#108;&#121;&#58;&#32;&#34;&#67;&#111;&#117;&#114;&#105;&#101;&#114;&#32;&#78;&#101;&#119;&#34;&#44;&#67;&#111;&#117;&#114;&#105;&#101;&#114;&#44;&#109;&#111;&#110;&#111;&#115;&#112;&#97;&#99;&#101;&#59;\">&#123;&#51;&#44;&#32;&#52;&#125;</pre></div><div class=\"grid-item\"><pre style=\"&#102;&#111;&#110;&#116;&#45;&#102;&#97;&#109;&#105;&#108;&#121;&#58;&#32;&#34;&#67;&#111;&#117;&#114;&#105;&#101;&#114;&#32;&#78;&#101;&#119;&#34;&#44;&#67;&#111;&#117;&#114;&#105;&#101;&#114;&#44;&#109;&#111;&#110;&#111;&#115;&#112;&#97;&#99;&#101;&#59;\">&#123;&#49;&#44;&#32;&#50;&#44;&#32;&#53;&#44;&#32;&#54;&#44;&#32;&#120;&#44;&#32;&#121;&#125;</pre></div><div class=\"grid-item\"><pre style=\"&#102;&#111;&#110;&#116;&#45;&#102;&#97;&#109;&#105;&#108;&#121;&#58;&#32;&#34;&#67;&#111;&#117;&#114;&#105;&#101;&#114;&#32;&#78;&#101;&#119;&#34;&#44;&#67;&#111;&#117;&#114;&#105;&#101;&#114;&#44;&#109;&#111;&#110;&#111;&#115;&#112;&#97;&#99;&#101;&#59;\">&#123;&#49;&#44;&#32;&#50;&#44;&#32;&#53;&#44;&#32;&#54;&#44;&#32;&#120;&#44;&#32;&#121;&#125;</pre></div><div class=\"grid-item\"><pre style=\"&#102;&#111;&#110;&#116;&#45;&#102;&#97;&#109;&#105;&#108;&#121;&#58;&#32;&#34;&#67;&#111;&#117;&#114;&#105;&#101;&#114;&#32;&#78;&#101;&#119;&#34;&#44;&#67;&#111;&#117;&#114;&#105;&#101;&#114;&#44;&#109;&#111;&#110;&#111;&#115;&#112;&#97;&#99;&#101;&#59;\">&#123;&#49;&#44;&#32;&#50;&#44;&#32;&#53;&#44;&#32;&#54;&#125;</pre></div></div></div>"
      ],
      "text/plain": [
       "{3, 4}\n",
       "{1, 2, 5, 6, x, y}\n",
       "{1, 2, 5, 6, x, y}\n",
       "{1, 2, 5, 6}"
      ]
     },
     "execution_count": 21,
     "metadata": {
      "text/html": [],
      "text/plain": []
     },
     "output_type": "execute_result"
    }
   ],
   "source": [
    "Cases[{1, 2, 3, 4, 5, 6, x, y}, _?(EvenQ[(# + #^2)/2] &)]\n",
    "Cases[{1, 2, 3, 4, 5, 6, x, y}, _?(Not@EvenQ[(# + #^2)/2] &)]\n",
    "Cases[{1, 2, 3, 4, 5, 6, x, y}, Except[_?(EvenQ[(# + #^2)/2] &)]]\n",
    "Cases[{1, 2, 3, 4, 5, 6, x, y}, \n",
    " Except[_?(EvenQ[(# + #^2)/2] &), _?NumberQ]]"
   ]
  },
  {
   "cell_type": "markdown",
   "metadata": {},
   "source": [
    "与命名类似，条件也有更低优先级的一种简写形式："
   ]
  },
  {
   "cell_type": "code",
   "execution_count": 25,
   "metadata": {},
   "outputs": [
    {
     "data": {
      "text/html": [
       "<style>\n",
       "\t\t\t\t\t\t\t\t\t\t\t\t\t.grid-container {\n",
       "\t\t\t\t\t\t\t\t\t\t\t\t\t\tdisplay: inline-grid;\n",
       "\t\t\t\t\t\t\t\t\t\t\t\t\t\tgrid-template-columns: auto;\n",
       "\t\t\t\t\t\t\t\t\t\t\t\t\t}\n",
       "\t\t\t\t\t\t\t\t\t\t\t\t</style>\n",
       "\n",
       "\t\t\t\t\t\t\t\t\t\t\t\t<div><div class=\"grid-container\"><div class=\"grid-item\"><pre style=\"&#102;&#111;&#110;&#116;&#45;&#102;&#97;&#109;&#105;&#108;&#121;&#58;&#32;&#34;&#67;&#111;&#117;&#114;&#105;&#101;&#114;&#32;&#78;&#101;&#119;&#34;&#44;&#67;&#111;&#117;&#114;&#105;&#101;&#114;&#44;&#109;&#111;&#110;&#111;&#115;&#112;&#97;&#99;&#101;&#59;\">&#123;&#125;</pre></div><div class=\"grid-item\"><pre style=\"&#102;&#111;&#110;&#116;&#45;&#102;&#97;&#109;&#105;&#108;&#121;&#58;&#32;&#34;&#67;&#111;&#117;&#114;&#105;&#101;&#114;&#32;&#78;&#101;&#119;&#34;&#44;&#67;&#111;&#117;&#114;&#105;&#101;&#114;&#44;&#109;&#111;&#110;&#111;&#115;&#112;&#97;&#99;&#101;&#59;\">&#123;&#123;&#49;&#44;&#32;&#50;&#125;&#44;&#32;&#123;&#50;&#44;&#32;&#51;&#125;&#125;</pre></div></div></div>"
      ],
      "text/plain": [
       "{}\n",
       "{{1, 2}, {2, 3}}"
      ]
     },
     "execution_count": 25,
     "metadata": {
      "text/html": [],
      "text/plain": []
     },
     "output_type": "execute_result"
    }
   ],
   "source": [
    "Cases[{{1, 2}, {2, 3}, {3, 1}}, _?#[[1]] < #[[2]] &]\n",
    "Cases[{{1, 2}, {2, 3}, {3, 1}}, {x_, y_} /; x < y]"
   ]
  },
  {
   "cell_type": "markdown",
   "metadata": {},
   "source": [
    "运算符$\"/;\"$经常被用来定义分情况的函数，如著名的$ 3x+1$ 问题："
   ]
  },
  {
   "cell_type": "code",
   "execution_count": 27,
   "metadata": {},
   "outputs": [
    {
     "data": {
      "text/html": [
       "<div><img alt=\"Output\" src=\"data:image/png;base64,iVBORw0KGgoAAAANSUhEUgAAAHoAAAAPCAIAAACk1EzBAAAAhXpUWHRSYXcgcHJvZmlsZSB0eXBlIGV4aWYAAHjaVYvBDcMwDAP/mqIjyLJM2uMYiQNkg45fuu0n9yApgbT1vi97felp2dgxABc5csRU6P6juNciDXn+X9MfZGWgoRhTluEkhnJXkqKFN+LCAahYcIbnIV8gNQN3o86928QyPusLVffpbh/5eCey76LuBgAAAAlwSFlzAAALEwAACxMBAJqcGAAAADx0RVh0U29mdHdhcmUAQ3JlYXRlZCB3aXRoIHRoZSBXb2xmcmFtIExhbmd1YWdlIDogd3d3LndvbGZyYW0uY29tXKKmhQAAACF0RVh0Q3JlYXRpb24gVGltZQAyMDIyOjA1OjE5IDIxOjU2OjU3KMH1fAAAAkJJREFUWIXtVz2OqzAQHtA7iKNtUuQQoDRGaXMD6NIa5QyrpU1nbkAbhQbZh0jxmhVzE78igdiGLAaybPH2q8Cen++zx2PwlFLwi6Xg/zSB/wu/y70olltuRER8oV0vZOqlcoIf5pE3wnOyFqfllqnXIMpd0vSEkCP8sJqYZThyHrVSJu0LwCwtfwbN82iVbIRSwWhaFgghjmY4N1U/MI9Wxb5Wly4PEl9UPCLUVC0+GMXb2XKsipKJj8AOpJXJw0Ub/PoUYB5pFubbfDR6HGO28jXtMvXSvFHzSi1KR80pMGENUF4r1TFrRrVnwUxnHUKYM4IZEUw/wTspHSEYwD1YH/WaUwDoUWST0OIIBja96Vp8Y39XSelQDlgVJTvGBAAASHxk5V8EACBrmoWOPTHYsbKo8BYN+CFw8LklN9Bj0JxFst3TO7EWJL4opep9sRou/jbOmg5QGqHFB5BpeNU2x+T3tgGb81PcxKjd2eUiCg4cigpBnpJNs3XDQBuOfl2egpXJaYCjK9y1+ICf1+ZFnjrVHRw4zUJz7ch2T7P3e21g/p7RtZ4i+FA1p9nZ8OmCxMdNUeXnjO2Cry11JxIYIM9N5Skpn4fGzyuYtOfAXUvTqAAAKOd97bedh0fbe4y1jdA4GnYUu9/ZHdIcn9e7bWJ9k4+89olmQhnXUE87nq4FOvPfg2cUe26tOcu9CGZoGfzu/j7INMyYUOTnGLwOrlqW+oknBKRsf8dk6nleeOV154MeUUoJb1uyEK8pmKHlH29hughgI2zsAAAAAElFTkSuQmCC\"></div>"
      ],
      "text/plain": [
       "a Cos[y] - b Sin[y]"
      ]
     },
     "execution_count": 34,
     "metadata": {
      "text/html": [],
      "text/plain": []
     },
     "output_type": "execute_result"
    }
   ],
   "source": [
    "f[n_] := n/2 /; EvenQ[n]\n",
    "f[n_] := 3 n + 1 /; OddQ[n]\n",
    "(* 求导的例子： *)\n",
    "myD[A_ + B_, x_] := myD[A, x] + myD[B, x];\n",
    "myD[a_ f_, x_] := a myD[f, x] /; FreeQ[a, x];\n",
    "myD[Sin[x_], x_] := Cos[x];\n",
    "myD[Cos[x_], x_] := -Sin[x];\n",
    "myD[a Sin[y] + b Cos[y], y]"
   ]
  },
  {
   "cell_type": "markdown",
   "metadata": {},
   "source": [
    "定义双线性运算"
   ]
  },
  {
   "cell_type": "code",
   "execution_count": 35,
   "metadata": {},
   "outputs": [
    {
     "data": {
      "text/html": [
       "<div><img alt=\"Output\" src=\"data:image/png;base64,iVBORw0KGgoAAAANSUhEUgAAALUAAAAmCAIAAAANw00TAAAAhXpUWHRSYXcgcHJvZmlsZSB0eXBlIGV4aWYAAHjaVYvBDcMwDAP/mqIjyLJM2uMYiQNkg45fuu0n9yApgbT1vi97felp2dgxABc5csRU6P6juNciDXn+X9MfZGWgoRhTluEkhnJXkqKFN+LCAahYcIbnIV8gNQN3o86928QyPusLVffpbh/5eCey76LuBgAAAAlwSFlzAAALEwAACxMBAJqcGAAAADx0RVh0U29mdHdhcmUAQ3JlYXRlZCB3aXRoIHRoZSBXb2xmcmFtIExhbmd1YWdlIDogd3d3LndvbGZyYW0uY29tXKKmhQAAACF0RVh0Q3JlYXRpb24gVGltZQAyMDIyOjA1OjE5IDIxOjU4OjAxXArTPwAAA0dJREFUeJztmz2SqkAQx5utd5ChTAw8xFAvgTL1BpBsvRTK8G1qSbplAjcwtTSxmEMQmFj0DfYI8wIBQQeEXQTebv8SYZzp6fpXO9PzoSalBIKo4CV/Ep6WYYU4nEfEmNDuxw8MLX27SPY2G8IhYlS8qItnE9arG8RIKcZHOsPo20Wy5kM5RIwKxfwCwtMMiCTFCKGcX/jchfiMfbtCjJBfijKx881Fwvp2hRgh+fhRWN6uprR4IS6o8g+CyKhY3xIEAFB8EPVQfBB1UHwQdbSPDwwtTfNE966oe0NEHLH1767GuMcPIfDZXeDxvzmsHkIN1f5YPczeS7sjd5p0x9hTjeMXLXxzNdqNH/kmWmFEFZ7mhaFVvjmiLExH4xsLpar1Q7XwCjWE1/SiSqHXh10oWlf+bIdVA0PrxtZT1JBSSin/3vHx8SHVJIEJbpS/Ri5A+h65xSdVYd4ucsEMkuz79LFUQ0opo6j4VrR2bd+GyL1rFAUPzDyoMKAaBQ1uvGhGEzXS+eXt7a1B6FXhRpezXjY14VRZiOcYfF/zswpmkFddptv5fC15fVd8nQSWrmngRrLlGQCG1m6+X7dolKVrl8+mY3tvavC5a6yOaNsMj1sINrWVb2moRvv849Pg6WAGnZzsmKZ5aNtGePpp2SpVSNP58+kEkwlAx5N/F2rwP8Hq9Yj25N2ZLWUbS43V6HH9wufuwXkXXzMiPH272Ow3QWyUpttSaqJqtpq2vfTEGOec88l0+ptzzjn7lMNVdKIGs5ez7THc+e6cF8u7U6NVfFxSG905gG98ItPj6ySIjS9cghaeZsTBxmbA7E0Ajn61waYmgL9TOoShZfgHR+/49vXQalyszGeOcxseXarRMqfpl/v8tLpqnvi17OJRfjoelGqoE/XO1Bj3/lgzMLQ0zYiDH3hrVniGn+ezF7pVY9z3PxAFIgDrevLvw3r3lP0Vnmb40FHGf2c9Y9zxQQzNd5hfiOdB8UHUUYiP68Y8/f+WSMnjA8PX01JKKWUSgPNKEUIA0P/niHoU+QeeY7jdkCN+KHfnc8LTnVn06BiV+CGUxg8MLZpZiCLX+MDQ0p0ZBQdRJMtPMbR0p3ipwqVIIWh/najnHzTucNqnMGxGAAAAAElFTkSuQmCC\"></div>"
      ],
      "text/plain": [
       "3 inner[x, z]\n",
       "------------- + inner[y, z]\n",
       "      2"
      ]
     },
     "execution_count": 39,
     "metadata": {
      "text/html": [],
      "text/plain": []
     },
     "output_type": "execute_result"
    }
   ],
   "source": [
    "inner[x1_ + x2_, x3_] := inner[x1, x3] + inner[x2, x3];\n",
    "inner[x1_, x2_ + x3_] := inner[x1, x2] + inner[x1, x3];\n",
    "inner[a_?NumberQ x1_, x2_] := a inner[x1, x2];\n",
    "inner[x1_, a_?NumberQ x2_] := a inner[x1, x2];\n",
    "inner[3 x + 2 y, z/2 ]"
   ]
  },
  {
   "cell_type": "markdown",
   "metadata": {},
   "source": [
    "有时我们要对好几种情况做同一种规则带入，这时候就需要\"或然匹配\"，其形式为 p1|p2|p3："
   ]
  },
  {
   "cell_type": "code",
   "execution_count": 40,
   "metadata": {},
   "outputs": [
    {
     "data": {
      "text/html": [
       "<style>\n",
       "\t\t\t\t\t\t\t\t\t\t\t\t\t.grid-container {\n",
       "\t\t\t\t\t\t\t\t\t\t\t\t\t\tdisplay: inline-grid;\n",
       "\t\t\t\t\t\t\t\t\t\t\t\t\t\tgrid-template-columns: auto;\n",
       "\t\t\t\t\t\t\t\t\t\t\t\t\t}\n",
       "\t\t\t\t\t\t\t\t\t\t\t\t</style>\n",
       "\n",
       "\t\t\t\t\t\t\t\t\t\t\t\t<div><div class=\"grid-container\"><div class=\"grid-item\"><img alt=\"Output\" src=\"data:image/png;base64,iVBORw0KGgoAAAANSUhEUgAAAG0AAAAPCAIAAABhptZQAAAAhXpUWHRSYXcgcHJvZmlsZSB0eXBlIGV4aWYAAHjaVYvBDcMwDAP/mqIjyLJM2uMYiQNkg45fuu0n9yApgbT1vi97felp2dgxABc5csRU6P6juNciDXn+X9MfZGWgoRhTluEkhnJXkqKFN+LCAahYcIbnIV8gNQN3o86928QyPusLVffpbh/5eCey76LuBgAAAAlwSFlzAAALEwAACxMBAJqcGAAAADx0RVh0U29mdHdhcmUAQ3JlYXRlZCB3aXRoIHRoZSBXb2xmcmFtIExhbmd1YWdlIDogd3d3LndvbGZyYW0uY29tXKKmhQAAACF0RVh0Q3JlYXRpb24gVGltZQAyMDIyOjA1OjE5IDIxOjU4OjA3tWl2CgAAAgZJREFUWIXtWDuS4jAQbe1JRJE4mEPImadIuQGbkVq1Z6DsfBL5BqTUTOKSDuFAiUp9E23gwQhbAuwxsDs1L6GQ9brbT/1RmTjn4Adfxq9nB/BN8KPjPOjpiPiUKP5hoKoqHK72lzwdseJ9BlavhBDC1SjPLYkQ8hqIYFaW4oRM8BXyHH1Ho3XIcsWrM4brIKV0PmQOmbBWZJCfP7gImcNx/wjqNNYJVmSQCTuS9ek5y/MJLqXw/V3oj6xw7xs68nDVoczElgEAYL3/gPIQO+evs3p4WdLgOiqFUcc8bcTbNokQq4pzzvmgToeYec6gadr3UZws9muRQ2OuxjCRBQBdZS/2a1uwmHUTJaeNeIvmCmWbzSpJtquwzGfodERlTMzgWChOUpDufbO8O4sVbV390YtAi0NExOMvDvylIMdXXOd5CfXJ5FFHRAORuhgDunyBMt0l1hXMy7O7sM7AVsMkbtVDo7UZConVroQybbP59weU6dhZRQHqk02vcfbmTItQ25c5QKwxt9Op2+btmp8VNjB4JK4NoAujTQphwwZunjNt6zmelX8zoEkGsVnACrveLwghhKSN8JvW/Czv2rNL7PQSDQNRKWW0ro3WtbowrADgej6GTym/JUeeybo/4vloDlc0B/i8tfZy5oazfSDrMUCj/b/E+d97UCmgjNIHx/TfYajTXyaAfjj30sIIAAAAAElFTkSuQmCC\"></div><div class=\"grid-item\"><img alt=\"Output\" src=\"data:image/png;base64,iVBORw0KGgoAAAANSUhEUgAAAG0AAAAPCAIAAABhptZQAAAAhXpUWHRSYXcgcHJvZmlsZSB0eXBlIGV4aWYAAHjaVYvBDcMwDAP/mqIjyLJM2uMYiQNkg45fuu0n9yApgbT1vi97felp2dgxABc5csRU6P6juNciDXn+X9MfZGWgoRhTluEkhnJXkqKFN+LCAahYcIbnIV8gNQN3o86928QyPusLVffpbh/5eCey76LuBgAAAAlwSFlzAAALEwAACxMBAJqcGAAAADx0RVh0U29mdHdhcmUAQ3JlYXRlZCB3aXRoIHRoZSBXb2xmcmFtIExhbmd1YWdlIDogd3d3LndvbGZyYW0uY29tXKKmhQAAACF0RVh0Q3JlYXRpb24gVGltZQAyMDIyOjA1OjE5IDIxOjU4OjA3tWl2CgAAAgZJREFUWIXtWDuS4jAQbe1JRJE4mEPImadIuQGbkVq1Z6DsfBL5BqTUTOKSDuFAiUp9E23gwQhbAuwxsDs1L6GQ9brbT/1RmTjn4Adfxq9nB/BN8KPjPOjpiPiUKP5hoKoqHK72lzwdseJ9BlavhBDC1SjPLYkQ8hqIYFaW4oRM8BXyHH1Ho3XIcsWrM4brIKV0PmQOmbBWZJCfP7gImcNx/wjqNNYJVmSQCTuS9ek5y/MJLqXw/V3oj6xw7xs68nDVoczElgEAYL3/gPIQO+evs3p4WdLgOiqFUcc8bcTbNokQq4pzzvmgToeYec6gadr3UZws9muRQ2OuxjCRBQBdZS/2a1uwmHUTJaeNeIvmCmWbzSpJtquwzGfodERlTMzgWChOUpDufbO8O4sVbV390YtAi0NExOMvDvylIMdXXOd5CfXJ5FFHRAORuhgDunyBMt0l1hXMy7O7sM7AVsMkbtVDo7UZConVroQybbP59weU6dhZRQHqk02vcfbmTItQ25c5QKwxt9Op2+btmp8VNjB4JK4NoAujTQphwwZunjNt6zmelX8zoEkGsVnACrveLwghhKSN8JvW/Czv2rNL7PQSDQNRKWW0ro3WtbowrADgej6GTym/JUeeybo/4vloDlc0B/i8tfZy5oazfSDrMUCj/b/E+d97UCmgjNIHx/TfYajTXyaAfjj30sIIAAAAAElFTkSuQmCC\"></div><div class=\"grid-item\"><img alt=\"Output\" src=\"data:image/png;base64,iVBORw0KGgoAAAANSUhEUgAAAX8AAAAPCAIAAACDc1hFAAAAhXpUWHRSYXcgcHJvZmlsZSB0eXBlIGV4aWYAAHjaVYvBDcMwDAP/mqIjyLJM2uMYiQNkg45fuu0n9yApgbT1vi97felp2dgxABc5csRU6P6juNciDXn+X9MfZGWgoRhTluEkhnJXkqKFN+LCAahYcIbnIV8gNQN3o86928QyPusLVffpbh/5eCey76LuBgAAAAlwSFlzAAALEwAACxMBAJqcGAAAADx0RVh0U29mdHdhcmUAQ3JlYXRlZCB3aXRoIHRoZSBXb2xmcmFtIExhbmd1YWdlIDogd3d3LndvbGZyYW0uY29tXKKmhQAAACF0RVh0Q3JlYXRpb24gVGltZQAyMDIyOjA1OjE5IDIxOjU4OjA3tWl2CgAABFhJREFUeJztWj2SqkwUvf1W0pYJAYuAMoEydQeQfPVSKNcwJak1CezAlJLE6l4EgYlF76RfwI8NONDdjsg3w0lmVI7n9OVyuX0Rcc5hwYIFCybHn3cbWLBgwS/FUn0WLFjwHnSqD2P3/2mIQjqll8pC4qrpssRFJdyEvcjUs9FgiYvk+cohKEHDKg7vOG0LFoxBrC4A0Ko+LAlfePW+DPToQ1xwzjk/e/jdbt4J68A5L2Ln3T5+IzRvGL8NSZhQ4aVYfdZbz8IT23ka7JaDucbvtjEC7J05P1jvtrFgwRuBsbeFG7u/MTb3qbt5pU1NswVQ3G0ghBBa+ZkKY+VnENlqWoI/taUpR+O+K9TbEJX8191UWeK6SRIihKo/klo0RGFSr006GnoszSi2xDTyUNohS9xWGsrxWOKKB9JQhtbrsORoZd7WRBrKWWw77Pgd4SHJ88UbEEK4CBIAQEB41c471fZmDCSoWQoQSEXsqPAVDy+16rUI/8o4rIR0VqhkszqYBCBtT0+o3KfdpYrYkRPUi4ZeRmnmhhg9EihYVE5eVWd3qSYCsrI1pzpeQbWOokLKi8dqrI9zEvSkSCy+0/Q+jN5uuFuaAlLuFvBm52RXmcIHNI2c+K8lc+iTpMnRRMOYYLQS2cgGMsUoK9haAADObqMkpRcN9Yx6IjeCfRU96yC77cWGE9nTzO2tbZCdLgwAWPIRVWdhBFWwaZo7eUoBABwDy6kdiji3EbKBSOeU4PByAsWTwBI33fakrDVcWPOqrj6M3WD205PvgbUNMn+FEELIzuPPmU6qA0KCyF4GmRMDe2fOOd+mEzw7tP7GcLowlUsbr83sytgNdvtdnlJ2zZRmno6jdt+sHdKjb+6VLhQarq77RxUfA1yaZ1919cGWtwb65Xcd/Uwozq1tZPfbDSfzj48+G2Bhw2luA/+15z5DWl9jgMWSj7zp/tq1+du1nmJVd6vuPn9GDp9gyWfUlLnRwDrwInai9H7UCAuvTcjFgaoMC292cLrQywnafedwNPL0eDU21mYHaZoLrc+wFg1Xp93n+TPO7db4ZsShtzdPlyTttmYj0aDhh1E87DbpBTYerj0PT53rOZqdx+KXYcMBEE9Ny++5bPF6M6cBFvY+Y/BXCKHVdU+C1kcDWl9jUGtvVq2PgkM9rSdZ2DuTILKFad8QqzuFvy9sRutSz6gpc0OcmK58k0jmPEDZJlRpJVzdIyzs7U3f7vUVQ9FYm1mUGxsMeGPkkdj6DLBoWLf5VTTlMgoAwNqavt/bF47E0I6y5hIbHFULA6HO1Hl4HKUxnJsHq/1Jewj3Oof9qd08ojEpa2C2KqfVjeJM1vWjWY/H1Hpa3amzWH3igPRUeih/zab6KGZGrFbc7i9e67B9smYUjUlZj6uPgpZQfea0rh/MelBl9LRqbvBF9eGcF4QUOl/6v0Lr18B6QdSQ0nqO+8Og+zi7gdZz3wV6KHe533iB9KvLP6Otcnkv2BoJAAAAAElFTkSuQmCC\"></div></div></div>"
      ],
      "text/plain": [
       "{1, 0, 0, 3 + 4 I}\n",
       "{1, 0, 0, 3 + 4 I}\n",
       "{b, c, d, f, g, h, j, k, l, m, n, p, q, r, s, t, v, w, x, y, z}"
      ]
     },
     "execution_count": 40,
     "metadata": {
      "text/html": [],
      "text/plain": []
     },
     "output_type": "execute_result"
    }
   ],
   "source": [
    "{1, 1/2, 0.25, 3 + 4 I} /. {_Rational -> 0, _Real -> 0}\n",
    "{1, 1/2, 0.25, 3 + 4 I} /. {_Rational | _Real -> 0}\n",
    "Cases[Symbol /@ CharacterRange[\"a\", \"z\"], Except[a | e | i | o | u]]"
   ]
  },
  {
   "cell_type": "markdown",
   "metadata": {},
   "source": [
    "对表达式序列进行模式匹配"
   ]
  },
  {
   "cell_type": "code",
   "execution_count": 43,
   "metadata": {},
   "outputs": [
    {
     "data": {
      "text/html": [
       "<style>\n",
       "\t\t\t\t\t\t\t\t\t\t\t\t\t.grid-container {\n",
       "\t\t\t\t\t\t\t\t\t\t\t\t\t\tdisplay: inline-grid;\n",
       "\t\t\t\t\t\t\t\t\t\t\t\t\t\tgrid-template-columns: auto;\n",
       "\t\t\t\t\t\t\t\t\t\t\t\t\t}\n",
       "\t\t\t\t\t\t\t\t\t\t\t\t</style>\n",
       "\n",
       "\t\t\t\t\t\t\t\t\t\t\t\t<div><div class=\"grid-container\"><div class=\"grid-item\"><img alt=\"Output\" src=\"data:image/png;base64,iVBORw0KGgoAAAANSUhEUgAAAH0AAAAPCAIAAABGCFe4AAAAhXpUWHRSYXcgcHJvZmlsZSB0eXBlIGV4aWYAAHjaVYvBDcMwDAP/mqIjyLJM2uMYiQNkg45fuu0n9yApgbT1vi97felp2dgxABc5csRU6P6juNciDXn+X9MfZGWgoRhTluEkhnJXkqKFN+LCAahYcIbnIV8gNQN3o86928QyPusLVffpbh/5eCey76LuBgAAAAlwSFlzAAALEwAACxMBAJqcGAAAADx0RVh0U29mdHdhcmUAQ3JlYXRlZCB3aXRoIHRoZSBXb2xmcmFtIExhbmd1YWdlIDogd3d3LndvbGZyYW0uY29tXKKmhQAAACF0RVh0Q3JlYXRpb24gVGltZQAyMDIyOjA1OjE5IDIyOjAwOjIzvI5tkwAAAiBJREFUWIXtmD9yqzAQxldv3kGUcfMKDiE6eTiG6NLC5BCmzaQRN3CbsRtGOgRFGka6yaawk4D+2MjGdvHy6/yxu996h1kEBBHhl7vz59EN/Kf8zv0xOHO31g2w7ZocWLd2Gmrd6ICUxLzkqywWyL+ktqeP5m7bunUvg34tQRpERNwJOtJ12MF2fo1ZBN0jtHWrLzJJcrmMWG+OPp77qhCMTqPt0EO2csQjlFLqKWlNjp0C7mEoFQUM9sYulxHrzdOj+/2wX57KPTQ5IYSQWi/fZhxdjyx17W25B7rYdj2Km/6aTXTuVOwQ0UgOlUJExA1LrX0NbIOqavJaA+g676WZbLmHulDxUu23nQUAANtt99VLem/fc7d6GJKzFyPkzjZG9jkhOSh3HGwFx/99S5corPgavO22IJ/ZnN6m+tfcrR0gssfvQNydcx6SKUCXfC5JdonCniVsOwv6tcy8mz3W21THb5RS6DLaM1NCwYiISh5PPxOxAgiXOVVQVcClQSM5cKfoHVzOVVMVl7IKRAR78/S7vDfRfxygedcJKbomeS/fBAUq3iSUT+efXcu6nKvGiqwsm6pgCXYj/p6+TMVugc83dJUBZEktss3PdyMqdiju7TKnGndWewLj+314j7wMXYNt14TkvTTnzkMJ7nb4uKnLjGq6zpvgOcbvLaxPdpBRygSXk4cxSimlzGkpjXnu83u8Tf5h83uPnJO1ff0TswLM2JMt2t8AAAAASUVORK5CYII=\"></div><div class=\"grid-item\"><img alt=\"Output\" src=\"data:image/png;base64,iVBORw0KGgoAAAANSUhEUgAAAHYAAAAPCAIAAAC+6KxPAAAAhXpUWHRSYXcgcHJvZmlsZSB0eXBlIGV4aWYAAHjaVYvBDcMwDAP/mqIjyLJM2uMYiQNkg45fuu0n9yApgbT1vi97felp2dgxABc5csRU6P6juNciDXn+X9MfZGWgoRhTluEkhnJXkqKFN+LCAahYcIbnIV8gNQN3o86928QyPusLVffpbh/5eCey76LuBgAAAAlwSFlzAAALEwAACxMBAJqcGAAAADx0RVh0U29mdHdhcmUAQ3JlYXRlZCB3aXRoIHRoZSBXb2xmcmFtIExhbmd1YWdlIDogd3d3LndvbGZyYW0uY29tXKKmhQAAACF0RVh0Q3JlYXRpb24gVGltZQAyMDIyOjA1OjE5IDIyOjAwOjIzvI5tkwAAAclJREFUWIXtWDuOwjAUHK/2IF7RbJFDOJ0Rx0g6WkecYRXaFY1zA1oETWQfgmKbKL6Jt1rIxyYfhYBWTJfhvZmJY70nQay1eOGeeHt0gP+P1xHfHY0jNsZd1uJ9hX3Rr38el2m1W3zliE2WZK42D58lmR6R7IaRC/O4jIMvW5O3FyilrAteXsrS+UMXfIIPdBkHX7Y6/wSzWCeEkERfH5b3uH2jXEy2rNTVn3rjfWjD9GCpVSBhsrIpkvAsy2NEn8SFRhsRf+Umiihg8v1JbI6Ds11usdFF4er28QBbIDdD/dyCLC3lOSQkhGq++TwuXrCVOO1zA8Dke8g165Otzv8dsTEFFg5bHw8AFMgH72y/IOf8cS5esLXEPjfQ33GwaX4YX7Y6XxnSU6w7JQAId4NfUAlwWdpScvCG6AwuXWpKcCmFo+Ix645+cmB70ANadELCs9xFFDTaScQf3StlWpcuNbYK4ngrVmyAXQVTrzu6CIBgUBqWXv8modHRRnO79FHjjTE8ANVbXBy0cdW4eVP8NJlsSUh4lmXakcZn5MC9XXqo6STcitYYdmZz87UhUipVuqZLi/cV9kW//nlcbkAJAK31cFO7zf8CNe/YozcsaMEAAAAASUVORK5CYII=\"></div></div></div>"
      ],
      "text/plain": [
       "{f[], {x}, {x, y}}\n",
       "{{}, {x}, {x, y}}"
      ]
     },
     "execution_count": 43,
     "metadata": {
      "text/html": [],
      "text/plain": []
     },
     "output_type": "execute_result"
    }
   ],
   "source": [
    "{f[], f[x], f[x, y]} /. {f[a__] :> {a}}\n",
    "{f[], f[x], f[x, y]} /. {f[a___] :> {a}}"
   ]
  },
  {
   "cell_type": "markdown",
   "metadata": {},
   "source": [
    "$eg.判断表中元素是否都是素数。$"
   ]
  },
  {
   "cell_type": "code",
   "execution_count": 1,
   "metadata": {},
   "outputs": [
    {
     "data": {
      "text/html": [
       "<style>\n",
       "\t\t\t\t\t\t\t\t\t\t\t\t\t.grid-container {\n",
       "\t\t\t\t\t\t\t\t\t\t\t\t\t\tdisplay: inline-grid;\n",
       "\t\t\t\t\t\t\t\t\t\t\t\t\t\tgrid-template-columns: auto;\n",
       "\t\t\t\t\t\t\t\t\t\t\t\t\t}\n",
       "\t\t\t\t\t\t\t\t\t\t\t\t</style>\n",
       "\n",
       "\t\t\t\t\t\t\t\t\t\t\t\t<div><div class=\"grid-container\"><div class=\"grid-item\"><img alt=\"Output\" src=\"data:image/png;base64,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\"></div><div class=\"grid-item\"><img alt=\"Output\" src=\"data:image/png;base64,iVBORw0KGgoAAAANSUhEUgAAABwAAAAPCAIAAAB4LTj2AAAAhXpUWHRSYXcgcHJvZmlsZSB0eXBlIGV4aWYAAHjaVYvBDcMwDAP/mqIjyLJM2uMYiQNkg45fuu0n9yApgbT1vi97felp2dgxABc5csRU6P6juNciDXn+X9MfZGWgoRhTluEkhnJXkqKFN+LCAahYcIbnIV8gNQN3o86928QyPusLVffpbh/5eCey76LuBgAAAAlwSFlzAAALEwAACxMBAJqcGAAAADx0RVh0U29mdHdhcmUAQ3JlYXRlZCB3aXRoIHRoZSBXb2xmcmFtIExhbmd1YWdlIDogd3d3LndvbGZyYW0uY29tXKKmhQAAACF0RVh0Q3JlYXRpb24gVGltZQAyMDIyOjA1OjIxIDEwOjAyOjU1I4Cm1QAAAMVJREFUOI3lkzEOgjAUhv8aDyI3aTcbV28gi2Et4RB0NS7tDViNbPQQDCyEd5M6UEw6QCSyGL+p+fvyv/c3r8x7j63Zbe74W6ZkJYuRlr519YFGQTV+G2bju5zl9p0id5PmxmuyMjpHdUtvqivcQwr9cPPdk66Y4kJIS4umqrgcAAC89CWfKaK+hRZhUKEBAPsF04+grj6a4Rnaj6xdqbYnAGSvaT0K/KTq9OaiolWmPDNIE8ZYUp2NmsRyMK2I9pH9999/AYVknc1lM5hoAAAAAElFTkSuQmCC\"></div></div></div>"
      ],
      "text/plain": [
       "{41, 43, 47, 53, 61, 71, 83, 97, 113, 131, 151, 173, 197, 223, 251, 281, 313, 347, 383, \n",
       " \n",
       ">   421, 461, 503, 547, 593, 641, 691, 743, 797, 853, 911, 971, 1033, 1097, 1163, 1231, \n",
       " \n",
       ">   1301, 1373, 1447, 1523, 1601}\n",
       "True"
      ]
     },
     "execution_count": 2,
     "metadata": {
      "text/html": [],
      "text/plain": []
     },
     "output_type": "execute_result"
    }
   ],
   "source": [
    "listPrimeQ[list_] := \n",
    "  Not@MatchQ[list, {___, _?(Not[PrimeQ[#]] &), ___}];\n",
    "  list = Array[#^2 + # + 41 &, 40, 0]\n",
    "(*   指标的起点为0 *)\n",
    "listPrimeQ[list]"
   ]
  },
  {
   "cell_type": "markdown",
   "metadata": {},
   "source": [
    "$eg2.微分形式的外积运算。$"
   ]
  },
  {
   "cell_type": "code",
   "execution_count": 5,
   "metadata": {},
   "outputs": [
    {
     "data": {
      "text/html": [
       "<style>\n",
       "\t\t\t\t\t\t\t\t\t\t\t\t\t.grid-container {\n",
       "\t\t\t\t\t\t\t\t\t\t\t\t\t\tdisplay: inline-grid;\n",
       "\t\t\t\t\t\t\t\t\t\t\t\t\t\tgrid-template-columns: auto;\n",
       "\t\t\t\t\t\t\t\t\t\t\t\t\t}\n",
       "\t\t\t\t\t\t\t\t\t\t\t\t</style>\n",
       "\n",
       "\t\t\t\t\t\t\t\t\t\t\t\t<div><div class=\"grid-container\"><div class=\"grid-item\"><img alt=\"Output\" src=\"data:image/png;base64,iVBORw0KGgoAAAANSUhEUgAAAEwAAAAPCAIAAADBOb6+AAAAhXpUWHRSYXcgcHJvZmlsZSB0eXBlIGV4aWYAAHjaVYvBDcMwDAP/mqIjyLJM2uMYiQNkg45fuu0n9yApgbT1vi97felp2dgxABc5csRU6P6juNciDXn+X9MfZGWgoRhTluEkhnJXkqKFN+LCAahYcIbnIV8gNQN3o86928QyPusLVffpbh/5eCey76LuBgAAAAlwSFlzAAALEwAACxMBAJqcGAAAADx0RVh0U29mdHdhcmUAQ3JlYXRlZCB3aXRoIHRoZSBXb2xmcmFtIExhbmd1YWdlIDogd3d3LndvbGZyYW0uY29tXKKmhQAAACF0RVh0Q3JlYXRpb24gVGltZQAyMDIyOjA1OjIxIDEwOjAzOjAx4Sbx7AAAAU9JREFUSIntljFugzAUhv+Xk1CxdMghQF2Megy6dTWHqMrexZyjWSpziAxZInMTdwCSED87GFWtRPNPyOZ9+t/vZwRZa7F2bf7awG/o3uRatAHQVjSqaLp5dV1TxJb4tcTALfUGqxYAYC9klIBQxt6UUULquJJZ+jGalhBSCvQunXHdpokT8pAH2mqIOik/3zMAQJJusTvMTZ+nBQ0sobVVvlcfr4+nN8fGAYBPUUtA6j4dZ9+oMS6nij8RnhY0EEkbn8/WwNYwnYDb8bxvrVZKK8Ub89K8wBialri4Sdy4Zs8S+6MzQQCEEFcrXVNQDm2HuZ1uHdMyK5/w1fKD5tICBmJoXfNWo86JiOjhZYc6Jyoa5yTdgRkWJx8Fo4TnLPrgzfVTkBY0sJg2GdfxPoC7ElqeV40SODEn8rXL9ODSwgaiaUyTZO//ruvQv2jyG5eS6sw3+YeDAAAAAElFTkSuQmCC\"></div><div class=\"grid-item\"><img alt=\"Output\" src=\"data:image/png;base64,iVBORw0KGgoAAAANSUhEUgAAAK8AAAAPCAIAAAAd7AjMAAAAhXpUWHRSYXcgcHJvZmlsZSB0eXBlIGV4aWYAAHjaVYvBDcMwDAP/mqIjyLJM2uMYiQNkg45fuu0n9yApgbT1vi97felp2dgxABc5csRU6P6juNciDXn+X9MfZGWgoRhTluEkhnJXkqKFN+LCAahYcIbnIV8gNQN3o86928QyPusLVffpbh/5eCey76LuBgAAAAlwSFlzAAALEwAACxMBAJqcGAAAADx0RVh0U29mdHdhcmUAQ3JlYXRlZCB3aXRoIHRoZSBXb2xmcmFtIExhbmd1YWdlIDogd3d3LndvbGZyYW0uY29tXKKmhQAAACF0RVh0Q3JlYXRpb24gVGltZQAyMDIyOjA1OjIxIDEwOjAzOjAx4Sbx7AAAAdJJREFUWIXtmb1twzAQRk+ZxIBbD6HADY202UArUFN4BWoOpwnIIVK4EchNLgUp6488SpQjp+CrDFP39Pl8ogS7QETIZAAA4O3VATL/iDwNmZ48DZme2DSY5lJYLo1Z6HQ1tdoWLT1AEFUXxQZbUvkzu7ExvzeYw+ZDCi0Yl90rYEKTRyMiouTAhNaCgavcREKApd4tthd1IyFAxDFJRe8Nh+p2Le2r4wm+7qNxVPVg5FXtxrW84q06rJ9Uv40MsNo25nT0xzRKLTnNpHyPbpABNtos6YOEiJIDcNldAtHDH1X+qQ7aSOM6m+T2YxMXlhTEGlW+Rzdi+VfYtGCPKXDv2WnQI8KuOU45XSQ+vxRCikDDAzYiQJItKNRaay2FkIE+xPLs1I1ggESbFswuvAGAmTLaPExzKd5Botux5zDGAiseTNMeq7I6w7daaiMCJNgc5QeHn9aMbZb2fm89fYiWR87o48n5U22H8yezNu/EzqfGj9t35s80oauh34U9+7HPRgZYbZut0tYw3vK/7wYZIN0mubtXkNMwvLMAwORreTi6I5nQ/Y3NW0LgtdEB1tqG2VKeG8jyHbqxMP9S26C53WKB+X+KTEf+LTLTk6ch0/MLyLQf0aTYbQEAAAAASUVORK5CYII=\"></div><div class=\"grid-item\"><img alt=\"Output\" src=\"data:image/png;base64,iVBORw0KGgoAAAANSUhEUgAAAK8AAAAPCAIAAAAd7AjMAAAAhXpUWHRSYXcgcHJvZmlsZSB0eXBlIGV4aWYAAHjaVYvBDcMwDAP/mqIjyLJM2uMYiQNkg45fuu0n9yApgbT1vi97felp2dgxABc5csRU6P6juNciDXn+X9MfZGWgoRhTluEkhnJXkqKFN+LCAahYcIbnIV8gNQN3o86928QyPusLVffpbh/5eCey76LuBgAAAAlwSFlzAAALEwAACxMBAJqcGAAAADx0RVh0U29mdHdhcmUAQ3JlYXRlZCB3aXRoIHRoZSBXb2xmcmFtIExhbmd1YWdlIDogd3d3LndvbGZyYW0uY29tXKKmhQAAACF0RVh0Q3JlYXRpb24gVGltZQAyMDIyOjA1OjIxIDEwOjAzOjAx4Sbx7AAAAhBJREFUWIXtVzuygjAUvbgSHVsXgfMaGJeBjWMbxkVYv3lN2IG9NkyyCAsahuwkr4gIgRAChGjBqURzTu7ncBM9zjksWAAAAKtPB7Dgi7C4YUGFxQ0LKvS5gSWhJxAmzFDzxYnptNBmUKOx5w1OZyLdajXGtKMT7XT0bmDJKbtwzjkvMBxPJgHQ2DvBX4GDqbHOoAb+lfNh6Uyk241/RDt0aKejd8M6ul998Wm7g0cmbU/jmuVp/DKYf+X3aD04MpaENbu/n+yqydht1cKM0tZaBWS6k/i17RisJkOkw81Q4AAQaX5LEAAinBMEAS56l79Z0tpKq9Rosi2qESSSD1Sk1xKs+a2b7ib+PsVp1RCzgUlou4vGm+OOvHxZg38t8HPveXsgxq8ATfIDpG1z+gf0uKUMAFh6A3xubWZFrZyOl2yjOMrL9LvqoKO7iV+QOtoxuRoraHqhWQaWhN4eCFdsLhAEA05FluTbyI9+IKWtkM8YbikD+nvcXcy8NV7NPyB45kxWE8izLO+0g4buJn5NOyxUo2N+1SZS95ArJ1CBA8OToprCynlMUIAxMp6L49TqkaugOyl66HPHr22HhWpo3dC6C0tSBIF0GomH8ihSUnpBkEyZTW3MvcGAPmv8+nYMVVOlY3qLdATNK/txNfc7Olf7KjeUf1G+Uc39jh9Q+xY3iLFl602wq+Z+x0+p/QO/QGE0zcP0NwAAAABJRU5ErkJggg==\"></div></div></div>"
      ],
      "text/plain": [
       "3 x2 ⋀ x3 ⋀ x4\n",
       "-2 x1 ⋀ x2 ⋀ x3 + 3 x1 ⋀ x3 ⋀ x5\n",
       "-2 x1 ⋀ y1 ⋀ y3 + 3 y1 ⋀ y2 ⋀ y3"
      ]
     },
     "execution_count": 9,
     "metadata": {
      "text/html": [],
      "text/plain": []
     },
     "output_type": "execute_result"
    }
   ],
   "source": [
    "Wedge[x1___, x2_ + x3_, x4___] := \n",
    "  Wedge[x1, x2, x4] + Wedge[x1, x3, x4];\n",
    "Wedge[x1___, a_ x2_, x3___] := a Wedge[x1, x2, x3] /; NumberQ[a];\n",
    "Wedge[x1___, x2_, x3___, x2_, x5___] := 0;\n",
    "Wedge[x1___, x2_, x3___, x4_, x5___] := -Wedge[x1, x4, x3, x2, x5] /; \n",
    "   Not[OrderedQ[{x2, x4}]];\n",
    "\n",
    "Wedge[x2, 2 x2 + 3 x3, x4]\n",
    "Wedge[2 x2 + 3 x5, x1, x3]\n",
    "Wedge[y3, y1, 2 x1 + 3 y2]"
   ]
  },
  {
   "cell_type": "markdown",
   "metadata": {},
   "source": [
    "用 Longest 和 Shortest 可以控制\"__\"和\"___\"的匹配长度："
   ]
  },
  {
   "cell_type": "code",
   "execution_count": 12,
   "metadata": {},
   "outputs": [
    {
     "data": {
      "text/html": [
       "<style>\n",
       "\t\t\t\t\t\t\t\t\t\t\t\t\t.grid-container {\n",
       "\t\t\t\t\t\t\t\t\t\t\t\t\t\tdisplay: inline-grid;\n",
       "\t\t\t\t\t\t\t\t\t\t\t\t\t\tgrid-template-columns: auto;\n",
       "\t\t\t\t\t\t\t\t\t\t\t\t\t}\n",
       "\t\t\t\t\t\t\t\t\t\t\t\t</style>\n",
       "\n",
       "\t\t\t\t\t\t\t\t\t\t\t\t<div><div class=\"grid-container\"><div class=\"grid-item\"><pre style=\"&#102;&#111;&#110;&#116;&#45;&#102;&#97;&#109;&#105;&#108;&#121;&#58;&#32;&#34;&#67;&#111;&#117;&#114;&#105;&#101;&#114;&#32;&#78;&#101;&#119;&#34;&#44;&#67;&#111;&#117;&#114;&#105;&#101;&#114;&#44;&#109;&#111;&#110;&#111;&#115;&#112;&#97;&#99;&#101;&#59;\">&#123;&#123;&#97;&#125;&#44;&#32;&#123;&#98;&#125;&#44;&#32;&#123;&#99;&#44;&#32;&#100;&#44;&#32;&#101;&#44;&#32;&#102;&#44;&#32;&#103;&#125;&#125;</pre></div><div class=\"grid-item\"><pre style=\"&#102;&#111;&#110;&#116;&#45;&#102;&#97;&#109;&#105;&#108;&#121;&#58;&#32;&#34;&#67;&#111;&#117;&#114;&#105;&#101;&#114;&#32;&#78;&#101;&#119;&#34;&#44;&#67;&#111;&#117;&#114;&#105;&#101;&#114;&#44;&#109;&#111;&#110;&#111;&#115;&#112;&#97;&#99;&#101;&#59;\">&#123;&#123;&#97;&#125;&#44;&#32;&#123;&#98;&#44;&#32;&#99;&#44;&#32;&#100;&#44;&#32;&#101;&#44;&#32;&#102;&#125;&#44;&#32;&#123;&#103;&#125;&#125;</pre></div></div></div>"
      ],
      "text/plain": [
       "{{a}, {b}, {c, d, e, f, g}}\n",
       "{{a}, {b, c, d, e, f}, {g}}"
      ]
     },
     "execution_count": 12,
     "metadata": {
      "text/html": [],
      "text/plain": []
     },
     "output_type": "execute_result"
    }
   ],
   "source": [
    "{a, b, c, d, e, f, g} /. {x__, y__, z__} -> {{x}, {y}, {z}}\n",
    "{a, b, c, d, e, f, g} /. {x__, Longest[y__], z__} -> {{x}, {y}, {z}}"
   ]
  },
  {
   "cell_type": "markdown",
   "metadata": {},
   "source": [
    "重复模式："
   ]
  },
  {
   "cell_type": "code",
   "execution_count": 14,
   "metadata": {},
   "outputs": [
    {
     "data": {
      "text/html": [
       "<style>\n",
       "\t\t\t\t\t\t\t\t\t\t\t\t\t.grid-container {\n",
       "\t\t\t\t\t\t\t\t\t\t\t\t\t\tdisplay: inline-grid;\n",
       "\t\t\t\t\t\t\t\t\t\t\t\t\t\tgrid-template-columns: auto;\n",
       "\t\t\t\t\t\t\t\t\t\t\t\t\t}\n",
       "\t\t\t\t\t\t\t\t\t\t\t\t</style>\n",
       "\n",
       "\t\t\t\t\t\t\t\t\t\t\t\t<div><div class=\"grid-container\"><div class=\"grid-item\"><pre style=\"&#102;&#111;&#110;&#116;&#45;&#102;&#97;&#109;&#105;&#108;&#121;&#58;&#32;&#34;&#67;&#111;&#117;&#114;&#105;&#101;&#114;&#32;&#78;&#101;&#119;&#34;&#44;&#67;&#111;&#117;&#114;&#105;&#101;&#114;&#44;&#109;&#111;&#110;&#111;&#115;&#112;&#97;&#99;&#101;&#59;\">&#123;&#102;&#91;&#97;&#93;&#44;&#32;&#102;&#91;&#97;&#44;&#32;&#97;&#93;&#44;&#32;&#102;&#91;&#97;&#44;&#32;&#97;&#44;&#32;&#97;&#93;&#125;</pre></div><div class=\"grid-item\"><pre style=\"&#102;&#111;&#110;&#116;&#45;&#102;&#97;&#109;&#105;&#108;&#121;&#58;&#32;&#34;&#67;&#111;&#117;&#114;&#105;&#101;&#114;&#32;&#78;&#101;&#119;&#34;&#44;&#67;&#111;&#117;&#114;&#105;&#101;&#114;&#44;&#109;&#111;&#110;&#111;&#115;&#112;&#97;&#99;&#101;&#59;\">&#123;&#102;&#91;&#97;&#93;&#44;&#32;&#102;&#91;&#97;&#44;&#32;&#97;&#93;&#44;&#32;&#102;&#91;&#97;&#44;&#32;&#97;&#44;&#32;&#97;&#93;&#125;</pre></div><div class=\"grid-item\"><pre style=\"&#102;&#111;&#110;&#116;&#45;&#102;&#97;&#109;&#105;&#108;&#121;&#58;&#32;&#34;&#67;&#111;&#117;&#114;&#105;&#101;&#114;&#32;&#78;&#101;&#119;&#34;&#44;&#67;&#111;&#117;&#114;&#105;&#101;&#114;&#44;&#109;&#111;&#110;&#111;&#115;&#112;&#97;&#99;&#101;&#59;\">&#123;&#102;&#91;&#97;&#93;&#44;&#32;&#102;&#91;&#97;&#44;&#32;&#97;&#93;&#125;</pre></div><div class=\"grid-item\"><pre style=\"&#102;&#111;&#110;&#116;&#45;&#102;&#97;&#109;&#105;&#108;&#121;&#58;&#32;&#34;&#67;&#111;&#117;&#114;&#105;&#101;&#114;&#32;&#78;&#101;&#119;&#34;&#44;&#67;&#111;&#117;&#114;&#105;&#101;&#114;&#44;&#109;&#111;&#110;&#111;&#115;&#112;&#97;&#99;&#101;&#59;\">&#123;&#102;&#91;&#97;&#44;&#32;&#97;&#93;&#44;&#32;&#102;&#91;&#97;&#44;&#32;&#97;&#44;&#32;&#97;&#93;&#125;</pre></div></div></div>"
      ],
      "text/plain": [
       "{f[a], f[a, a], f[a, a, a]}\n",
       "{f[a], f[a, a], f[a, a, a]}\n",
       "{f[a], f[a, a]}\n",
       "{f[a, a], f[a, a, a]}"
      ]
     },
     "execution_count": 14,
     "metadata": {
      "text/html": [],
      "text/plain": []
     },
     "output_type": "execute_result"
    }
   ],
   "source": [
    "Cases[{f[a], f[a, b], f[a, a], f[a, a, a]}, f[a ..]]\n",
    "Cases[{f[a], f[a, b], f[a, a], f[a, a, a]}, f[Repeated[a]]]\n",
    "Cases[{f[a], f[a, b], f[a, a], f[a, a, a]}, f[Repeated[a, 2]]]\n",
    "Cases[{f[a], f[a, b], f[a, a], f[a, a, a]}, f[Repeated[a, {2, 3}]]]"
   ]
  },
  {
   "cell_type": "markdown",
   "metadata": {},
   "source": [
    "模式序列："
   ]
  },
  {
   "cell_type": "code",
   "execution_count": 18,
   "metadata": {},
   "outputs": [
    {
     "data": {
      "text/html": [
       "<style>\n",
       "\t\t\t\t\t\t\t\t\t\t\t\t\t.grid-container {\n",
       "\t\t\t\t\t\t\t\t\t\t\t\t\t\tdisplay: inline-grid;\n",
       "\t\t\t\t\t\t\t\t\t\t\t\t\t\tgrid-template-columns: auto;\n",
       "\t\t\t\t\t\t\t\t\t\t\t\t\t}\n",
       "\t\t\t\t\t\t\t\t\t\t\t\t</style>\n",
       "\n",
       "\t\t\t\t\t\t\t\t\t\t\t\t<div><div class=\"grid-container\"><div class=\"grid-item\"><img alt=\"Output\" src=\"data:image/png;base64,iVBORw0KGgoAAAANSUhEUgAAASUAAAAPCAIAAAAtRU7EAAAAhXpUWHRSYXcgcHJvZmlsZSB0eXBlIGV4aWYAAHjaVYvBDcMwDAP/mqIjyLJM2uMYiQNkg45fuu0n9yApgbT1vi97felp2dgxABc5csRU6P6juNciDXn+X9MfZGWgoRhTluEkhnJXkqKFN+LCAahYcIbnIV8gNQN3o86928QyPusLVffpbh/5eCey76LuBgAAAAlwSFlzAAALEwAACxMBAJqcGAAAADx0RVh0U29mdHdhcmUAQ3JlYXRlZCB3aXRoIHRoZSBXb2xmcmFtIExhbmd1YWdlIDogd3d3LndvbGZyYW0uY29tXKKmhQAAACF0RVh0Q3JlYXRpb24gVGltZQAyMDIyOjA1OjIxIDEwOjAzOjIx0xCTbgAAA0BJREFUaIHtmjGOqzAQhoendxCjNFtwCKI0idLmBtBErwXtGVZJG22Db7DtKmki+xAp0iB8E78CCATbYINfdt/GX0nGM78HxmNDPM45OByOh/DrqwU4HE+EqzeH43F06o2xrgHDK69khdm9KROtJejaGaB2aTuSTd/CeJVDlzFL4+1jesuEi616YzjF3Z+BHmLICs4558cIta5TwbSqzJSKUc+i4/FIQlfxBf1qST0oVxjAKTby1Kut16HLmKCNpp6niKIpUHtSzXzEXJjeso59u95m6yhEHSf5BYJZ52IFQqj5gabeFt6LbCkzkw6fApI57epXS+qD4e31lXPOeZFBvG3lEKFoDTlTjuz1Ksmt0qHLmEQbhDvOpVEGoan/ESRmk4KEVOH4Lmyumt4ywV55fitr3I9PsJ9LyrxLuLvvf9OgqZfiepExXs0mSULRsUowmgVwuo6L/XCeLGOqHiCBpvNL9v7n5R+qMUBZbyg6cs6LbFlXervMH8A+LhdN49XMGiy/QLIOvyDyOH58xqodpf+xKbQfxrLaRnSCqsuMXrsU3OqN0TxHNj1PJCFlTtFis9RZM23rp6kfB6RzX8MZnIelCKi1jXQo5cdnrN5Rvl59zbMYTedAzFt22Wvqtcu/j2U6o3v7ut4Yy0G/R38/rOpneOXNgUhaOgI4G78169M2yqEV/teMAYTrBC4ax0KG3/Z1n6oPRobtCi02y24sZDijO/u63lAYzYCaSJkKTbVeGdFDfNLYoxjp7w3N8MqPA9mjA0DPsIi6R+PBifRokzpU4TJWDf/cLzeLm0+lt6ZNNQejW7PTSyY9xKd2LDC8ZYK9re/d5d66eb0y/FiglyXA/lNlV++f55dMf7euKaknNMPb+NREtzARezx1xlqfA95eivYecVz++0Y13wPml6yw+B4Q4PeAquio9/fKcMf5zigymgUAgXIdTuTrpQFqST2hUXTkkVmcgYnY46kzNkpby6j7IPeNGjElXdr9Lf9UfBe1DsOrKeuwAi39U0Kz/DrWm1yb6FAZ2mXMnja7MzKz520KQoqC61AUhBBCBo117e4hSet7o4FLff3mTPUtjFc4dBmzNd4+prdMtP8L42n93EDXqIIAAAAASUVORK5CYII=\"></div><div class=\"grid-item\"><img alt=\"Output\" src=\"data:image/png;base64,iVBORw0KGgoAAAANSUhEUgAAAE0AAAAPCAIAAAAu+9WAAAAAhXpUWHRSYXcgcHJvZmlsZSB0eXBlIGV4aWYAAHjaVYvBDcMwDAP/mqIjyLJM2uMYiQNkg45fuu0n9yApgbT1vi97felp2dgxABc5csRU6P6juNciDXn+X9MfZGWgoRhTluEkhnJXkqKFN+LCAahYcIbnIV8gNQN3o86928QyPusLVffpbh/5eCey76LuBgAAAAlwSFlzAAALEwAACxMBAJqcGAAAADx0RVh0U29mdHdhcmUAQ3JlYXRlZCB3aXRoIHRoZSBXb2xmcmFtIExhbmd1YWdlIDogd3d3LndvbGZyYW0uY29tXKKmhQAAACF0RVh0Q3JlYXRpb24gVGltZQAyMDIyOjA1OjIxIDEwOjAzOjIx0xCTbgAAAUJJREFUSInlVzFuhDAQHPISR3zE6Boi2vwAmvT2Ky7tdeYZkWiQ/QiKNAj/xCkA4zOC+MJxudNNt94dz85iIzkyxuAJ8PLfDdwIT+pT660bKh5xtXWTzVozH45PXfLSTz8uSl4qJ3R9xllOyY3b2QmE5BlaPS2s3U/FI4vLzuLIfAs+IHtrrfmkRzOgE00Srv6ZfGU9C8VHoNO9taxPrdqWeEk75NeiChUGwOSRAgA5vKfV97L2vlo0Rj3Fo0+tW8TEU04a0Q0zTi/Q/gP20CJAbf+7o09C8xjKLdNtY7s4nc9Y8aBbpE5FxTIawLq6FgBV45ATMobGQkppziDZUJMKwcCmbD9y5pV7JADp8Il+Z11byxgjhbuy5nMZki02fCesNZ+Cyc6vnqGf72x6d8QauczlRcZ9r2ilQOh0qB8Vcx8/9dH0Wx41ckEAAAAASUVORK5CYII=\"></div></div></div>"
      ],
      "text/plain": [
       "{f[1], p[{1, 2}, {}], p[{1, 2}, {3, 4, 5}]}\n",
       "{a, b, a, b}"
      ]
     },
     "execution_count": 19,
     "metadata": {
      "text/html": [],
      "text/plain": []
     },
     "output_type": "execute_result"
    }
   ],
   "source": [
    "f[x : PatternSequence[_, _], y___] := p[{x}, {y}]\n",
    "{f[1], f[1, 2], f[1, 2, 3, 4, 5]}\n",
    "{a, b, b, a, b, a, b, a, a, \n",
    "  b} /. {___, x : Longest[PatternSequence[a, b] ..], ___} :> {x}"
   ]
  },
  {
   "cell_type": "markdown",
   "metadata": {},
   "source": [
    "模式的默认值："
   ]
  },
  {
   "cell_type": "code",
   "execution_count": 21,
   "metadata": {},
   "outputs": [
    {
     "data": {
      "text/html": [
       "<style>\n",
       "\t\t\t\t\t\t\t\t\t\t\t\t\t.grid-container {\n",
       "\t\t\t\t\t\t\t\t\t\t\t\t\t\tdisplay: inline-grid;\n",
       "\t\t\t\t\t\t\t\t\t\t\t\t\t\tgrid-template-columns: auto;\n",
       "\t\t\t\t\t\t\t\t\t\t\t\t\t}\n",
       "\t\t\t\t\t\t\t\t\t\t\t\t</style>\n",
       "\n",
       "\t\t\t\t\t\t\t\t\t\t\t\t<div><div class=\"grid-container\"><div class=\"grid-item\"><img alt=\"Output\" src=\"data:image/png;base64,iVBORw0KGgoAAAANSUhEUgAAAAcAAAAPCAIAAACnY0LpAAAAhXpUWHRSYXcgcHJvZmlsZSB0eXBlIGV4aWYAAHjaVYvBDcMwDAP/mqIjyLJM2uMYiQNkg45fuu0n9yApgbT1vi97felp2dgxABc5csRU6P6juNciDXn+X9MfZGWgoRhTluEkhnJXkqKFN+LCAahYcIbnIV8gNQN3o86928QyPusLVffpbh/5eCey76LuBgAAAAlwSFlzAAALEwAACxMBAJqcGAAAADx0RVh0U29mdHdhcmUAQ3JlYXRlZCB3aXRoIHRoZSBXb2xmcmFtIExhbmd1YWdlIDogd3d3LndvbGZyYW0uY29tXKKmhQAAACF0RVh0Q3JlYXRpb24gVGltZQAyMDIyOjA1OjIxIDEwOjAzOjIzPR7yQgAAAHpJREFUGJWlkLENg0AQBOeoxBapm3AGuTtwC0c3TwfkDo8iSBHfyTp4A0JkeLMd6W6kNUmcUp3RFZr71kraPgMghYOHJGlJDR4SCqdJywbBQ1WeJx71DcbO7sMrOdOcf7axsyehz7suXeFw+OGhYlvhKma3sN/Y3zt8AU2MWPgotG4DAAAAAElFTkSuQmCC\"></div><div class=\"grid-item\"><img alt=\"Output\" src=\"data:image/png;base64,iVBORw0KGgoAAAANSUhEUgAAAAcAAAAPCAIAAACnY0LpAAAAhXpUWHRSYXcgcHJvZmlsZSB0eXBlIGV4aWYAAHjaVYvBDcMwDAP/mqIjyLJM2uMYiQNkg45fuu0n9yApgbT1vi97felp2dgxABc5csRU6P6juNciDXn+X9MfZGWgoRhTluEkhnJXkqKFN+LCAahYcIbnIV8gNQN3o86928QyPusLVffpbh/5eCey76LuBgAAAAlwSFlzAAALEwAACxMBAJqcGAAAADx0RVh0U29mdHdhcmUAQ3JlYXRlZCB3aXRoIHRoZSBXb2xmcmFtIExhbmd1YWdlIDogd3d3LndvbGZyYW0uY29tXKKmhQAAACF0RVh0Q3JlYXRpb24gVGltZQAyMDIyOjA1OjIxIDEwOjAzOjIzPR7yQgAAAFtJREFUGJW10LENgDAMRNEz05l9km3MLMkmZpNPkYgUKRGu7DvpFTZA2xx79Gvaq5nVPs5ezc7rFkArUmnQijwSEABkuDQqgOW6+4Kn4JFk+Cu0orlPyCPt8x8e58BEeIKvNJAAAAAASUVORK5CYII=\"></div><div class=\"grid-item\"><img alt=\"Output\" src=\"data:image/png;base64,iVBORw0KGgoAAAANSUhEUgAAABwAAAAPCAIAAAB4LTj2AAAAhXpUWHRSYXcgcHJvZmlsZSB0eXBlIGV4aWYAAHjaVYvBDcMwDAP/mqIjyLJM2uMYiQNkg45fuu0n9yApgbT1vi97felp2dgxABc5csRU6P6juNciDXn+X9MfZGWgoRhTluEkhnJXkqKFN+LCAahYcIbnIV8gNQN3o86928QyPusLVffpbh/5eCey76LuBgAAAAlwSFlzAAALEwAACxMBAJqcGAAAADx0RVh0U29mdHdhcmUAQ3JlYXRlZCB3aXRoIHRoZSBXb2xmcmFtIExhbmd1YWdlIDogd3d3LndvbGZyYW0uY29tXKKmhQAAACF0RVh0Q3JlYXRpb24gVGltZQAyMDIyOjA1OjIxIDEwOjAzOjIzPR7yQgAAAMBJREFUOI3tkrERwjAMRb+ZhAEYglKZAzpa5ZiETtmAFTh5jDQ5eRNR+AgOcbiDCx2/kmzp6fTt4O5YW5vViX/oj6CxDSG0MaexDaHpUqUwxVg97pqi4ZG5uysDrO7KIDGvSmXhpmgyIbC6w8cUmTyXmZmpiJqZzckj1YRy8PSUiKoGpayh74ccvRbsT4LrLSFejrvzYQsAxSwT+mL9DCARHheFK2NiygL3LdSVS/OwXPiJpk+8CvTxe9aCKgMzx+5i+S/us1piUAAAAABJRU5ErkJggg==\"></div><div class=\"grid-item\"><img alt=\"Output\" src=\"data:image/png;base64,iVBORw0KGgoAAAANSUhEUgAAAAcAAAAPCAIAAACnY0LpAAAAhXpUWHRSYXcgcHJvZmlsZSB0eXBlIGV4aWYAAHjaVYvBDcMwDAP/mqIjyLJM2uMYiQNkg45fuu0n9yApgbT1vi97felp2dgxABc5csRU6P6juNciDXn+X9MfZGWgoRhTluEkhnJXkqKFN+LCAahYcIbnIV8gNQN3o86928QyPusLVffpbh/5eCey76LuBgAAAAlwSFlzAAALEwAACxMBAJqcGAAAADx0RVh0U29mdHdhcmUAQ3JlYXRlZCB3aXRoIHRoZSBXb2xmcmFtIExhbmd1YWdlIDogd3d3LndvbGZyYW0uY29tXKKmhQAAACF0RVh0Q3JlYXRpb24gVGltZQAyMDIyOjA1OjIxIDEwOjAzOjIzPR7yQgAAAFtJREFUGJW10LENgDAMRNEz05l9km3MLMkmZpNPkYgUKRGu7DvpFTZA2xx79Gvaq5nVPs5ezc7rFkArUmnQijwSEABkuDQqgOW6+4Kn4JFk+Cu0orlPyCPt8x8e58BEeIKvNJAAAAAASUVORK5CYII=\"></div><div class=\"grid-item\"><img alt=\"Output\" src=\"data:image/png;base64,iVBORw0KGgoAAAANSUhEUgAAAAcAAAAPCAIAAACnY0LpAAAAhXpUWHRSYXcgcHJvZmlsZSB0eXBlIGV4aWYAAHjaVYvBDcMwDAP/mqIjyLJM2uMYiQNkg45fuu0n9yApgbT1vi97felp2dgxABc5csRU6P6juNciDXn+X9MfZGWgoRhTluEkhnJXkqKFN+LCAahYcIbnIV8gNQN3o86928QyPusLVffpbh/5eCey76LuBgAAAAlwSFlzAAALEwAACxMBAJqcGAAAADx0RVh0U29mdHdhcmUAQ3JlYXRlZCB3aXRoIHRoZSBXb2xmcmFtIExhbmd1YWdlIDogd3d3LndvbGZyYW0uY29tXKKmhQAAACF0RVh0Q3JlYXRpb24gVGltZQAyMDIyOjA1OjIxIDEwOjAzOjIzPR7yQgAAAFtJREFUGJW10LENgDAMRNEz05l9km3MLMkmZpNPkYgUKRGu7DvpFTZA2xx79Gvaq5nVPs5ezc7rFkArUmnQijwSEABkuDQqgOW6+4Kn4JFk+Cu0orlPyCPt8x8e58BEeIKvNJAAAAAASUVORK5CYII=\"></div><div class=\"grid-item\"><img alt=\"Output\" src=\"data:image/png;base64,iVBORw0KGgoAAAANSUhEUgAAAAcAAAAPCAIAAACnY0LpAAAAhXpUWHRSYXcgcHJvZmlsZSB0eXBlIGV4aWYAAHjaVYvBDcMwDAP/mqIjyLJM2uMYiQNkg45fuu0n9yApgbT1vi97felp2dgxABc5csRU6P6juNciDXn+X9MfZGWgoRhTluEkhnJXkqKFN+LCAahYcIbnIV8gNQN3o86928QyPusLVffpbh/5eCey76LuBgAAAAlwSFlzAAALEwAACxMBAJqcGAAAADx0RVh0U29mdHdhcmUAQ3JlYXRlZCB3aXRoIHRoZSBXb2xmcmFtIExhbmd1YWdlIDogd3d3LndvbGZyYW0uY29tXKKmhQAAACF0RVh0Q3JlYXRpb24gVGltZQAyMDIyOjA1OjIxIDEwOjAzOjIzPR7yQgAAAFtJREFUGJW10LENgDAMRNEz05l9km3MLMkmZpNPkYgUKRGu7DvpFTZA2xx79Gvaq5nVPs5ezc7rFkArUmnQijwSEABkuDQqgOW6+4Kn4JFk+Cu0orlPyCPt8x8e58BEeIKvNJAAAAAASUVORK5CYII=\"></div><div class=\"grid-item\"><img alt=\"Output\" src=\"data:image/png;base64,iVBORw0KGgoAAAANSUhEUgAAAE0AAAAPCAIAAAAu+9WAAAAAhXpUWHRSYXcgcHJvZmlsZSB0eXBlIGV4aWYAAHjaVYvBDcMwDAP/mqIjyLJM2uMYiQNkg45fuu0n9yApgbT1vi97felp2dgxABc5csRU6P6juNciDXn+X9MfZGWgoRhTluEkhnJXkqKFN+LCAahYcIbnIV8gNQN3o86928QyPusLVffpbh/5eCey76LuBgAAAAlwSFlzAAALEwAACxMBAJqcGAAAADx0RVh0U29mdHdhcmUAQ3JlYXRlZCB3aXRoIHRoZSBXb2xmcmFtIExhbmd1YWdlIDogd3d3LndvbGZyYW0uY29tXKKmhQAAACF0RVh0Q3JlYXRpb24gVGltZQAyMDIyOjA1OjIxIDEwOjAzOjIzPR7yQgAAAW9JREFUSInlV8ttxCAQnYlSCNJetwh8w9oytgVQinBKgDqcSwRF7CEXCzohB38WsI2MlfVG2ncyDM9vfoxl9N7DC+Dt2Q4chBeN07mnePHnmMURxOmUUInZqRoRUZjHehVIIWKderEOIxBXWEooE679BK21D6E5MGmtZMBjwwNgJRtErGTApC3npywtw3XmftLGt1dSUJIpw2P9jdhaHXJtG9o/nc7w9bOFk+J8IuvG9x0vzIE2XgNW4uIbENVN2tJUue4G/INuPW4EVp8AwKRts6Sp8nGdo44o7VsrGQDsaXfNd9EWiVFAY98610Gu7qVgjJVSnKqxAu2HBi4DvXC4dS7cIgDf97kbxJ/MoR5L9dQcMmnv59d8NGRZVrJlY14rFQ13ov7Mz9sId7G+LxfFNYdJ0EoGgXqGNTR6oVbo4XxEb44zg33X6EhWLk7JtU1Pz9Dnt/QLdyRr5PKQhz78X3HGAKGE7BgE/wrzOH4Bzc4KY+0v/bwAAAAASUVORK5CYII=\"></div><div class=\"grid-item\"><img alt=\"Output\" src=\"data:image/png;base64,iVBORw0KGgoAAAANSUhEUgAAAE0AAAAPCAIAAAAu+9WAAAAAhXpUWHRSYXcgcHJvZmlsZSB0eXBlIGV4aWYAAHjaVYvBDcMwDAP/mqIjyLJM2uMYiQNkg45fuu0n9yApgbT1vi97felp2dgxABc5csRU6P6juNciDXn+X9MfZGWgoRhTluEkhnJXkqKFN+LCAahYcIbnIV8gNQN3o86928QyPusLVffpbh/5eCey76LuBgAAAAlwSFlzAAALEwAACxMBAJqcGAAAADx0RVh0U29mdHdhcmUAQ3JlYXRlZCB3aXRoIHRoZSBXb2xmcmFtIExhbmd1YWdlIDogd3d3LndvbGZyYW0uY29tXKKmhQAAACF0RVh0Q3JlYXRpb24gVGltZQAyMDIyOjA1OjIxIDEwOjAzOjIzPR7yQgAAAXFJREFUSInll7FugzAQhs9VHsSIlYdwlSWINW8AC7tRHiLdu+A36Fq1S2Q/RIYsiHuT6xAgBhIX0yhJlX8C29/d/cacZEZE8AR6uXcBN9KT+kS8SxVX18iH5RNVoQbTqGLGGCuMX5I5VAMxxuJhFZdlCsYuUKpQdn7bZ5ikgveC5PBelyufcmdSqPLDhoiI6hKyfKpTsSU6S3GeJlBZURbOIAIAlVfBMymefm2bpzCC7wMCcL8IAFHoQB6uD2G1B5mIqcubkxt8rOutC+p8oqkqPr+8K8kUQRZpZ8V9tSd3cwgGDUGEsMPurfWJWIHru99AqGL2Cpo8XJ4kEgl7+4cE4AC7ru+2PrlIQzATg5rCvwn/QqGKgyw6Y3JiLvP5tlovuT2yg2XKuxHqpLUmW1r2Q8lu+thNZX/5X6hRe/bOtSrr4WRpDzl8OqTlpdSPQrl8llLXw9UjHfd3vH2PQ7WstDlG9n0FjQEuTof6v2rs4weXldSxy03srAAAAABJRU5ErkJggg==\"></div></div></div>"
      ],
      "text/plain": [
       "0\n",
       "x\n",
       "x + y\n",
       "x\n",
       "x\n",
       "x\n",
       "{1, x, 2, 3}\n",
       "{1, 1, 2, 3}"
      ]
     },
     "execution_count": 22,
     "metadata": {
      "text/html": [],
      "text/plain": []
     },
     "output_type": "execute_result"
    }
   ],
   "source": [
    "plus[x_ : 0, y_ : 0] := x + y;\n",
    "plus[]\n",
    "plus[x]\n",
    "plus[x, y]\n",
    "Plus[x]\n",
    "Times[x]\n",
    "Power[x]\n",
    "{1, x, x^2, x^3} /. {x^n_ :> n}\n",
    "{1, x, x^2, x^3} /. {x^n_. :> n}"
   ]
  },
  {
   "cell_type": "markdown",
   "metadata": {},
   "source": [
    "字面模式："
   ]
  },
  {
   "cell_type": "code",
   "execution_count": 30,
   "metadata": {},
   "outputs": [
    {
     "data": {
      "text/html": [
       "<style>\n",
       "\t\t\t\t\t\t\t\t\t\t\t\t\t.grid-container {\n",
       "\t\t\t\t\t\t\t\t\t\t\t\t\t\tdisplay: inline-grid;\n",
       "\t\t\t\t\t\t\t\t\t\t\t\t\t\tgrid-template-columns: auto;\n",
       "\t\t\t\t\t\t\t\t\t\t\t\t\t}\n",
       "\t\t\t\t\t\t\t\t\t\t\t\t</style>\n",
       "\n",
       "\t\t\t\t\t\t\t\t\t\t\t\t<div><div class=\"grid-container\"><div class=\"grid-item\"><img alt=\"Output\" src=\"data:image/png;base64,iVBORw0KGgoAAAANSUhEUgAAAG8AAAATCAIAAAARR8SNAAAAhXpUWHRSYXcgcHJvZmlsZSB0eXBlIGV4aWYAAHjaVYvBDcMwDAP/mqIjyLJM2uMYiQNkg45fuu0n9yApgbT1vi97felp2dgxABc5csRU6P6juNciDXn+X9MfZGWgoRhTluEkhnJXkqKFN+LCAahYcIbnIV8gNQN3o86928QyPusLVffpbh/5eCey76LuBgAAAAlwSFlzAAALEwAACxMBAJqcGAAAADx0RVh0U29mdHdhcmUAQ3JlYXRlZCB3aXRoIHRoZSBXb2xmcmFtIExhbmd1YWdlIDogd3d3LndvbGZyYW0uY29tXKKmhQAAACF0RVh0Q3JlYXRpb24gVGltZQAyMDIyOjA1OjIxIDEwOjAzOjI11H1XdwAAAhBJREFUWIXtlzGSozAQRVtbexC5nPoQIhM1xxgnW05FzRmmIHUmbkA6NU4o6RAONnGpb6IJMCCNbTAS1Hq9+yPL0I/m0+oGsL6MsQvISME550IuQn8cPji/lRRqITeNsdYayfky9/uH+EZJ3+Af0EnDOmeUwgKiLXazfiY+Za8vUGP/h+PmwsJy//stZ0/NH3cTy5QQkunIVLI97Ja71wfhj7mps1W1ETwuF52ttsWx+pWmaVZiHOux+X0LVUp9775KAJfGSA7i4tgtKdHD74+6SmnDlQCYd74YyR2iv5okJd24ITcbL5uLhfgSGtdfHoTq05hXDjUmT9/NdqejLk/A/PJOQH2+0oB9QRqttofJwY5YbuQxISQwjTH6izhUNQIA1hXIHQvErGGvsV2d3UQ8gTf8sXwvoEg6V4qEkPSenqSz5Og881hxHs+4LraTUNUIer/dvIU/LbqGU414XnVVaqS8Ue0XO8FrapfnnnfQwFnjHNvtxZimNpKBElxKEdONrLm7b/YR39xsiu5GEt0UGs90gOMOHiN52BQazLPLNcbMCVNogCEik5iZE8qPH3C+mz+n9gks09X2wKX5ZKGtJpiDqLsO1YoyRgP5OksKoWwfPoV/XY7N99fmX6+mHc3w4hVZm88hllubz491vizp6WOJz7JnFuoP78WSWGudo6gRJjWKf1hXzPLd/K84fQH4P0c5TEHpYgAAAABJRU5ErkJggg==\"></div><div class=\"grid-item\"><img alt=\"Output\" src=\"data:image/png;base64,iVBORw0KGgoAAAANSUhEUgAAAKAAAAATCAIAAACY85GhAAAAhXpUWHRSYXcgcHJvZmlsZSB0eXBlIGV4aWYAAHjaVYvBDcMwDAP/mqIjyLJM2uMYiQNkg45fuu0n9yApgbT1vi97felp2dgxABc5csRU6P6juNciDXn+X9MfZGWgoRhTluEkhnJXkqKFN+LCAahYcIbnIV8gNQN3o86928QyPusLVffpbh/5eCey76LuBgAAAAlwSFlzAAALEwAACxMBAJqcGAAAADx0RVh0U29mdHdhcmUAQ3JlYXRlZCB3aXRoIHRoZSBXb2xmcmFtIExhbmd1YWdlIDogd3d3LndvbGZyYW0uY29tXKKmhQAAACF0RVh0Q3JlYXRpb24gVGltZQAyMDIyOjA1OjIxIDEwOjAzOjI11H1XdwAAAw9JREFUaIHtmTGuozAQhoenPYhRmhQcwug1oLTvBtBEaUE5wyppozT4BrQRaZB9CIrXIOYm3iIQIIkBA/uSXeWrQjKef4YxY5sYUkpogAiEwJs2yMJ1nIH1ddx55NnB6PHR+CxYKJ4Vx4vzuUmS5LiM1wyfHUo3KFjYirFRYAGLHX0/vo8g1W2xFuSZcfRDqLeCFOsvPpSmJchc44Lbnr2IiPh4TNvBQLuXkn4YzeF7u6O6gyamoHQ8dHxfgcXBh6iQUkqZNJcfIW7dK3MBwHRMZxsu3cE46Xs3LDzARre886SgjGlQaj0FxjxTtiVCGv0c2fp7K6WUsojAby5VZGTXHyytZqz0LSI0/X0Wr13XDXXmywwpqBg+Wl7hnNcXsoictmHQ/PXGuAUP7oyjchoPQ1eaBypTbemLr8oJDwAcvfElWikUkdOQaV91hapIrf29ssC12u09Uxorh+je5bHSD8aMkK4mKA9GVrcjnEriJoWGlHLMvZNBBa5aNAqWAx3cIZSI0PQtrr1YTRUtV3/TP0/3RndFlNmGYQNPfujUS1fBOU4RADCNIdrQSc4WcKjX+LLAiDlMPgEgcw0buPzx8tpZY/rPg+PM5WkQdBNBnCKIg29tp84qsoA8rfbYZYEJ9T7zVEzwisw1fUujuiI0DGOGNyuYZ1eXh2FPcLe0CM3465gco8y+Ow/o+NGCeFsrTtlpH6zoRFeY5hvPqzZh9S6aLBYTnLK1fwbY22WvHJA2WToA+1OvXa8fbxucfdMwDOP3Mgr6B3RKi9Cws+joESDeMQLf7KrxXCkAAABdWb4/Q30BW1e/uo2Jl8hui9rO04uDLCwAS53PUGkAupNyV10MiaJDmu7qd/O9Sc2XQokzcfl9QE+B/xLIXNM/O1GR0H9Veu4URGjvAy5JLYDi7l0VoZSAJuq9eydFwTnn/OE+fYydBk+Unot2aJdzvM6RrDO19jHJkNeWJISglI6afm9eCMEY8a478carSpKfXv3PsDe9oDi1DryNJxgufR9G9Pk3r8GD+rUL/Oa/4w8hHHCCGu9g/gAAAABJRU5ErkJggg==\"></div></div></div>"
      ],
      "text/plain": [
       "     2      2      2\n",
       "{4, a , (x_) , (y_) }\n",
       "              2\n",
       "{f[2], f[a], x , f[y_]}"
      ]
     },
     "execution_count": 30,
     "metadata": {
      "text/html": [],
      "text/plain": []
     },
     "output_type": "execute_result"
    }
   ],
   "source": [
    "{f[2], f[a], f[x_], f[y_]} /. f[x_] :> x^2\n",
    "{f[2], f[a], f[x_], f[y_]} /. f[Verbatim[x_]] :> x^2"
   ]
  }
 ],
 "metadata": {
  "kernelspec": {
   "display_name": "Wolfram Language 12.2",
   "language": "Wolfram Language",
   "name": "wolfram language 12.2"
  },
  "language_info": {
   "codemirror_mode": "mathematica",
   "file_extension": ".m",
   "mimetype": "application/vnd.wolfram.m",
   "name": "Wolfram Language",
   "pygments_lexer": "mathematica",
   "version": "12.0"
  }
 },
 "nbformat": 4,
 "nbformat_minor": 4
}
