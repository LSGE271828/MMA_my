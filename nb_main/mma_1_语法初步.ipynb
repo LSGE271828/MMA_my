{
 "cells": [
  {
   "cell_type": "markdown",
   "metadata": {},
   "source": [
    "字符串（String）,符号（Symbol）,数字（Number）三种对象称为原子（atom）<br/><br/>"
   ]
  },
  {
   "cell_type": "markdown",
   "metadata": {},
   "source": [
    "### <center>系统内建符号的特点："
   ]
  },
  {
   "cell_type": "markdown",
   "metadata": {},
   "source": [
    "* 大写的单词开头（Camel命名法）：True、False、FactorInteger、SetAttributes\n",
    "-判断的函数末尾通常有\"Q\"：EvenQ、PrimeQ、MatchQ\n",
    "*人名+符号名：EulerGamma、BesselJ、DiracDelta"
   ]
  },
  {
   "cell_type": "markdown",
   "metadata": {},
   "source": [
    "命名自定义符号时，应当避开系统内建符号。一种比较好的做法是，在命名自定义符号时将首字母取为小写字母（camel命名法）。"
   ]
  },
  {
   "cell_type": "markdown",
   "metadata": {},
   "source": [
    "Mathematica除支持可打印的 ASCII 字符外,还支持16 位的 unicode 字符，像 $\\pi、\\infty$ 等符号或者中文汉字"
   ]
  },
  {
   "cell_type": "code",
   "execution_count": 40,
   "metadata": {},
   "outputs": [
    {
     "data": {
      "text/html": [
       "<div><img alt=\"Output\" src=\"data:image/png;base64,iVBORw0KGgoAAAANSUhEUgAAADYAAAAPCAIAAAAgUqvvAAAAhXpUWHRSYXcgcHJvZmlsZSB0eXBlIGV4aWYAAHjaVYvBDcMwDAP/mqIjyLJM2uMYiQNkg45fuu0n9yApgbT1vi97felp2dgxABc5csRU6P6juNciDXn+X9MfZGWgoRhTluEkhnJXkqKFN+LCAahYcIbnIV8gNQN3o86928QyPusLVffpbh/5eCey76LuBgAAAAlwSFlzAAALEwAACxMBAJqcGAAAADx0RVh0U29mdHdhcmUAQ3JlYXRlZCB3aXRoIHRoZSBXb2xmcmFtIExhbmd1YWdlIDogd3d3LndvbGZyYW0uY29tXKKmhQAAACF0RVh0Q3JlYXRpb24gVGltZQAyMDIyOjA1OjE5IDA5OjAzOjE1LFdnDAAAATVJREFUSInVVbuRhDAMla8Sdkg2oAjIzFwZdyWYuRpu2BJMHRfKRRBswtideAMb/8A7ZhNuXyQ92eJZ0giitYb/jY+zBexDCaGco8+F5DQnk6E5QvRbNFoMZEU/qTWipn5LPgmVk0eRVp1yaU1b6IA0QOaaIDm1Zjl5YALMhY3EbZ7gQ9ZdFZtBYniETBJnQbnUiOgkroejau3rdi4yAMo5A8plOZmpGTIbc4aHWTrtaLyf+4UMInyMGC7fDY5t8kYxkA5Q/33VL5Ep1DI3dZUJxnux/WQwL2q9OPWkA9SRwKpu4Nb9XqUeWwC1zNDUVTmZkXiHa05hshfT6dkd8OCQH9Ny8lmbk0a7WQym1oU3GzVK76NBvnIygV8eWYmnQnKabDTv2iacJ9EUeFPcqH8M9Vv8AB+DMU8et0xiLAAAAABJRU5ErkJggg==\"></div>"
      ],
      "text/plain": [
       "32000 元"
      ]
     },
     "execution_count": 43,
     "metadata": {
      "text/html": [],
      "text/plain": []
     },
     "output_type": "execute_result"
    }
   ],
   "source": [
    "张三欠我的钱数 = 2000 元;\n",
    "李四欠我的钱数 = 30000 元;\n",
    "加 = Plus;\n",
    "张三和李四总共欠我的钱数 = 张三欠我的钱数~加~李四欠我的钱数"
   ]
  },
  {
   "cell_type": "code",
   "execution_count": 61,
   "metadata": {},
   "outputs": [
    {
     "data": {
      "text/html": [
       "<div><img alt=\"Output\" src=\"data:image/png;base64,iVBORw0KGgoAAAANSUhEUgAAAB0AAAAtCAIAAADdi/f1AAAAhXpUWHRSYXcgcHJvZmlsZSB0eXBlIGV4aWYAAHjaVYvBDcMwDAP/mqIjyLJM2uMYiQNkg45fuu0n9yApgbT1vi97felp2dgxABc5csRU6P6juNciDXn+X9MfZGWgoRhTluEkhnJXkqKFN+LCAahYcIbnIV8gNQN3o86928QyPusLVffpbh/5eCey76LuBgAAAAlwSFlzAAALEwAACxMBAJqcGAAAADx0RVh0U29mdHdhcmUAQ3JlYXRlZCB3aXRoIHRoZSBXb2xmcmFtIExhbmd1YWdlIDogd3d3LndvbGZyYW0uY29tXKKmhQAAACF0RVh0Q3JlYXRpb24gVGltZQAyMDIyOjA1OjE5IDA5OjUxOjE5Rwhs3AAAAZNJREFUSIntliFvg0AUx6/LRCUOHEsmQCyhHwFXmpp+h01Qh2AZrrXLDK4GRGVV5c4VVwtJxRAN55BIcDfRlrQ3uDu6kmwJf0XuHT/e/e9x93oYY9CC7tqAtsi9p4eDIFgul7Is06cNBoPJZHIxhKlyHCfLMvqcSjF8KIpCEASOdZOicRFCoiheAWVwIYSkazfhRlGkqioxGLz2Thr5iMUtisJ1XQhhGahzVv847kzigZdpLfnIdV1X1/XValUGIITD4ZCyGgAAeHp8qAudF8d6vd5ut4dny7LyPK8qoY19eNPwkvo6I+vXNM2SyyjRjQ2AvakJkvumKEoYhmEYaprGMEEf22C3Rxw+YIzzPDdNczabpWnKzrfeCjLffr+vKEocx5IkVaVxVmbvavL5zLVvZcqLxYKRLEs93J3rHff/co/38Xw+/z3LsqzyyO7+i47bcf8UF/kjjoasKRf50683jDGrISPV4I6lNjiEGviL9jtgj/Ub59skWfyz76tU4hmNoFzcK6Ac3MQzLn3j/EJb98U3JX6M688ApbMAAAAASUVORK5CYII=\"></div>"
      ],
      "text/plain": [
       "Sqrt[3]\n",
       "-------\n",
       "   2"
      ]
     },
     "execution_count": 61,
     "metadata": {
      "text/html": [],
      "text/plain": []
     },
     "output_type": "execute_result"
    }
   ],
   "source": [
    "Sin[\"I'm a string!\"] /. {\"I'm a string!\" -> Pi/3}(*较弱的类型系统*)"
   ]
  },
  {
   "cell_type": "markdown",
   "metadata": {},
   "source": [
    "在 C 或者 Pascal 这种面向过程的结构化程序语言中，条件、循环和子程序是最基本的三种结构。但是，在 Mathematica 程序中，条件和循环结构其实用得并不多。这是因为条件结构的功能基本上可以通过核心语言中的**模式匹配**来完成；而循环结构的功能则可以通过**表处理和泛函编程**完成。它们比条件和循环结构更灵活、更强大、并且更快。"
   ]
  },
  {
   "cell_type": "markdown",
   "metadata": {},
   "source": [
    "* 简单条件判断"
   ]
  },
  {
   "cell_type": "code",
   "execution_count": 64,
   "metadata": {},
   "outputs": [
    {
     "name": "stdout",
     "output_type": "stream",
     "text": [
      "Then\n",
      "Else\n"
     ]
    }
   ],
   "source": [
    "If[True, Print[\"Then\"]]\n",
    "If[False, Print[\"Then\"], Print[\"Else\"]]\n",
    "(*If[condition,t,f,u] 如果 condition 既不计算为 True 也不计算为 False 则给出 u.*)"
   ]
  },
  {
   "cell_type": "markdown",
   "metadata": {},
   "source": [
    "* 多重条件判断"
   ]
  },
  {
   "attachments": {},
   "cell_type": "markdown",
   "metadata": {},
   "source": [
    "$Which[test_1,value_1,test_2,value_2,...]依次计算每个test_i ，返回相应于产生 True 的第一个value_i 的值.$"
   ]
  },
  {
   "cell_type": "code",
   "execution_count": 78,
   "metadata": {},
   "outputs": [
    {
     "name": "stdout",
     "output_type": "stream",
     "text": [
      "x!=1,2,3\r\n"
     ]
    }
   ],
   "source": [
    "x=6;\n",
    "Which[x == 1,y=1, x == 2, y=2, x == 3, 3, True, Print[\"x!=1,2,3\"]];"
   ]
  },
  {
   "cell_type": "code",
   "execution_count": 80,
   "metadata": {},
   "outputs": [
    {
     "data": {
      "text/html": [
       "<div><img alt=\"Output\" src=\"data:image/png;base64,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\"></div>"
      ],
      "text/plain": [
       "-Graphics-"
      ]
     },
     "execution_count": 80,
     "metadata": {
      "text/html": [],
      "text/plain": []
     },
     "output_type": "execute_result"
    }
   ],
   "source": [
    "Plot[Piecewise[{{1, x == 0}, {Sin[x]/x, x != 0}}], {x, -4 Pi, 4 Pi}]"
   ]
  },
  {
   "cell_type": "markdown",
   "metadata": {},
   "source": [
    "$Piecewise[\\{\\{val_1,cond_1\\},\\{val_2,cond_2\\},...\\}]$"
   ]
  },
  {
   "cell_type": "markdown",
   "metadata": {},
   "source": [
    "利用 <u>esc</u>pw<u>esc</u> 来输入{，然后是 <u>ctrl</u> **comma**，接着使用输入<u>ctrl</u> **enter**其他分支情况"
   ]
  },
  {
   "cell_type": "code",
   "execution_count": 82,
   "metadata": {},
   "outputs": [
    {
     "name": "stdout",
     "output_type": "stream",
     "text": [
      "b is not a boolean value!\r\n"
     ]
    }
   ],
   "source": [
    "Switch[b, True, 1, False, 0, _, Print[\"b is not a boolean value!\"]]"
   ]
  },
  {
   "cell_type": "markdown",
   "metadata": {},
   "source": [
    "$Switch[expr,form_1,value_1,form_2,value_2,...]$"
   ]
  },
  {
   "cell_type": "markdown",
   "metadata": {},
   "source": [
    "这个也是**模式匹配**的经典语法示例,计算$expr$,与$form_i$比较,匹配则返回$value_i$"
   ]
  },
  {
   "cell_type": "markdown",
   "metadata": {},
   "source": [
    "* 简单循环"
   ]
  },
  {
   "cell_type": "code",
   "execution_count": 95,
   "metadata": {},
   "outputs": [
    {
     "name": "stdout",
     "output_type": "stream",
     "text": [
      "hello,\n",
      "hello,\n",
      "hello,\n",
      "cute mouse!\n",
      "2\n",
      "3\n",
      "5\n",
      "7\n",
      "11\n",
      "13\n",
      "17\n",
      "19\n",
      "23\n",
      "29\n",
      "31\n",
      "37\n",
      "41\n",
      "43\n",
      "47\n",
      "53\n",
      "59\n",
      "61\n",
      "67\n",
      "71\n",
      "73\n",
      "79\n",
      "83\n",
      "89\n",
      "97\n",
      "2 is a prime number.\n",
      "3 is a prime number.\n",
      "5 is a prime number.\n",
      "7 is a prime number.\n",
      "11 is a prime number.\n"
     ]
    }
   ],
   "source": [
    "Do[Print[\"hello,\"], {3}]; Print[\"cute mouse!\"];\n",
    "Do[Print[Prime[i]], {i, PrimePi[100]}];\n",
    "Do[Print[i, \" is a prime number.\"], {i, {2, 3, 5, 7, 11}}];"
   ]
  },
  {
   "cell_type": "markdown",
   "metadata": {},
   "source": [
    "* 复杂循环"
   ]
  },
  {
   "cell_type": "code",
   "execution_count": 105,
   "metadata": {},
   "outputs": [
    {
     "name": "stdout",
     "output_type": "stream",
     "text": [
      "1\n",
      "2\n",
      "6\n",
      "24\n",
      "120\n",
      "720\n",
      "5040\n",
      "40320\n",
      "362880\n",
      "3628800\n"
     ]
    }
   ],
   "source": [
    "For[i = 1; t = i, i <= 10, i++, Print[t *= i]];"
   ]
  },
  {
   "cell_type": "code",
   "execution_count": 106,
   "metadata": {},
   "outputs": [
    {
     "data": {
      "text/html": [
       "<div><pre style=\"&#102;&#111;&#110;&#116;&#45;&#102;&#97;&#109;&#105;&#108;&#121;&#58;&#32;&#34;&#67;&#111;&#117;&#114;&#105;&#101;&#114;&#32;&#78;&#101;&#119;&#34;&#44;&#67;&#111;&#117;&#114;&#105;&#101;&#114;&#44;&#109;&#111;&#110;&#111;&#115;&#112;&#97;&#99;&#101;&#59;\">&#49;&#50;&#51;&#52;&#53;&#55;&#55;</pre></div>"
      ],
      "text/plain": [
       "1234577"
      ]
     },
     "execution_count": 106,
     "metadata": {
      "text/html": [],
      "text/plain": []
     },
     "output_type": "execute_result"
    }
   ],
   "source": [
    "n = 1234567; While[Not[PrimeQ[++n]]]; n"
   ]
  },
  {
   "cell_type": "code",
   "execution_count": 107,
   "metadata": {},
   "outputs": [
    {
     "data": {
      "text/html": [
       "<div><pre style=\"&#102;&#111;&#110;&#116;&#45;&#102;&#97;&#109;&#105;&#108;&#121;&#58;&#32;&#34;&#67;&#111;&#117;&#114;&#105;&#101;&#114;&#32;&#78;&#101;&#119;&#34;&#44;&#67;&#111;&#117;&#114;&#105;&#101;&#114;&#44;&#109;&#111;&#110;&#111;&#115;&#112;&#97;&#99;&#101;&#59;\">&#49;&#50;&#51;&#52;&#53;&#55;&#55;</pre></div>"
      ],
      "text/plain": [
       "1234577"
      ]
     },
     "execution_count": 107,
     "metadata": {
      "text/html": [],
      "text/plain": []
     },
     "output_type": "execute_result"
    }
   ],
   "source": [
    "n = 1234567; Catch[Do[If[PrimeQ[i], Throw[i]], {i, n, 2 n}]]"
   ]
  },
  {
   "cell_type": "markdown",
   "metadata": {},
   "source": [
    "* 不推荐使用的：Break、Continue、Return、Goto。"
   ]
  },
  {
   "cell_type": "markdown",
   "metadata": {},
   "source": [
    "* 函数定义方法一：模式匹配+延迟赋值"
   ]
  },
  {
   "cell_type": "code",
   "execution_count": 108,
   "metadata": {},
   "outputs": [],
   "source": [
    "f[x_] := x^2;\n",
    "f[x_, y_] := x y;"
   ]
  },
  {
   "cell_type": "markdown",
   "metadata": {},
   "source": [
    "* 函数定义方法二：纯函数（$\\lambda$-表达式、匿名函数）"
   ]
  },
  {
   "cell_type": "code",
   "execution_count": 110,
   "metadata": {},
   "outputs": [],
   "source": [
    "f1 = Function[x, x^2];(* 完整形式 *)\n",
    "f2 = #^2 &; (* 简写形式 *)\n",
    "g1 = Function[{x, y}, x y];\n",
    "g2 = #1 #2 &;"
   ]
  },
  {
   "cell_type": "markdown",
   "metadata": {},
   "source": [
    "$eg.$求不大于给定正整数$n$的所有素数的和(条件结构与模式匹配)"
   ]
  },
  {
   "cell_type": "code",
   "execution_count": 114,
   "metadata": {},
   "outputs": [],
   "source": [
    "myPrimeQ = Function[x, i = 2; max = Floor[Sqrt[x]] + 1;\n",
    "   While[Mod[x, i] != 0 && i < max, i++]; Not[i < max]];\n",
    "\n",
    "myPrimeSum = Function[n,\n",
    "   sum = 0; Do[If[myPrimeQ[x], sum += x], {x, 2, n}]; sum];\n",
    "(*条件结构*)"
   ]
  },
  {
   "cell_type": "code",
   "execution_count": 116,
   "metadata": {},
   "outputs": [],
   "source": [
    "myPrimeSum2 = Plus @@ Prime /@ Range@PrimePi[#] &;\n",
    "(*核心语言|Mathematica内部储存着前10亿个素数的素数表*)"
   ]
  },
  {
   "cell_type": "markdown",
   "metadata": {},
   "source": [
    "完全运用内置函数,Plus @@可看作$\\sum$,PrimePi[#]判断素数个数,Prime[#]列举第#个素数"
   ]
  },
  {
   "cell_type": "code",
   "execution_count": 118,
   "metadata": {
    "scrolled": true
   },
   "outputs": [
    {
     "data": {
      "text/html": [
       "<div><pre style=\"&#102;&#111;&#110;&#116;&#45;&#102;&#97;&#109;&#105;&#108;&#121;&#58;&#32;&#34;&#67;&#111;&#117;&#114;&#105;&#101;&#114;&#32;&#78;&#101;&#119;&#34;&#44;&#67;&#111;&#117;&#114;&#105;&#101;&#114;&#44;&#109;&#111;&#110;&#111;&#115;&#112;&#97;&#99;&#101;&#59;\">&#123;&#123;&#52;&#46;&#51;&#50;&#56;&#49;&#51;&#44;&#32;&#52;&#53;&#52;&#51;&#57;&#54;&#53;&#51;&#55;&#125;&#44;&#32;&#123;&#48;&#46;&#44;&#32;&#52;&#53;&#52;&#51;&#57;&#54;&#53;&#51;&#55;&#125;&#125;</pre></div>"
      ],
      "text/plain": [
       "{{4.32813, 454396537}, {0., 454396537}}"
      ]
     },
     "execution_count": 118,
     "metadata": {
      "text/html": [],
      "text/plain": []
     },
     "output_type": "execute_result"
    }
   ],
   "source": [
    "Timing[#[100000]] & /@ {myPrimeSum, myPrimeSum2}\n",
    "(*计算时间*)"
   ]
  }
 ],
 "metadata": {
  "kernelspec": {
   "display_name": "Wolfram Language 12.2",
   "language": "Wolfram Language",
   "name": "wolfram language 12.2"
  },
  "language_info": {
   "codemirror_mode": "mathematica",
   "file_extension": ".m",
   "mimetype": "application/vnd.wolfram.m",
   "name": "Wolfram Language",
   "pygments_lexer": "mathematica",
   "version": "12.0"
  }
 },
 "nbformat": 4,
 "nbformat_minor": 4
}
