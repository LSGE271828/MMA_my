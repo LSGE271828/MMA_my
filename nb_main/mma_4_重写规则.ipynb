{
 "cells": [
  {
   "cell_type": "markdown",
   "metadata": {},
   "source": [
    "### 重写规则"
   ]
  },
  {
   "cell_type": "markdown",
   "metadata": {},
   "source": [
    "Mathematica 的第二原理说：计算即重写。<br/>\n",
    "重写规则的一般形式是：（模式）（重写符号）（重写结果）<br/>\n",
    "其中重写符号有四种：$->、:>、=、:=$，分别叫做规则、延迟规则、赋值、延迟赋值。后两者需要手工移除它们（=.、Clear、Remove）"
   ]
  },
  {
   "cell_type": "code",
   "execution_count": 1,
   "metadata": {},
   "outputs": [
    {
     "data": {
      "text/html": [
       "<style>\n",
       "\t\t\t\t\t\t\t\t\t\t\t\t\t.grid-container {\n",
       "\t\t\t\t\t\t\t\t\t\t\t\t\t\tdisplay: inline-grid;\n",
       "\t\t\t\t\t\t\t\t\t\t\t\t\t\tgrid-template-columns: auto;\n",
       "\t\t\t\t\t\t\t\t\t\t\t\t\t}\n",
       "\t\t\t\t\t\t\t\t\t\t\t\t</style>\n",
       "\n",
       "\t\t\t\t\t\t\t\t\t\t\t\t<div><div class=\"grid-container\"><div class=\"grid-item\"><img alt=\"Output\" src=\"data:image/png;base64,iVBORw0KGgoAAAANSUhEUgAAALwAAAAPCAIAAADRdTInAAAAhXpUWHRSYXcgcHJvZmlsZSB0eXBlIGV4aWYAAHjaVYvBDcMwDAP/mqIjyLJM2uMYiQNkg45fuu0n9yApgbT1vi97felp2dgxABc5csRU6P6juNciDXn+X9MfZGWgoRhTluEkhnJXkqKFN+LCAahYcIbnIV8gNQN3o86928QyPusLVffpbh/5eCey76LuBgAAAAlwSFlzAAALEwAACxMBAJqcGAAAADx0RVh0U29mdHdhcmUAQ3JlYXRlZCB3aXRoIHRoZSBXb2xmcmFtIExhbmd1YWdlIDogd3d3LndvbGZyYW0uY29tXKKmhQAAACF0RVh0Q3JlYXRpb24gVGltZQAyMDIyOjA1OjIwIDA5OjAyOjEwgXa5LQAAAgVJREFUaIHtlzFugzAUhh9VD+KKNYcAdXGUY5Al6mqrh0j3LuYYVbtU9iEysFj2TdwhFQL7mRRSSGvxTdGPn/3/4WFM5pyDlZUx3N3awMr/Y22aldF4TWMtPiymL861RpYNkobbQO80ja15jZXF9Fmx9TY7s/UWr3mtps45W5Bvu1z5F9Jw6+ndpsl3VUGQJSL6jNj60Dw755wzAvaHzp9HSLUDbaOVg7POFETx7ACvRtDgShpuA338mUbxTpMqHm4FHlaNf9ZI9X4szr/yDXw0gwtM5deCFEf3XpFf9Rbyl9yOb5ri6CR7KbkCULw8CXPBAikeYfIeDVafgO2KidWDLBvkWv6S27ZprNIac4HpxdGIU5llJUjMuvUA8pRrNIA3LkDxh/1Gfm867eo5fCJjLzFrkDhpuO3r9+2KGvICMR/RASilH+jC2P3XDTRgof+ODjqFkM51W28f9hvpvJYBAALwaW3VHXyZOYMMQpJw29ddi5TSYYS6ZECFcUZQoMKgRT2MYD8Z1qugACziRyCTSQbRgnbMrEGMoJiBBNwG+vimkQxaz0ZQuBTAxIwMlPhH+148dL5zyfB9mCuIZGm7DfRJO81twYNJNuHZXYAU3Pp69+tJv6ngrTik3warG1+pt1lWnoQJjz99bhDkv7vF9V5DGSkN1mkxfXGuNbJskDTchvoXKK2Qbm7WcOMAAAAASUVORK5CYII=\"></div><div class=\"grid-item\"><img alt=\"Output\" src=\"data:image/png;base64,iVBORw0KGgoAAAANSUhEUgAAAA4AAAAPCAIAAABbdmkjAAAAhXpUWHRSYXcgcHJvZmlsZSB0eXBlIGV4aWYAAHjaVYvBDcMwDAP/mqIjyLJM2uMYiQNkg45fuu0n9yApgbT1vi97felp2dgxABc5csRU6P6juNciDXn+X9MfZGWgoRhTluEkhnJXkqKFN+LCAahYcIbnIV8gNQN3o86928QyPusLVffpbh/5eCey76LuBgAAAAlwSFlzAAALEwAACxMBAJqcGAAAADx0RVh0U29mdHdhcmUAQ3JlYXRlZCB3aXRoIHRoZSBXb2xmcmFtIExhbmd1YWdlIDogd3d3LndvbGZyYW0uY29tXKKmhQAAACF0RVh0Q3JlYXRpb24gVGltZQAyMDIyOjA1OjIwIDA5OjAyOjEx9nGJuwAAAJZJREFUKJHFkr0NwjAQhZ8Ri6TPENDFYg037m0xBAPQ2LPYQ1DQIN8mj8IBJ0JGaRCvup9Pp3enUySxTbuN3G9RiVpV6Sjv1lz1uaES7f1MkiwBxlY4e2VxLWFajOVSyQEutbyEqeUrr/K4wZ0OHa/7FmY/mDGxR74uIFGrIxIvXbCiEvVgxu8cAHC9Jea9kvsoqn//wBN4plsvYMPEAQAAAABJRU5ErkJggg==\"></div><div class=\"grid-item\"><img alt=\"Output\" src=\"data:image/png;base64,iVBORw0KGgoAAAANSUhEUgAAAEIAAAAPCAIAAADf8I4NAAAAhXpUWHRSYXcgcHJvZmlsZSB0eXBlIGV4aWYAAHjaVYvBDcMwDAP/mqIjyLJM2uMYiQNkg45fuu0n9yApgbT1vi97felp2dgxABc5csRU6P6juNciDXn+X9MfZGWgoRhTluEkhnJXkqKFN+LCAahYcIbnIV8gNQN3o86928QyPusLVffpbh/5eCey76LuBgAAAAlwSFlzAAALEwAACxMBAJqcGAAAADx0RVh0U29mdHdhcmUAQ3JlYXRlZCB3aXRoIHRoZSBXb2xmcmFtIExhbmd1YWdlIDogd3d3LndvbGZyYW0uY29tXKKmhQAAACF0RVh0Q3JlYXRpb24gVGltZQAyMDIyOjA1OjIwIDA5OjAyOjEx9nGJuwAAAVxJREFUSIndVjtuhDAQHUc5iBEth2A70La5QXIEoxyCK9g3SBslzcocgoLG8txkUiywA2u0mEVZJa/yZ97MPJtnIYgI/j6eHt3APvifMhAf0kUsrtpkMtBUZrqNphRnlGynX62aiLpNJUQg1XaWqcykPo2w1hKH14WywwgK7YmIrIJCe68LUNPolWCp7mNZzefPy2chX7/qfpRm8N0hgIS8phwAzdoDDSFL5d6sVRZH14I65htqX9B/IMnHi6/XZ1rLGmVg45xcSJW8ZTaidhB5fb7+9y6JsNUyK0/hhONskIHoIHBraEpxAEv3imDljwpahzfjbrIkwOnyYjHTzCxOXhcQdnLI4lbBQvQ8jJt1G4vmFl+W4XUxPRFlh7LzRRYf7oixZt1sY0XIiIZVa851H9ZcBn+p3GcT+832QFMKcWh1zCO0ldVzXcengvgfLjYNyFzK6Ky/i+s2fwBlSRIGx4/P/gAAAABJRU5ErkJggg==\"></div></div></div>"
      ],
      "text/plain": [
       "{{x -> -2}, {x -> 1}, {x -> 1}}\n",
       "21\n",
       "{21, 3, 3}"
      ]
     },
     "execution_count": 2,
     "metadata": {
      "text/html": [],
      "text/plain": []
     },
     "output_type": "execute_result"
    }
   ],
   "source": [
    "(* 最常见的规则出现在 Solve 类函数的返回值中： *)\n",
    "result = Solve[x^3 - 3 x + 2 == 0, x]\n",
    "(* Solve 的结果是不唯一的,因此可以按需生成规则应用 *)\n",
    "Expand[x^4 + x^2 + 1 /. result[[1]]]\n",
    "Expand[x^4 + x^2 + 1 /. result]\n",
    "(* 获得到由不同规则带来的结果构成的表 *)"
   ]
  },
  {
   "cell_type": "markdown",
   "metadata": {},
   "source": [
    "规则比赋值要灵活,并产生模块化的机制。<br/>\n",
    "规则的左边可以是模式："
   ]
  },
  {
   "cell_type": "code",
   "execution_count": 5,
   "metadata": {},
   "outputs": [
    {
     "data": {
      "text/html": [
       "<div><img alt=\"Output\" src=\"data:image/png;base64,iVBORw0KGgoAAAANSUhEUgAAADoAAAAPCAIAAAA6bkthAAAAhXpUWHRSYXcgcHJvZmlsZSB0eXBlIGV4aWYAAHjaVYvBDcMwDAP/mqIjyLJM2uMYiQNkg45fuu0n9yApgbT1vi97felp2dgxABc5csRU6P6juNciDXn+X9MfZGWgoRhTluEkhnJXkqKFN+LCAahYcIbnIV8gNQN3o86928QyPusLVffpbh/5eCey76LuBgAAAAlwSFlzAAALEwAACxMBAJqcGAAAADx0RVh0U29mdHdhcmUAQ3JlYXRlZCB3aXRoIHRoZSBXb2xmcmFtIExhbmd1YWdlIDogd3d3LndvbGZyYW0uY29tXKKmhQAAACF0RVh0Q3JlYXRpb24gVGltZQAyMDIyOjA1OjE5IDIyOjU0OjE4R/P//wAAAW1JREFUSIntlbFugzAQQM9RP8Qoaz4iqAsoa/8AluxG/Yhm7wKfUSVLdXwEAwvy/cl1MDQ22JSmtFWlviWK77h7nG0hmBn+DpvfFvgc/7oLICKiW/I2AABUpcKQVn30uiSEEEW9pmxdj1U9Au+hV3tlA0DVsX1kZmZdQn68RhVyz9N+TV0AkFJKSzYgAHbWoCuzc68jtzu4tASLoemgBurC2p3p0Bz35QLO2aWuAXXYD39P8Ue9qOtCsnFTamZmRgVJ+ZzJsENQYMqd3SLKd8gmWWZnzkyJKo2iYjs+EMMdML+TXbsFR8BPP12qUhED+g6pvH9IoOnIWSRD17Yd+a75/qAueSSEECJulsx2RsCBmXWZ2PdqBCqApN/YSaz0B3SZhB5hZsRRrzkBtwWYXBuFQwXDXOOArnnJUcmQrl8gpPsdoLKbonJfeTLd2VKO7g981eqXE+y2cp1iXx2kH2eDx6dJa0RE1N4n5/PeALPF7rm+BGigAAAAAElFTkSuQmCC\"></div>"
      ],
      "text/plain": [
       "25 + g[2]"
      ]
     },
     "execution_count": 6,
     "metadata": {
      "text/html": [],
      "text/plain": []
     },
     "output_type": "execute_result"
    }
   ],
   "source": [
    "rule = (f[x_] -> x^2);\n",
    "f[5] + g[2] /. rule"
   ]
  },
  {
   "cell_type": "code",
   "execution_count": 7,
   "metadata": {},
   "outputs": [
    {
     "data": {
      "text/html": [
       "<div><img alt=\"Output\" src=\"data:image/png;base64,iVBORw0KGgoAAAANSUhEUgAAADoAAAAPCAIAAAA6bkthAAAAhXpUWHRSYXcgcHJvZmlsZSB0eXBlIGV4aWYAAHjaVYvBDcMwDAP/mqIjyLJM2uMYiQNkg45fuu0n9yApgbT1vi97felp2dgxABc5csRU6P6juNciDXn+X9MfZGWgoRhTluEkhnJXkqKFN+LCAahYcIbnIV8gNQN3o86928QyPusLVffpbh/5eCey76LuBgAAAAlwSFlzAAALEwAACxMBAJqcGAAAADx0RVh0U29mdHdhcmUAQ3JlYXRlZCB3aXRoIHRoZSBXb2xmcmFtIExhbmd1YWdlIDogd3d3LndvbGZyYW0uY29tXKKmhQAAACF0RVh0Q3JlYXRpb24gVGltZQAyMDIyOjA1OjE5IDIyOjU0OjIwYgUkDgAAAW1JREFUSIntlbFugzAQQM9RP8Qoaz4iqAsoa/8AluxG/Yhm7wKfUSVLdXwEAwvy/cl1MDQ22JSmtFWlviWK77h7nG0hmBn+DpvfFvgc/7oLICKiW/I2AABUpcKQVn30uiSEEEW9pmxdj1U9Au+hV3tlA0DVsX1kZmZdQn68RhVyz9N+TV0AkFJKSzYgAHbWoCuzc68jtzu4tASLoemgBurC2p3p0Bz35QLO2aWuAXXYD39P8Ue9qOtCsnFTamZmRgVJ+ZzJsENQYMqd3SLKd8gmWWZnzkyJKo2iYjs+EMMdML+TXbsFR8BPP12qUhED+g6pvH9IoOnIWSRD17Yd+a75/qAueSSEECJulsx2RsCBmXWZ2PdqBCqApN/YSaz0B3SZhB5hZsRRrzkBtwWYXBuFQwXDXOOArnnJUcmQrl8gpPsdoLKbonJfeTLd2VKO7g981eqXE+y2cp1iXx2kH2eDx6dJa0RE1N4n5/PeALPF7rm+BGigAAAAAElFTkSuQmCC\"></div>"
      ],
      "text/plain": [
       "25 + g[2]"
      ]
     },
     "execution_count": 10,
     "metadata": {
      "text/html": [],
      "text/plain": []
     },
     "output_type": "execute_result"
    }
   ],
   "source": [
    "x = 1;\n",
    "rule = f[x_] :> x^2;\n",
    "x = 3;\n",
    "f[5] + g[2] /. rule"
   ]
  },
  {
   "cell_type": "code",
   "execution_count": 11,
   "metadata": {},
   "outputs": [
    {
     "data": {
      "text/html": [
       "<div><img alt=\"Output\" src=\"data:image/png;base64,iVBORw0KGgoAAAANSUhEUgAAAEUAAAAPCAIAAAA9LJV0AAAAhXpUWHRSYXcgcHJvZmlsZSB0eXBlIGV4aWYAAHjaVYvBDcMwDAP/mqIjyLJM2uMYiQNkg45fuu0n9yApgbT1vi97felp2dgxABc5csRU6P6juNciDXn+X9MfZGWgoRhTluEkhnJXkqKFN+LCAahYcIbnIV8gNQN3o86928QyPusLVffpbh/5eCey76LuBgAAAAlwSFlzAAALEwAACxMBAJqcGAAAADx0RVh0U29mdHdhcmUAQ3JlYXRlZCB3aXRoIHRoZSBXb2xmcmFtIExhbmd1YWdlIDogd3d3LndvbGZyYW0uY29tXKKmhQAAACF0RVh0Q3JlYXRpb24gVGltZQAyMDIyOjA1OjE5IDIyOjU3OjE1K/csrAAAAYxJREFUSInVljuOwjAQhv+s9iBGNBQcIisap98bhAbROtpDZFtE49yAnm2Qc4gUNGh8k9kiAfIiOA/tiq9KrBn/87An8ZgZL4xNos0hw/JzH4cCAPi1ISJmJi2lJmbmt3+u71iEEPnDci4A4JaPTQIvJ0hs2cNaaysLPRnr76CQ7M5fsQ/gnk+6WyPvGB/zg1ispxPEYk/VEk2JTaIdtkU2t3zsJbt2rIG49XQQ47yfkEaz9Xd22ARBEOU1Iy2rJsqU75sx1VdVsjAKKK5hN0Y/tiJjqLbQbusmXcw30rKWyHUXU181Kt/WKLdkuCsf0rIRGGml20Jxkn7v3WI/Jh3MPA/KcPmmDUKERw4BVEbGajs/RYmIG7s7SPfPBwAgpfwZ5tlKfQReztkBNmyN+Yn0ve/u501qYtJygvPGRklZFyb9wN5Buuf3NI28j0zvQwER7jXWs2DkJBYLYCEqEslp1dYZR+lnpW30ZwBd821iBt6fCtamjT8A4fvNEv8BHnf/XxexDg5vrH9ffgHqQSzTqJS+6gAAAABJRU5ErkJggg==\"></div>"
      ],
      "text/plain": [
       "          2\n",
       "f[x_] :> x"
      ]
     },
     "execution_count": 11,
     "metadata": {
      "text/html": [],
      "text/plain": []
     },
     "output_type": "execute_result"
    }
   ],
   "source": [
    "rule"
   ]
  },
  {
   "cell_type": "markdown",
   "metadata": {},
   "source": [
    "规则和延迟规则（以及赋值和延迟赋值）的区别在于：延迟规则指向的表达式,是一个程序的入口，之后每次应用这条规则,都要被计算;\n",
    "当规则不止一条时，我们把所有规则组成一个表，然后应用它。"
   ]
  },
  {
   "cell_type": "code",
   "execution_count": 12,
   "metadata": {},
   "outputs": [
    {
     "data": {
      "text/html": [
       "<div><pre style=\"&#102;&#111;&#110;&#116;&#45;&#102;&#97;&#109;&#105;&#108;&#121;&#58;&#32;&#34;&#67;&#111;&#117;&#114;&#105;&#101;&#114;&#32;&#78;&#101;&#119;&#34;&#44;&#67;&#111;&#117;&#114;&#105;&#101;&#114;&#44;&#109;&#111;&#110;&#111;&#115;&#112;&#97;&#99;&#101;&#59;\">&#52;&#48;&#57;&#54;</pre></div>"
      ],
      "text/plain": [
       "4096"
      ]
     },
     "execution_count": 12,
     "metadata": {
      "text/html": [],
      "text/plain": []
     },
     "output_type": "execute_result"
    }
   ],
   "source": [
    "(a^b)^c //. {(x_^y_)^z_ :> x^(y z), a -> 2, b -> 3, c -> 4}"
   ]
  },
  {
   "cell_type": "markdown",
   "metadata": {},
   "source": [
    "匹配到规则表中的某个规则之后，这个规则将会被应用一次，它之后的规则将会被忽略。<br/>\n",
    "$//.$:用来反复匹配、应用，直到找不出可进一步化简的模式"
   ]
  },
  {
   "cell_type": "code",
   "execution_count": 13,
   "metadata": {
    "scrolled": true
   },
   "outputs": [
    {
     "data": {
      "text/html": [
       "<style>\n",
       "\t\t\t\t\t\t\t\t\t\t\t\t\t.grid-container {\n",
       "\t\t\t\t\t\t\t\t\t\t\t\t\t\tdisplay: inline-grid;\n",
       "\t\t\t\t\t\t\t\t\t\t\t\t\t\tgrid-template-columns: auto;\n",
       "\t\t\t\t\t\t\t\t\t\t\t\t\t}\n",
       "\t\t\t\t\t\t\t\t\t\t\t\t</style>\n",
       "\n",
       "\t\t\t\t\t\t\t\t\t\t\t\t<div><div class=\"grid-container\"><div class=\"grid-item\"><img alt=\"Output\" src=\"data:image/png;base64,iVBORw0KGgoAAAANSUhEUgAAAHoAAAAPCAIAAACk1EzBAAAAhXpUWHRSYXcgcHJvZmlsZSB0eXBlIGV4aWYAAHjaVYvBDcMwDAP/mqIjyLJM2uMYiQNkg45fuu0n9yApgbT1vi97felp2dgxABc5csRU6P6juNciDXn+X9MfZGWgoRhTluEkhnJXkqKFN+LCAahYcIbnIV8gNQN3o86928QyPusLVffpbh/5eCey76LuBgAAAAlwSFlzAAALEwAACxMBAJqcGAAAADx0RVh0U29mdHdhcmUAQ3JlYXRlZCB3aXRoIHRoZSBXb2xmcmFtIExhbmd1YWdlIDogd3d3LndvbGZyYW0uY29tXKKmhQAAACF0RVh0Q3JlYXRpb24gVGltZQAyMDIyOjA1OjE5IDIzOjAwOjU1vNtV1QAAAgxJREFUWIXtVj1ugzAYtXsSR10YcgijLI6y5gZlqboa9QxRWKMucIOsUVki+xAMWRDfTdwBSGx+TAA3rdS+KbEf33vf4zOAlVLoH4/C008b+Fv4j/uhcBk3AAA45H0vTBcyxKF0UDRZ63VanT6VnHVirE6BlCNKwHmy4A+4nQOzU6cPE0IIuY/mUnUq7nQ7U8Jc6I8bkjWucDseMsQa7FOmc0cfVBg5frPd6vxOplas1c1VfRGkVoWeuCFZL47bQimlVBFnfmlAhn4Wl4uCIxZ/vBBLabpXFYo480cGDnk+guzALUKRf9qUFVDw2ghchthHou5nTxubi2ApKnVm1eiOG87HlL9X9sjLO08v0Em04joPQ/e8IV69X+DuV68Tt4iLMkay2rJGBXmKWPxGu6+zbjYw6tlNNzwNFhhjjP1saFq04Rq65zrKkCG/XPK783bg9kHojpustizaVQcKkl3EPIIQJLs6QKU+B+xDntU/5WHEdBNCKaX02fNWlFJK7Squ3OqQhyDlG2ooeCwNDrJH3mPp8QwIIUhehzptDx8X9fOuAru6vq1pxHpPGH81Motj3iTH15rd6Cd8j1udy7qkdVmzlLbHhbB3ivo7bkFwXUlw01crbmupobjnw6HbWTaMTid/d8tThJbPZOrlD8avcTvmThnnuHnkikIIIUTReeUE3mw4cTvLQFvjC1YAzU+FjKJ8AAAAAElFTkSuQmCC\"></div><div class=\"grid-item\"><img alt=\"Output\" src=\"data:image/png;base64,iVBORw0KGgoAAAANSUhEUgAAAKoAAAAPCAIAAAD7xcOIAAAAhXpUWHRSYXcgcHJvZmlsZSB0eXBlIGV4aWYAAHjaVYvBDcMwDAP/mqIjyLJM2uMYiQNkg45fuu0n9yApgbT1vi97felp2dgxABc5csRU6P6juNciDXn+X9MfZGWgoRhTluEkhnJXkqKFN+LCAahYcIbnIV8gNQN3o86928QyPusLVffpbh/5eCey76LuBgAAAAlwSFlzAAALEwAACxMBAJqcGAAAADx0RVh0U29mdHdhcmUAQ3JlYXRlZCB3aXRoIHRoZSBXb2xmcmFtIExhbmd1YWdlIDogd3d3LndvbGZyYW0uY29tXKKmhQAAACF0RVh0Q3JlYXRpb24gVGltZQAyMDIyOjA1OjE5IDIzOjAwOjU1vNtV1QAAAi9JREFUWIXtlz+O6jAQxierdxAjGoo9hCMaI1puQJrVax3tGRBp0WuSG9CilwbZh6CgQZmb+BVJWDv/HbKb3Ue+CuKPmZ/Hk0lwlFIw6Vn1MjbApDE1Hf9Ta8jjR0TEAX2fK5NC+o4vO/jGUk8KjFb6vkpRXlLPKuoR25SUFiHw3DvhRPuQzL0MOvwJIaSbbcisffVf0rYGMS/UHz9GKyfTx/iQvqOpua91b81grRdaNvzDtLrf+n4dg1azl6p7jz/z4sYgNceP0Wp23CRKKaWS8OKmMNJ3L2F6UXBg4Z8taQhN9ypTEl5cywbA283CPAAtQOCe1mkE8N7sGuDLaaXvuCDy+u5pYXHmvYosPmtkqT5+PB9j/p4BkO07j6/YcXMmY7ceLCTP3k+w86vkILTARVpGstyw7hFGoZWngIW/aY/Fgn7ZZKVr7rozxwMAYGGyJ42IaTtvSdrv1445sirerleYzwEeePZa0fbUz6Itq/ruJ8sNC3bZAMRoF7AFAcBol88npf62jFK8XfKP8mBx9xNCKaV0vlgsKaWUNmcZilaXPHgxX9PvTEsWLPYOsn7xeEYAwOitrfLlBwQX+RMoE7tzfVzTjPmaML5qZhaGvGgO7zGrVW/4HFrdy4qpvx1tITAXNWtciObKQ+O2TAmuZxLcrFMFYkOotoI+rqelbUlk7KX3/355CuB1Tvr+/Is10dbIpnOMSVYckUkihBAiqfxlD9/DekLalhTlKP8AGkCe8Xc3Dx8AAAAASUVORK5CYII=\"></div><div class=\"grid-item\"><img alt=\"Output\" src=\"data:image/png;base64,iVBORw0KGgoAAAANSUhEUgAAANoAAAAPCAIAAAANjEYQAAAAhXpUWHRSYXcgcHJvZmlsZSB0eXBlIGV4aWYAAHjaVYvBDcMwDAP/mqIjyLJM2uMYiQNkg45fuu0n9yApgbT1vi97felp2dgxABc5csRU6P6juNciDXn+X9MfZGWgoRhTluEkhnJXkqKFN+LCAahYcIbnIV8gNQN3o86928QyPusLVffpbh/5eCey76LuBgAAAAlwSFlzAAALEwAACxMBAJqcGAAAADx0RVh0U29mdHdhcmUAQ3JlYXRlZCB3aXRoIHRoZSBXb2xmcmFtIExhbmd1YWdlIDogd3d3LndvbGZyYW0uY29tXKKmhQAAACF0RVh0Q3JlYXRpb24gVGltZQAyMDIyOjA1OjE5IDIzOjAwOjU1vNtV1QAAAkVJREFUaIHtmD2OszAQhofVdxBHaSj2EEZpHKXNDUKz+lqjPUMU2mgbuEHaaGki+xAp0kT4Jt4CCA4LBBMTWMlvlcDrmYdh/CMcKSVYWU1Db2MDWFmVsu1oNSGZbEchhBAGfcPqnoIHTsA7+MbSX66teiNeqnX+5XvLPMu4drSOONcIIU69E1raRyn/MK3RzRohhLrZTGbtK0s7nPrSNrejiJdOrnJ55YGjqH0mqd6GjbBZQmuKGaBV/dorxBi0il2zuq+nvUWY+UlrqoZ2FPFydlinUkop0+jsZel44J2j7CKjQKKvDWoJjXcyVxqdPd2SXa8aZgO0AKF3XGURwP/Qa8iX0/LA8YAV9d1hHdiX0/Jg5r+zPAJpzVbfjuJ0SOhnngJtPmlyEd2foMRwus2JSvL8fCs6H9+N0AJl2WtFizXpHmEUWn4MSfQf6w4bh1YH9p9OYLyinjdzfAAAEqU71EqRTaANymbYpWOOvE7XywXmc4AnTkNatD1lac3S1q+OaLEm4TbfsES8DYmLAES8LVZoKb8fbH3iei5+8r3G6ogQxhjjuesuMMYYt2cxRauK7/2ErvCUaZFLEn/POyGOTotckhxOAgBE/PGoE35v6JQVZ4Jc5Ja5vKYYi3vs7q9iJlFEq+boFrNezYZhaFUvqaaeHG0l8MRrW4aljLV3ArSCVx6DqokZvX9vNSVrCfWoZM/L0g6nwWh7f3fkxxDe56jv8BfL0g4no7Q6k+JuLa9uaWnKGGMsrR3Zw/e0LO1wGor2B1dre3OseSmhAAAAAElFTkSuQmCC\"></div><div class=\"grid-item\"><img alt=\"Output\" src=\"data:image/png;base64,iVBORw0KGgoAAAANSUhEUgAAANoAAAAPCAIAAAANjEYQAAAAhXpUWHRSYXcgcHJvZmlsZSB0eXBlIGV4aWYAAHjaVYvBDcMwDAP/mqIjyLJM2uMYiQNkg45fuu0n9yApgbT1vi97felp2dgxABc5csRU6P6juNciDXn+X9MfZGWgoRhTluEkhnJXkqKFN+LCAahYcIbnIV8gNQN3o86928QyPusLVffpbh/5eCey76LuBgAAAAlwSFlzAAALEwAACxMBAJqcGAAAADx0RVh0U29mdHdhcmUAQ3JlYXRlZCB3aXRoIHRoZSBXb2xmcmFtIExhbmd1YWdlIDogd3d3LndvbGZyYW0uY29tXKKmhQAAACF0RVh0Q3JlYXRpb24gVGltZQAyMDIyOjA1OjE5IDIzOjAwOjU1vNtV1QAAAkVJREFUaIHtmD2OszAQhofVdxBHaSj2EEZpHKXNDUKz+lqjPUMU2mgbuEHaaGki+xAp0kT4Jt4CCA4LBBMTWMlvlcDrmYdh/CMcKSVYWU1Db2MDWFmVsu1oNSGZbEchhBAGfcPqnoIHTsA7+MbSX66teiNeqnX+5XvLPMu4drSOONcIIU69E1raRyn/MK3RzRohhLrZTGbtK0s7nPrSNrejiJdOrnJ55YGjqH0mqd6GjbBZQmuKGaBV/dorxBi0il2zuq+nvUWY+UlrqoZ2FPFydlinUkop0+jsZel44J2j7CKjQKKvDWoJjXcyVxqdPd2SXa8aZgO0AKF3XGURwP/Qa8iX0/LA8YAV9d1hHdiX0/Jg5r+zPAJpzVbfjuJ0SOhnngJtPmlyEd2foMRwus2JSvL8fCs6H9+N0AJl2WtFizXpHmEUWn4MSfQf6w4bh1YH9p9OYLyinjdzfAAAEqU71EqRTaANymbYpWOOvE7XywXmc4AnTkNatD1lac3S1q+OaLEm4TbfsES8DYmLAES8LVZoKb8fbH3iei5+8r3G6ogQxhjjuesuMMYYt2cxRauK7/2ErvCUaZFLEn/POyGOTotckhxOAgBE/PGoE35v6JQVZ4Jc5Ja5vKYYi3vs7q9iJlFEq+boFrNezYZhaFUvqaaeHG0l8MRrW4aljLV3ArSCVx6DqokZvX9vNSVrCfWoZM/L0g6nwWh7f3fkxxDe56jv8BfL0g4no7Q6k+JuLa9uaWnKGGMsrR3Zw/e0LO1wGor2B1dre3OseSmhAAAAAElFTkSuQmCC\"></div></div></div>"
      ],
      "text/plain": [
       "Log[a] + Log[b c d]\n",
       "Log[a] + Log[b] + Log[c d]\n",
       "Log[a] + Log[b] + Log[c] + Log[d]\n",
       "Log[a] + Log[b] + Log[c] + Log[d]"
      ]
     },
     "execution_count": 14,
     "metadata": {
      "text/html": [],
      "text/plain": []
     },
     "output_type": "execute_result"
    }
   ],
   "source": [
    "rule = {Log[x_ y_] :> Log[x] + Log[y]};\n",
    "\n",
    "Log[a b c d] /. rule\n",
    "Log[a b c d] /. rule /. rule\n",
    "Log[a b c d] //. rule\n",
    "FixedPoint[# /. rule &, Log[a b c d]]"
   ]
  },
  {
   "cell_type": "markdown",
   "metadata": {},
   "source": [
    "$eg.$利用未知函数所满足的微分方程化简微分多项式："
   ]
  },
  {
   "cell_type": "code",
   "execution_count": null,
   "metadata": {},
   "outputs": [],
   "source": []
  },
  {
   "cell_type": "markdown",
   "metadata": {},
   "source": [
    "$eg2.$保序合并 （Union） 运算"
   ]
  },
  {
   "cell_type": "code",
   "execution_count": 19,
   "metadata": {
    "scrolled": true
   },
   "outputs": [
    {
     "data": {
      "text/html": [
       "<style>\n",
       "\t\t\t\t\t\t\t\t\t\t\t\t\t.grid-container {\n",
       "\t\t\t\t\t\t\t\t\t\t\t\t\t\tdisplay: inline-grid;\n",
       "\t\t\t\t\t\t\t\t\t\t\t\t\t\tgrid-template-columns: auto;\n",
       "\t\t\t\t\t\t\t\t\t\t\t\t\t}\n",
       "\t\t\t\t\t\t\t\t\t\t\t\t</style>\n",
       "\n",
       "\t\t\t\t\t\t\t\t\t\t\t\t<div><div class=\"grid-container\"><div class=\"grid-item\"><pre style=\"&#102;&#111;&#110;&#116;&#45;&#102;&#97;&#109;&#105;&#108;&#121;&#58;&#32;&#34;&#67;&#111;&#117;&#114;&#105;&#101;&#114;&#32;&#78;&#101;&#119;&#34;&#44;&#67;&#111;&#117;&#114;&#105;&#101;&#114;&#44;&#109;&#111;&#110;&#111;&#115;&#112;&#97;&#99;&#101;&#59;\">&#123;&#51;&#44;&#32;&#50;&#44;&#32;&#49;&#44;&#32;&#97;&#44;&#32;&#99;&#44;&#32;&#49;&#44;&#32;&#98;&#44;&#32;&#50;&#44;&#32;&#97;&#44;&#32;&#52;&#125;</pre></div><div class=\"grid-item\"><pre style=\"&#102;&#111;&#110;&#116;&#45;&#102;&#97;&#109;&#105;&#108;&#121;&#58;&#32;&#34;&#67;&#111;&#117;&#114;&#105;&#101;&#114;&#32;&#78;&#101;&#119;&#34;&#44;&#67;&#111;&#117;&#114;&#105;&#101;&#114;&#44;&#109;&#111;&#110;&#111;&#115;&#112;&#97;&#99;&#101;&#59;\">&#123;&#51;&#44;&#32;&#50;&#44;&#32;&#49;&#44;&#32;&#97;&#44;&#32;&#99;&#44;&#32;&#98;&#44;&#32;&#52;&#125;</pre></div><div class=\"grid-item\"><pre style=\"&#102;&#111;&#110;&#116;&#45;&#102;&#97;&#109;&#105;&#108;&#121;&#58;&#32;&#34;&#67;&#111;&#117;&#114;&#105;&#101;&#114;&#32;&#78;&#101;&#119;&#34;&#44;&#67;&#111;&#117;&#114;&#105;&#101;&#114;&#44;&#109;&#111;&#110;&#111;&#115;&#112;&#97;&#99;&#101;&#59;\">&#123;&#49;&#44;&#32;&#50;&#44;&#32;&#51;&#44;&#32;&#52;&#44;&#32;&#97;&#44;&#32;&#98;&#44;&#32;&#99;&#125;</pre></div></div></div>"
      ],
      "text/plain": [
       "{3, 2, 1, a, c, 1, b, 2, a, 4}\n",
       "{3, 2, 1, a, c, b, 4}\n",
       "{1, 2, 3, 4, a, b, c}"
      ]
     },
     "execution_count": 20,
     "metadata": {
      "text/html": [],
      "text/plain": []
     },
     "output_type": "execute_result"
    }
   ],
   "source": [
    "myUnion[ex_] := \n",
    "  ex //. h_[x1___, y_, x2___, y_, x3___] :> h[x1, y, x2, x3];\n",
    "\n",
    "list = {3, 2, 1, a, c, 1, b, 2, a, 4}\n",
    "myUnion[list]\n",
    "Union[list]"
   ]
  },
  {
   "cell_type": "markdown",
   "metadata": {},
   "source": [
    "运算符$/.和//.$的全名分别是$ ReplaceAll 和 ReplaceRepeated$，它们的一个共同点是它们会对它们左边表达式的每个子表达式进行匹配和替换。有的时候我们希望控制这种搜索的深度，这时候就需要用$ Replace $这个函数。"
   ]
  },
  {
   "cell_type": "code",
   "execution_count": 8,
   "metadata": {},
   "outputs": [
    {
     "data": {
      "text/html": [
       "<style>\n",
       "\t\t\t\t\t\t\t\t\t\t\t\t\t.grid-container {\n",
       "\t\t\t\t\t\t\t\t\t\t\t\t\t\tdisplay: inline-grid;\n",
       "\t\t\t\t\t\t\t\t\t\t\t\t\t\tgrid-template-columns: auto;\n",
       "\t\t\t\t\t\t\t\t\t\t\t\t\t}\n",
       "\t\t\t\t\t\t\t\t\t\t\t\t</style>\n",
       "\n",
       "\t\t\t\t\t\t\t\t\t\t\t\t<div><div class=\"grid-container\"><div class=\"grid-item\"><img alt=\"Output\" src=\"data:image/png;base64,iVBORw0KGgoAAAANSUhEUgAAAA0AAAAPCAIAAACwQdIgAAAAhXpUWHRSYXcgcHJvZmlsZSB0eXBlIGV4aWYAAHjaVYvBDcMwDAP/mqIjyLJM2uMYiQNkg45fuu0n9yApgbT1vi97felp2dgxABc5csRU6P6juNciDXn+X9MfZGWgoRhTluEkhnJXkqKFN+LCAahYcIbnIV8gNQN3o86928QyPusLVffpbh/5eCey76LuBgAAAAlwSFlzAAALEwAACxMBAJqcGAAAADx0RVh0U29mdHdhcmUAQ3JlYXRlZCB3aXRoIHRoZSBXb2xmcmFtIExhbmd1YWdlIDogd3d3LndvbGZyYW0uY29tXKKmhQAAACF0RVh0Q3JlYXRpb24gVGltZQAyMDIyOjA1OjIwIDA5OjAzOjIy/OnspwAAAI1JREFUKJGNkLENwzAMBN+aRIDbLJHuB8kIzCjuOEg6ewi3BrMJU0iWocA0/BVJHP5Jws9lKiQpaqVHxJm5uylZyIRz5ZxL8RhLEfjVbJn9OtdNpS0Xc7MAII9TsA+rWtCfej9TBiRayrVjApb3c60bmzL4U8J3W/dmmV6fgOvuoKoEuYO7RxZ97j3d5X49czV75ReM/wAAAABJRU5ErkJggg==\"></div><div class=\"grid-item\"><img alt=\"Output\" src=\"data:image/png;base64,iVBORw0KGgoAAAANSUhEUgAAAA0AAAAPCAIAAACwQdIgAAAAhXpUWHRSYXcgcHJvZmlsZSB0eXBlIGV4aWYAAHjaVYvBDcMwDAP/mqIjyLJM2uMYiQNkg45fuu0n9yApgbT1vi97felp2dgxABc5csRU6P6juNciDXn+X9MfZGWgoRhTluEkhnJXkqKFN+LCAahYcIbnIV8gNQN3o86928QyPusLVffpbh/5eCey76LuBgAAAAlwSFlzAAALEwAACxMBAJqcGAAAADx0RVh0U29mdHdhcmUAQ3JlYXRlZCB3aXRoIHRoZSBXb2xmcmFtIExhbmd1YWdlIDogd3d3LndvbGZyYW0uY29tXKKmhQAAACF0RVh0Q3JlYXRpb24gVGltZQAyMDIyOjA1OjIwIDA5OjAzOjIy/OnspwAAAINJREFUKJGdkcENxTAIQ91OEqnXDuKBGIddGIVR6IG2ydcPOdQngp5sIIi5XIUkRT3fqDj3iHAlk9wxV2sti/PIovC7s8VinRuu8g5XcyYAyL4KsvX4mwAcbH79TJI0mUM915UYbP/V70KyuNF7lzvPlYvccXRXFntsEbGKe1T921fuAq7IUDt0ZWSPAAAAAElFTkSuQmCC\"></div><div class=\"grid-item\"><img alt=\"Output\" src=\"data:image/png;base64,iVBORw0KGgoAAAANSUhEUgAAAA0AAAAPCAIAAACwQdIgAAAAhXpUWHRSYXcgcHJvZmlsZSB0eXBlIGV4aWYAAHjaVYvBDcMwDAP/mqIjyLJM2uMYiQNkg45fuu0n9yApgbT1vi97felp2dgxABc5csRU6P6juNciDXn+X9MfZGWgoRhTluEkhnJXkqKFN+LCAahYcIbnIV8gNQN3o86928QyPusLVffpbh/5eCey76LuBgAAAAlwSFlzAAALEwAACxMBAJqcGAAAADx0RVh0U29mdHdhcmUAQ3JlYXRlZCB3aXRoIHRoZSBXb2xmcmFtIExhbmd1YWdlIDogd3d3LndvbGZyYW0uY29tXKKmhQAAACF0RVh0Q3JlYXRpb24gVGltZQAyMDIyOjA1OjIwIDA5OjAzOjIy/OnspwAAAI1JREFUKJGNkLENwzAMBN+aRIDbLJHuB8kIzCjuOEg6ewi3BrMJU0iWocA0/BVJHP5Jws9lKiQpaqVHxJm5uylZyIRz5ZxL8RhLEfjVbJn9OtdNpS0Xc7MAII9TsA+rWtCfej9TBiRayrVjApb3c60bmzL4U8J3W/dmmV6fgOvuoKoEuYO7RxZ97j3d5X49czV75ReM/wAAAABJRU5ErkJggg==\"></div></div></div>"
      ],
      "text/plain": [
       " 2\n",
       "a\n",
       " 2\n",
       "x\n",
       " 2\n",
       "a"
      ]
     },
     "execution_count": 8,
     "metadata": {
      "text/html": [],
      "text/plain": []
     },
     "output_type": "execute_result"
    }
   ],
   "source": [
    "Replace[x^2, x^2 -> a^2]\n",
    "Replace[x^2, x -> a]\n",
    "Replace[x^2, x -> a, 2]"
   ]
  },
  {
   "cell_type": "markdown",
   "metadata": {},
   "source": [
    "$Replace$ 只返回第一个匹配成功的重写结果，有时候我们希望考察所有可能的重写结果，这时候可以用$ ReplaceList $这个函数。"
   ]
  },
  {
   "cell_type": "code",
   "execution_count": 11,
   "metadata": {},
   "outputs": [
    {
     "data": {
      "text/html": [
       "<style>\n",
       "\t\t\t\t\t\t\t\t\t\t\t\t\t.grid-container {\n",
       "\t\t\t\t\t\t\t\t\t\t\t\t\t\tdisplay: inline-grid;\n",
       "\t\t\t\t\t\t\t\t\t\t\t\t\t\tgrid-template-columns: auto;\n",
       "\t\t\t\t\t\t\t\t\t\t\t\t\t}\n",
       "\t\t\t\t\t\t\t\t\t\t\t\t</style>\n",
       "\n",
       "\t\t\t\t\t\t\t\t\t\t\t\t<div><div class=\"grid-container\"><div class=\"grid-item\"><img alt=\"Output\" src=\"data:image/png;base64,iVBORw0KGgoAAAANSUhEUgAAAEUAAAAPCAIAAAA9LJV0AAAAhXpUWHRSYXcgcHJvZmlsZSB0eXBlIGV4aWYAAHjaVYvBDcMwDAP/mqIjyLJM2uMYiQNkg45fuu0n9yApgbT1vi97felp2dgxABc5csRU6P6juNciDXn+X9MfZGWgoRhTluEkhnJXkqKFN+LCAahYcIbnIV8gNQN3o86928QyPusLVffpbh/5eCey76LuBgAAAAlwSFlzAAALEwAACxMBAJqcGAAAADx0RVh0U29mdHdhcmUAQ3JlYXRlZCB3aXRoIHRoZSBXb2xmcmFtIExhbmd1YWdlIDogd3d3LndvbGZyYW0uY29tXKKmhQAAACF0RVh0Q3JlYXRpb24gVGltZQAyMDIyOjA1OjIwIDA5OjAzOjQxM7oamwAAAYhJREFUSIndlrFugzAQhu/yJI6yMPQhjLIQZe0bxEvVFdRnqMLK5jxGFJbKfgiGLIh7k+sAJIQ4gNuojfJNCN/P3W/OJyMzwxMx++8C7szT+qHdCmtWO+pGEBFRX+aJTTCxv/yGk6viWj82U6ArZmY+bESnEnsR/oDQV3f/Gz9UFvCyEE6BEMK98ABclTar+2yuckhDRMSxxrAJnvDroVbZ6+czNNQMnbxDaWdic2DmSkcQG2Zm3srBquSWGypdhNMdpeF+XatAvbkdUVneENsEQzBt4qEK/efbaaPmKveQxaYuQyxfo/xIvdX2XJNz+th9Gul3OSWNrx+bhEUzNyodeYpvUbug8ngs3Yam4+mHyqJ9tNnl/7HJpBNlM5XHa3nxTggppZSLIFhKKaUUPY0Iolxlo58G8PYjNh9xruaIiJ+BjntJAdL9razNtMGw0NXIEXVkPVS6CCeNIR7GGDMScQ6NoZ0pf4nRTf8zM/N97ju0W/1s5+8O8vD9msgSAYjrpn4AHMV9A7yHkF+MaSx9AAAAAElFTkSuQmCC\"></div><div class=\"grid-item\"><img alt=\"Output\" src=\"data:image/png;base64,iVBORw0KGgoAAAANSUhEUgAAAeUAAAAPCAIAAABV+kBlAAAAhXpUWHRSYXcgcHJvZmlsZSB0eXBlIGV4aWYAAHjaVYvBDcMwDAP/mqIjyLJM2uMYiQNkg45fuu0n9yApgbT1vi97felp2dgxABc5csRU6P6juNciDXn+X9MfZGWgoRhTluEkhnJXkqKFN+LCAahYcIbnIV8gNQN3o86928QyPusLVffpbh/5eCey76LuBgAAAAlwSFlzAAALEwAACxMBAJqcGAAAADx0RVh0U29mdHdhcmUAQ3JlYXRlZCB3aXRoIHRoZSBXb2xmcmFtIExhbmd1YWdlIDogd3d3LndvbGZyYW0uY29tXKKmhQAAACF0RVh0Q3JlYXRpb24gVGltZQAyMDIyOjA1OjIwIDA5OjAzOjQxM7oamwAAA1pJREFUeJztnE+SojAUxl/mJOly42IOEao3Wm7nBrCZmq3UnGGq3brDY1jtxiKHcOGGMjfJLBQEJJAEYmL3++0M8N735c9Dgt1ESgkIgiBI8PzwLQBBEATRAus1giDIa9Cq10K0TxC7Jbmy3InmqeLxbEN4SlI+MkYn9uI0/TpTbodzv15Qd3LofqeeHqH7tcPj+L7I+n1orNVrsUt37cPAtwlkFymllJ8xrbXzrvAhIY6PboZBv7d29BsY6FeHL+d3l+547WO9Xs9WMaOtIMUJfs5ajTcopd0HAsBWGvptxLQL+gTQrx7otxHTLugTUEmjNF5BIe4Nyv3r63PFW3KATUQIIUOPDzwlFWZPGuWVS9X9VPTdHGt5Rz3gmPqt51Yq71OrThCqX4vU4/1adHJ3Ehfz2YFyX+PrbWZ6Gl+t1FP7tS+SJcp6TeNPKeUlW8A6l1JK+cF6A7EPeeOSnSJ9MZtov7peBcnv7n4TRaG4mKckgrxMPKCwH1O/Wsof0OqlIP3apR7p166TO3Eyn6dW7nF8Pc1Mb+PrpfLYFsk7Vb0WvCio+fV3qnvHW3IwuGydX83S91+Lw1m0jpb78KJzQ57vN4vsD7PTO5p+5QoGeilYv7apR/kFy06eBA/Kvc5nPzPT3/h6qTwWRZLN4HjPX9ZrIQpQ7PtoColOt33+S7awj9Pg2leiOJ8L5bJ4KQZ6Cf0Gw+sqt+O7+R3AjV+7IkkBjpWAsl5TFs+AWysRxakStW3eOniqtzm6TQ7rFWsqpYwxxmbz+TtjjLVfhgKdLw7JdjC0uRgjWsp7UvT0EgAE7Ved2qHfepaO6WEmxgh3yvsU+htfdzNzxPK3j2bEtJVnxHJQyDvCe1y9jpzo72Vo/Hd9SN4IIeTfPFs3Ds0XAJs9V1x5eztAolN2Md2wo/HnJTtFBjv4A2KMUCjvSdHTS1p49KtO7dAvGE+Pqfy6U96n0N/4upuZ0y7/J6xfLXwtBwBZkee51Mbg5HwN5TuAZ5Jnt0ePZqulGPSrPvWb+R2JtUL0Oybai/ptt9e/Xxf7qX9ULnZLu/uXC54gBv16JCgxnUyrEP2GhguFojjXPxJZ//98gnOgTOdn5UJwIQBo79adLxyIQ78BgX5DDDkd6Lc88FCP/wPr6l/0KpAU9AAAAABJRU5ErkJggg==\"></div></div></div>"
      ],
      "text/plain": [
       "f[a, b + c]\n",
       "{f[a, b + c], f[b, a + c], f[c, a + b], f[a + b, c], f[a + c, b], f[b + c, a]}"
      ]
     },
     "execution_count": 11,
     "metadata": {
      "text/html": [],
      "text/plain": []
     },
     "output_type": "execute_result"
    }
   ],
   "source": [
    "Replace[a + b + c, x_ + y_ :> f[x, y]]\n",
    "ReplaceList[a + b + c, x_ + y_ :> f[x, y]]"
   ]
  },
  {
   "cell_type": "code",
   "execution_count": 13,
   "metadata": {},
   "outputs": [
    {
     "data": {
      "text/html": [
       "<div><pre style=\"&#102;&#111;&#110;&#116;&#45;&#102;&#97;&#109;&#105;&#108;&#121;&#58;&#32;&#34;&#67;&#111;&#117;&#114;&#105;&#101;&#114;&#32;&#78;&#101;&#119;&#34;&#44;&#67;&#111;&#117;&#114;&#105;&#101;&#114;&#44;&#109;&#111;&#110;&#111;&#115;&#112;&#97;&#99;&#101;&#59;\">&#123;&#49;&#215;&#49;&#61;&#49;&#44;&#32;&#49;&#215;&#50;&#61;&#50;&#44;&#32;&#49;&#215;&#51;&#61;&#51;&#44;&#32;&#49;&#215;&#52;&#61;&#52;&#44;&#32;&#49;&#215;&#53;&#61;&#53;&#44;&#32;&#49;&#215;&#54;&#61;&#54;&#44;&#32;&#49;&#215;&#55;&#61;&#55;&#44;&#32;&#49;&#215;&#56;&#61;&#56;&#44;&#32;&#49;&#215;&#57;&#61;&#57;&#44;&#32;&#49;&#215;&#49;&#48;&#61;&#49;&#48;&#44;&#32;&#49;&#215;&#49;&#49;&#61;&#49;&#49;&#44;&#32;&#10;&#32;&#10;&#62;&#32;&#32;&#32;&#49;&#215;&#49;&#50;&#61;&#49;&#50;&#44;&#32;&#49;&#215;&#49;&#51;&#61;&#49;&#51;&#44;&#32;&#49;&#215;&#49;&#52;&#61;&#49;&#52;&#44;&#32;&#49;&#215;&#49;&#53;&#61;&#49;&#53;&#44;&#32;&#49;&#215;&#49;&#54;&#61;&#49;&#54;&#44;&#32;&#49;&#215;&#49;&#55;&#61;&#49;&#55;&#44;&#32;&#49;&#215;&#49;&#56;&#61;&#49;&#56;&#44;&#32;&#49;&#215;&#49;&#57;&#61;&#49;&#57;&#44;&#32;&#50;&#215;&#50;&#61;&#52;&#44;&#32;&#10;&#32;&#10;&#62;&#32;&#32;&#32;&#50;&#215;&#51;&#61;&#54;&#44;&#32;&#50;&#215;&#52;&#61;&#56;&#44;&#32;&#50;&#215;&#53;&#61;&#49;&#48;&#44;&#32;&#50;&#215;&#54;&#61;&#49;&#50;&#44;&#32;&#50;&#215;&#55;&#61;&#49;&#52;&#44;&#32;&#50;&#215;&#56;&#61;&#49;&#54;&#44;&#32;&#50;&#215;&#57;&#61;&#49;&#56;&#44;&#32;&#50;&#215;&#49;&#48;&#61;&#50;&#48;&#44;&#32;&#50;&#215;&#49;&#49;&#61;&#50;&#50;&#44;&#32;&#50;&#215;&#49;&#50;&#61;&#50;&#52;&#44;&#32;&#10;&#32;&#10;&#62;&#32;&#32;&#32;&#50;&#215;&#49;&#51;&#61;&#50;&#54;&#44;&#32;&#50;&#215;&#49;&#52;&#61;&#50;&#56;&#44;&#32;&#50;&#215;&#49;&#53;&#61;&#51;&#48;&#44;&#32;&#50;&#215;&#49;&#54;&#61;&#51;&#50;&#44;&#32;&#50;&#215;&#49;&#55;&#61;&#51;&#52;&#44;&#32;&#50;&#215;&#49;&#56;&#61;&#51;&#54;&#44;&#32;&#50;&#215;&#49;&#57;&#61;&#51;&#56;&#44;&#32;&#51;&#215;&#51;&#61;&#57;&#44;&#32;&#51;&#215;&#52;&#61;&#49;&#50;&#44;&#32;&#10;&#32;&#10;&#62;&#32;&#32;&#32;&#51;&#215;&#53;&#61;&#49;&#53;&#44;&#32;&#51;&#215;&#54;&#61;&#49;&#56;&#44;&#32;&#51;&#215;&#55;&#61;&#50;&#49;&#44;&#32;&#51;&#215;&#56;&#61;&#50;&#52;&#44;&#32;&#51;&#215;&#57;&#61;&#50;&#55;&#44;&#32;&#51;&#215;&#49;&#48;&#61;&#51;&#48;&#44;&#32;&#51;&#215;&#49;&#49;&#61;&#51;&#51;&#44;&#32;&#51;&#215;&#49;&#50;&#61;&#51;&#54;&#44;&#32;&#51;&#215;&#49;&#51;&#61;&#51;&#57;&#44;&#32;&#51;&#215;&#49;&#52;&#61;&#52;&#50;&#44;&#32;&#10;&#32;&#10;&#62;&#32;&#32;&#32;&#51;&#215;&#49;&#53;&#61;&#52;&#53;&#44;&#32;&#51;&#215;&#49;&#54;&#61;&#52;&#56;&#44;&#32;&#51;&#215;&#49;&#55;&#61;&#53;&#49;&#44;&#32;&#51;&#215;&#49;&#56;&#61;&#53;&#52;&#44;&#32;&#51;&#215;&#49;&#57;&#61;&#53;&#55;&#44;&#32;&#52;&#215;&#52;&#61;&#49;&#54;&#44;&#32;&#52;&#215;&#53;&#61;&#50;&#48;&#44;&#32;&#52;&#215;&#54;&#61;&#50;&#52;&#44;&#32;&#52;&#215;&#55;&#61;&#50;&#56;&#44;&#32;&#52;&#215;&#56;&#61;&#51;&#50;&#44;&#32;&#10;&#32;&#10;&#62;&#32;&#32;&#32;&#52;&#215;&#57;&#61;&#51;&#54;&#44;&#32;&#52;&#215;&#49;&#48;&#61;&#52;&#48;&#44;&#32;&#52;&#215;&#49;&#49;&#61;&#52;&#52;&#44;&#32;&#52;&#215;&#49;&#50;&#61;&#52;&#56;&#44;&#32;&#52;&#215;&#49;&#51;&#61;&#53;&#50;&#44;&#32;&#52;&#215;&#49;&#52;&#61;&#53;&#54;&#44;&#32;&#52;&#215;&#49;&#53;&#61;&#54;&#48;&#44;&#32;&#52;&#215;&#49;&#54;&#61;&#54;&#52;&#44;&#32;&#52;&#215;&#49;&#55;&#61;&#54;&#56;&#44;&#32;&#10;&#32;&#10;&#62;&#32;&#32;&#32;&#52;&#215;&#49;&#56;&#61;&#55;&#50;&#44;&#32;&#52;&#215;&#49;&#57;&#61;&#55;&#54;&#44;&#32;&#53;&#215;&#53;&#61;&#50;&#53;&#44;&#32;&#53;&#215;&#54;&#61;&#51;&#48;&#44;&#32;&#53;&#215;&#55;&#61;&#51;&#53;&#44;&#32;&#53;&#215;&#56;&#61;&#52;&#48;&#44;&#32;&#53;&#215;&#57;&#61;&#52;&#53;&#44;&#32;&#53;&#215;&#49;&#48;&#61;&#53;&#48;&#44;&#32;&#53;&#215;&#49;&#49;&#61;&#53;&#53;&#44;&#32;&#53;&#215;&#49;&#50;&#61;&#54;&#48;&#44;&#32;&#10;&#32;&#10;&#62;&#32;&#32;&#32;&#53;&#215;&#49;&#51;&#61;&#54;&#53;&#44;&#32;&#53;&#215;&#49;&#52;&#61;&#55;&#48;&#44;&#32;&#53;&#215;&#49;&#53;&#61;&#55;&#53;&#44;&#32;&#53;&#215;&#49;&#54;&#61;&#56;&#48;&#44;&#32;&#53;&#215;&#49;&#55;&#61;&#56;&#53;&#44;&#32;&#53;&#215;&#49;&#56;&#61;&#57;&#48;&#44;&#32;&#53;&#215;&#49;&#57;&#61;&#57;&#53;&#44;&#32;&#54;&#215;&#54;&#61;&#51;&#54;&#44;&#32;&#54;&#215;&#55;&#61;&#52;&#50;&#44;&#32;&#10;&#32;&#10;&#62;&#32;&#32;&#32;&#54;&#215;&#56;&#61;&#52;&#56;&#44;&#32;&#54;&#215;&#57;&#61;&#53;&#52;&#44;&#32;&#54;&#215;&#49;&#48;&#61;&#54;&#48;&#44;&#32;&#54;&#215;&#49;&#49;&#61;&#54;&#54;&#44;&#32;&#54;&#215;&#49;&#50;&#61;&#55;&#50;&#44;&#32;&#54;&#215;&#49;&#51;&#61;&#55;&#56;&#44;&#32;&#54;&#215;&#49;&#52;&#61;&#56;&#52;&#44;&#32;&#54;&#215;&#49;&#53;&#61;&#57;&#48;&#44;&#32;&#54;&#215;&#49;&#54;&#61;&#57;&#54;&#44;&#32;&#10;&#32;&#10;&#62;&#32;&#32;&#32;&#54;&#215;&#49;&#55;&#61;&#49;&#48;&#50;&#44;&#32;&#54;&#215;&#49;&#56;&#61;&#49;&#48;&#56;&#44;&#32;&#54;&#215;&#49;&#57;&#61;&#49;&#49;&#52;&#44;&#32;&#55;&#215;&#55;&#61;&#52;&#57;&#44;&#32;&#55;&#215;&#56;&#61;&#53;&#54;&#44;&#32;&#55;&#215;&#57;&#61;&#54;&#51;&#44;&#32;&#55;&#215;&#49;&#48;&#61;&#55;&#48;&#44;&#32;&#55;&#215;&#49;&#49;&#61;&#55;&#55;&#44;&#32;&#55;&#215;&#49;&#50;&#61;&#56;&#52;&#44;&#32;&#10;&#32;&#10;&#62;&#32;&#32;&#32;&#55;&#215;&#49;&#51;&#61;&#57;&#49;&#44;&#32;&#55;&#215;&#49;&#52;&#61;&#57;&#56;&#44;&#32;&#55;&#215;&#49;&#53;&#61;&#49;&#48;&#53;&#44;&#32;&#55;&#215;&#49;&#54;&#61;&#49;&#49;&#50;&#44;&#32;&#55;&#215;&#49;&#55;&#61;&#49;&#49;&#57;&#44;&#32;&#55;&#215;&#49;&#56;&#61;&#49;&#50;&#54;&#44;&#32;&#55;&#215;&#49;&#57;&#61;&#49;&#51;&#51;&#44;&#32;&#56;&#215;&#56;&#61;&#54;&#52;&#44;&#32;&#56;&#215;&#57;&#61;&#55;&#50;&#44;&#32;&#10;&#32;&#10;&#62;&#32;&#32;&#32;&#56;&#215;&#49;&#48;&#61;&#56;&#48;&#44;&#32;&#56;&#215;&#49;&#49;&#61;&#56;&#56;&#44;&#32;&#56;&#215;&#49;&#50;&#61;&#57;&#54;&#44;&#32;&#56;&#215;&#49;&#51;&#61;&#49;&#48;&#52;&#44;&#32;&#56;&#215;&#49;&#52;&#61;&#49;&#49;&#50;&#44;&#32;&#56;&#215;&#49;&#53;&#61;&#49;&#50;&#48;&#44;&#32;&#56;&#215;&#49;&#54;&#61;&#49;&#50;&#56;&#44;&#32;&#56;&#215;&#49;&#55;&#61;&#49;&#51;&#54;&#44;&#32;&#10;&#32;&#10;&#62;&#32;&#32;&#32;&#56;&#215;&#49;&#56;&#61;&#49;&#52;&#52;&#44;&#32;&#56;&#215;&#49;&#57;&#61;&#49;&#53;&#50;&#44;&#32;&#57;&#215;&#57;&#61;&#56;&#49;&#44;&#32;&#57;&#215;&#49;&#48;&#61;&#57;&#48;&#44;&#32;&#57;&#215;&#49;&#49;&#61;&#57;&#57;&#44;&#32;&#57;&#215;&#49;&#50;&#61;&#49;&#48;&#56;&#44;&#32;&#57;&#215;&#49;&#51;&#61;&#49;&#49;&#55;&#44;&#32;&#57;&#215;&#49;&#52;&#61;&#49;&#50;&#54;&#44;&#32;&#10;&#32;&#10;&#62;&#32;&#32;&#32;&#57;&#215;&#49;&#53;&#61;&#49;&#51;&#53;&#44;&#32;&#57;&#215;&#49;&#54;&#61;&#49;&#52;&#52;&#44;&#32;&#57;&#215;&#49;&#55;&#61;&#49;&#53;&#51;&#44;&#32;&#57;&#215;&#49;&#56;&#61;&#49;&#54;&#50;&#44;&#32;&#57;&#215;&#49;&#57;&#61;&#49;&#55;&#49;&#44;&#32;&#49;&#48;&#215;&#49;&#48;&#61;&#49;&#48;&#48;&#44;&#32;&#49;&#48;&#215;&#49;&#49;&#61;&#49;&#49;&#48;&#44;&#32;&#49;&#48;&#215;&#49;&#50;&#61;&#49;&#50;&#48;&#44;&#32;&#10;&#32;&#10;&#62;&#32;&#32;&#32;&#49;&#48;&#215;&#49;&#51;&#61;&#49;&#51;&#48;&#44;&#32;&#49;&#48;&#215;&#49;&#52;&#61;&#49;&#52;&#48;&#44;&#32;&#49;&#48;&#215;&#49;&#53;&#61;&#49;&#53;&#48;&#44;&#32;&#49;&#48;&#215;&#49;&#54;&#61;&#49;&#54;&#48;&#44;&#32;&#49;&#48;&#215;&#49;&#55;&#61;&#49;&#55;&#48;&#44;&#32;&#49;&#48;&#215;&#49;&#56;&#61;&#49;&#56;&#48;&#44;&#32;&#49;&#48;&#215;&#49;&#57;&#61;&#49;&#57;&#48;&#44;&#32;&#10;&#32;&#10;&#62;&#32;&#32;&#32;&#49;&#49;&#215;&#49;&#49;&#61;&#49;&#50;&#49;&#44;&#32;&#49;&#49;&#215;&#49;&#50;&#61;&#49;&#51;&#50;&#44;&#32;&#49;&#49;&#215;&#49;&#51;&#61;&#49;&#52;&#51;&#44;&#32;&#49;&#49;&#215;&#49;&#52;&#61;&#49;&#53;&#52;&#44;&#32;&#49;&#49;&#215;&#49;&#53;&#61;&#49;&#54;&#53;&#44;&#32;&#49;&#49;&#215;&#49;&#54;&#61;&#49;&#55;&#54;&#44;&#32;&#49;&#49;&#215;&#49;&#55;&#61;&#49;&#56;&#55;&#44;&#32;&#10;&#32;&#10;&#62;&#32;&#32;&#32;&#49;&#49;&#215;&#49;&#56;&#61;&#49;&#57;&#56;&#44;&#32;&#49;&#49;&#215;&#49;&#57;&#61;&#50;&#48;&#57;&#44;&#32;&#49;&#50;&#215;&#49;&#50;&#61;&#49;&#52;&#52;&#44;&#32;&#49;&#50;&#215;&#49;&#51;&#61;&#49;&#53;&#54;&#44;&#32;&#49;&#50;&#215;&#49;&#52;&#61;&#49;&#54;&#56;&#44;&#32;&#49;&#50;&#215;&#49;&#53;&#61;&#49;&#56;&#48;&#44;&#32;&#49;&#50;&#215;&#49;&#54;&#61;&#49;&#57;&#50;&#44;&#32;&#10;&#32;&#10;&#62;&#32;&#32;&#32;&#49;&#50;&#215;&#49;&#55;&#61;&#50;&#48;&#52;&#44;&#32;&#49;&#50;&#215;&#49;&#56;&#61;&#50;&#49;&#54;&#44;&#32;&#49;&#50;&#215;&#49;&#57;&#61;&#50;&#50;&#56;&#44;&#32;&#49;&#51;&#215;&#49;&#51;&#61;&#49;&#54;&#57;&#44;&#32;&#49;&#51;&#215;&#49;&#52;&#61;&#49;&#56;&#50;&#44;&#32;&#49;&#51;&#215;&#49;&#53;&#61;&#49;&#57;&#53;&#44;&#32;&#49;&#51;&#215;&#49;&#54;&#61;&#50;&#48;&#56;&#44;&#32;&#10;&#32;&#10;&#62;&#32;&#32;&#32;&#49;&#51;&#215;&#49;&#55;&#61;&#50;&#50;&#49;&#44;&#32;&#49;&#51;&#215;&#49;&#56;&#61;&#50;&#51;&#52;&#44;&#32;&#49;&#51;&#215;&#49;&#57;&#61;&#50;&#52;&#55;&#44;&#32;&#49;&#52;&#215;&#49;&#52;&#61;&#49;&#57;&#54;&#44;&#32;&#49;&#52;&#215;&#49;&#53;&#61;&#50;&#49;&#48;&#44;&#32;&#49;&#52;&#215;&#49;&#54;&#61;&#50;&#50;&#52;&#44;&#32;&#49;&#52;&#215;&#49;&#55;&#61;&#50;&#51;&#56;&#44;&#32;&#10;&#32;&#10;&#62;&#32;&#32;&#32;&#49;&#52;&#215;&#49;&#56;&#61;&#50;&#53;&#50;&#44;&#32;&#49;&#52;&#215;&#49;&#57;&#61;&#50;&#54;&#54;&#44;&#32;&#49;&#53;&#215;&#49;&#53;&#61;&#50;&#50;&#53;&#44;&#32;&#49;&#53;&#215;&#49;&#54;&#61;&#50;&#52;&#48;&#44;&#32;&#49;&#53;&#215;&#49;&#55;&#61;&#50;&#53;&#53;&#44;&#32;&#49;&#53;&#215;&#49;&#56;&#61;&#50;&#55;&#48;&#44;&#32;&#49;&#53;&#215;&#49;&#57;&#61;&#50;&#56;&#53;&#44;&#32;&#10;&#32;&#10;&#62;&#32;&#32;&#32;&#49;&#54;&#215;&#49;&#54;&#61;&#50;&#53;&#54;&#44;&#32;&#49;&#54;&#215;&#49;&#55;&#61;&#50;&#55;&#50;&#44;&#32;&#49;&#54;&#215;&#49;&#56;&#61;&#50;&#56;&#56;&#44;&#32;&#49;&#54;&#215;&#49;&#57;&#61;&#51;&#48;&#52;&#44;&#32;&#49;&#55;&#215;&#49;&#55;&#61;&#50;&#56;&#57;&#44;&#32;&#49;&#55;&#215;&#49;&#56;&#61;&#51;&#48;&#54;&#44;&#32;&#49;&#55;&#215;&#49;&#57;&#61;&#51;&#50;&#51;&#44;&#32;&#10;&#32;&#10;&#62;&#32;&#32;&#32;&#49;&#56;&#215;&#49;&#56;&#61;&#51;&#50;&#52;&#44;&#32;&#49;&#56;&#215;&#49;&#57;&#61;&#51;&#52;&#50;&#44;&#32;&#49;&#57;&#215;&#49;&#57;&#61;&#51;&#54;&#49;&#125;</pre></div>"
      ],
      "text/plain": [
       "{1×1=1, 1×2=2, 1×3=3, 1×4=4, 1×5=5, 1×6=6, 1×7=7, 1×8=8, 1×9=9, 1×10=10, 1×11=11, \n",
       " \n",
       ">   1×12=12, 1×13=13, 1×14=14, 1×15=15, 1×16=16, 1×17=17, 1×18=18, 1×19=19, 2×2=4, \n",
       " \n",
       ">   2×3=6, 2×4=8, 2×5=10, 2×6=12, 2×7=14, 2×8=16, 2×9=18, 2×10=20, 2×11=22, 2×12=24, \n",
       " \n",
       ">   2×13=26, 2×14=28, 2×15=30, 2×16=32, 2×17=34, 2×18=36, 2×19=38, 3×3=9, 3×4=12, \n",
       " \n",
       ">   3×5=15, 3×6=18, 3×7=21, 3×8=24, 3×9=27, 3×10=30, 3×11=33, 3×12=36, 3×13=39, 3×14=42, \n",
       " \n",
       ">   3×15=45, 3×16=48, 3×17=51, 3×18=54, 3×19=57, 4×4=16, 4×5=20, 4×6=24, 4×7=28, 4×8=32, \n",
       " \n",
       ">   4×9=36, 4×10=40, 4×11=44, 4×12=48, 4×13=52, 4×14=56, 4×15=60, 4×16=64, 4×17=68, \n",
       " \n",
       ">   4×18=72, 4×19=76, 5×5=25, 5×6=30, 5×7=35, 5×8=40, 5×9=45, 5×10=50, 5×11=55, 5×12=60, \n",
       " \n",
       ">   5×13=65, 5×14=70, 5×15=75, 5×16=80, 5×17=85, 5×18=90, 5×19=95, 6×6=36, 6×7=42, \n",
       " \n",
       ">   6×8=48, 6×9=54, 6×10=60, 6×11=66, 6×12=72, 6×13=78, 6×14=84, 6×15=90, 6×16=96, \n",
       " \n",
       ">   6×17=102, 6×18=108, 6×19=114, 7×7=49, 7×8=56, 7×9=63, 7×10=70, 7×11=77, 7×12=84, \n",
       " \n",
       ">   7×13=91, 7×14=98, 7×15=105, 7×16=112, 7×17=119, 7×18=126, 7×19=133, 8×8=64, 8×9=72, \n",
       " \n",
       ">   8×10=80, 8×11=88, 8×12=96, 8×13=104, 8×14=112, 8×15=120, 8×16=128, 8×17=136, \n",
       " \n",
       ">   8×18=144, 8×19=152, 9×9=81, 9×10=90, 9×11=99, 9×12=108, 9×13=117, 9×14=126, \n",
       " \n",
       ">   9×15=135, 9×16=144, 9×17=153, 9×18=162, 9×19=171, 10×10=100, 10×11=110, 10×12=120, \n",
       " \n",
       ">   10×13=130, 10×14=140, 10×15=150, 10×16=160, 10×17=170, 10×18=180, 10×19=190, \n",
       " \n",
       ">   11×11=121, 11×12=132, 11×13=143, 11×14=154, 11×15=165, 11×16=176, 11×17=187, \n",
       " \n",
       ">   11×18=198, 11×19=209, 12×12=144, 12×13=156, 12×14=168, 12×15=180, 12×16=192, \n",
       " \n",
       ">   12×17=204, 12×18=216, 12×19=228, 13×13=169, 13×14=182, 13×15=195, 13×16=208, \n",
       " \n",
       ">   13×17=221, 13×18=234, 13×19=247, 14×14=196, 14×15=210, 14×16=224, 14×17=238, \n",
       " \n",
       ">   14×18=252, 14×19=266, 15×15=225, 15×16=240, 15×17=255, 15×18=270, 15×19=285, \n",
       " \n",
       ">   16×16=256, 16×17=272, 16×18=288, 16×19=304, 17×17=289, 17×18=306, 17×19=323, \n",
       " \n",
       ">   18×18=324, 18×19=342, 19×19=361}"
      ]
     },
     "execution_count": 16,
     "metadata": {
      "text/html": [],
      "text/plain": []
     },
     "output_type": "execute_result"
    }
   ],
   "source": [
    "(* 例：生成从 1 到 n 的乘法表 *)\n",
    "times[x_, y_] := \n",
    "  ToString[x] <> \"\\[Times]\" <> ToString[y] <> \"=\" <> ToString[x y];\n",
    "timesTable[n_] := \n",
    "  times @@@ Sort[ReplaceList[Range[n], {{___, x_, ___} :> {x, x},\n",
    "      {___, x_, ___, y_, ___} :> {x, y}}]];\n",
    "timesTable[19]"
   ]
  },
  {
   "cell_type": "markdown",
   "metadata": {},
   "source": [
    "不安全的重写--赋值（$Set$）<br/>\n",
    "赋值与规则很大的一点不同是：赋值操作所定义的重写法则总是从属于某个符号的，而规则是独立存在的。"
   ]
  },
  {
   "cell_type": "code",
   "execution_count": 33,
   "metadata": {},
   "outputs": [],
   "source": [
    "x = 1;\n",
    "?x"
   ]
  },
  {
   "cell_type": "code",
   "execution_count": 35,
   "metadata": {},
   "outputs": [],
   "source": [
    "f[x_] := x^2;\n",
    "f[x_, y_] := x y;\n",
    "?f"
   ]
  },
  {
   "cell_type": "markdown",
   "metadata": {},
   "source": [
    "如果我们想取消之前赋的值，可以用 =. 运算符。<br/>运算符 =. 每次清掉一条赋值，如果想清空所有赋值，可以用 Clear 函数："
   ]
  },
  {
   "cell_type": "code",
   "execution_count": 17,
   "metadata": {},
   "outputs": [],
   "source": [
    "Clear[f]"
   ]
  },
  {
   "cell_type": "markdown",
   "metadata": {},
   "source": [
    "Clear 的作用是清掉规则，之后这个符号还存在于系统中，还占用着内存。如果想完全移除这个变量，将它占用的内存释放掉，则应该用 Remove："
   ]
  },
  {
   "cell_type": "code",
   "execution_count": 18,
   "metadata": {},
   "outputs": [],
   "source": [
    "Remove[f]"
   ]
  },
  {
   "cell_type": "markdown",
   "metadata": {},
   "source": [
    "(* 赋值行为可以是以其它形式出现的 *)<br/>\n",
    "i -= di<br/>\n",
    "x *= c<br/>\n",
    "x = y = value<br/>\n",
    "{x, y} = {value1, value2}<br/>\n",
    "{x, y} = {y, x}"
   ]
  },
  {
   "cell_type": "code",
   "execution_count": 28,
   "metadata": {},
   "outputs": [
    {
     "data": {
      "text/html": [
       "<style>\n",
       "\t\t\t\t\t\t\t\t\t\t\t\t\t.grid-container {\n",
       "\t\t\t\t\t\t\t\t\t\t\t\t\t\tdisplay: inline-grid;\n",
       "\t\t\t\t\t\t\t\t\t\t\t\t\t\tgrid-template-columns: auto;\n",
       "\t\t\t\t\t\t\t\t\t\t\t\t\t}\n",
       "\t\t\t\t\t\t\t\t\t\t\t\t</style>\n",
       "\n",
       "\t\t\t\t\t\t\t\t\t\t\t\t<div><div class=\"grid-container\"><div class=\"grid-item\"><pre style=\"&#102;&#111;&#110;&#116;&#45;&#102;&#97;&#109;&#105;&#108;&#121;&#58;&#32;&#34;&#67;&#111;&#117;&#114;&#105;&#101;&#114;&#32;&#78;&#101;&#119;&#34;&#44;&#67;&#111;&#117;&#114;&#105;&#101;&#114;&#44;&#109;&#111;&#110;&#111;&#115;&#112;&#97;&#99;&#101;&#59;\">&#123;&#97;&#44;&#32;&#98;&#44;&#32;&#99;&#44;&#32;&#100;&#125;</pre></div><div class=\"grid-item\"><pre style=\"&#102;&#111;&#110;&#116;&#45;&#102;&#97;&#109;&#105;&#108;&#121;&#58;&#32;&#34;&#67;&#111;&#117;&#114;&#105;&#101;&#114;&#32;&#78;&#101;&#119;&#34;&#44;&#67;&#111;&#117;&#114;&#105;&#101;&#114;&#44;&#109;&#111;&#110;&#111;&#115;&#112;&#97;&#99;&#101;&#59;\">&#123;&#122;&#44;&#32;&#97;&#44;&#32;&#98;&#44;&#32;&#99;&#44;&#32;&#100;&#125;</pre></div></div></div>"
      ],
      "text/plain": [
       "{a, b, c, d}\n",
       "{z, a, b, c, d}"
      ]
     },
     "execution_count": 30,
     "metadata": {
      "text/html": [],
      "text/plain": []
     },
     "output_type": "execute_result"
    }
   ],
   "source": [
    "(* 有一些函数可以改变其参数的值： *)\n",
    "list = {a, b, c};\n",
    "AppendTo[list, d]\n",
    "PrependTo[list, z]\n",
    "(* AppendTo 和 PrependTo 这两个函数是比较慢的。对于比较长的表，尽量不要反复用它们。 *)"
   ]
  },
  {
   "cell_type": "markdown",
   "metadata": {},
   "source": [
    "在 Mathematica 中，比起用表存储数组更好的做法是把数组视为从自然数集到其它集合的函数："
   ]
  },
  {
   "cell_type": "code",
   "execution_count": 33,
   "metadata": {},
   "outputs": [
    {
     "data": {
      "text/html": [
       "<div><img alt=\"Output\" src=\"data:image/png;base64,iVBORw0KGgoAAAANSUhEUgAAARUAAAAPCAIAAABFtsz8AAAAhXpUWHRSYXcgcHJvZmlsZSB0eXBlIGV4aWYAAHjaVYvBDcMwDAP/mqIjyLJM2uMYiQNkg45fuu0n9yApgbT1vi97felp2dgxABc5csRU6P6juNciDXn+X9MfZGWgoRhTluEkhnJXkqKFN+LCAahYcIbnIV8gNQN3o86928QyPusLVffpbh/5eCey76LuBgAAAAlwSFlzAAALEwAACxMBAJqcGAAAADx0RVh0U29mdHdhcmUAQ3JlYXRlZCB3aXRoIHRoZSBXb2xmcmFtIExhbmd1YWdlIDogd3d3LndvbGZyYW0uY29tXKKmhQAAACF0RVh0Q3JlYXRpb24gVGltZQAyMDIyOjA1OjIwIDA5OjA3OjQ4xQQ1aAAAA1FJREFUaIHtmjuOqzAUhg93JUZppsgiQGmC0mYH0ETTgmYNo6SNpsE7mHYUmggvgiINytmJbwEB8wj4AcpcXf5qkpzH52OO7Thjcc5h0aJFWvrzaoBFi/5hLf2zaJG+Wv2D+BKKMSGiFJms3exagOfWa4A7oYT+QRrR1sdIPcuyrIipJdHyei7GWlgssh7yOsjX9jujKnn7oumpDVwn6KmLOvDQ8PXUAhYS9CBrVLjwo95kT0XnkRCYOxmUgYfmi0ZUfC32z2rnO6RBdICve7xVyq3nNSZCiEDmHHmhewzBQShOw0pSSA+3j95oJiJtlDAtmfnRaZipx346fBOJwFUCzjlPQ9i+EcFMLz6L7O91OOFTIQIj9VwoC5yC6xk+EgDP58vfQV5HH/r+4xz5xVdOrufVWPLUlqj1Sj2bKOJfygqR1RqSG8q56QNPK+nh6wEj/TyFHxoT2k7uZvHX+5uajzQw3pJw5xR/O7sw+b6iHqeyfsv9Qb3k3ePMHZ3fsrb29/4uLg9mwjyDahrGpAgMJ3fCE5fO8FWBi0TnAOJ32RRPo0RuFn+pNqEa8OmnMED6edJh7MSTm6+qf5DlOZkisaaq1cYOknHrR20/bvZUqz+L7GCdynejAjDxL8KJyzYH1hq+WoUBptp8WORCanQmGQV2jvc4Kx74A+xDPc5ag/PlrEDY3R79g5iD4UHIRCxys/heIisckp1dCJl4HtUTUs9yIeUq3aMFTDb77RTApRSGrw6M9DDB5oP08/RYzO0ggZMruQerAVeP/GUDmfGZvg7bM18E4Frdwz36hzj+CphkVBbpHPoHvDDPKquz7OoIAMB+Ttv9hhikBkDq2cG6p3lmAGbnIDEGFsyaw58UmJ2DRH7zeZq6XsuLPghTXn9Bnr7C0k0vV+Ge+WJX2Pj1pYRw0ZKmXFTa2gfrG4liPQib5kZetds2jsOW0QDYtlyhhA/jzluDqTtr2wzAQg5z4IHhTwZchOqy6gE3jBomM1S4J5gysMJ8DfTPgNJwtFaTeSmBPSnWAjzitwBrRhPv3/Kfzq9SXSH1LMvNYrV7Lz2vSbQAz63/BLj0zW/iS4uL/3+NjAFxdH8im0uIDBGAOOKvuwZ2s2sBnlsvAu72x19J4xVEFbfF1gAAAABJRU5ErkJggg==\"></div>"
      ],
      "text/plain": [
       "{1, 1, a[3], 2, a[5], 3, a[7], 4, a[9], 5}"
      ]
     },
     "execution_count": 35,
     "metadata": {
      "text/html": [],
      "text/plain": []
     },
     "output_type": "execute_result"
    }
   ],
   "source": [
    "a[1] = 1;\n",
    "a[n_] := n/2 /; EvenQ[n];\n",
    "Array[a, 10]"
   ]
  },
  {
   "cell_type": "markdown",
   "metadata": {},
   "source": [
    "这样做的好处是，函数对象不需要初始化，也不需要指定尺寸。"
   ]
  },
  {
   "cell_type": "code",
   "execution_count": 48,
   "metadata": {},
   "outputs": [
    {
     "data": {
      "text/html": [
       "<style>\n",
       "\t\t\t\t\t\t\t\t\t\t\t\t\t.grid-container {\n",
       "\t\t\t\t\t\t\t\t\t\t\t\t\t\tdisplay: inline-grid;\n",
       "\t\t\t\t\t\t\t\t\t\t\t\t\t\tgrid-template-columns: auto;\n",
       "\t\t\t\t\t\t\t\t\t\t\t\t\t}\n",
       "\t\t\t\t\t\t\t\t\t\t\t\t</style>\n",
       "\n",
       "\t\t\t\t\t\t\t\t\t\t\t\t<div><div class=\"grid-container\"><div class=\"grid-item\"><img alt=\"Output\" src=\"data:image/png;base64,iVBORw0KGgoAAAANSUhEUgAAAIEAAAAPCAIAAABMeDuvAAAAhXpUWHRSYXcgcHJvZmlsZSB0eXBlIGV4aWYAAHjaVYvBDcMwDAP/mqIjyLJM2uMYiQNkg45fuu0n9yApgbT1vi97felp2dgxABc5csRU6P6juNciDXn+X9MfZGWgoRhTluEkhnJXkqKFN+LCAahYcIbnIV8gNQN3o86928QyPusLVffpbh/5eCey76LuBgAAAAlwSFlzAAALEwAACxMBAJqcGAAAADx0RVh0U29mdHdhcmUAQ3JlYXRlZCB3aXRoIHRoZSBXb2xmcmFtIExhbmd1YWdlIDogd3d3LndvbGZyYW0uY29tXKKmhQAAACF0RVh0Q3JlYXRpb24gVGltZQAyMDIyOjA1OjIwIDA5OjExOjEx2aQP5QAAAj1JREFUWIXtmDGyqjAUhg9vJXFsXuEiwtjI0N4dQOPcloxruKPtndeQHdg62jBkERQ2jGcn5xUECEFRwCu38K9ITkg+8p8TMzpEBG9Nqj9TA7z19uAXyPIAcdAsSjiFhBpN9AP6XXitPTY8QCmkHX5QfEtEl3g1kApQenqXvKEIXRqLV/I9y0IppDmT6cHcDzh7ziq9hHJ93hAR0SWGcP0TLoyREs4a/o2xsCnGAh9yrDtu/h6g9MykVEK3qrq+lxdKVHGUXuPZep0Fxy0vnuYLOJ0R7uuFeHxLx4A9wNQCdB5juekBCzbRaZ+gJj7sok3AQNe1TtrM7VudSsx0yhOl4NonD+YZRD5/YKJJ8PqIBcdyomgVX3SSXVXlAao8Z40Q98uvRPm1q7amyrRZeOoLhnkGO1e/7+6sqBKzcJF20U6KN0govYPfKiM+hzJ9oPYAMYe5PfIzhn2CgMke4k8OAABKuFl80YnW+4TE82ml3yYiMmocpee4kNKjDrwYb6CUmJ031z6JASTV/aj0gPFgDsoeufyAfaKSPXwsCxrMs2r+77uJluUIACjX5UjuR6fw214GUHqzcHHFACW6jtJX4d1UNx4o8fX3+iGkElgGjJXN2vU0TamlNAKAKLU6AABWcRzpiJ1yVq8xsjm2SLpWwtbLFSFz+dfj1VP2wrMWbdQXpbHZvOfBxEqjTgum1lC8pgfmvSg/KLxSOBMJpec4btZ9pZhOY/AwP5tNh8z/TVEpYLw+qN56vtp7/B/66NUURKWxpAAAAABJRU5ErkJggg==\"></div><div class=\"grid-item\"><img alt=\"Output\" src=\"data:image/png;base64,iVBORw0KGgoAAAANSUhEUgAAABwAAAAPCAIAAAB4LTj2AAAAhXpUWHRSYXcgcHJvZmlsZSB0eXBlIGV4aWYAAHjaVYvBDcMwDAP/mqIjyLJM2uMYiQNkg45fuu0n9yApgbT1vi97felp2dgxABc5csRU6P6juNciDXn+X9MfZGWgoRhTluEkhnJXkqKFN+LCAahYcIbnIV8gNQN3o86928QyPusLVffpbh/5eCey76LuBgAAAAlwSFlzAAALEwAACxMBAJqcGAAAADx0RVh0U29mdHdhcmUAQ3JlYXRlZCB3aXRoIHRoZSBXb2xmcmFtIExhbmd1YWdlIDogd3d3LndvbGZyYW0uY29tXKKmhQAAACF0RVh0Q3JlYXRpb24gVGltZQAyMDIyOjA1OjIwIDA5OjExOjEx2aQP5QAAAMVJREFUOI3lkzEOgjAUhv8aDyI3aTcbV28gi2Et4RB0NS7tDViNbPQQDCyEd5M6UEw6QCSyGL+p+fvyv/c3r8x7j63Zbe74W6ZkJYuRlr519YFGQTV+G2bju5zl9p0id5PmxmuyMjpHdUtvqivcQwr9cPPdk66Y4kJIS4umqrgcAAC89CWfKaK+hRZhUKEBAPsF04+grj6a4Rnaj6xdqbYnAGSvaT0K/KTq9OaiolWmPDNIE8ZYUp2NmsRyMK2I9pH9999/AYVknc1lM5hoAAAAAElFTkSuQmCC\"></div></div></div>"
      ],
      "text/plain": [
       "{value2, value1, z}\n",
       "True"
      ]
     },
     "execution_count": 48,
     "metadata": {
      "text/html": [],
      "text/plain": []
     },
     "output_type": "execute_result"
    }
   ],
   "source": [
    "b = {x, y, z}\n",
    "b[[1]] == x"
   ]
  },
  {
   "cell_type": "markdown",
   "metadata": {},
   "source": [
    "另外，函数的自变量可以是任何东西，所以可以实现一些更有趣的结构。"
   ]
  },
  {
   "cell_type": "code",
   "execution_count": 50,
   "metadata": {},
   "outputs": [
    {
     "data": {
      "text/html": [
       "<style>\n",
       "\t\t\t\t\t\t\t\t\t\t\t\t\t.grid-container {\n",
       "\t\t\t\t\t\t\t\t\t\t\t\t\t\tdisplay: inline-grid;\n",
       "\t\t\t\t\t\t\t\t\t\t\t\t\t\tgrid-template-columns: auto;\n",
       "\t\t\t\t\t\t\t\t\t\t\t\t\t}\n",
       "\t\t\t\t\t\t\t\t\t\t\t\t</style>\n",
       "\n",
       "\t\t\t\t\t\t\t\t\t\t\t\t<div><div class=\"grid-container\"><div class=\"grid-item\"><img alt=\"Output\" src=\"data:image/png;base64,iVBORw0KGgoAAAANSUhEUgAAAEcAAAApCAIAAADoLKNiAAAAhXpUWHRSYXcgcHJvZmlsZSB0eXBlIGV4aWYAAHjaVYvBDcMwDAP/mqIjyLJM2uMYiQNkg45fuu0n9yApgbT1vi97felp2dgxABc5csRU6P6juNciDXn+X9MfZGWgoRhTluEkhnJXkqKFN+LCAahYcIbnIV8gNQN3o86928QyPusLVffpbh/5eCey76LuBgAAAAlwSFlzAAALEwAACxMBAJqcGAAAADx0RVh0U29mdHdhcmUAQ3JlYXRlZCB3aXRoIHRoZSBXb2xmcmFtIExhbmd1YWdlIDogd3d3LndvbGZyYW0uY29tXKKmhQAAACF0RVh0Q3JlYXRpb24gVGltZQAyMDIyOjA1OjIwIDA5OjE2OjE3rRCSaQAAAiNJREFUaIHtWLFuwjAQvVT9AD4hVZcOfASoi6Ou/YOyoC4MjlhZUVmrLvZnVIzmM7rZf3IdTJKz4xAqJUGu/BbC4+5873JnEmeICP8Od7dO4BoYWWTl6Q8ORJWRRWZRSHORDOJUZjXOKTTODUnNqG1l/Kfse1UZuf7ZIiKiFrBaWwlBskPTEhRaKH7Y16a8YvFjAQCw+MAGigN7yq3WNXxpwQaQBACAbShOk7lENtCCARO6StVeacH6fJyfu+wb3uo+2yhOhZzXRETEgKpg7J4E6SqNGa09XbQ298geVYrTMMS9Fam1W5zKh9Vc2W65TDowsshsDypYVjOYvx3rvGD14IyMkfsD377l1/bUYZktQeHxOg+/Jq1iBcmOatZVDEYh9fS+hqK0eD8saUA/FDiu10tSHPxeq0KHMnabp2tI++aKZqMFa5fFV9XafuooPknMaQbUtuIJRzMIyHYH35dM1CpeB3N9HI/QHhgF3Nvt7RdRPFv04vR9gPlj3hA3KPMwcMbDa+gM09NtLEiq4kFSFQ/u7cdut7tpGgNgs9nMZjN7nXb2eJBUxYOkKh4kVfFgSlVGlkVRFGXPIfAQmPI9T2vsOUYZCFPeqzzP7YXzMj4Gpp4rIz9/tpeOSwfBpKqMLD/hfXRNMM5cacGYEPbkTnAAe8Zlj/IYY4zxkQdrLFVAjvun2B9cjNaB/GUBAMBen/OxluhG+heOB/9TVXrDjwe/zdig3PfWCBQAAAAASUVORK5CYII=\"></div><div class=\"grid-item\"><img alt=\"Output\" src=\"data:image/png;base64,iVBORw0KGgoAAAANSUhEUgAAAEcAAAApCAIAAADoLKNiAAAAhXpUWHRSYXcgcHJvZmlsZSB0eXBlIGV4aWYAAHjaVYvBDcMwDAP/mqIjyLJM2uMYiQNkg45fuu0n9yApgbT1vi97felp2dgxABc5csRU6P6juNciDXn+X9MfZGWgoRhTluEkhnJXkqKFN+LCAahYcIbnIV8gNQN3o86928QyPusLVffpbh/5eCey76LuBgAAAAlwSFlzAAALEwAACxMBAJqcGAAAADx0RVh0U29mdHdhcmUAQ3JlYXRlZCB3aXRoIHRoZSBXb2xmcmFtIExhbmd1YWdlIDogd3d3LndvbGZyYW0uY29tXKKmhQAAACF0RVh0Q3JlYXRpb24gVGltZQAyMDIyOjA1OjIwIDA5OjE2OjE3rRCSaQAAAiNJREFUaIHtWLFuwjAQvVT9AD4hVZcOfASoi6Ou/YOyoC4MjlhZUVmrLvZnVIzmM7rZf3IdTJKz4xAqJUGu/BbC4+5873JnEmeICP8Od7dO4BoYWWTl6Q8ORJWRRWZRSHORDOJUZjXOKTTODUnNqG1l/Kfse1UZuf7ZIiKiFrBaWwlBskPTEhRaKH7Y16a8YvFjAQCw+MAGigN7yq3WNXxpwQaQBACAbShOk7lENtCCARO6StVeacH6fJyfu+wb3uo+2yhOhZzXRETEgKpg7J4E6SqNGa09XbQ298geVYrTMMS9Fam1W5zKh9Vc2W65TDowsshsDypYVjOYvx3rvGD14IyMkfsD377l1/bUYZktQeHxOg+/Jq1iBcmOatZVDEYh9fS+hqK0eD8saUA/FDiu10tSHPxeq0KHMnabp2tI++aKZqMFa5fFV9XafuooPknMaQbUtuIJRzMIyHYH35dM1CpeB3N9HI/QHhgF3Nvt7RdRPFv04vR9gPlj3hA3KPMwcMbDa+gM09NtLEiq4kFSFQ/u7cdut7tpGgNgs9nMZjN7nXb2eJBUxYOkKh4kVfFgSlVGlkVRFGXPIfAQmPI9T2vsOUYZCFPeqzzP7YXzMj4Gpp4rIz9/tpeOSwfBpKqMLD/hfXRNMM5cacGYEPbkTnAAe8Zlj/IYY4zxkQdrLFVAjvun2B9cjNaB/GUBAMBen/OxluhG+heOB/9TVXrDjwe/zdig3PfWCBQAAAAASUVORK5CYII=\"></div></div></div>"
      ],
      "text/plain": [
       "22.8571 kg\n",
       "----------\n",
       "     2\n",
       "    m\n",
       "22.8571 kg\n",
       "----------\n",
       "     2\n",
       "    m"
      ]
     },
     "execution_count": 53,
     "metadata": {
      "text/html": [],
      "text/plain": []
     },
     "output_type": "execute_result"
    }
   ],
   "source": [
    "张三[身高] = 1.75 m;\n",
    "张三[体重] = 70 kg;\n",
    "谁_[BMI] ^:= 谁[体重]/谁[身高]^2;\n",
    "张三[BMI]\n",
    "(* 这种写法实际上体现了一种面向对象编程的想法，下面是另一种更花哨的写法： *)\n",
    "张三 /: 张三.身高 = 1.75 m;\n",
    "张三 /: 张三.体重 = 70 kg;\n",
    "BMI /: (谁_).BMI := (谁.体重)/(谁.身高)^2\n",
    "张三.BMI"
   ]
  },
  {
   "cell_type": "markdown",
   "metadata": {},
   "source": [
    "这里新出现的两个运算符 ^:= 和 /:<br/>\n",
    "同时值得一提的是mma拥有极好的量纲系统与字符串计算能力"
   ]
  },
  {
   "cell_type": "markdown",
   "metadata": {},
   "source": [
    "赋值和规则另一个重大的不同是：多次赋值产出的规则表是按照从特殊到一般的顺序来应用的，而与它们出现的先后无关；规则表则不同，应用顺序等于它们在表中的排列顺序。"
   ]
  },
  {
   "cell_type": "code",
   "execution_count": 59,
   "metadata": {},
   "outputs": [
    {
     "data": {
      "text/html": [
       "<style>\n",
       "\t\t\t\t\t\t\t\t\t\t\t\t\t.grid-container {\n",
       "\t\t\t\t\t\t\t\t\t\t\t\t\t\tdisplay: inline-grid;\n",
       "\t\t\t\t\t\t\t\t\t\t\t\t\t\tgrid-template-columns: auto;\n",
       "\t\t\t\t\t\t\t\t\t\t\t\t\t}\n",
       "\t\t\t\t\t\t\t\t\t\t\t\t</style>\n",
       "\n",
       "\t\t\t\t\t\t\t\t\t\t\t\t<div><div class=\"grid-container\"><div class=\"grid-item\"><pre style=\"&#102;&#111;&#110;&#116;&#45;&#102;&#97;&#109;&#105;&#108;&#121;&#58;&#32;&#34;&#67;&#111;&#117;&#114;&#105;&#101;&#114;&#32;&#78;&#101;&#119;&#34;&#44;&#67;&#111;&#117;&#114;&#105;&#101;&#114;&#44;&#109;&#111;&#110;&#111;&#115;&#112;&#97;&#99;&#101;&#59;\">&#123;&#49;&#44;&#32;&#51;&#125;</pre></div><div class=\"grid-item\"><pre style=\"&#102;&#111;&#110;&#116;&#45;&#102;&#97;&#109;&#105;&#108;&#121;&#58;&#32;&#34;&#67;&#111;&#117;&#114;&#105;&#101;&#114;&#32;&#78;&#101;&#119;&#34;&#44;&#67;&#111;&#117;&#114;&#105;&#101;&#114;&#44;&#109;&#111;&#110;&#111;&#115;&#112;&#97;&#99;&#101;&#59;\">&#123;&#49;&#44;&#32;&#51;&#125;</pre></div><div class=\"grid-item\"><pre style=\"&#102;&#111;&#110;&#116;&#45;&#102;&#97;&#109;&#105;&#108;&#121;&#58;&#32;&#34;&#67;&#111;&#117;&#114;&#105;&#101;&#114;&#32;&#78;&#101;&#119;&#34;&#44;&#67;&#111;&#117;&#114;&#105;&#101;&#114;&#44;&#109;&#111;&#110;&#111;&#115;&#112;&#97;&#99;&#101;&#59;\">&#123;&#49;&#44;&#32;&#51;&#125;</pre></div><div class=\"grid-item\"><pre style=\"&#102;&#111;&#110;&#116;&#45;&#102;&#97;&#109;&#105;&#108;&#121;&#58;&#32;&#34;&#67;&#111;&#117;&#114;&#105;&#101;&#114;&#32;&#78;&#101;&#119;&#34;&#44;&#67;&#111;&#117;&#114;&#105;&#101;&#114;&#44;&#109;&#111;&#110;&#111;&#115;&#112;&#97;&#99;&#101;&#59;\">&#123;&#50;&#44;&#32;&#51;&#125;</pre></div></div></div>"
      ],
      "text/plain": [
       "{1, 3}\n",
       "{1, 3}\n",
       "{1, 3}\n",
       "{2, 3}"
      ]
     },
     "execution_count": 61,
     "metadata": {
      "text/html": [],
      "text/plain": []
     },
     "output_type": "execute_result"
    }
   ],
   "source": [
    "f[1] = 1;\n",
    "f[n_] := n + 1;\n",
    "{f[1], f[2]}\n",
    "\n",
    "g[n_] := n + 1;\n",
    "g[1] = 1;\n",
    "{g[1], g[2]}\n",
    "\n",
    "{h[1], h[2]} /. {h[1] -> 1, h[n_] :> n + 1}\n",
    "{h[1], h[2]} /. {h[n_] :> n + 1, h[1] -> 1}\n",
    "?f\n",
    "?g"
   ]
  },
  {
   "cell_type": "markdown",
   "metadata": {},
   "source": [
    "如果要使用很长的规则表 ${p1->r1, p2->r2, ......}$，最好用 Mathematica 的内部函数 Dispatch 压缩一下，这样可以提高替换的效率。"
   ]
  },
  {
   "cell_type": "code",
   "execution_count": 69,
   "metadata": {},
   "outputs": [
    {
     "data": {
      "text/html": [
       "<style>\n",
       "\t\t\t\t\t\t\t\t\t\t\t\t\t.grid-container {\n",
       "\t\t\t\t\t\t\t\t\t\t\t\t\t\tdisplay: inline-grid;\n",
       "\t\t\t\t\t\t\t\t\t\t\t\t\t\tgrid-template-columns: auto;\n",
       "\t\t\t\t\t\t\t\t\t\t\t\t\t}\n",
       "\t\t\t\t\t\t\t\t\t\t\t\t</style>\n",
       "\n",
       "\t\t\t\t\t\t\t\t\t\t\t\t<div><div class=\"grid-container\"><div class=\"grid-item\"><img alt=\"Output\" src=\"data:image/png;base64,iVBORw0KGgoAAAANSUhEUgAAAGgAAAAPCAIAAACHjx0UAAAAhXpUWHRSYXcgcHJvZmlsZSB0eXBlIGV4aWYAAHjaVYvBDcMwDAP/mqIjyLJM2uMYiQNkg45fuu0n9yApgbT1vi97felp2dgxABc5csRU6P6juNciDXn+X9MfZGWgoRhTluEkhnJXkqKFN+LCAahYcIbnIV8gNQN3o86928QyPusLVffpbh/5eCey76LuBgAAAAlwSFlzAAALEwAACxMBAJqcGAAAADx0RVh0U29mdHdhcmUAQ3JlYXRlZCB3aXRoIHRoZSBXb2xmcmFtIExhbmd1YWdlIDogd3d3LndvbGZyYW0uY29tXKKmhQAAACF0RVh0Q3JlYXRpb24gVGltZQAyMDIyOjA1OjIwIDA5OjI0OjEzR9TkKwAAArdJREFUWIXtWD3OozAQHe9JjGhScAijNCBabgBN9LVGOQNK2uhr8A1oo9AgfAiKNAjfxFsYjAk/Iav9lF0pr0rG4/l5mTeWgqSU8MHr+PXuAv5XfIj7QzwQJ8RbqngHeIIUEv7ECDBDjEGcYAkbHwvmd3H8h5PFKsycg9EoYymmdu7NRshn2cdBem/B/En/BshJStlm3nOjAkuYGcwkzg4igo3v7HA/SimlbDOIDyvF88SFSipU9JwyASCYr40VuF03PLFiR1nbMLe6vgTzUbprlfMtwkMPW7KP4XmQl1udtwPjKIDGiLuy43B0OxH1yXaguC9Xg3eeYguAX89euMcA4l7QQF0HEtAiL4U6zb4IAIAo8wLOVw4A/BJD9t3xNQ/HXjsdITyG+YWbFp7oyXsyhS9g0+Mgmho0CzPA0U0e7xZCCF0DPTIdLQCCpWcdx7ExAE+QlYcZhboRIJraC+3Sn8iyE6uVh+1pOfm0mn1Yd5l/EJo4wZsGz7ooea2VLpiPlC4rcLvWyanNahchhNABQjqKh1yo5C2ytamIU/hWqnYGWfZiPd6tl8YER0dIN2t7M4gNxg7oiROigRk59JSs/uKizAuqmCWnihaxUgqObt3W2oOaNGw7cHbTXStPxJg/AE8rlQR0shRIoEbzhR4DJ76UL1zYBAxQ6te1Jw6TyAY+dhTMt2JnhjWeTB7svjHR1ODt8DjMIQa12UhAQa1AAH6J1RbE+xA6rkGw9Pxw3dibi9knIF9ZneeP5Ql2iIvVe2vgJewjrMuQGlVVSQOTR5lWoxNazfv29sFmehpmL2tn7vfO1aBuw3E+/dACHZwrqr10eC/L6KPNzDtr1MEzs45l4v5dVHSBtx9OOyLOfFWbKxfbJ/ctEMxHyK2zl57Zv5S6uZtfkTT/HRGcAyaDjj/oMCXmNzs9Wrx1bsK2AAAAAElFTkSuQmCC\"></div><div class=\"grid-item\"><img alt=\"Output\" src=\"data:image/png;base64,iVBORw0KGgoAAAANSUhEUgAAAEUAAAAPCAIAAAA9LJV0AAAAhXpUWHRSYXcgcHJvZmlsZSB0eXBlIGV4aWYAAHjaVYvBDcMwDAP/mqIjyLJM2uMYiQNkg45fuu0n9yApgbT1vi97felp2dgxABc5csRU6P6juNciDXn+X9MfZGWgoRhTluEkhnJXkqKFN+LCAahYcIbnIV8gNQN3o86928QyPusLVffpbh/5eCey76LuBgAAAAlwSFlzAAALEwAACxMBAJqcGAAAADx0RVh0U29mdHdhcmUAQ3JlYXRlZCB3aXRoIHRoZSBXb2xmcmFtIExhbmd1YWdlIDogd3d3LndvbGZyYW0uY29tXKKmhQAAACF0RVh0Q3JlYXRpb24gVGltZQAyMDIyOjA1OjIwIDA5OjI0OjEzR9TkKwAAAaFJREFUSIndlj9ugzAUxh89iSOWDhzCURYQKzeApcpqK2eIkjWbfQPWqFmQfQiGLoh3E3cggPmXhNCqVX6bn63vfZ9tLBxjDLwQb39t4Id58TyIf+LCQnOngus7RYARv1YelFx2p1EGV52gN/OEx1oCZTCwZUEPxphS+PeLFZJLW8zO44YxJbaLVeIpY4wxZZSubnh4AN+HNMMlCqMQEodQWLrT348+H32xpQAAmKUXOJ71ks7RLkpPHQXNm3O6c2YzmMyDRQ6eSwA0d1ZpJBjk9j7Mh2yifNmWPEKTB3VRkMG05s4alPmM3eWtSLyD/aLvcBTqgnWR6zyIBbjE7u56cFzv30tzoNZpLWsdeskpWygygABkzTtX5yE0dkF3mzPwow0BANCn5MJCWk9pPvJ0jhZ70K3I07QdV1cY5UdymZfB7pvBJiakHpoGpZTp0r6Qvij7ZabGFverlTJrBRRrVjXyvhCsX7vC1FSxERe2t5t55qHYRJzfpZvHft+Ks8bnzhxl4DjrXJQH+pzA82DxZQ8dY/9fo9ZAaHsZ/ztDv9+umO4xop39IAAAAABJRU5ErkJggg==\"></div></div></div>"
      ],
      "text/plain": [
       "{2.89063, Null}\n",
       "{0., Null}"
      ]
     },
     "execution_count": 71,
     "metadata": {
      "text/html": [],
      "text/plain": []
     },
     "output_type": "execute_result"
    }
   ],
   "source": [
    "rules = Table[x[i] -> RandomInteger[{1, i}], {i, 10000}];\n",
    "dispatch = Dispatch[rules];\n",
    "\n",
    "Timing[Table[x[i] /. rules, {i, 10000}];]\n",
    "Timing[Table[x[i] /. dispatch, {i, 10000}];]"
   ]
  },
  {
   "cell_type": "code",
   "execution_count": 73,
   "metadata": {},
   "outputs": [
    {
     "data": {
      "text/html": [
       "<div><img alt=\"Output\" src=\"data:image/png;base64,iVBORw0KGgoAAAANSUhEUgAAAMYAAAA2CAIAAAATa3ETAAAAhXpUWHRSYXcgcHJvZmlsZSB0eXBlIGV4aWYAAHjaVYvBDcMwDAP/mqIjyLJM2uMYiQNkg45fuu0n9yApgbT1vi97felp2dgxABc5csRU6P6juNciDXn+X9MfZGWgoRhTluEkhnJXkqKFN+LCAahYcIbnIV8gNQN3o86928QyPusLVffpbh/5eCey76LuBgAAAAlwSFlzAAALEwAACxMBAJqcGAAAADx0RVh0U29mdHdhcmUAQ3JlYXRlZCB3aXRoIHRoZSBXb2xmcmFtIExhbmd1YWdlIDogd3d3LndvbGZyYW0uY29tXKKmhQAAACF0RVh0Q3JlYXRpb24gVGltZQAyMDIyOjA1OjIwIDA5OjI1OjEwZmHS9AAAB+VJREFUeJztnc9rGmkYx5830bhpQVa7wemlmsbStDGHQqiwhjJ2KzVt6KG79CxoDmX3sIeI7F+wSDz0UnqIgv+AhaSGtKTdTJdky7S9NVKbjVUCgZbsKgghO4n67mFGHX+M+eGoGfN+TjPvPO8PnW+e55nX950gjDEQCPKh6vQAZCCfz+/s7HAcBwAIAABEfyWo4ky4TmgArvzOqr5A0Gg0Z8+e7e3tlaqPlO6l8vl8OpPW9H2jVqsQIoppLRjj3H7uP47T63VSqlK8pLLZLAKk7lN3eiCniL29PQDQarV1r/a0dzDys7+3p1J3Q/hWEGq1en8/J3VV8ZIChEi8azMIIYCC1FXFS4qoqSM0+DNWvKSAuKjO0L2SQsRPdYLu9lKdHsDpRPprV76kCCcM8vgtycuXL2Vpx2az9ff3y9LU0dmI+lcGplxWffu6JJJqhM1ma7KF1dXVhtfTbHh2e9w3aW6yHxnYDN+7/HBJOPn1xe7vN47XDgl83UeaDfujG0eulvq05HjyaZfnuHoCIimCmJGLF5pvRIGBL8WEXiUAhn5w06ZOjwUAPnz4YDQapX7wOhYbUX8kBgAABprPgzai/pUB+juGiYkKxZYGmv6O+Tgw5Tr3F18S8ccM9JTrHADA31E/EwMAGPnRN2mGNBue/XilOsHa/ByDR4/6HwEcIewJ96LiZihRUjDkdtOdHkWJM2fOPH369P79+zKpik+ofT498JlW9ByfaX1ltsd9vklIs+HZefaSy6rfiPoj8KPPZxYsAWgA86RvaqCcn21UVlxhvzdb6/d7wTW/6wIAPqm6F/407zrYZZlot5sGJhQCoItlCpTUCWNgYCCbzcqmqo14DL7CrJ8pFhj+TYMZAAz092YAAP2lK4aPgqWBnhLyer11fIRZqdtiTUW91eWT0BUAAFxwTf/6MPDHpusQmqoDkVSzaLVajUYjp6pEga1Iutk22whJz2WAoigA4FWVzWabass8PPKV+av4vLYRlX50q7BMsyuxw3aRZsP+MFut0s3NTeHoz99uP3Lcv3ncTJ14qYNhWXZra8tiseRyuXg8DgAURV28eJFl2Xw+DwDptHB/juerYhG/IAcDPeWyTk7R4Vm/HwD4fFqynllkaaDpEfjIl+svXTEw4vT8cPzxS78wLeV4cqhESoKGqzpToYlBj2UZz9DHbf6YMF60cFeqW4ZhaLp0KZPJNJibPswM+K1bt6TqlqY6WZZlWXZ0dPT8+fOvX7/mOI6iqOvXrzMMU+uWtFptSVWrq6ttmj1v7zz57n+7um91wgkTCpncbpNw1gOMF5XxMq0dSSo00fI+WoHVan3w4EEikXj37t3t27cpivry5cuLFy/Gx8eHhoaqjOWJgAeTZsPRcoSMxAxXLrXxdxdJegAAnMEkxhjjZHDNLr7jJvcibr+LkhkkWvbpcDgcDkep8EjLQSmKcjgcmUzmzZs3N2/e1Gg0HMe9evXKZrPpdLoq42w2+/btW7k+ggR6672BFT9P5J/anL5DVKTnJveToDPgD6UAys6rwqmkQhPFmzERSgHwht5QsbhYWOH7+BZSoQmEBj3PIWCvshUbi3orlpbtjkspuKtUQu5YKBSOuo/j/fv3c3NzV69eHRsbi0QifOy7c+fOs2fPMplMlbHRaLTb7U0O+2D0VpdP4IToCWqe+ExDFuGInsEYJ4POisvMY49lGfMsloInBDxxH+/lwPOQFwA9I5jhZHDN7mUEl5cMOmF6uaIBxovsUGy07BMD9oW7GGO8PP3c85hp4hOKpZPLCYvwef90SFVxHDc3N8eyLO+cFhcXOY67du3a5cuX5+fn6+ppcnKywU637uZoT3ymYWfAjgLTVRn79DJ/avrhJ6cnngIw8UoJlAx8kk0yCwFnMEnXlJfaHHZC/EiDrIUPdrWnS0tL9cyrWV9fpyjqxo0b2Wx2Z2fHarVSFKXVatfX18fGxgDg8+fP29vbvPEp1xPUSCqVWAPLXZOUtcm9iN18SLJDtbDEMF77WjCJ3Sb+sbFZTXSW0dFR/kCn0xmNxlK51SrMQW9tbfEHRE9QFfgY76Dn+fRd+qBK9AxOBp2BBaaqnHksVE8l1sRlZQvTkAXWEilRHdOws8nIdjBLReqeNg/vooieeHoAAJ57BhFCCNnXgknB8/B5eDmb9jJQkZwPeizLorwHlerP0ABgcvumhUb9w8FpUX/0z0EQeuPTbpN7MRlcs7d0FqP0ZKdWy78pOZPJcBxH9FRCBfQMxjM15UKIO0QhQL0QWNGquE6dNmqL6BlMiy42GP/R2N/fBwCMsYy7Sbe3t4mexHT/DzK8ehBCGGM+2Mm7O1mj0RA9iel+SbX6PSLihJ0AckhKFKROHlK/3xFaR/d7qWY4aH8LoQ5EUpI0v+PqdEIkJUnn9nMqGyVKKrEQSiROzA6ZUw2/QyYeh5/LZYp/sWLjJXiEFlGxBK8SsvacIDNEUgSZIZIiyAyRFEFmiKQIMqN4SZE3VHeEBq9IVbykyMs6O0I3v/61R/GfoNvoghtCvFQH6GYvRQTVGbpZUiTydYKeLpaUStVbKEj+ixxCKygUCr0qyYXRipdUX58GY4yJqtoFLhQwxpo+jZSB4lciAEChUNjb28/nc/xCc2HKBAEIm2EAMMKAAQFS/GdtA6goCoQAAwLhGGHACBDqVfX0qft6pPONbpAU4UTxP37kddaRGs70AAAAAElFTkSuQmCC\"></div>"
      ],
      "text/plain": [
       "Dispatch[<5>]"
      ]
     },
     "execution_count": 74,
     "metadata": {
      "text/html": [],
      "text/plain": []
     },
     "output_type": "execute_result"
    }
   ],
   "source": [
    "rules = {a -> b, b -> c, c -> a, d -> e, e -> d};\n",
    "dispatch = Dispatch[rules]"
   ]
  },
  {
   "cell_type": "code",
   "execution_count": 75,
   "metadata": {},
   "outputs": [
    {
     "data": {
      "text/html": [
       "<div><img alt=\"Output\" src=\"data:image/png;base64,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\"></div>"
      ],
      "text/plain": [
       "Dispatch[List[Rule[a, List[value2, value1, z]], Rule[List[value2, value1, z], c], \n",
       " \n",
       ">    Rule[c, a], Rule[d, e], Rule[e, d]]]"
      ]
     },
     "execution_count": 75,
     "metadata": {
      "text/html": [],
      "text/plain": []
     },
     "output_type": "execute_result"
    }
   ],
   "source": [
    "FullForm[dispatch]"
   ]
  },
  {
   "cell_type": "markdown",
   "metadata": {},
   "source": [
    "Mathematica 中同时赋值、延迟赋值和全局规则等原理可以帮助我们实现一种非常优雅的递归机制。"
   ]
  },
  {
   "cell_type": "code",
   "execution_count": null,
   "metadata": {},
   "outputs": [],
   "source": [
    "f[0] = 1;\n",
    "f[1] = 1;\n",
    "f[n_] := f[n - 1] + f[n - 2];\n",
    "\n",
    "Timing[f[50]]"
   ]
  },
  {
   "cell_type": "code",
   "execution_count": null,
   "metadata": {},
   "outputs": [],
   "source": [
    "g[0] = 1;\n",
    "g[1] = 1;\n",
    "g[n_] := g[n] = g[n - 1] + g[n - 2];\n",
    "\n",
    "$RecursionLimit = Infinity;\n",
    "Timing[g[50]]\n",
    "\n"
   ]
  },
  {
   "cell_type": "markdown",
   "metadata": {},
   "source": [
    "因为多了一个同时赋值，所以之前计算过的值都被自动储存下来了，这对于递归函数来说非常的重要，因为可以减少大量的重复计算。"
   ]
  },
  {
   "cell_type": "markdown",
   "metadata": {},
   "source": [
    "对于赋值语句：$F[X_1,X_2,...,X_n]=value$<br/>\n",
    "Mathematica 默认这样一条规则应当从属于符号$F$。<br/>\n",
    "另一种情况是："
   ]
  },
  {
   "cell_type": "code",
   "execution_count": null,
   "metadata": {},
   "outputs": [],
   "source": [
    "log[x_] + log[y_] := log[x y]"
   ]
  },
  {
   "cell_type": "markdown",
   "metadata": {},
   "source": [
    "尽管我们可以通过解除保护的方法强行对函数 Plus 增加一条规则，但这不是正确的做法。因为这样做的后果是，系统每次进行加法运算时都不得不检查待计算的表达式是否符合我们增加的这条规则，这是极大的资源浪费。<br/>\n",
    "对于这两种情况，我们都需要一种机制，来指定规则所从属的对象。"
   ]
  },
  {
   "cell_type": "code",
   "execution_count": null,
   "metadata": {},
   "outputs": [],
   "source": [
    "log[x_] + log[y_] ^:= log[x y]"
   ]
  },
  {
   "cell_type": "markdown",
   "metadata": {},
   "source": [
    "一般来说，运算符 ^:= 会将这条规则指定给下层的所有函数，此时赋值号右边的值叫做这些函数的 upvalue。"
   ]
  },
  {
   "cell_type": "code",
   "execution_count": null,
   "metadata": {},
   "outputs": [],
   "source": [
    "f[g[x_], h[y_]] ^:= x^2 + Sin[y];"
   ]
  },
  {
   "cell_type": "markdown",
   "metadata": {},
   "source": [
    "如果我们想更明确地指派规则，可以用："
   ]
  },
  {
   "cell_type": "code",
   "execution_count": null,
   "metadata": {},
   "outputs": [],
   "source": [
    "g /: f[g[x_], h[y_]] := x^2 + Sin[y];"
   ]
  },
  {
   "cell_type": "markdown",
   "metadata": {},
   "source": [
    "但是要注意的是，这种规则指派只能改动一层。"
   ]
  },
  {
   "cell_type": "code",
   "execution_count": null,
   "metadata": {},
   "outputs": [],
   "source": [
    "g /: f[h[g[x_]]] := x + 1;"
   ]
  }
 ],
 "metadata": {
  "kernelspec": {
   "display_name": "Wolfram Language 12.2",
   "language": "Wolfram Language",
   "name": "wolfram language 12.2"
  },
  "language_info": {
   "codemirror_mode": "mathematica",
   "file_extension": ".m",
   "mimetype": "application/vnd.wolfram.m",
   "name": "Wolfram Language",
   "pygments_lexer": "mathematica",
   "version": "12.0"
  }
 },
 "nbformat": 4,
 "nbformat_minor": 4
}
