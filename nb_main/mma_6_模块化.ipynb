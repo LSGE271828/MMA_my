{
 "cells": [
  {
   "cell_type": "markdown",
   "metadata": {},
   "source": [
    "### 模块化、语境和包"
   ]
  },
  {
   "cell_type": "code",
   "execution_count": null,
   "metadata": {},
   "outputs": [],
   "source": [
    "y = 3;\n",
    "f[x_] := Module[{y}, y = x + 1; x/y];\n",
    "f[10]\n",
    "y"
   ]
  },
  {
   "cell_type": "markdown",
   "metadata": {},
   "source": [
    "Module 的作用是定义一个封闭的环境，其中存在一些局部变量（由第一个参数（必须是一个表）的元素组成）。"
   ]
  },
  {
   "cell_type": "markdown",
   "metadata": {},
   "source": [
    "在 Module 中，局部变量 y 被替换为带有内部编号的一种变量 y\\$num，其中num是一个自然数，取自 Mathematica 内部的一个计数变量  <br/>\n",
    "$ModuleNumber，于是 y$ 后面的数字永远不相同，所以也就不会有重名问题。\n"
   ]
  },
  {
   "cell_type": "code",
   "execution_count": 5,
   "metadata": {},
   "outputs": [
    {
     "data": {
      "text/html": [
       "<div><img alt=\"Output\" src=\"data:image/png;base64,iVBORw0KGgoAAAANSUhEUgAAACoAAAAPCAIAAAAdwMqJAAAAhXpUWHRSYXcgcHJvZmlsZSB0eXBlIGV4aWYAAHjaVYvBDcMwDAP/mqIjyLJM2uMYiQNkg45fuu0n9yApgbT1vi97felp2dgxABc5csRU6P6juNciDXn+X9MfZGWgoRhTluEkhnJXkqKFN+LCAahYcIbnIV8gNQN3o86928QyPusLVffpbh/5eCey76LuBgAAAAlwSFlzAAALEwAACxMBAJqcGAAAADx0RVh0U29mdHdhcmUAQ3JlYXRlZCB3aXRoIHRoZSBXb2xmcmFtIExhbmd1YWdlIDogd3d3LndvbGZyYW0uY29tXKKmhQAAACF0RVh0Q3JlYXRpb24gVGltZQAyMDIyOjA1OjIxIDE1OjU0OjQ1hShonwAAAS9JREFUOI3NUztOA0EMfYk4yEppUuQQQTTOOVLSOuIMiD2C9wa0ETRo9hAUNGjmJqbYnZ0/oiAEVztee57f87yVquJ6sb4i9v+HH0+HwV0QX1thOBSxKXIk1ldaoTLps741vdDf2oC3QiCxajjqr/yfb51rrND8aRgkNpxr5Eisrt1wWAV949Nu07nPd9p2Dd12mw7AeO5J7vcA4N6eX9GfRwD7J305thoBNzz2/HDsgGWQdPxFqmx6ny46DAMkwvlWauwDIuKTFYq315whknxCWBZgfgAfZ6EBtli0FWKTbLdkYLimRRs+ejUeXtUwiRTPbJonbcjQE8L5nBX4rARRummS731XM15ussgaCZMIvmA4a3/JuAEAjKfbno1mTnEf2N41zfM7MclUMP+j+AJjq3/bd3WdmwAAAABJRU5ErkJggg==\"></div>"
      ],
      "text/plain": [
       "y$3017"
      ]
     },
     "execution_count": 6,
     "metadata": {
      "text/html": [],
      "text/plain": []
     },
     "output_type": "execute_result"
    }
   ],
   "source": [
    "print := Module[{y}, y]\n",
    "print"
   ]
  },
  {
   "cell_type": "markdown",
   "metadata": {},
   "source": [
    "Module的这种特性有的时候我们在其它程序中也能使用"
   ]
  },
  {
   "cell_type": "code",
   "execution_count": 7,
   "metadata": {},
   "outputs": [
    {
     "data": {
      "text/html": [
       "<style>\n",
       "\t\t\t\t\t\t\t\t\t\t\t\t\t.grid-container {\n",
       "\t\t\t\t\t\t\t\t\t\t\t\t\t\tdisplay: inline-grid;\n",
       "\t\t\t\t\t\t\t\t\t\t\t\t\t\tgrid-template-columns: auto;\n",
       "\t\t\t\t\t\t\t\t\t\t\t\t\t}\n",
       "\t\t\t\t\t\t\t\t\t\t\t\t</style>\n",
       "\n",
       "\t\t\t\t\t\t\t\t\t\t\t\t<div><div class=\"grid-container\"><div class=\"grid-item\"><pre style=\"&#102;&#111;&#110;&#116;&#45;&#102;&#97;&#109;&#105;&#108;&#121;&#58;&#32;&#34;&#67;&#111;&#117;&#114;&#105;&#101;&#114;&#32;&#78;&#101;&#119;&#34;&#44;&#67;&#111;&#117;&#114;&#105;&#101;&#114;&#44;&#109;&#111;&#110;&#111;&#115;&#112;&#97;&#99;&#101;&#59;\">&#120;&#36;&#51;&#52;&#49;&#49;</pre></div><div class=\"grid-item\"><pre style=\"&#102;&#111;&#110;&#116;&#45;&#102;&#97;&#109;&#105;&#108;&#121;&#58;&#32;&#34;&#67;&#111;&#117;&#114;&#105;&#101;&#114;&#32;&#78;&#101;&#119;&#34;&#44;&#67;&#111;&#117;&#114;&#105;&#101;&#114;&#44;&#109;&#111;&#110;&#111;&#115;&#112;&#97;&#99;&#101;&#59;\">&#120;&#36;&#51;&#52;&#49;&#52;</pre></div><div class=\"grid-item\"><pre style=\"&#102;&#111;&#110;&#116;&#45;&#102;&#97;&#109;&#105;&#108;&#121;&#58;&#32;&#34;&#67;&#111;&#117;&#114;&#105;&#101;&#114;&#32;&#78;&#101;&#119;&#34;&#44;&#67;&#111;&#117;&#114;&#105;&#101;&#114;&#44;&#109;&#111;&#110;&#111;&#115;&#112;&#97;&#99;&#101;&#59;\">&#120;&#36;&#51;&#52;&#49;&#55;</pre></div></div></div>"
      ],
      "text/plain": [
       "x$3411\n",
       "x$3414\n",
       "x$3417"
      ]
     },
     "execution_count": 7,
     "metadata": {
      "text/html": [],
      "text/plain": []
     },
     "output_type": "execute_result"
    }
   ],
   "source": [
    "y = Unique[x]\n",
    "y = Unique[x]\n",
    "y = Unique[x]"
   ]
  },
  {
   "cell_type": "markdown",
   "metadata": {},
   "source": [
    "带 $ 和编号的变量具有 Temporary属性："
   ]
  },
  {
   "cell_type": "code",
   "execution_count": 10,
   "metadata": {},
   "outputs": [
    {
     "name": "stdout",
     "output_type": "stream",
     "text": [
      "x$3746 has attributes {Temporary}\n"
     ]
    }
   ],
   "source": [
    "Module[{x}, Print[x, \" has attributes \", Attributes[x]]]"
   ]
  },
  {
   "cell_type": "markdown",
   "metadata": {},
   "source": [
    "带有临时属性的变量在生存期结束时就会被系统 Remove，除非它们在生存期内被显式地返回给外部的全局环境"
   ]
  },
  {
   "cell_type": "code",
   "execution_count": 14,
   "metadata": {},
   "outputs": [
    {
     "name": "stdout",
     "output_type": "stream",
     "text": [
      "5\n",
      "a\n"
     ]
    }
   ],
   "source": [
    "(* With[{n}, Print[n]]:局部变量指定 {n}  *)\n",
    "With[{n = 5}, Print[n]]\n",
    "With[{n = a}, Print[n]]"
   ]
  },
  {
   "cell_type": "code",
   "execution_count": 17,
   "metadata": {},
   "outputs": [
    {
     "ename": "Set::setraw",
     "evalue": "Cannot assign to raw object 5.",
     "output_type": "error",
     "traceback": [
      "\u001b[0;31mSet::setraw: Cannot assign to raw object 5.\u001b[0m"
     ]
    },
    {
     "name": "stdout",
     "output_type": "stream",
     "text": [
      "5\n",
      "4\n",
      "5\n"
     ]
    }
   ],
   "source": [
    "With[{n = 5}, n = 4; Print[n]]\n",
    "(n = 4; Print[n]) /. {n -> 5}\n",
    "ReleaseHold[Hold[(n = 4; Print[n])] /. {n -> 5}]"
   ]
  },
  {
   "cell_type": "code",
   "execution_count": 31,
   "metadata": {},
   "outputs": [
    {
     "name": "stdout",
     "output_type": "stream",
     "text": [
      "6\n",
      "5\n"
     ]
    }
   ],
   "source": [
    "With[{n = 6}, Print[n]]\n",
    "Print[n]"
   ]
  },
  {
   "cell_type": "markdown",
   "metadata": {},
   "source": [
    "With 的作用是定义一个封闭的环境，其中存在一些局部常量。在 With 的第二个参数表达式中所有这些常量都会直接替换成第一个参数中赋值语句右边的值。在这个环境中，局部常量的值是不变的。"
   ]
  },
  {
   "cell_type": "code",
   "execution_count": 34,
   "metadata": {},
   "outputs": [
    {
     "name": "stdout",
     "output_type": "stream",
     "text": [
      "b\n"
     ]
    },
    {
     "data": {
      "text/html": [
       "<style>\n",
       "\t\t\t\t\t\t\t\t\t\t\t\t\t.grid-container {\n",
       "\t\t\t\t\t\t\t\t\t\t\t\t\t\tdisplay: inline-grid;\n",
       "\t\t\t\t\t\t\t\t\t\t\t\t\t\tgrid-template-columns: auto;\n",
       "\t\t\t\t\t\t\t\t\t\t\t\t\t}\n",
       "\t\t\t\t\t\t\t\t\t\t\t\t</style>\n",
       "\n",
       "\t\t\t\t\t\t\t\t\t\t\t\t<div><div class=\"grid-container\"><div class=\"grid-item\"><pre style=\"&#102;&#111;&#110;&#116;&#45;&#102;&#97;&#109;&#105;&#108;&#121;&#58;&#32;&#34;&#67;&#111;&#117;&#114;&#105;&#101;&#114;&#32;&#78;&#101;&#119;&#34;&#44;&#67;&#111;&#117;&#114;&#105;&#101;&#114;&#44;&#109;&#111;&#110;&#111;&#115;&#112;&#97;&#99;&#101;&#59;\">&#98;</pre></div><div class=\"grid-item\"><pre style=\"&#102;&#111;&#110;&#116;&#45;&#102;&#97;&#109;&#105;&#108;&#121;&#58;&#32;&#34;&#67;&#111;&#117;&#114;&#105;&#101;&#114;&#32;&#78;&#101;&#119;&#34;&#44;&#67;&#111;&#117;&#114;&#105;&#101;&#114;&#44;&#109;&#111;&#110;&#111;&#115;&#112;&#97;&#99;&#101;&#59;\">&#98;</pre></div></div></div>"
      ],
      "text/plain": [
       "b\n",
       "b"
      ]
     },
     "execution_count": 36,
     "metadata": {
      "text/html": [],
      "text/plain": []
     },
     "output_type": "execute_result"
    }
   ],
   "source": [
    "a = x;\n",
    "With[{n = a}, n = b; Print[n]]\n",
    "a\n",
    "x"
   ]
  },
  {
   "cell_type": "markdown",
   "metadata": {},
   "source": [
    "注意，在这个例子中，a 是一个外部环境中的变量，Mathematica 的变量实际上都是指针，所以，在 With 内部，n 是与 a 相等的指针，当我们写 n=b 时，实际上是在写 a=b，它的作用是把 a 的值换成 b 的值，这个新的值可能还在 a 的值原来所在的地址，也可能换成了新地址，但是不管是哪种情况，n 和 a 始终是指向同一个地方的，所以 n 仍是\"常量\"。"
   ]
  },
  {
   "cell_type": "markdown",
   "metadata": {},
   "source": [
    "Module 和 With 的内部环境叫做相应的局部变量或局部常数的作用域。<br/>"
   ]
  },
  {
   "cell_type": "markdown",
   "metadata": {},
   "source": [
    " * 几种隐式出现的作用域。"
   ]
  },
  {
   "cell_type": "code",
   "execution_count": null,
   "metadata": {},
   "outputs": [],
   "source": [
    "f = Function[x, Function[y, x + y]];\n",
    "f[1]"
   ]
  },
  {
   "cell_type": "markdown",
   "metadata": {},
   "source": [
    "f 的函数体部分因为某种外部原因（x->1）改变了，这时 Mathematica 就会把内层的变量 y 自动命名为 y$，这是一个临时变量，它会在函数定义结束后被销毁。"
   ]
  },
  {
   "cell_type": "code",
   "execution_count": 38,
   "metadata": {},
   "outputs": [
    {
     "data": {
      "text/html": [
       "<div><img alt=\"Output\" src=\"data:image/png;base64,iVBORw0KGgoAAAANSUhEUgAAAGIAAAAPCAIAAACQrY3dAAAAhXpUWHRSYXcgcHJvZmlsZSB0eXBlIGV4aWYAAHjaVYvBDcMwDAP/mqIjyLJM2uMYiQNkg45fuu0n9yApgbT1vi97felp2dgxABc5csRU6P6juNciDXn+X9MfZGWgoRhTluEkhnJXkqKFN+LCAahYcIbnIV8gNQN3o86928QyPusLVffpbh/5eCey76LuBgAAAAlwSFlzAAALEwAACxMBAJqcGAAAADx0RVh0U29mdHdhcmUAQ3JlYXRlZCB3aXRoIHRoZSBXb2xmcmFtIExhbmd1YWdlIDogd3d3LndvbGZyYW0uY29tXKKmhQAAACF0RVh0Q3JlYXRpb24gVGltZQAyMDIyOjA1OjIxIDE2OjM2OjQ05o5/vwAAAeFJREFUWIXtWLttwzAQPQYZhIYaFxlChhsKab1BPIKEzBA4rZGG3iBtIDcBOYQKNQJvE6aQJdOURJ7ygRMgr5KI+7x3OD4LZtZa+EcMN9cm8DfwPyYSbgB0wQo9HYGIiLRiusgOtNAZRWMtg+S/WLuXE9smrZFWkTHGVs/H7YJKG9+JI70CBnJu4zmc83AAHrJVJY1N9uzt3u5SAg/OORLCroIxOd02tfNjLHJrdMFYvy66OMffJRybSiz59zD1lxiDSx0lP6jnJpLkWKtyAMiVte1j+9RBqYtXJ0blIKQ5nwH4uWEo2WX7MFLAuXZ3lsux4g55I4WfFe9FlNOOqXs3UkTHdJIxnMnMWQWod30uoWQ+zHDIj7DviigplTHGjDakyCF40xiEEEd/sZsqV3YHBVsVRIcKw/8xbOrqFfDhgc+sgQBNXUOSAEwZbVTO/DHpYvG6MeX6PVtkB1P2rLE+QgLYVCA2Y1Rmtcie4LHcpU4dPDTLlzI0I73fHnNVXpxxnnIOAE3DU7ea24skZ96lU/nZNXoL6dazBdWfApfOSOGZzGSw23vCmALpZDkQlDLuTaMwUswxcIo3XROenE960xBYw3LtvqMefGdPLf4vhCeH2fA/BCe13yvwR4r+KD4AM0ilDXHIQqUAAAAASUVORK5CYII=\"></div>"
      ],
      "text/plain": [
       "h[x$_] :> b + x$"
      ]
     },
     "execution_count": 38,
     "metadata": {
      "text/html": [],
      "text/plain": []
     },
     "output_type": "execute_result"
    }
   ],
   "source": [
    "With[{w = x}, h[x_] :> w + x]"
   ]
  },
  {
   "cell_type": "markdown",
   "metadata": {},
   "source": [
    "Function 定义的是纯函数，或者叫匿名函数、$\\lambda$-表达式，它们的参数是所谓的哑变量<br>\n",
    "其原因是为了避免与可能存在的全局变量重名"
   ]
  },
  {
   "cell_type": "markdown",
   "metadata": {},
   "source": [
    "除了Module、With、 Function 以外，各种赋值、规则中的模式名称（x_、x__、x:pattern）也都具有自动改名的功能，这些赋值、规则语句就成为这些改名后的临时变量的作用域。\n",
    "<br>但是要注意，常量是不能自动改名的。"
   ]
  },
  {
   "cell_type": "code",
   "execution_count": 39,
   "metadata": {},
   "outputs": [
    {
     "ename": "Set::setraw",
     "evalue": "Cannot assign to raw object 1.",
     "output_type": "error",
     "traceback": [
      "\u001b[0;31mSet::setraw: Cannot assign to raw object 1.\u001b[0m"
     ]
    },
    {
     "ename": "Set::setraw",
     "evalue": "Cannot assign to raw object 1.",
     "output_type": "error",
     "traceback": [
      "\u001b[0;31mSet::setraw: Cannot assign to raw object 1.\u001b[0m"
     ]
    },
    {
     "data": {
      "text/html": [
       "<div><pre style=\"&#102;&#111;&#110;&#116;&#45;&#102;&#97;&#109;&#105;&#108;&#121;&#58;&#32;&#34;&#67;&#111;&#117;&#114;&#105;&#101;&#114;&#32;&#78;&#101;&#119;&#34;&#44;&#67;&#111;&#117;&#114;&#105;&#101;&#114;&#44;&#109;&#111;&#110;&#111;&#115;&#112;&#97;&#99;&#101;&#59;\">&#123;&#50;&#44;&#32;&#50;&#44;&#32;&#49;&#44;&#32;&#49;&#125;</pre></div>"
      ],
      "text/plain": [
       "{2, 2, 1, 1}"
      ]
     },
     "execution_count": 40,
     "metadata": {
      "text/html": [],
      "text/plain": []
     },
     "output_type": "execute_result"
    }
   ],
   "source": [
    "x = 1;  y = a;  f[x_] := (x = 2);  g[y_] := (y = 2);\n",
    "{f[x], g[y], x, y}"
   ]
  },
  {
   "cell_type": "markdown",
   "metadata": {},
   "source": [
    "* 一些哑变量的例子"
   ]
  },
  {
   "cell_type": "code",
   "execution_count": null,
   "metadata": {},
   "outputs": [],
   "source": [
    "i = 50; x = a; \n",
    "(* 此例中 x 必须是变量，不能是常数，否则不能做积分变量。 *)\n",
    "{Sum[i, {i, 1, 100}], Integrate[x, {x, 0, 1}]}\n",
    "{i, x}"
   ]
  },
  {
   "cell_type": "code",
   "execution_count": null,
   "metadata": {},
   "outputs": [],
   "source": [
    "p[n_] := Integrate[f[x] x^n, {x, 0, 1}]\n",
    "p[x]\n",
    "q[n_] := Module[{x}, Integrate[f[x] x^n, {x, 0, 1}]]\n",
    "q[x] (* 此例中 Integrate 换成 Sum 后效果相同。 *)"
   ]
  },
  {
   "cell_type": "markdown",
   "metadata": {},
   "source": [
    "Module 和 With 都是通过改名的办法将作用域內的变量变为与外部全局变量不同的局部变量。"
   ]
  },
  {
   "cell_type": "markdown",
   "metadata": {},
   "source": [
    "有的时候我们需要另一种隔离手段，我们想要构造一个作用域，其中的局部变量与全局变量具有相同的\"名字\"和不同的\"值\"，这时候就要用 Block 来做隔离。"
   ]
  },
  {
   "cell_type": "code",
   "execution_count": 45,
   "metadata": {},
   "outputs": [
    {
     "data": {
      "text/html": [
       "<style>\n",
       "\t\t\t\t\t\t\t\t\t\t\t\t\t.grid-container {\n",
       "\t\t\t\t\t\t\t\t\t\t\t\t\t\tdisplay: inline-grid;\n",
       "\t\t\t\t\t\t\t\t\t\t\t\t\t\tgrid-template-columns: auto;\n",
       "\t\t\t\t\t\t\t\t\t\t\t\t\t}\n",
       "\t\t\t\t\t\t\t\t\t\t\t\t</style>\n",
       "\n",
       "\t\t\t\t\t\t\t\t\t\t\t\t<div><div class=\"grid-container\"><div class=\"grid-item\"><pre style=\"&#102;&#111;&#110;&#116;&#45;&#102;&#97;&#109;&#105;&#108;&#121;&#58;&#32;&#34;&#67;&#111;&#117;&#114;&#105;&#101;&#114;&#32;&#78;&#101;&#119;&#34;&#44;&#67;&#111;&#117;&#114;&#105;&#101;&#114;&#44;&#109;&#111;&#110;&#111;&#115;&#112;&#97;&#99;&#101;&#59;\">&#55;</pre></div><div class=\"grid-item\"><pre style=\"&#102;&#111;&#110;&#116;&#45;&#102;&#97;&#109;&#105;&#108;&#121;&#58;&#32;&#34;&#67;&#111;&#117;&#114;&#105;&#101;&#114;&#32;&#78;&#101;&#119;&#34;&#44;&#67;&#111;&#117;&#114;&#105;&#101;&#114;&#44;&#109;&#111;&#110;&#111;&#115;&#112;&#97;&#99;&#101;&#59;\">&#55;</pre></div></div></div>"
      ],
      "text/plain": [
       "7\n",
       "7"
      ]
     },
     "execution_count": 45,
     "metadata": {
      "text/html": [],
      "text/plain": []
     },
     "output_type": "execute_result"
    }
   ],
   "source": [
    "Module[{x = a + 1}, x^2 + 3]\n",
    "Block[{x = a + 1}, x^2 + 3]"
   ]
  },
  {
   "cell_type": "code",
   "execution_count": null,
   "metadata": {},
   "outputs": [],
   "source": [
    "y = x^2 + 3;\n",
    "Module[{x = a + 1}, y]\n",
    "Block[{x = a + 1}, y]"
   ]
  },
  {
   "cell_type": "markdown",
   "metadata": {},
   "source": [
    "在上面的例子中，Module 里的局部变量只生存在 Module 内，它不会跟踪 y 的定义跑到 Module 外面去；另一方面，Block 里的局部变量 x 会跟踪出去，找出 y 中出现的所有 x，然后替换，所以它的作用域可以从 Block 延伸出去，侵入到 y 的作用域中。"
   ]
  },
  {
   "cell_type": "markdown",
   "metadata": {},
   "source": [
    "Module 和 Block 的不同的作用域规则来源于人们对\"函数的内部\"这一概念的两种截然不同的理解："
   ]
  },
  {
   "cell_type": "markdown",
   "metadata": {},
   "source": [
    "* 第一种看法认为，一个函数的内部是源程序中这个函数从开始定义到定义结束的文本段落。这是从词法分析角度出发的定义，所以叫词法作用域（lexical scope）；"
   ]
  },
  {
   "cell_type": "markdown",
   "metadata": {},
   "source": [
    "* 第二种看法认为，一个函数的内部是这个函数从开始执行到执行结束的这个时间段。这是从时间角度出发的定义，所以叫动态作用域（dynamic scope）。"
   ]
  },
  {
   "cell_type": "markdown",
   "metadata": {},
   "source": [
    "一般认为词法作用域适于做静态分析，所以各种编译型语言都遵循词法作用域规则。而动态作用域则比较复杂，无法编译成静态代码，只能动态地解释。另外，动态作用域规则下很容易出现难于发现的问题，不易调试。"
   ]
  },
  {
   "cell_type": "markdown",
   "metadata": {},
   "source": [
    "所以大部分现代语言都使用词法作用域，例如 C 家族、Pascal、Scheme、ML、Haskell 等；一些比较古老的语言，如 APL、TeX、早期 Lisp 则使用动态作用域规则。有的语言允许用户自己指定作用域规则，如 Common Lisp、Perl，以及 Mathematica。"
   ]
  },
  {
   "cell_type": "markdown",
   "metadata": {},
   "source": [
    "因为词法作用域比动态作用域要安全，所以如无特别地必要，尽量使用 Module，避免 Block。<br>\n",
    "但是在Mathematica中，Block要比Module快一点，所以对性能有比较高的要求时可以适量地使用Block。"
   ]
  },
  {
   "cell_type": "code",
   "execution_count": 51,
   "metadata": {},
   "outputs": [
    {
     "data": {
      "text/html": [
       "<style>\n",
       "\t\t\t\t\t\t\t\t\t\t\t\t\t.grid-container {\n",
       "\t\t\t\t\t\t\t\t\t\t\t\t\t\tdisplay: inline-grid;\n",
       "\t\t\t\t\t\t\t\t\t\t\t\t\t\tgrid-template-columns: auto;\n",
       "\t\t\t\t\t\t\t\t\t\t\t\t\t}\n",
       "\t\t\t\t\t\t\t\t\t\t\t\t</style>\n",
       "\n",
       "\t\t\t\t\t\t\t\t\t\t\t\t<div><div class=\"grid-container\"><div class=\"grid-item\"><pre style=\"&#102;&#111;&#110;&#116;&#45;&#102;&#97;&#109;&#105;&#108;&#121;&#58;&#32;&#34;&#67;&#111;&#117;&#114;&#105;&#101;&#114;&#32;&#78;&#101;&#119;&#34;&#44;&#67;&#111;&#117;&#114;&#105;&#101;&#114;&#44;&#109;&#111;&#110;&#111;&#115;&#112;&#97;&#99;&#101;&#59;\">&#49;</pre></div><div class=\"grid-item\"><pre style=\"&#102;&#111;&#110;&#116;&#45;&#102;&#97;&#109;&#105;&#108;&#121;&#58;&#32;&#34;&#67;&#111;&#117;&#114;&#105;&#101;&#114;&#32;&#78;&#101;&#119;&#34;&#44;&#67;&#111;&#117;&#114;&#105;&#101;&#114;&#44;&#109;&#111;&#110;&#111;&#115;&#112;&#97;&#99;&#101;&#59;\">&#49;</pre></div><div class=\"grid-item\"><pre style=\"&#102;&#111;&#110;&#116;&#45;&#102;&#97;&#109;&#105;&#108;&#121;&#58;&#32;&#34;&#67;&#111;&#117;&#114;&#105;&#101;&#114;&#32;&#78;&#101;&#119;&#34;&#44;&#67;&#111;&#117;&#114;&#105;&#101;&#114;&#44;&#109;&#111;&#110;&#111;&#115;&#112;&#97;&#99;&#101;&#59;\">&#49;&#57;</pre></div></div></div>"
      ],
      "text/plain": [
       "1\n",
       "1\n",
       "19"
      ]
     },
     "execution_count": 56,
     "metadata": {
      "text/html": [],
      "text/plain": []
     },
     "output_type": "execute_result"
    }
   ],
   "source": [
    "(* 闭包的例子：计数器产生器 *)\n",
    "CounterCreator[first_ : 1, delta_ : 1] := \n",
    " Module[{i = first - delta}, (i += delta) &]\n",
    "\n",
    "counter1 = CounterCreator[];\n",
    "counter2 = CounterCreator[];\n",
    "counter3 = CounterCreator[19, 2];\n",
    "counter1[]\n",
    "counter2[]\n",
    "counter3[]"
   ]
  },
  {
   "cell_type": "code",
   "execution_count": 59,
   "metadata": {},
   "outputs": [
    {
     "data": {
      "text/html": [
       "<style>\n",
       "\t\t\t\t\t\t\t\t\t\t\t\t\t.grid-container {\n",
       "\t\t\t\t\t\t\t\t\t\t\t\t\t\tdisplay: inline-grid;\n",
       "\t\t\t\t\t\t\t\t\t\t\t\t\t\tgrid-template-columns: auto;\n",
       "\t\t\t\t\t\t\t\t\t\t\t\t\t}\n",
       "\t\t\t\t\t\t\t\t\t\t\t\t</style>\n",
       "\n",
       "\t\t\t\t\t\t\t\t\t\t\t\t<div><div class=\"grid-container\"><div class=\"grid-item\"><pre style=\"&#102;&#111;&#110;&#116;&#45;&#102;&#97;&#109;&#105;&#108;&#121;&#58;&#32;&#34;&#67;&#111;&#117;&#114;&#105;&#101;&#114;&#32;&#78;&#101;&#119;&#34;&#44;&#67;&#111;&#117;&#114;&#105;&#101;&#114;&#44;&#109;&#111;&#110;&#111;&#115;&#112;&#97;&#99;&#101;&#59;\">&#48;</pre></div><div class=\"grid-item\"><pre style=\"&#102;&#111;&#110;&#116;&#45;&#102;&#97;&#109;&#105;&#108;&#121;&#58;&#32;&#34;&#67;&#111;&#117;&#114;&#105;&#101;&#114;&#32;&#78;&#101;&#119;&#34;&#44;&#67;&#111;&#117;&#114;&#105;&#101;&#114;&#44;&#109;&#111;&#110;&#111;&#115;&#112;&#97;&#99;&#101;&#59;\">&#49;</pre></div><div class=\"grid-item\"><pre style=\"&#102;&#111;&#110;&#116;&#45;&#102;&#97;&#109;&#105;&#108;&#121;&#58;&#32;&#34;&#67;&#111;&#117;&#114;&#105;&#101;&#114;&#32;&#78;&#101;&#119;&#34;&#44;&#67;&#111;&#117;&#114;&#105;&#101;&#114;&#44;&#109;&#111;&#110;&#111;&#115;&#112;&#97;&#99;&#101;&#59;\">&#48;</pre></div><div class=\"grid-item\"><pre style=\"&#102;&#111;&#110;&#116;&#45;&#102;&#97;&#109;&#105;&#108;&#121;&#58;&#32;&#34;&#67;&#111;&#117;&#114;&#105;&#101;&#114;&#32;&#78;&#101;&#119;&#34;&#44;&#67;&#111;&#117;&#114;&#105;&#101;&#114;&#44;&#109;&#111;&#110;&#111;&#115;&#112;&#97;&#99;&#101;&#59;\">&#48;</pre></div></div></div>"
      ],
      "text/plain": [
       "0\n",
       "1\n",
       "0\n",
       "0"
      ]
     },
     "execution_count": 65,
     "metadata": {
      "text/html": [],
      "text/plain": []
     },
     "output_type": "execute_result"
    }
   ],
   "source": [
    "(* 另一个闭包的例子：状态机 *)\n",
    "StateMachine = \n",
    "  Module[{i}, \n",
    "   Function[func, i = 0; \n",
    "    Switch[func, 0, i &, 1, ++i &, 2, --i &, 3, (i = 0) &, _, \n",
    "     Print[\"Illegal function!\"]]]];\n",
    "\n",
    "read = StateMachine[0];\n",
    "up = StateMachine[1];\n",
    "down = StateMachine[2];\n",
    "reset = StateMachine[3];\n",
    "read[]\n",
    "up[]\n",
    "down[]\n",
    "reset[]"
   ]
  },
  {
   "cell_type": "markdown",
   "metadata": {},
   "source": [
    "在各种程序语言中，还有一种显式指定作用域的方法。典型的例子就是 C++ 语言中的命名空间（namespace）。<br>在Mathematica中也有一种类似的机制，叫做语境（Context）。"
   ]
  },
  {
   "cell_type": "code",
   "execution_count": null,
   "metadata": {},
   "outputs": [],
   "source": [
    "x = 1; \n",
    "?x"
   ]
  },
  {
   "cell_type": "markdown",
   "metadata": {},
   "source": [
    "这里的\"Global`\"是 Mathematica 的默认语境，所有用户自己定义的符号、函数都存在于这个语境中。\n",
    "用户也可以自己定义语境："
   ]
  },
  {
   "cell_type": "code",
   "execution_count": null,
   "metadata": {},
   "outputs": [],
   "source": [
    "foo`x = 2;\n",
    "?x\n",
    "?foo`x"
   ]
  },
  {
   "cell_type": "code",
   "execution_count": 69,
   "metadata": {},
   "outputs": [],
   "source": [
    "(* 语境还可以嵌套： *)\n",
    "foo`bar`x = 2;\n",
    "?foo`bar`x"
   ]
  },
  {
   "cell_type": "markdown",
   "metadata": {},
   "source": [
    "无论何时，我们在 Mathematica 中总存在于一个语境中，称为当前语境，它可以通过变量 $Context 来查询。"
   ]
  },
  {
   "cell_type": "markdown",
   "metadata": {},
   "source": [
    "当 Mathematica 遇到一个符号，它首先会在当前语境中查找这个符号的意义。<br>如果找不到，则会在 $ContextPath 所指定的语境路径中按顺序查找这个符号。"
   ]
  },
  {
   "cell_type": "markdown",
   "metadata": {},
   "source": [
    "我们可以通过赋值改变当前语境，也可以向语境路径中添加我们的语境："
   ]
  },
  {
   "cell_type": "code",
   "execution_count": null,
   "metadata": {},
   "outputs": [],
   "source": [
    "$Context = \"foo`\"\n",
    "$ContextPath = PrependTo[$ContextPath, \"bar`\"]"
   ]
  },
  {
   "cell_type": "markdown",
   "metadata": {},
   "source": [
    "函数 Context[] 可以查找当前语境或者某个符号所属的语境："
   ]
  },
  {
   "cell_type": "code",
   "execution_count": null,
   "metadata": {},
   "outputs": [],
   "source": [
    "Context[]\n",
    "Context[x]"
   ]
  },
  {
   "cell_type": "markdown",
   "metadata": {},
   "source": [
    "函数 Contexts[] 可以列出所有语境，或者按通配符列出相应的语境："
   ]
  },
  {
   "cell_type": "code",
   "execution_count": null,
   "metadata": {},
   "outputs": [],
   "source": [
    "Contexts[\"System`*\"]"
   ]
  },
  {
   "cell_type": "markdown",
   "metadata": {},
   "source": [
    "语境可以通过 Begin[\"Content`\"] 和 End[ ] 进出："
   ]
  },
  {
   "cell_type": "code",
   "execution_count": null,
   "metadata": {},
   "outputs": [],
   "source": [
    "Begin[\"新语境`\"]\n",
    "Print[x = 1];\n",
    "End[]"
   ]
  },
  {
   "cell_type": "markdown",
   "metadata": {},
   "source": [
    "包（package）都自带一个语境。如果导入了某个程序包，那么它的语境会自动添加为语境路径中的第一个语境。"
   ]
  },
  {
   "cell_type": "code",
   "execution_count": null,
   "metadata": {},
   "outputs": [],
   "source": [
    "Needs[\"Quaternions`\"]\n",
    "$ContextPath"
   ]
  }
 ],
 "metadata": {
  "kernelspec": {
   "display_name": "Wolfram Language 12.2",
   "language": "Wolfram Language",
   "name": "wolfram language 12.2"
  },
  "language_info": {
   "codemirror_mode": "mathematica",
   "file_extension": ".m",
   "mimetype": "application/vnd.wolfram.m",
   "name": "Wolfram Language",
   "pygments_lexer": "mathematica",
   "version": "12.0"
  }
 },
 "nbformat": 4,
 "nbformat_minor": 4
}
