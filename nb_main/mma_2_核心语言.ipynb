{
 "cells": [
  {
   "cell_type": "markdown",
   "metadata": {},
   "source": [
    "### 核心语言"
   ]
  },
  {
   "cell_type": "code",
   "execution_count": 1,
   "metadata": {
    "vscode": {
     "languageId": "wolfram language"
    }
   },
   "outputs": [],
   "source": [
    "myPrimeSum2 = Plus @@ Prime /@ Range[PrimePi[#]] &;"
   ]
  },
  {
   "cell_type": "markdown",
   "metadata": {},
   "source": [
    "（@@:Apply、/@:Map、#:形参、&:纯函数），是一些 Mathematica 内建函数的简写形式,完整形式如下:"
   ]
  },
  {
   "cell_type": "code",
   "execution_count": 5,
   "metadata": {
    "vscode": {
     "languageId": "wolfram language"
    }
   },
   "outputs": [],
   "source": [
    "myPrimeSum2 =\n",
    "Function[n,\n",
    "    Apply[Plus,\n",
    "        Map[Prime,\n",
    "            Range[PrimePi[n]]\n",
    "\n",
    "        ]\n",
    "    ]  \n",
    "];"
   ]
  },
  {
   "cell_type": "markdown",
   "metadata": {},
   "source": [
    "C 语言是命令式的，或者说面向过程的；而 Mathematica 是**函数式**的。"
   ]
  },
  {
   "cell_type": "markdown",
   "metadata": {},
   "source": [
    "Mathematica 是用 C 语言编写,Macsyma 是用 MAC Lisp 实现的;Lisp 的含义是\"表处理\",在 Mathematica 中，我们可以用 TreeForm 来获得一个表达式的语法树。"
   ]
  },
  {
   "cell_type": "code",
   "execution_count": 6,
   "metadata": {
    "vscode": {
     "languageId": "wolfram language"
    }
   },
   "outputs": [
    {
     "data": {
      "text/html": [
       "<div><img alt=\"Output\" src=\"data:image/png;base64,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\"></div>"
      ],
      "text/plain": [
       "Equal[|                                        , x]\n",
       "      Times[|                   , |           ]\n",
       "            Plus[a, |          ]  Power[z, -1]\n",
       "                    Power[b, n]"
      ]
     },
     "execution_count": 6,
     "metadata": {
      "text/html": [],
      "text/plain": []
     },
     "output_type": "execute_result"
    }
   ],
   "source": [
    "TreeForm[(a + b^n)/z == x]"
   ]
  },
  {
   "cell_type": "markdown",
   "metadata": {},
   "source": [
    "这样的一棵树按照 Lisp 的写法则是：$(= (* (+ a (expt$ $b$ $n)) (expt$ $z$ $-1)) x)$,可以用 FullForm 来获得一个表达式在 Mathematica 内部的完整形式:"
   ]
  },
  {
   "cell_type": "code",
   "execution_count": 7,
   "metadata": {
    "vscode": {
     "languageId": "wolfram language"
    }
   },
   "outputs": [
    {
     "data": {
      "text/html": [
       "<div><img alt=\"Output\" src=\"data:image/png;base64,iVBORw0KGgoAAAANSUhEUgAAAWIAAAAPCAIAAABRI1IdAAAAhXpUWHRSYXcgcHJvZmlsZSB0eXBlIGV4aWYAAHjaVYvBDcMwDAP/mqIjyLJM2uMYiQNkg45fuu0n9yApgbT1vi97felp2dgxABc5csRU6P6juNciDXn+X9MfZGWgoRhTluEkhnJXkqKFN+LCAahYcIbnIV8gNQN3o86928QyPusLVffpbh/5eCey76LuBgAAAAlwSFlzAAALEwAACxMBAJqcGAAAADx0RVh0U29mdHdhcmUAQ3JlYXRlZCB3aXRoIHRoZSBXb2xmcmFtIExhbmd1YWdlIDogd3d3LndvbGZyYW0uY29tXKKmhQAAACF0RVh0Q3JlYXRpb24gVGltZQAyMDIyOjA1OjE5IDExOjI5OjUyPGfKVgAABGxJREFUaIHtmz2OqzwUho/vSozSUGQRoDRGadlBaEa3BWUNo9BGaWAHadHQjPAiKGgivBN/BXauSfgzkJ+Zj6eZyMA5r1+wfUwyiHMOCwsLC+38ebWAhYWFd2eZJhYWFnp41DRBA1QR0IajjDHGBkRhsdMSYSJDBHR3Yd5cb0hdNg3mvQ9tpvwQs14m8zm+3UX7A8p4mGNQCKwD57yMSNMxSlUJLHZQHSdmTZfNR13AjQHX/nd1YXyukVEaFT6QeWR3wr6b73Nbeyu/0Rw5LBq6M5tv3flr0UQ14WdccrDmy9UKxhjLj7svzjnnmS9VfO1qxx4iSBEAAP8MKKPcnnuaus01jkcqbGQe2e3Btdp7+F3mAA3QB5yalqiZfWvhLlr7pqO2yleTmlJ5stiRn9XJfMa5/L7mZ7HjxHGAEBJ/5CFF6j8BSqPGg4M3LkmL1tObHdDKNdUuVeFtx1VNMlklqMkiGqAgvrYP0CKlD/azluEZw/c15twUxNMHgXVQ1spHQQNFKw06b5CYJkL75jGngeGtMzFDd9fd1kEWImWU27NNFI01f+oVW575qXc2yzIi+YUB0MAo9kJBBnIxoUepn+tYTo9eSszBp18vGp5rql1XhSx2jLNbqqsoXq1BeIICCsAuOaxXuMUiAAjPcBK1XJj0SAntZFvlAu9j8JAPvSpz5qfeUbuzurzGHFkQc575JCqfUo9PxzrwzA/tgALQwM6jsuPRvdt0VOfSJCTRX2tYvuv6aHjpROm9+FsLAIC4Gyxa2CX/N8vZoTwRmyS0h8/sMkKPXc3o5Rpp161C9n1O/b2Qind7Py0YYJMAANAkJ3n1ZBMTt1kEANcA1qF3c+dn1Rk9BVfbVebElzydvNwcAAAWO8lW6+FhNYZfNxfWoYxyGyEbsm7d07/pqGaiQXXHQ2BFSkR+dTkXM/w2GVYGXufJMcWeTq7Rdg1SiFfrtGDsAu7ezRPKinS9wm0W/SLewBwaGMVeq5Bgt4zKOxlC+h/DlmkCmyQ9fzMAYPGHuujll5tGdsnlMXp8fDVxj7XtKmetAy8j0ltQa3DngFauDrtqe8V+8MYl4aeokFn8GRITA2CT5MmxMDfWxoUkyYmJ+yzShR69VBR1I2SPTfrm5tDg02zYbXTKxtiqgSdqaNbV5RsNjLN7+jr1vvi9ezdRxcS7UwSegRAyin3mi5Otv7Lx7EaiEe/2fuoZCCH0acpG8VLH8FIRWf8xGh5BVk61dyvKWyXDW2cjtouNApoc0MrVbFd1yCQAGhMa3n1l6yoUMs5utVfCq3Ua5uYGA96YeZiuVxhaLNJFLeyVPurKHsdbm8Nixw7FXa2HGGlOtS+dMnwGCKABsvPotMNytHd1nfdSRkT9wnQ6WTZntDcXoJEr82FeoyfwBNlZpNb6fe3/M3O6Qj7Ft3q05cfabwGLnbtl+gfwHNmLOS8XgHjvf4iy2DGK/Yy/cmKMMgaAH7MbezMBL+/sOB4ruy36DzHrZTKf41tDtP8A9tFLuuFZ3REAAAAASUVORK5CYII=\"></div>"
      ],
      "text/plain": [
       "Equal[Times[Plus[a, Power[b, n]], Power[z, -1]], x]"
      ]
     },
     "execution_count": 7,
     "metadata": {
      "text/html": [],
      "text/plain": []
     },
     "output_type": "execute_result"
    }
   ],
   "source": [
    "FullForm[(a + b^n)/z == x]"
   ]
  },
  {
   "cell_type": "markdown",
   "metadata": {},
   "source": [
    "$mma 和 Lisp 的区别仅在于，Lisp 中的函数表示为(函数名　参数1　参数2)$,<br/>$mma 中的函数表示为函数名[参数1, 参数2]$"
   ]
  },
  {
   "cell_type": "markdown",
   "metadata": {},
   "source": [
    "### mma中的表达式(expression) \n",
    "<br/>--Mathematica 第一原理：万物皆表（达式）。"
   ]
  },
  {
   "cell_type": "markdown",
   "metadata": {},
   "source": [
    "1. 原子对象是表达式；\n",
    "2. 若 F、X1、X2、...、Xn 是表达式，则 F[X1, X2,..., Xn] 也是表达式。"
   ]
  },
  {
   "cell_type": "code",
   "execution_count": 8,
   "metadata": {
    "vscode": {
     "languageId": "wolfram language"
    }
   },
   "outputs": [
    {
     "data": {
      "text/html": [
       "<div><img alt=\"Output\" src=\"data:image/png;base64,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\"></div>"
      ],
      "text/plain": [
       "{Plus[a, b], Plus[a, Times[-1, b]], Times[a, b], Times[a, Power[b, -1]], Power[a, b], \n",
       " \n",
       ">   Equal[a, b], Unequal[a, b], Less[a, b], LessEqual[a, b], Greater[a, b], \n",
       " \n",
       ">   GreaterEqual[a, b], And[a, b], Or[a, b]}"
      ]
     },
     "execution_count": 8,
     "metadata": {
      "text/html": [],
      "text/plain": []
     },
     "output_type": "execute_result"
    }
   ],
   "source": [
    "FullForm /@ {a + b, a - b, a*b, a/b, a^b, a == b, a != b, a < b, \n",
    "  a <= b, a > b, a >= b, a && b, a || b} "
   ]
  },
  {
   "cell_type": "code",
   "execution_count": 9,
   "metadata": {
    "vscode": {
     "languageId": "wolfram language"
    }
   },
   "outputs": [
    {
     "data": {
      "text/html": [
       "<div><img alt=\"Output\" src=\"data:image/png;base64,iVBORw0KGgoAAAANSUhEUgAAAM8AAAATCAIAAAC4H85cAAAAhXpUWHRSYXcgcHJvZmlsZSB0eXBlIGV4aWYAAHjaVYvBDcMwDAP/mqIjyLJM2uMYiQNkg45fuu0n9yApgbT1vi97felp2dgxABc5csRU6P6juNciDXn+X9MfZGWgoRhTluEkhnJXkqKFN+LCAahYcIbnIV8gNQN3o86928QyPusLVffpbh/5eCey76LuBgAAAAlwSFlzAAALEwAACxMBAJqcGAAAADx0RVh0U29mdHdhcmUAQ3JlYXRlZCB3aXRoIHRoZSBXb2xmcmFtIExhbmd1YWdlIDogd3d3LndvbGZyYW0uY29tXKKmhQAAACF0RVh0Q3JlYXRpb24gVGltZQAyMDIyOjA1OjE5IDExOjM3OjMzwIUDxQAABClJREFUaIHtWjuO4zgQLTX2IGw4ceBDcOBEhtO+gTYxnJLwGRrq1JiEvIHTgZ0I5CEcKGmQ6Z6CG+jLjyRL/gx2Vi/pdrFYr6pYKhUNR8YYmDHjJXj73Q7M+B9hrrYZr8Ncbb8Nkm6iiMo/jqsHXrVp/VgCbeGxtsN8z+cYi0Dkmm8+lz8FuX67K2EDd9GP4hpgv+sU3zTnsv4kabTLphvrh852749/vF7n/3To41E7kuy0OiQIp+cEFRLJpaPTAtJ9q0Ps47gG2P1YxsAYwYQpIAjETJknQbEYiBhUG41X+T8dgrTjFqRMfSNUjDR+KxYDFIEoRuIyJNvG7cxTuPoiGPJDCRU2YYwxYIwRjCmllJp+WC2n+5WmV1sPxf3+PxneCQliOaqY67diMRDG2lJnzwjysVyhVNdWuqtNCUYIYcJxUjESQ2nvDQDwAjIAyD6/yKFqtmOg+S4/GGMO+Y77XVbLElle69MocofWoPA2ipv8t964d6DHTn8IbcXv68caNR+zk6uB1h/xFdZ2NJdcO3ZuGIpHc3Wl2mNvuSEppVyjJE3TBLd91nyzy7c/jTHmnKDiloAXkOnsdCFb3GHQDtERZKfVFgMA3q5O/tSEcIn1shIttsoYtUeWXks4lsLzX9IoohIk3Wzcs+9ZulHBReNtMK7Ahuy0WgwpAVzsSNEydszwo43Aoz6eqyPVHnvDILPjJyy3a6vMqsX8cvn68R5F0Ybr6k6K1/D5N7A9LnQk3USVgidBAJJTLlsVsVqi0qXVYFwAGgAyLhFCXcLRFI7/gFMj4BeH/fmcYke1eymooPnGTkXback5L1LSFVdoV3WeFdDCjUnSbHEgl1PW6lk6h6VlGSWpjUBfn8IVTLXH3ljESXpO10hTSkO3j3JKPCeo/gYErT/iquFK+uPrAgC1wJEghJM0waA5pcUhXMsmq/OrG61skOUA8A/nGmGcLH61God2hWMoPP9LyRKg49ybJc1pgyZVbYXwa0VLSqkElCRJ8erwQuiEVwAAeLuqXlNa0ijafO8TjLfkcjpmugxCf19vaVIP4AqlepAdIZymaYI0p+1JA+8FnN6jesDwhz0WO3OkLzFKMMKqgVCxmAhz0xxbqtoWg8LJFAUEI/Y4q1h1dfWWuvdWtC3i2k7Iv0Cmis0tvuCYbV0UQ2jcH4MpXKFUt9in3Y1L+NVmjCguEUCEEaT8U0uUYMy7dxQX7VsKobAUV/EW9h3hnRTVmQsSE1aHUCTMXhrc2xxM/Z9z7JWvTgiu72UpEtF91Eq4IVtLXWsdOyZzGS/VNvvDq63tVv1wPwfPtm9abWdCc+jrbVOM3fi43I9Xco3AQLX9QVAj20OxyX+tTLIzwxhjzF8j587/LgbvisFNyQGiKIKYqTO6w84MAACIzPxryhmvwvyLoxmvw7/x5oQU0qOGcQAAAABJRU5ErkJggg==\"></div>"
      ],
      "text/plain": [
       "FormBox[RowBox[{SubscriptBox[\"∀\", RowBox[{\"ϵ\", \",\", RowBox[{\"ϵ\", \">\", \"0\"}]}]], \n",
       "\n",
       " \n",
       ">        RowBox[{SubscriptBox[\"∃\", RowBox[{\"δ\", \",\", RowBox[{\"δ\", \">\", \"0\"}]}]], \n",
       "\n",
       " \n",
       ">          RowBox[{SubscriptBox[\"∀\", RowBox[{\"x\", \",\", \n",
       "\n",
       " \n",
       ">               RowBox[{TemplateBox[List[RowBox[List[\"x\", \"-\", \n",
       "\n",
       " \n",
       ">                     SubscriptBox[\"x\", \"0\"]]]], \"Abs\"], \"<\", \"δ\"}]}]], \n",
       "\n",
       " \n",
       ">            RowBox[{TemplateBox[List[RowBox[List[RowBox[List[\"f\", \"(\", \"x\", \")\"]], \"-\",\\\n",
       " \n",
       ">    \n",
       "               RowBox[List[\"f\", \"(\", SubscriptBox[\"x\", \"0\"], \")\"]]]]], \"Abs\"],\\\n",
       " \n",
       ">    \"<\", \n",
       "           \"ϵ\"}]}]}]}], TraditionalForm]\n"
      ]
     },
     "execution_count": 9,
     "metadata": {
      "text/html": [],
      "text/plain": []
     },
     "output_type": "execute_result"
    }
   ],
   "source": [
    "ForAll[\\[Epsilon], \\[Epsilon] > 0, \n",
    "  Exists[\\[Delta], \\[Delta] > 0, \n",
    "   ForAll[x, Abs[x - Subscript[x, 0]] < \\[Delta], \n",
    "    Abs[f[x] - f[Subscript[x, 0]]] < \\[Epsilon]]]] // TraditionalForm"
   ]
  },
  {
   "cell_type": "markdown",
   "metadata": {},
   "source": [
    "Lisp 并不擅长计算,Mathematica 的计算思想来自于其它函数式语言，如 Haskell、OCaml 等等。"
   ]
  },
  {
   "cell_type": "code",
   "execution_count": 10,
   "metadata": {
    "vscode": {
     "languageId": "wolfram language"
    }
   },
   "outputs": [
    {
     "data": {
      "text/html": [
       "<div><pre style=\"&#102;&#111;&#110;&#116;&#45;&#102;&#97;&#109;&#105;&#108;&#121;&#58;&#32;&#34;&#67;&#111;&#117;&#114;&#105;&#101;&#114;&#32;&#78;&#101;&#119;&#34;&#44;&#67;&#111;&#117;&#114;&#105;&#101;&#114;&#44;&#109;&#111;&#110;&#111;&#115;&#112;&#97;&#99;&#101;&#59;\">&#123;&#125;</pre></div>"
      ],
      "text/plain": [
       "{}"
      ]
     },
     "execution_count": 10,
     "metadata": {
      "text/html": [],
      "text/plain": []
     },
     "output_type": "execute_result"
    }
   ],
   "source": [
    "Trace[(#2 - #1) & @@ (Integrate[Sin[x]^2, x] /. {x -> #} & /@ {0, 2 Pi})]"
   ]
  },
  {
   "cell_type": "markdown",
   "metadata": {},
   "source": [
    "1. 从待计算对象中识别一些可化简的模式(模式匹配);\n",
    "2. 将识别出的模式用已知的规则进行化简(规则带入);\n",
    "--Mathematica第二原理：**计算即重写**。"
   ]
  },
  {
   "cell_type": "markdown",
   "metadata": {},
   "source": [
    "Lisp 没有重写系统、Haskell、OCaml 不符合万物皆表，但是人们还是将它们归为一类，称为函数式语言。这是因为这些语言拥有一个共同的原理，那就是把函数视为最基本的、可操作的对象。"
   ]
  },
  {
   "cell_type": "markdown",
   "metadata": {},
   "source": [
    "\"代码即数据（Code-as-Data）\"被称为 Lisp 的哲学:可以制止解释器求值,操作后,组合成表L后可强制求值;<br/>\n",
    "在 Haskell 中，每种类型可以视为一个集合,于是任何二元函数$ f: X\\times Y\\rightarrow Z $都可视为一个从$ X 到 Z^Y$ 的一元函数，记为$f: X\\rightarrow(Y\\rightarrow Z)$，这种对应被称为函数的currying。<br/>\n",
    "\n",
    "在 mma 中既可以实现\"代码即数据\"这种 Lisp 哲学，也可以实现复合和 currying 等函数上的运算<br/>\n",
    "--第零原理：重要的是函数，而非变量。"
   ]
  },
  {
   "cell_type": "markdown",
   "metadata": {},
   "source": [
    "以上就是 Mathematica 核心语言的主要内容：表达式、重写系统、泛函编程和模块化。这也将是我们在本课程中学到的东西。"
   ]
  },
  {
   "cell_type": "markdown",
   "metadata": {},
   "source": [
    "* 表达式与表"
   ]
  },
  {
   "cell_type": "markdown",
   "metadata": {},
   "source": [
    "给定一个表达式$ F[X1, X2, ..., Xn]，我们称 F$ 是它的\"头\"。"
   ]
  },
  {
   "cell_type": "code",
   "execution_count": 11,
   "metadata": {
    "vscode": {
     "languageId": "wolfram language"
    }
   },
   "outputs": [
    {
     "data": {
      "text/html": [
       "<div><img alt=\"Output\" src=\"data:image/png;base64,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\"></div>"
      ],
      "text/plain": [
       "{Integer, Rational, Symbol, String, Plus, Plus, Times, Times, f + g}"
      ]
     },
     "execution_count": 11,
     "metadata": {
      "text/html": [],
      "text/plain": []
     },
     "output_type": "execute_result"
    }
   ],
   "source": [
    "Head /@ {1, 1/2, True, \"number\", a + b, a - b, a*b, \n",
    "  a/b, (f + g)[x1, x2, x3]}"
   ]
  },
  {
   "cell_type": "markdown",
   "metadata": {},
   "source": [
    "$运算符 /@ 的全名叫 Map，是最常用的泛函运算之一。$<br/>用它可以方便地测试一个函数在一组变量上的作用效果，而不必把这个函数名写很多次。"
   ]
  },
  {
   "cell_type": "code",
   "execution_count": 13,
   "metadata": {
    "vscode": {
     "languageId": "wolfram language"
    }
   },
   "outputs": [
    {
     "data": {
      "text/html": [
       "<div><pre style=\"&#102;&#111;&#110;&#116;&#45;&#102;&#97;&#109;&#105;&#108;&#121;&#58;&#32;&#34;&#67;&#111;&#117;&#114;&#105;&#101;&#114;&#32;&#78;&#101;&#119;&#34;&#44;&#67;&#111;&#117;&#114;&#105;&#101;&#114;&#44;&#109;&#111;&#110;&#111;&#115;&#112;&#97;&#99;&#101;&#59;\">&#107;&#91;&#104;&#91;&#120;&#49;&#93;&#44;&#32;&#104;&#91;&#120;&#50;&#93;&#44;&#32;&#104;&#91;&#120;&#51;&#93;&#93;</pre></div>"
      ],
      "text/plain": [
       "k[h[x1], h[x2], h[x3]]"
      ]
     },
     "execution_count": 13,
     "metadata": {
      "text/html": [],
      "text/plain": []
     },
     "output_type": "execute_result"
    }
   ],
   "source": [
    "h /@ k[x1, x2, x3]"
   ]
  },
  {
   "cell_type": "markdown",
   "metadata": {},
   "source": [
    "对于原子表达式：符号的头总是 Symbol；数字的头则依赖于它的类型，结果可以是 Integer、Rational、Real 和 Complex；字符串的头总是 String；图片的头是 Image 等等。<br/>\n",
    "利用这个性质，我们可以判断一个表达式是否是原子。"
   ]
  },
  {
   "cell_type": "code",
   "execution_count": 14,
   "metadata": {
    "vscode": {
     "languageId": "wolfram language"
    }
   },
   "outputs": [],
   "source": [
    "myAtomQ = \n",
    "  Function[ex, \n",
    "   MemberQ[{Symbol, Integer, Rational, Reals, Complex, String, Image},\n",
    "     Head[ex]]];\n",
    "     (*类似内建函数AtomQ*)"
   ]
  },
  {
   "cell_type": "markdown",
   "metadata": {},
   "source": [
    "Mathematica 引入表（List）这个概念，然后规定所有的无头表达式的头都是 List。"
   ]
  },
  {
   "cell_type": "markdown",
   "metadata": {},
   "source": [
    "$表达式 X1, X2,..., Xn 构成的表记为 \\{X1, X2,..., Xn\\}。$\n",
    "\n",
    "$List 本身也是 Mathematica 的一个内部函数，它的作用是将输入的表达式序列做成一个表。$"
   ]
  },
  {
   "cell_type": "code",
   "execution_count": null,
   "metadata": {
    "vscode": {
     "languageId": "wolfram language"
    }
   },
   "outputs": [],
   "source": [
    "List[1, 2, 3]\n",
    "(* 如果把 List 视为类（class），那么 List 函数就是这个类的构造函数（constructor）。 *)"
   ]
  },
  {
   "cell_type": "markdown",
   "metadata": {},
   "source": [
    "对于表达式$ F[X1, X2, ..., Xn]$,其头之外的部分可以用 $List[X1, X2,..., Xn] $表示,此操作可以看成将原表达式的头 $F$ 换成了系统内建符号$ List$。"
   ]
  },
  {
   "cell_type": "markdown",
   "metadata": {},
   "source": [
    "$换头术也是 Mathematica 中最常用的泛函运算之一，它的全名叫 Apply，简写形式为 @@。$"
   ]
  },
  {
   "cell_type": "code",
   "execution_count": 52,
   "metadata": {
    "vscode": {
     "languageId": "wolfram language"
    }
   },
   "outputs": [
    {
     "data": {
      "text/html": [
       "<style>\n",
       "\t\t\t\t\t\t\t\t\t\t\t\t\t.grid-container {\n",
       "\t\t\t\t\t\t\t\t\t\t\t\t\t\tdisplay: inline-grid;\n",
       "\t\t\t\t\t\t\t\t\t\t\t\t\t\tgrid-template-columns: auto;\n",
       "\t\t\t\t\t\t\t\t\t\t\t\t\t}\n",
       "\t\t\t\t\t\t\t\t\t\t\t\t</style>\n",
       "\n",
       "\t\t\t\t\t\t\t\t\t\t\t\t<div><div class=\"grid-container\"><div class=\"grid-item\"><pre style=\"&#102;&#111;&#110;&#116;&#45;&#102;&#97;&#109;&#105;&#108;&#121;&#58;&#32;&#34;&#67;&#111;&#117;&#114;&#105;&#101;&#114;&#32;&#78;&#101;&#119;&#34;&#44;&#67;&#111;&#117;&#114;&#105;&#101;&#114;&#44;&#109;&#111;&#110;&#111;&#115;&#112;&#97;&#99;&#101;&#59;\">&#103;&#91;&#120;&#49;&#44;&#32;&#120;&#50;&#44;&#32;&#120;&#51;&#93;</pre></div><div class=\"grid-item\"><pre style=\"&#102;&#111;&#110;&#116;&#45;&#102;&#97;&#109;&#105;&#108;&#121;&#58;&#32;&#34;&#67;&#111;&#117;&#114;&#105;&#101;&#114;&#32;&#78;&#101;&#119;&#34;&#44;&#67;&#111;&#117;&#114;&#105;&#101;&#114;&#44;&#109;&#111;&#110;&#111;&#115;&#112;&#97;&#99;&#101;&#59;\">&#103;&#91;&#120;&#49;&#44;&#32;&#120;&#50;&#44;&#32;&#120;&#51;&#93;</pre></div></div></div>"
      ],
      "text/plain": [
       "g[x1, x2, x3]\n",
       "g[x1, x2, x3]"
      ]
     },
     "execution_count": 52,
     "metadata": {
      "text/html": [],
      "text/plain": []
     },
     "output_type": "execute_result"
    }
   ],
   "source": [
    "Apply[g, h[x1, x2, x3]]\n",
    "g @@ h[x1, x2, x3]"
   ]
  },
  {
   "cell_type": "markdown",
   "metadata": {},
   "source": [
    "表这种表达式还有一种变体，叫做序列（Sequence）。序列可以认为是没有两边花括号（\"{\"和\"}\"）的表,更原始;"
   ]
  },
  {
   "cell_type": "code",
   "execution_count": 54,
   "metadata": {
    "vscode": {
     "languageId": "wolfram language"
    }
   },
   "outputs": [
    {
     "data": {
      "text/html": [
       "<style>\n",
       "\t\t\t\t\t\t\t\t\t\t\t\t\t.grid-container {\n",
       "\t\t\t\t\t\t\t\t\t\t\t\t\t\tdisplay: inline-grid;\n",
       "\t\t\t\t\t\t\t\t\t\t\t\t\t\tgrid-template-columns: auto;\n",
       "\t\t\t\t\t\t\t\t\t\t\t\t\t}\n",
       "\t\t\t\t\t\t\t\t\t\t\t\t</style>\n",
       "\n",
       "\t\t\t\t\t\t\t\t\t\t\t\t<div><div class=\"grid-container\"><div class=\"grid-item\"><pre style=\"&#102;&#111;&#110;&#116;&#45;&#102;&#97;&#109;&#105;&#108;&#121;&#58;&#32;&#34;&#67;&#111;&#117;&#114;&#105;&#101;&#114;&#32;&#78;&#101;&#119;&#34;&#44;&#67;&#111;&#117;&#114;&#105;&#101;&#114;&#44;&#109;&#111;&#110;&#111;&#115;&#112;&#97;&#99;&#101;&#59;\">&#104;&#91;&#49;&#44;&#32;&#50;&#44;&#32;&#51;&#93;</pre></div><div class=\"grid-item\"><pre style=\"&#102;&#111;&#110;&#116;&#45;&#102;&#97;&#109;&#105;&#108;&#121;&#58;&#32;&#34;&#67;&#111;&#117;&#114;&#105;&#101;&#114;&#32;&#78;&#101;&#119;&#34;&#44;&#67;&#111;&#117;&#114;&#105;&#101;&#114;&#44;&#109;&#111;&#110;&#111;&#115;&#112;&#97;&#99;&#101;&#59;\">&#102;&#91;&#49;&#44;&#32;&#50;&#44;&#32;&#51;&#93;</pre></div><div class=\"grid-item\"><pre style=\"&#102;&#111;&#110;&#116;&#45;&#102;&#97;&#109;&#105;&#108;&#121;&#58;&#32;&#34;&#67;&#111;&#117;&#114;&#105;&#101;&#114;&#32;&#78;&#101;&#119;&#34;&#44;&#67;&#111;&#117;&#114;&#105;&#101;&#114;&#44;&#109;&#111;&#110;&#111;&#115;&#112;&#97;&#99;&#101;&#59;\">&#102;&#91;&#123;&#49;&#44;&#32;&#50;&#44;&#32;&#51;&#125;&#93;</pre></div><div class=\"grid-item\"><pre style=\"&#102;&#111;&#110;&#116;&#45;&#102;&#97;&#109;&#105;&#108;&#121;&#58;&#32;&#34;&#67;&#111;&#117;&#114;&#105;&#101;&#114;&#32;&#78;&#101;&#119;&#34;&#44;&#67;&#111;&#117;&#114;&#105;&#101;&#114;&#44;&#109;&#111;&#110;&#111;&#115;&#112;&#97;&#99;&#101;&#59;\">&#102;&#91;&#49;&#44;&#32;&#50;&#44;&#32;&#51;&#93;</pre></div><div class=\"grid-item\"><pre style=\"&#102;&#111;&#110;&#116;&#45;&#102;&#97;&#109;&#105;&#108;&#121;&#58;&#32;&#34;&#67;&#111;&#117;&#114;&#105;&#101;&#114;&#32;&#78;&#101;&#119;&#34;&#44;&#67;&#111;&#117;&#114;&#105;&#101;&#114;&#44;&#109;&#111;&#110;&#111;&#115;&#112;&#97;&#99;&#101;&#59;\">&#102;&#91;&#49;&#44;&#32;&#50;&#44;&#32;&#51;&#44;&#32;&#123;&#49;&#44;&#32;&#50;&#44;&#32;&#51;&#125;&#44;&#32;&#52;&#44;&#32;&#53;&#44;&#32;&#54;&#93;</pre></div></div></div>"
      ],
      "text/plain": [
       "h[1, 2, 3]\n",
       "f[1, 2, 3]\n",
       "f[{1, 2, 3}]\n",
       "f[1, 2, 3]\n",
       "f[1, 2, 3, {1, 2, 3}, 4, 5, 6]"
      ]
     },
     "execution_count": 54,
     "metadata": {
      "text/html": [],
      "text/plain": []
     },
     "output_type": "execute_result"
    }
   ],
   "source": [
    "ex = h[1, 2, 3] \n",
    "seq = Sequence @@ ex;\n",
    "lst = List @@ ex;\n",
    "f[seq]\n",
    "f[lst]\n",
    "f @@ lst\n",
    "f[seq, lst, 4, 5, 6]\n",
    "(* 即如果不想要这层花括号，就要用 Sequence 换头 *)"
   ]
  },
  {
   "cell_type": "markdown",
   "metadata": {},
   "source": [
    "$除了用 Head 和 Apply 以外,mma提供了另一种访问复合表达式内部表达式的方法，即系统内建函数 Part，简写形式为 [[...]]$<br/>\n",
    "$expr[[i]] or Part[expr,i]$给出表达式第$i$个元素;<br/>\n",
    "$expr[[i,j,...]] or Part[expr,i,j,...]$等价于$expr[[i]][[j]][[...]]$;<br/>\n"
   ]
  },
  {
   "cell_type": "code",
   "execution_count": 66,
   "metadata": {
    "vscode": {
     "languageId": "wolfram language"
    }
   },
   "outputs": [
    {
     "data": {
      "text/html": [
       "<div><pre style=\"&#102;&#111;&#110;&#116;&#45;&#102;&#97;&#109;&#105;&#108;&#121;&#58;&#32;&#34;&#67;&#111;&#117;&#114;&#105;&#101;&#114;&#32;&#78;&#101;&#119;&#34;&#44;&#67;&#111;&#117;&#114;&#105;&#101;&#114;&#44;&#109;&#111;&#110;&#111;&#115;&#112;&#97;&#99;&#101;&#59;\">&#123;&#102;&#44;&#32;&#120;&#49;&#44;&#32;&#120;&#50;&#44;&#32;&#120;&#51;&#125;</pre></div>"
      ],
      "text/plain": [
       "{f, x1, x2, x3}"
      ]
     },
     "execution_count": 67,
     "metadata": {
      "text/html": [],
      "text/plain": []
     },
     "output_type": "execute_result"
    }
   ],
   "source": [
    "ex = f[x1, x2, x3];\n",
    "{ex[[0]], ex[[1]], ex[[2]], ex[[3]]}"
   ]
  },
  {
   "cell_type": "code",
   "execution_count": 64,
   "metadata": {
    "vscode": {
     "languageId": "wolfram language"
    }
   },
   "outputs": [
    {
     "data": {
      "text/html": [
       "<div><pre style=\"&#102;&#111;&#110;&#116;&#45;&#102;&#97;&#109;&#105;&#108;&#121;&#58;&#32;&#34;&#67;&#111;&#117;&#114;&#105;&#101;&#114;&#32;&#78;&#101;&#119;&#34;&#44;&#67;&#111;&#117;&#114;&#105;&#101;&#114;&#44;&#109;&#111;&#110;&#111;&#115;&#112;&#97;&#99;&#101;&#59;\">&#105;</pre></div>"
      ],
      "text/plain": [
       "i"
      ]
     },
     "execution_count": 65,
     "metadata": {
      "text/html": [],
      "text/plain": []
     },
     "output_type": "execute_result"
    }
   ],
   "source": [
    "ex = f[a, g[b, c], h[d, k[e, i], j]];\n",
    "ex[[3]][[2]][[2]]"
   ]
  },
  {
   "cell_type": "code",
   "execution_count": 69,
   "metadata": {
    "vscode": {
     "languageId": "wolfram language"
    }
   },
   "outputs": [
    {
     "data": {
      "text/html": [
       "<div><pre style=\"&#102;&#111;&#110;&#116;&#45;&#102;&#97;&#109;&#105;&#108;&#121;&#58;&#32;&#34;&#67;&#111;&#117;&#114;&#105;&#101;&#114;&#32;&#78;&#101;&#119;&#34;&#44;&#67;&#111;&#117;&#114;&#105;&#101;&#114;&#44;&#109;&#111;&#110;&#111;&#115;&#112;&#97;&#99;&#101;&#59;\">&#105;</pre></div>"
      ],
      "text/plain": [
       "i"
      ]
     },
     "execution_count": 70,
     "metadata": {
      "text/html": [],
      "text/plain": []
     },
     "output_type": "execute_result"
    }
   ],
   "source": [
    "ex = f[a, g[b, c], h[d, k[e, i], j]];\n",
    "ex[[3, 2, 2]]"
   ]
  },
  {
   "cell_type": "markdown",
   "metadata": {},
   "source": [
    "$Part$ 还有很多其它的变体，详见帮助系统。"
   ]
  },
  {
   "cell_type": "code",
   "execution_count": null,
   "metadata": {
    "vscode": {
     "languageId": "wolfram language"
    }
   },
   "outputs": [],
   "source": [
    "ex[[-1, -2, -1]]\n",
    "ex[[{2, 3}]]\n",
    "ex[[1 ;; 2]]\n",
    "ex[[1 ;; 3 ;; 2]]"
   ]
  },
  {
   "cell_type": "markdown",
   "metadata": {},
   "source": [
    "最常用的一些$ Part$ 有属于它们自己的内建函数："
   ]
  },
  {
   "cell_type": "code",
   "execution_count": 71,
   "metadata": {
    "vscode": {
     "languageId": "wolfram language"
    }
   },
   "outputs": [
    {
     "data": {
      "text/html": [
       "<style>\n",
       "\t\t\t\t\t\t\t\t\t\t\t\t\t.grid-container {\n",
       "\t\t\t\t\t\t\t\t\t\t\t\t\t\tdisplay: inline-grid;\n",
       "\t\t\t\t\t\t\t\t\t\t\t\t\t\tgrid-template-columns: auto;\n",
       "\t\t\t\t\t\t\t\t\t\t\t\t\t}\n",
       "\t\t\t\t\t\t\t\t\t\t\t\t</style>\n",
       "\n",
       "\t\t\t\t\t\t\t\t\t\t\t\t<div><div class=\"grid-container\"><div class=\"grid-item\"><pre style=\"&#102;&#111;&#110;&#116;&#45;&#102;&#97;&#109;&#105;&#108;&#121;&#58;&#32;&#34;&#67;&#111;&#117;&#114;&#105;&#101;&#114;&#32;&#78;&#101;&#119;&#34;&#44;&#67;&#111;&#117;&#114;&#105;&#101;&#114;&#44;&#109;&#111;&#110;&#111;&#115;&#112;&#97;&#99;&#101;&#59;\">&#123;&#120;&#49;&#44;&#32;&#120;&#52;&#44;&#32;&#102;&#91;&#120;&#50;&#44;&#32;&#120;&#51;&#44;&#32;&#120;&#52;&#93;&#44;&#32;&#102;&#91;&#120;&#49;&#44;&#32;&#120;&#50;&#44;&#32;&#120;&#51;&#93;&#125;</pre></div><div class=\"grid-item\"><pre style=\"&#102;&#111;&#110;&#116;&#45;&#102;&#97;&#109;&#105;&#108;&#121;&#58;&#32;&#34;&#67;&#111;&#117;&#114;&#105;&#101;&#114;&#32;&#78;&#101;&#119;&#34;&#44;&#67;&#111;&#117;&#114;&#105;&#101;&#114;&#44;&#109;&#111;&#110;&#111;&#115;&#112;&#97;&#99;&#101;&#59;\">&#102;&#91;&#120;&#50;&#44;&#32;&#120;&#51;&#93;</pre></div><div class=\"grid-item\"><pre style=\"&#102;&#111;&#110;&#116;&#45;&#102;&#97;&#109;&#105;&#108;&#121;&#58;&#32;&#34;&#67;&#111;&#117;&#114;&#105;&#101;&#114;&#32;&#78;&#101;&#119;&#34;&#44;&#67;&#111;&#117;&#114;&#105;&#101;&#114;&#44;&#109;&#111;&#110;&#111;&#115;&#112;&#97;&#99;&#101;&#59;\">&#102;&#91;&#120;&#49;&#44;&#32;&#120;&#52;&#93;</pre></div></div></div>"
      ],
      "text/plain": [
       "{x1, x4, f[x2, x3, x4], f[x1, x2, x3]}\n",
       "f[x2, x3]\n",
       "f[x1, x4]"
      ]
     },
     "execution_count": 71,
     "metadata": {
      "text/html": [],
      "text/plain": []
     },
     "output_type": "execute_result"
    }
   ],
   "source": [
    "Function[op, op[f[x1, x2, x3, x4]]] /@ {First, Last, Rest, Most}\n",
    "Take[f[x1, x2, x3, x4], {2, 3}]\n",
    "Drop[f[x1, x2, x3, x4], {2, 3}]"
   ]
  },
  {
   "cell_type": "markdown",
   "metadata": {},
   "source": [
    "对于给定的表达式，有两个值很重要，即它的长度和深度："
   ]
  },
  {
   "cell_type": "code",
   "execution_count": 74,
   "metadata": {
    "vscode": {
     "languageId": "wolfram language"
    }
   },
   "outputs": [
    {
     "data": {
      "text/html": [
       "<style>\n",
       "\t\t\t\t\t\t\t\t\t\t\t\t\t.grid-container {\n",
       "\t\t\t\t\t\t\t\t\t\t\t\t\t\tdisplay: inline-grid;\n",
       "\t\t\t\t\t\t\t\t\t\t\t\t\t\tgrid-template-columns: auto;\n",
       "\t\t\t\t\t\t\t\t\t\t\t\t\t}\n",
       "\t\t\t\t\t\t\t\t\t\t\t\t</style>\n",
       "\n",
       "\t\t\t\t\t\t\t\t\t\t\t\t<div><div class=\"grid-container\"><div class=\"grid-item\"><pre style=\"&#102;&#111;&#110;&#116;&#45;&#102;&#97;&#109;&#105;&#108;&#121;&#58;&#32;&#34;&#67;&#111;&#117;&#114;&#105;&#101;&#114;&#32;&#78;&#101;&#119;&#34;&#44;&#67;&#111;&#117;&#114;&#105;&#101;&#114;&#44;&#109;&#111;&#110;&#111;&#115;&#112;&#97;&#99;&#101;&#59;\">&#50;</pre></div><div class=\"grid-item\"><pre style=\"&#102;&#111;&#110;&#116;&#45;&#102;&#97;&#109;&#105;&#108;&#121;&#58;&#32;&#34;&#67;&#111;&#117;&#114;&#105;&#101;&#114;&#32;&#78;&#101;&#119;&#34;&#44;&#67;&#111;&#117;&#114;&#105;&#101;&#114;&#44;&#109;&#111;&#110;&#111;&#115;&#112;&#97;&#99;&#101;&#59;\">&#52;</pre></div></div></div>"
      ],
      "text/plain": [
       "2\n",
       "4"
      ]
     },
     "execution_count": 74,
     "metadata": {
      "text/html": [],
      "text/plain": []
     },
     "output_type": "execute_result"
    }
   ],
   "source": [
    "Length[f[g[x1, h[x2, x3]], x4]]\n",
    "Depth[f[g[x1, h[x2, x3]], x4]]\n",
    "(* Depth会加1 *)"
   ]
  },
  {
   "cell_type": "markdown",
   "metadata": {},
   "source": [
    "* 表的构造"
   ]
  },
  {
   "cell_type": "code",
   "execution_count": 76,
   "metadata": {
    "vscode": {
     "languageId": "wolfram language"
    }
   },
   "outputs": [
    {
     "data": {
      "text/html": [
       "<style>\n",
       "\t\t\t\t\t\t\t\t\t\t\t\t\t.grid-container {\n",
       "\t\t\t\t\t\t\t\t\t\t\t\t\t\tdisplay: inline-grid;\n",
       "\t\t\t\t\t\t\t\t\t\t\t\t\t\tgrid-template-columns: auto;\n",
       "\t\t\t\t\t\t\t\t\t\t\t\t\t}\n",
       "\t\t\t\t\t\t\t\t\t\t\t\t</style>\n",
       "\n",
       "\t\t\t\t\t\t\t\t\t\t\t\t<div><div class=\"grid-container\"><div class=\"grid-item\"><pre style=\"&#102;&#111;&#110;&#116;&#45;&#102;&#97;&#109;&#105;&#108;&#121;&#58;&#32;&#34;&#67;&#111;&#117;&#114;&#105;&#101;&#114;&#32;&#78;&#101;&#119;&#34;&#44;&#67;&#111;&#117;&#114;&#105;&#101;&#114;&#44;&#109;&#111;&#110;&#111;&#115;&#112;&#97;&#99;&#101;&#59;\">&#123;&#49;&#44;&#32;&#50;&#44;&#32;&#51;&#44;&#32;&#52;&#44;&#32;&#53;&#44;&#32;&#54;&#44;&#32;&#55;&#44;&#32;&#56;&#44;&#32;&#57;&#44;&#32;&#49;&#48;&#125;</pre></div><div class=\"grid-item\"><pre style=\"&#102;&#111;&#110;&#116;&#45;&#102;&#97;&#109;&#105;&#108;&#121;&#58;&#32;&#34;&#67;&#111;&#117;&#114;&#105;&#101;&#114;&#32;&#78;&#101;&#119;&#34;&#44;&#67;&#111;&#117;&#114;&#105;&#101;&#114;&#44;&#109;&#111;&#110;&#111;&#115;&#112;&#97;&#99;&#101;&#59;\">&#123;&#50;&#44;&#32;&#51;&#44;&#32;&#52;&#44;&#32;&#53;&#44;&#32;&#54;&#44;&#32;&#55;&#44;&#32;&#56;&#44;&#32;&#57;&#44;&#32;&#49;&#48;&#125;</pre></div><div class=\"grid-item\"><pre style=\"&#102;&#111;&#110;&#116;&#45;&#102;&#97;&#109;&#105;&#108;&#121;&#58;&#32;&#34;&#67;&#111;&#117;&#114;&#105;&#101;&#114;&#32;&#78;&#101;&#119;&#34;&#44;&#67;&#111;&#117;&#114;&#105;&#101;&#114;&#44;&#109;&#111;&#110;&#111;&#115;&#112;&#97;&#99;&#101;&#59;\">&#123;&#50;&#44;&#32;&#53;&#44;&#32;&#56;&#125;</pre></div></div></div>"
      ],
      "text/plain": [
       "{1, 2, 3, 4, 5, 6, 7, 8, 9, 10}\n",
       "{2, 3, 4, 5, 6, 7, 8, 9, 10}\n",
       "{2, 5, 8}"
      ]
     },
     "execution_count": 76,
     "metadata": {
      "text/html": [],
      "text/plain": []
     },
     "output_type": "execute_result"
    }
   ],
   "source": [
    "Range[10]\n",
    "Range[2, 10]\n",
    "Range[2, 10, 3]"
   ]
  },
  {
   "cell_type": "code",
   "execution_count": 83,
   "metadata": {
    "vscode": {
     "languageId": "wolfram language"
    }
   },
   "outputs": [
    {
     "data": {
      "text/html": [
       "<style>\n",
       "\t\t\t\t\t\t\t\t\t\t\t\t\t.grid-container {\n",
       "\t\t\t\t\t\t\t\t\t\t\t\t\t\tdisplay: inline-grid;\n",
       "\t\t\t\t\t\t\t\t\t\t\t\t\t\tgrid-template-columns: auto;\n",
       "\t\t\t\t\t\t\t\t\t\t\t\t\t}\n",
       "\t\t\t\t\t\t\t\t\t\t\t\t</style>\n",
       "\n",
       "\t\t\t\t\t\t\t\t\t\t\t\t<div><div class=\"grid-container\"><div class=\"grid-item\"><img alt=\"Output\" src=\"data:image/png;base64,iVBORw0KGgoAAAANSUhEUgAAAPgAAAAPCAIAAABGJJX9AAAAhXpUWHRSYXcgcHJvZmlsZSB0eXBlIGV4aWYAAHjaVYvBDcMwDAP/mqIjyLJM2uMYiQNkg45fuu0n9yApgbT1vi97felp2dgxABc5csRU6P6juNciDXn+X9MfZGWgoRhTluEkhnJXkqKFN+LCAahYcIbnIV8gNQN3o86928QyPusLVffpbh/5eCey76LuBgAAAAlwSFlzAAALEwAACxMBAJqcGAAAADx0RVh0U29mdHdhcmUAQ3JlYXRlZCB3aXRoIHRoZSBXb2xmcmFtIExhbmd1YWdlIDogd3d3LndvbGZyYW0uY29tXKKmhQAAACF0RVh0Q3JlYXRpb24gVGltZQAyMDIyOjA1OjE5IDE0OjQ5OjA2mwUgDQAAAwFJREFUaIHtWjGO4jAU/exJHNFMwSES0YBouUHSoGkdcYYRtIgmuQHtCBpkH4KCBsU38RYhieMkxP7JDtpdv2pi+z0//3x/O2gmUkpwcPjX8evdBhwcfgIu0R3+C2iJLsRbXDg4jItGIiuJLtI4rXXzeFJgWe/phsLJEXNTa+lSH48xUClprBb9XnQYwEipzJKIWmC1vMoELuwdLGTYK5o6OS5WrSzzRgCANE7VNjXRp6vQJ0qfv5M5sgSijdmSS46UUjIKiw/SywEAHk82cMySRbuYhQEQ6ea+1Vnt+r1oM4CUyqneaUYVImqBAACUFTHe+TUhq7B3sDCuRLoM4GmKQbAcEqtWlnkjAAAQEq7goVg3vqPPpsTKLYBIv/Z0GxrR/J0894w0NUDCc/7ygUxncLkLQ/1ePA2gpXgc3JLj50eP/lDYhN2AZehK3C905ed/+yt6OV0FYGPVyjJvbMfrRH+eRt5pnT2Txxz8EEHyacsa0QCIxw3K6L/DQF0ouCXHxltB6u+DrqsFLuwaC+Vq/80BIN8zltP/AMpEF/zxIHpvcYht757lLQtXVxrAGwAee9GMDcvOQQbqZgJgbcUHoU/Cs3K18Gqskcq5vSt/lyW3fPdtYE3t5v8z8KdwFeVTkehCPKD7kPJXFG7qjacHIt2MUM7xBkS6nATA5NA0RxvQ7XztiyLsRRfYB41ajNIn8/VCZeHC/oJl46rcf+c53Ma6hw0CAbiWv74UiU78cAq8i8K/94v1nJSP8evvaH6ILs260sd6BRsDIl160cw0yw1daQbspKoaLGWWLIAyqd8tLSP8HHWILgoLF/Z2Ft6V2W4bkgyG4FeYh4QUj8pnN2NSBasOoEWSqT35Zy6tD6/1aoReFtMOO8qwBhqf4LpU1WjjqjKAk6r5K4bgIqysUGVhwt7KGupK6R8c9p432K0vpWSJ6v5For8Ao70vdDSWk3JSuBk6Ez2hLNNHN5BvxbbSMT7LSTmpAbNQdYaJVP97UXAOxK/uNQ4OfyWaifwbOOOM2m9gs1sAAAAASUVORK5CYII=\"></div><div class=\"grid-item\"><img alt=\"Output\" src=\"data:image/png;base64,iVBORw0KGgoAAAANSUhEUgAAAF0AAABSCAIAAAC5RU9BAAAAhXpUWHRSYXcgcHJvZmlsZSB0eXBlIGV4aWYAAHjaVYvBDcMwDAP/mqIjyLJM2uMYiQNkg45fuu0n9yApgbT1vi97felp2dgxABc5csRU6P6juNciDXn+X9MfZGWgoRhTluEkhnJXkqKFN+LCAahYcIbnIV8gNQN3o86928QyPusLVffpbh/5eCey76LuBgAAAAlwSFlzAAALEwAACxMBAJqcGAAAADx0RVh0U29mdHdhcmUAQ3JlYXRlZCB3aXRoIHRoZSBXb2xmcmFtIExhbmd1YWdlIDogd3d3LndvbGZyYW0uY29tXKKmhQAAACF0RVh0Q3JlYXRpb24gVGltZQAyMDIyOjA1OjE5IDE0OjQ5OjA2mwUgDQAAA5NJREFUeJztnKGPGkEUhx9NE84hQUIwK04gkVxqIDWI+wMu4UwdAhIckjStbTAQJOYEjjpwnESQnLosp0CCAtRUbJvuzL7uzlwZeAvvc7t5O7z93c7AfrlMQggBTIAP526AKHq5LPuVhEelvzS4oDnV68J0fNv1erlMm7nH24kQQgj3/ikXebPTZuILdN1eWauD94xvtx4AAESAdrstHU8aUO653rC9MgA0JsGLgri9sl6l6fjHru92u8GL1OdlNBpVq1X/meXrAm7zWYBpM5F7uu81YPG61ElcE9Pxj15fKpXW67VylZrLfD4vFArB0afNxB1MxLiWD2nhPzAd/4j1juM8Pz8rJ6Vc1ut1JpNRKrL5W/h+99VxxbeSL/2jYTq+pfr9fi8d+yfVYDBwXTdsgk4ausuL/vpiPP7x619eXgaDgf+MlEur1cJH/vvd8ucDIvqQiE7HbHwr9cq96+VyBdTrdf+hur6ETNTLJpVK+Q+lXG5ubk7bDCEOh4P/UMolnU6fthlCKHNFymW73Z62GbpIuWw2m3P1QQ32DDicCw7ngmPHS8XdY9nyUvH2WAAgvzc+PDwgv5Bte6PfnNljKfce/bzY9kamnKYf3XXXtjcyxXY/0bnY9kamnKafj9GNlD43YOF8ygIATH88/mxMxketN+U0/YSsPfKa6GHDG5HwWMq96+VyBRh/H10nnAsO54LDueBwLjicCw7ngsO54NDwUtQ8FhUvRctjAQAFL0XDY5HzUtQ8lgcVL0XNY53fS1HzWB4EvBQ1j+URsvbIa5zH2f6fyYcVj8VeCoe9lBacCw7ngsO54HAuOJwLDueCw7ngxNNL2fZYcfVSdj0WAMTRS9nxWLH3UrY9lkdcvZRtjxU/L2XbY3nE0EvZ9lgeIWuPvGZ5UPBSVjwWeykc9lJacC44nAsO54LDueBwLjicC46US3Azj6tFyiWZTP6jbNmvGEgdcl5Ko17Za0DK5e3tTeNDIqHnpTTq1b0G/D9+lT0tPAKeK+qVhJqX0qsP288D3bciWxvLsmtcy4b9dah5Kc36sHmUSqXU7YTeCzUvFV6/2WzC9jkpFovBHahMoealdOrn83m5LC8XyjRTN69DJmkk598vyrRe2VxKKP5FCNHpdHa7HTK4kQqi5aUi6ne73Ww2U06quaxWK3T/vwtmOBwGHwX1PSCTyTiOEzJdLw/HcYJfxAnB++9i8Hsjzi/ETLqpST9mkAAAAABJRU5ErkJggg==\"></div><div class=\"grid-item\"><img alt=\"Output\" src=\"data:image/png;base64,iVBORw0KGgoAAAANSUhEUgAAAGoAAAAPCAIAAACDes0pAAAAhXpUWHRSYXcgcHJvZmlsZSB0eXBlIGV4aWYAAHjaVYvBDcMwDAP/mqIjyLJM2uMYiQNkg45fuu0n9yApgbT1vi97felp2dgxABc5csRU6P6juNciDXn+X9MfZGWgoRhTluEkhnJXkqKFN+LCAahYcIbnIV8gNQN3o86928QyPusLVffpbh/5eCey76LuBgAAAAlwSFlzAAALEwAACxMBAJqcGAAAADx0RVh0U29mdHdhcmUAQ3JlYXRlZCB3aXRoIHRoZSBXb2xmcmFtIExhbmd1YWdlIDogd3d3LndvbGZyYW0uY29tXKKmhQAAACF0RVh0Q3JlYXRpb24gVGltZQAyMDIyOjA1OjE5IDE0OjQ5OjA2mwUgDQAABCRJREFUWIXtVzuOrDoQPb4r8Yhkgl6E0SQg0t4BnSBS0KxhRKcjErMDUsQkLbyIDjpB9k7qBnzNp5s70sveieiiXKdclMunGRHhf/wWfzZsKmV+Ybb9Ver7PmOM+YUqfMYYY6lSKeuRqu1lpvD3Yx5nP+5yGMYYADCF7xcGRinTEexuxcJW+QDv/MHH+F3gCeeciChHhZyIiIKqCoiIqEmSQOwyJZ8h3315nB2Aqu4yfxFs+qIr2PG4+e4qdTp/cHP7cr8VTHtPmmx/KxP+dJ1hwb2ijMZfEfLcMeZlpF/in9lN8XX9ubxtVmbqGJHRAlp6SBoiqu3Ki1ii7QjUDTllwtzK05M+sLBkIdLSS5q1mfoO86TuvJLugZqkdx8fBtcntLsMT9nnCRxYprWeUtlctpVjkthGa6GWiddZE6mJsI7kST1FXZLOvBrp9ZUYjYvyTT+nYu9s9Ri7/YXGfiJqpO3Zv2qSzqFfpqUHTzYy8WSz8PY8b6Br5PB60Q+9pSfSmojms69Ptg553/paJrMxBGB2KGqnukBqIsrEaNybF+ZW3nfa8F/YTdEGNsUwbEW4moVJICCyBm5/olXKIuRUh8LByZmimMKPkOfnk9Q5orQoWid3YACYdpW0yGLcCmUAcI69q+M1VOpesRhBu3eVuZWnM6Jjl9kT8DAU6MblFMoU6foW5s6pexAZZcK096tbBcup10WKkNchB94dzsM6dpwPgbY1AMwD7/MFxiilDP8IBTdFoQC7fD+XN5YqU/iDLHm7bPeMSpmLeVt3x3Gv99R3eY7DsKagelLjw+zmVv7Mrngexoj2P4xKGYtKJE1Qrbl5WHc1Vd+XsjUAuBAc3EFrYNr7yeFToOIGIYTgHAAPnbYwdvk8qSmoIuSDLNF6rQ9UylgVEM2yMUVUnmOBTaiUVUH/2UXWJNdqZ6eH2AGo78vJVhU8rLdqU6WMdbnWnydAZBRUS7046BsXTY5oPELCwU1Z968pWmeejWkfwLx8IqtDblecczt9U/isCroRJ2J5rxQAlb49PlfHAgBwdRmrgnlXirgJtjyPsPcpVO963eYia+AuShPEWtvjWGTNqbwZax11l3kseJhLb5B7HKV7sdVL+TWEN6rwo0cQ8uXs21Y8vRTven1Mh4d1hnRZHwtJs7pNuBB82/klOwCVRoi3BbOIJezSgHPey0r3OnhlGx9aZF3nvV325R4P8/Ojl6PR1+Mz7/Y1L9/eITRVZVa2wu9PxiF13i96pr5fss/HwAZ4mOcfq5c8rIma5sV/CPP4QdJQf7r7O1q/f80nAg+zuhcddTb2wEx2eZY0s+KPsmnApghda6SVaRZuYX7FPsfgsJtFk3jeFGMphKeAfULjby29OZ2W3vOtogvxVOj/DqPkf47/iP0Y7By19A50hYW/Qc8M3avXTmgAAAAASUVORK5CYII=\"></div></div></div>"
      ],
      "text/plain": [
       "{3, 7, 13, 21, 31, 43, 57, 73, 91, 111}\n",
       "0   1   0   0   0\n",
       "\n",
       "0   0   1   0   0\n",
       "\n",
       "0   0   0   1   0\n",
       "\n",
       "0   0   0   0   1\n",
       "\n",
       "t   0   0   0   0\n",
       "克罗内克尔函数δ"
      ]
     },
     "execution_count": 83,
     "metadata": {
      "text/html": [],
      "text/plain": []
     },
     "output_type": "execute_result"
    }
   ],
   "source": [
    "Table[i^2 + i + 1, {i, 10}]\n",
    "Table[KroneckerDelta[i, j - 1] + t KroneckerDelta[i, j + 4], {i, \n",
    "   5}, {j, 5}] //MatrixForm\n",
    "    克罗内克尔函数\\[Delta]"
   ]
  },
  {
   "cell_type": "code",
   "execution_count": 86,
   "metadata": {
    "vscode": {
     "languageId": "wolfram language"
    }
   },
   "outputs": [
    {
     "data": {
      "text/html": [
       "<style>\n",
       "\t\t\t\t\t\t\t\t\t\t\t\t\t.grid-container {\n",
       "\t\t\t\t\t\t\t\t\t\t\t\t\t\tdisplay: inline-grid;\n",
       "\t\t\t\t\t\t\t\t\t\t\t\t\t\tgrid-template-columns: auto;\n",
       "\t\t\t\t\t\t\t\t\t\t\t\t\t}\n",
       "\t\t\t\t\t\t\t\t\t\t\t\t</style>\n",
       "\n",
       "\t\t\t\t\t\t\t\t\t\t\t\t<div><div class=\"grid-container\"><div class=\"grid-item\"><pre style=\"&#102;&#111;&#110;&#116;&#45;&#102;&#97;&#109;&#105;&#108;&#121;&#58;&#32;&#34;&#67;&#111;&#117;&#114;&#105;&#101;&#114;&#32;&#78;&#101;&#119;&#34;&#44;&#67;&#111;&#117;&#114;&#105;&#101;&#114;&#44;&#109;&#111;&#110;&#111;&#115;&#112;&#97;&#99;&#101;&#59;\">&#123;&#51;&#44;&#32;&#55;&#44;&#32;&#49;&#51;&#44;&#32;&#50;&#49;&#44;&#32;&#51;&#49;&#44;&#32;&#52;&#51;&#44;&#32;&#53;&#55;&#44;&#32;&#55;&#51;&#44;&#32;&#57;&#49;&#44;&#32;&#49;&#49;&#49;&#125;</pre></div><div class=\"grid-item\"><pre style=\"&#102;&#111;&#110;&#116;&#45;&#102;&#97;&#109;&#105;&#108;&#121;&#58;&#32;&#34;&#67;&#111;&#117;&#114;&#105;&#101;&#114;&#32;&#78;&#101;&#119;&#34;&#44;&#67;&#111;&#117;&#114;&#105;&#101;&#114;&#44;&#109;&#111;&#110;&#111;&#115;&#112;&#97;&#99;&#101;&#59;\">&#123;&#51;&#44;&#32;&#55;&#44;&#32;&#49;&#51;&#44;&#32;&#50;&#49;&#44;&#32;&#51;&#49;&#44;&#32;&#52;&#51;&#44;&#32;&#53;&#55;&#44;&#32;&#55;&#51;&#44;&#32;&#57;&#49;&#44;&#32;&#49;&#49;&#49;&#125;</pre></div></div></div>"
      ],
      "text/plain": [
       "{3, 7, 13, 21, 31, 43, 57, 73, 91, 111}\n",
       "{3, 7, 13, 21, 31, 43, 57, 73, 91, 111}"
      ]
     },
     "execution_count": 86,
     "metadata": {
      "text/html": [],
      "text/plain": []
     },
     "output_type": "execute_result"
    }
   ],
   "source": [
    "Array[#^2 + # + 1 &, 10]\n",
    "#^2 + # + 1 & /@ Range[10]"
   ]
  },
  {
   "cell_type": "code",
   "execution_count": null,
   "metadata": {
    "vscode": {
     "languageId": "wolfram language"
    }
   },
   "outputs": [],
   "source": [
    "Array[f, 5, 2, h]"
   ]
  },
  {
   "cell_type": "code",
   "execution_count": 88,
   "metadata": {
    "vscode": {
     "languageId": "wolfram language"
    }
   },
   "outputs": [
    {
     "data": {
      "text/html": [
       "<style>\n",
       "\t\t\t\t\t\t\t\t\t\t\t\t\t.grid-container {\n",
       "\t\t\t\t\t\t\t\t\t\t\t\t\t\tdisplay: inline-grid;\n",
       "\t\t\t\t\t\t\t\t\t\t\t\t\t\tgrid-template-columns: auto;\n",
       "\t\t\t\t\t\t\t\t\t\t\t\t\t}\n",
       "\t\t\t\t\t\t\t\t\t\t\t\t</style>\n",
       "\n",
       "\t\t\t\t\t\t\t\t\t\t\t\t<div><div class=\"grid-container\"><div class=\"grid-item\"><img alt=\"Output\" src=\"data:image/png;base64,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\"></div><div class=\"grid-item\"><img alt=\"Output\" src=\"data:image/png;base64,iVBORw0KGgoAAAANSUhEUgAAAH8AAAAwCAIAAAC30TL9AAAAhXpUWHRSYXcgcHJvZmlsZSB0eXBlIGV4aWYAAHjaVYvBDcMwDAP/mqIjyLJM2uMYiQNkg45fuu0n9yApgbT1vi97felp2dgxABc5csRU6P6juNciDXn+X9MfZGWgoRhTluEkhnJXkqKFN+LCAahYcIbnIV8gNQN3o86928QyPusLVffpbh/5eCey76LuBgAAAAlwSFlzAAALEwAACxMBAJqcGAAAADx0RVh0U29mdHdhcmUAQ3JlYXRlZCB3aXRoIHRoZSBXb2xmcmFtIExhbmd1YWdlIDogd3d3LndvbGZyYW0uY29tXKKmhQAAACF0RVh0Q3JlYXRpb24gVGltZQAyMDIyOjA1OjE5IDE0OjU0OjM4mJqvpAAABAhJREFUeJztnK1zIjEAxbM3N1McdUWGwUQgKivTOQNTU9H/AAwepra2Q+0NFaBbcaKmA+aGyEoEoogOqSqSqlKVE8CwyX40yWY3obc/VcImeftYNiEvW48xBnIs8UP6SDqoe2vqA8q9QSml4XUMoNP63kiVdp/8boL+nDHG2LABfeUk0OHm5DtESUl0LfqX99C21MgPV1mqrPv0ZQqqFRj6HoRw9wbpeC3Qm/drCiLiavnbliNlqXTQer5kjDE274Nmy+e2utQQ96+urvje6p7nlZsjcHPqfX2h4C5/wcmhV0skE6mwMezi9V+VKhg9U7lqt7e3wULR/YeHh/Pzc6E3xti8XwPtMWOMsU3fDpKxVPoyBe0zyS4wxovFQigU3Z9MJsfHxwakfXtIp9ysjqU/X4TQ09OTUMi5v1gsSqWSEW3fGzqoe6dgrP7dWq1W/pec+6PRqFZTG4MUIB31iZAlYqXSQb3crGpYjxC6v7/3l3Duz2Yz9XFbgHQ8buTbnQNENQBuHolarRTRkkoHreYIbId1JakIodls5i/5KVkTNoZyv4lxl7FueBOVKgDV8FEqupY66UqFjSFraGuLu/MEB2VT0EHd806n/bm7E6YtqUotFov+l9y1XygUlNuDEBBCAMQYxh2lecVQSigFlV9xbUvjgNTPz0//S879o6Mj5U4hxEmHiqxad0CqcHfh7jzv7++GJeXEwrm/XC5t6fg/kV9hzjFP7r5N8nTFHE6kKzHhQxw20hU9qQ6nK9HhQxxW0hU9qSmnK4HelCILvfDBSrqiJ1UzXQnla/e1Iwul8MEIGUtNfoKyq2zKrMMHhtNq3yB6Uk2cYCozTu3wIXv0pJo6QfPuR4YP7qUrelK105Ugpt2PCR9cS1f0pCZIV4KYTldi1mddS1f0pCZLVwQyWmnI05VQEs95HIgsZHFPqgH3rUcWVhoz0nq+xmmT3H2b5O7bJHffJpz7sZs49yay2COpnPsHBweRB0pHFuufrXuRrmhKTZCuCDumOPdfX18je5SNLADuMrYf6Yqe1ETpirBjinP/8PAwrDelyIInygURK+kKj6zUROmKsGOKcz90J6F6ZLH5Qpf/XGS8sJCxVI10Je7OUywWhU22Wmy/0JfPZbdWlIMkkKr47AoAYLlcCrtoOfdPTk6CT7fog8/aYPpCjbWXIopS9dKVyWQiPJzCuY8xJoSoNBgLebypXexWndxLV3aoSNVOVyilwjNx4q+tQqGQ7Objm8Vdo7l/KHUtXdGTqpuurFYrhJBYynje3t56vR6TZzweSx/aBtvhUIlxfzN7T4hVqXd3dx8fH0KheO2XSqWQjygxebqCEApOKT2W8H+UrEOFryILJ1p3T2pi93MS8A8cLAGihv9bhgAAAABJRU5ErkJggg==\"></div></div></div>"
      ],
      "text/plain": [
       "{{1, 1, 1}, {1, 1, 2}, {1, 1, 3}, {1, 2, 1}, {1, 2, 2}, {1, 2, 3}, {1, 3, 1}, {1, 3, 2}, \n",
       " \n",
       ">   {1, 3, 3}, {2, 1, 1}, {2, 1, 2}, {2, 1, 3}, {2, 2, 1}, {2, 2, 2}, {2, 2, 3}, \n",
       " \n",
       ">   {2, 3, 1}, {2, 3, 2}, {2, 3, 3}, {3, 1, 1}, {3, 1, 2}, {3, 1, 3}, {3, 2, 1}, \n",
       " \n",
       ">   {3, 2, 2}, {3, 2, 3}, {3, 3, 1}, {3, 3, 2}, {3, 3, 3}}\n",
       "f[1, 1]   f[1, 2]\n",
       "\n",
       "f[2, 1]   f[2, 2]\n",
       "\n",
       "f[3, 1]   f[3, 2]"
      ]
     },
     "execution_count": 88,
     "metadata": {
      "text/html": [],
      "text/plain": []
     },
     "output_type": "execute_result"
    }
   ],
   "source": [
    "Tuples[Range[3], 3]\n",
    "Outer[f, Range[3], Range[2]] // MatrixForm"
   ]
  },
  {
   "cell_type": "markdown",
   "metadata": {},
   "source": [
    "* 查询和搜索："
   ]
  },
  {
   "cell_type": "code",
   "execution_count": 90,
   "metadata": {
    "vscode": {
     "languageId": "wolfram language"
    }
   },
   "outputs": [
    {
     "data": {
      "text/html": [
       "<style>\n",
       "\t\t\t\t\t\t\t\t\t\t\t\t\t.grid-container {\n",
       "\t\t\t\t\t\t\t\t\t\t\t\t\t\tdisplay: inline-grid;\n",
       "\t\t\t\t\t\t\t\t\t\t\t\t\t\tgrid-template-columns: auto;\n",
       "\t\t\t\t\t\t\t\t\t\t\t\t\t}\n",
       "\t\t\t\t\t\t\t\t\t\t\t\t</style>\n",
       "\n",
       "\t\t\t\t\t\t\t\t\t\t\t\t<div><div class=\"grid-container\"><div class=\"grid-item\"><img alt=\"Output\" src=\"data:image/png;base64,iVBORw0KGgoAAAANSUhEUgAAASsAAAAPCAIAAAAzjH53AAAAhXpUWHRSYXcgcHJvZmlsZSB0eXBlIGV4aWYAAHjaVYvBDcMwDAP/mqIjyLJM2uMYiQNkg45fuu0n9yApgbT1vi97felp2dgxABc5csRU6P6juNciDXn+X9MfZGWgoRhTluEkhnJXkqKFN+LCAahYcIbnIV8gNQN3o86928QyPusLVffpbh/5eCey76LuBgAAAAlwSFlzAAALEwAACxMBAJqcGAAAADx0RVh0U29mdHdhcmUAQ3JlYXRlZCB3aXRoIHRoZSBXb2xmcmFtIExhbmd1YWdlIDogd3d3LndvbGZyYW0uY29tXKKmhQAAACF0RVh0Q3JlYXRpb24gVGltZQAyMDIyOjA1OjE5IDE1OjA4OjE3HlLrywAAAldJREFUaIHtmz+OozAUxp/3JEZpUswhjLYhSrs3gGa1LVbOsII22gZuMO1o0kT4EBTTIHwTbwEYO+zATP6AmX2/Khjw9yG99/xsKUQpBQiCLMS3pQ0gyH8NZiCCLMlFBkp51SyCkwYubnaEIDbuRNcdnAwyzMhAmfPcuq31JkVZopSqs+BaW6PIfEdsdrZPFF2dKDgTXfM7yXluSpgZuNmHjNpPx4XqSNhNutdDw1ellFJF3Nl5DSmKrlq0wYXomtsJpeEeKtkPfHofaBaMibXYqK59WTUGb2wqBCc817M1kwmuZ5X5zvqNousQdSe65nEykYGpfzk3S7piUWelPza5OEZPXWnpyqrg3tuhHSvAv7XfSZ/hT1vA05d3raCoo6LuRNeCTnQGSlFVdHC7X511a6KLgxedRr+KboPUtyuArMr+Y/109PWPEB9aVyx5v3tAUVdF3YmuWZ2wDZylvuoyUMoKNnTaquB+mdVtbRjfkbYbjP1LvxLLt1PQvm1/7iNB0dWIuhNdD3VCAc76TLTLQMrCDYhJY7IqtcfjRG1oYYmqs6DpYtg+PkXHf8oIfnvvDgAAZSUBQOY/O3souhZRd6LrcU4AQJzhe0hpe/XJkxgaHuJT5BFCyO9tFnd+8127WjdLLxdgbUW96KlouhiW1Fk56LkBAOg2ABjZbXwM9iuDyCOEeM8/tD0UXYmoO9H1OCdD+qWyKAq1IEVsHQqjKIreEXecKFVkZodqZmAWF/Xl07PQdNpW54yiKPrlnDTUWWx6Icr8b4QUAijTLSqCIHdlmGF/AU5pVIs5dRswAAAAAElFTkSuQmCC\"></div><div class=\"grid-item\"><img alt=\"Output\" src=\"data:image/png;base64,iVBORw0KGgoAAAANSUhEUgAAATkAAAAPCAIAAAAQ1y+iAAAAhXpUWHRSYXcgcHJvZmlsZSB0eXBlIGV4aWYAAHjaVYvBDcMwDAP/mqIjyLJM2uMYiQNkg45fuu0n9yApgbT1vi97felp2dgxABc5csRU6P6juNciDXn+X9MfZGWgoRhTluEkhnJXkqKFN+LCAahYcIbnIV8gNQN3o86928QyPusLVffpbh/5eCey76LuBgAAAAlwSFlzAAALEwAACxMBAJqcGAAAADx0RVh0U29mdHdhcmUAQ3JlYXRlZCB3aXRoIHRoZSBXb2xmcmFtIExhbmd1YWdlIDogd3d3LndvbGZyYW0uY29tXKKmhQAAACF0RVh0Q3JlYXRpb24gVGltZQAyMDIyOjA1OjE5IDE1OjA4OjE3HlLrywAAAi5JREFUaIHtmz2OqzAQgM2exKs0W+whjLYhyjFI83qsPQS00Tb4Bq+NNk1kH4IijYVv4i3Af5BAQqKFvDdfhU3wfIHMMCFKpLVGAAAsnpe5BQAAuArIVQB4Djq5qtSkVQSNGqi42+g+wARM/hF6uejlqmKUBbvtmR09vSTXWtdl8ijNLmACJqMoto5C1uHn+emCMsqEN/RzdbVJCQ5fnXFtyMmjFCYBJmAyDE6/tdZa88zofKf4iYNinG6QVG7i5u+rfhEd6WS8muOKjTd5ZyMEJmBypQlldrVmMUHtqoqtg+3lBh3J1SLunkWSmwJal1U8tLjYbd9NuTXFRtDX02c7x1F8Q78AJmAymeIv+mpvf8X+osrSg9pcVUJK3Nvteht7a7cF83V7GHTFb0kRh7VCycpd1rgYPBxMwGSCyXm9z9aK5Jd79AUGJSt0VHZkclUpiVZ4XEDQuCrrtl4OPyNoW/nN3t3d1emQtEeHF3YCYAImD2WJQTFCR/s82OQqJukKifGlZWU2xW6kXraQXNdl0nQBZJMdtruzYQQd7dfBBExuNrlIJRVCSLE/Rm9pQRFC4og+UozN0KU051wHuGdb4WRDUpZmf7dyZrw76dbxp/2K0sz344EJmFxtclbnrJ5d3tNbWFCtNS/98VCu/i48Gz4bvweY9PnPTWZ6+2Gu+s+B5V4oNAeKraMorsp65l8JwQRMlhG0DS1P/jDS/v9slBAIE9cgAwAwD/1c/AFCHIm3D/YRUAAAAABJRU5ErkJggg==\"></div></div></div>"
      ],
      "text/plain": [
       "{False, True, True, True, True, False, False}\n",
       "{False, False, False, False, False, True, True}"
      ]
     },
     "execution_count": 91,
     "metadata": {
      "text/html": [],
      "text/plain": []
     },
     "output_type": "execute_result"
    }
   ],
   "source": [
    "ex = f[x1, x2, x3, x4];\n",
    "Function[i, MemberQ[ex, i]] /@ {f, x1, x2, x3, x4, x5, x6}\n",
    "(* MemberQ[list,form]通常只测试层次1 *)\n",
    "Function[i, FreeQ[ex, i]] /@ {f, x1, x2, x3, x4, x5, x6}\n",
    "(* 从层次0开始 *)"
   ]
  },
  {
   "cell_type": "code",
   "execution_count": 1,
   "metadata": {
    "vscode": {
     "languageId": "wolfram language"
    }
   },
   "outputs": [
    {
     "data": {
      "text/html": [
       "<div><img alt=\"Output\" src=\"data:image/png;base64,iVBORw0KGgoAAAANSUhEUgAAACMAAAAPCAIAAADh1eFDAAAAhXpUWHRSYXcgcHJvZmlsZSB0eXBlIGV4aWYAAHjaVYvBDcMwDAP/mqIjyLJM2uMYiQNkg45fuu0n9yApgbT1vi97felp2dgxABc5csRU6P6juNciDXn+X9MfZGWgoRhTluEkhnJXkqKFN+LCAahYcIbnIV8gNQN3o86928QyPusLVffpbh/5eCey76LuBgAAAAlwSFlzAAALEwAACxMBAJqcGAAAADx0RVh0U29mdHdhcmUAQ3JlYXRlZCB3aXRoIHRoZSBXb2xmcmFtIExhbmd1YWdlIDogd3d3LndvbGZyYW0uY29tXKKmhQAAACF0RVh0Q3JlYXRpb24gVGltZQAyMDIyOjA1OjE5IDIwOjEyOjQwcytrvQAAAPpJREFUOI3tlDGOgzAQRYdoD0K6FDmE3RnlGOEIRjkEtHTmGFHo7ENQpInsm/wUjIEQBXazUrTF/gZp+OM3f2Q5AUAf0eYzmD9MckXSq3BvkYb+1UNECcAb9WMMEX31H21Rinf6v6+X25sGXdlVaLLozJrwXOzbmVTJuVeUYHnTySWWq/O9Ze/lmPKc2+uJa5Zk1oRI0tE6eMdQ27xdjJTuVCUfg4dbNw4vK5pkeh60kJ3xnGn5BqTHCwAczuOmwrVV3D2M/4IUbt3ArFcysUQJb1R1dkQkDrrNa/doAGD1ZHtRVrNBGRP/z9NpOy+O50zLyngg+X/3fqE73eq59mZMEtcAAAAASUVORK5CYII=\"></div>"
      ],
      "text/plain": [
       "False"
      ]
     },
     "execution_count": 1,
     "metadata": {
      "text/html": [],
      "text/plain": []
     },
     "output_type": "execute_result"
    }
   ],
   "source": [
    "MemberQ[ex, f, Heads -> True]"
   ]
  },
  {
   "cell_type": "code",
   "execution_count": 2,
   "metadata": {
    "vscode": {
     "languageId": "wolfram language"
    }
   },
   "outputs": [
    {
     "data": {
      "text/html": [
       "<style>\n",
       "\t\t\t\t\t\t\t\t\t\t\t\t\t.grid-container {\n",
       "\t\t\t\t\t\t\t\t\t\t\t\t\t\tdisplay: inline-grid;\n",
       "\t\t\t\t\t\t\t\t\t\t\t\t\t\tgrid-template-columns: auto;\n",
       "\t\t\t\t\t\t\t\t\t\t\t\t\t}\n",
       "\t\t\t\t\t\t\t\t\t\t\t\t</style>\n",
       "\n",
       "\t\t\t\t\t\t\t\t\t\t\t\t<div><div class=\"grid-container\"><div class=\"grid-item\"><img alt=\"Output\" src=\"data:image/png;base64,iVBORw0KGgoAAAANSUhEUgAAACMAAAAPCAIAAADh1eFDAAAAhXpUWHRSYXcgcHJvZmlsZSB0eXBlIGV4aWYAAHjaVYvBDcMwDAP/mqIjyLJM2uMYiQNkg45fuu0n9yApgbT1vi97felp2dgxABc5csRU6P6juNciDXn+X9MfZGWgoRhTluEkhnJXkqKFN+LCAahYcIbnIV8gNQN3o86928QyPusLVffpbh/5eCey76LuBgAAAAlwSFlzAAALEwAACxMBAJqcGAAAADx0RVh0U29mdHdhcmUAQ3JlYXRlZCB3aXRoIHRoZSBXb2xmcmFtIExhbmd1YWdlIDogd3d3LndvbGZyYW0uY29tXKKmhQAAACF0RVh0Q3JlYXRpb24gVGltZQAyMDIyOjA1OjE5IDIwOjEzOjAzNvKYZgAAAPpJREFUOI3tlDGOgzAQRYdoD0K6FDmE3RnlGOEIRjkEtHTmGFHo7ENQpInsm/wUjIEQBXazUrTF/gZp+OM3f2Q5AUAf0eYzmD9MckXSq3BvkYb+1UNECcAb9WMMEX31H21Rinf6v6+X25sGXdlVaLLozJrwXOzbmVTJuVeUYHnTySWWq/O9Ze/lmPKc2+uJa5Zk1oRI0tE6eMdQ27xdjJTuVCUfg4dbNw4vK5pkeh60kJ3xnGn5BqTHCwAczuOmwrVV3D2M/4IUbt3ArFcysUQJb1R1dkQkDrrNa/doAGD1ZHtRVrNBGRP/z9NpOy+O50zLyngg+X/3fqE73eq59mZMEtcAAAAASUVORK5CYII=\"></div><div class=\"grid-item\"><img alt=\"Output\" src=\"data:image/png;base64,iVBORw0KGgoAAAANSUhEUgAAACMAAAAPCAIAAADh1eFDAAAAhXpUWHRSYXcgcHJvZmlsZSB0eXBlIGV4aWYAAHjaVYvBDcMwDAP/mqIjyLJM2uMYiQNkg45fuu0n9yApgbT1vi97felp2dgxABc5csRU6P6juNciDXn+X9MfZGWgoRhTluEkhnJXkqKFN+LCAahYcIbnIV8gNQN3o86928QyPusLVffpbh/5eCey76LuBgAAAAlwSFlzAAALEwAACxMBAJqcGAAAADx0RVh0U29mdHdhcmUAQ3JlYXRlZCB3aXRoIHRoZSBXb2xmcmFtIExhbmd1YWdlIDogd3d3LndvbGZyYW0uY29tXKKmhQAAACF0RVh0Q3JlYXRpb24gVGltZQAyMDIyOjA1OjE5IDIwOjEzOjAzNvKYZgAAAPpJREFUOI3tlDGOgzAQRYdoD0K6FDmE3RnlGOEIRjkEtHTmGFHo7ENQpInsm/wUjIEQBXazUrTF/gZp+OM3f2Q5AUAf0eYzmD9MckXSq3BvkYb+1UNECcAb9WMMEX31H21Rinf6v6+X25sGXdlVaLLozJrwXOzbmVTJuVeUYHnTySWWq/O9Ze/lmPKc2+uJa5Zk1oRI0tE6eMdQ27xdjJTuVCUfg4dbNw4vK5pkeh60kJ3xnGn5BqTHCwAczuOmwrVV3D2M/4IUbt3ArFcysUQJb1R1dkQkDrrNa/doAGD1ZHtRVrNBGRP/z9NpOy+O50zLyngg+X/3fqE73eq59mZMEtcAAAAASUVORK5CYII=\"></div></div></div>"
      ],
      "text/plain": [
       "False\n",
       "False"
      ]
     },
     "execution_count": 2,
     "metadata": {
      "text/html": [],
      "text/plain": []
     },
     "output_type": "execute_result"
    }
   ],
   "source": [
    "FreeQ[{{1, 1, 3, 0}, {2, 1, 2, 2}}, 0]\n",
    "FreeQ[{{1, 1, 3, 0}, {2, 1, 2, 2}}, 0, 2]"
   ]
  },
  {
   "cell_type": "code",
   "execution_count": 4,
   "metadata": {
    "vscode": {
     "languageId": "wolfram language"
    }
   },
   "outputs": [
    {
     "data": {
      "text/html": [
       "<div><pre style=\"&#102;&#111;&#110;&#116;&#45;&#102;&#97;&#109;&#105;&#108;&#121;&#58;&#32;&#34;&#67;&#111;&#117;&#114;&#105;&#101;&#114;&#32;&#78;&#101;&#119;&#34;&#44;&#67;&#111;&#117;&#114;&#105;&#101;&#114;&#44;&#109;&#111;&#110;&#111;&#115;&#112;&#97;&#99;&#101;&#59;\">&#123;&#48;&#44;&#32;&#50;&#125;</pre></div>"
      ],
      "text/plain": [
       "{0, 2}"
      ]
     },
     "execution_count": 5,
     "metadata": {
      "text/html": [],
      "text/plain": []
     },
     "output_type": "execute_result"
    }
   ],
   "source": [
    "euler = (a + b^n)/n == x;\n",
    "{Count[euler, n], Count[euler, n, Infinity]}"
   ]
  },
  {
   "cell_type": "code",
   "execution_count": 6,
   "metadata": {
    "vscode": {
     "languageId": "wolfram language"
    }
   },
   "outputs": [
    {
     "data": {
      "text/html": [
       "<style>\n",
       "\t\t\t\t\t\t\t\t\t\t\t\t\t.grid-container {\n",
       "\t\t\t\t\t\t\t\t\t\t\t\t\t\tdisplay: inline-grid;\n",
       "\t\t\t\t\t\t\t\t\t\t\t\t\t\tgrid-template-columns: auto;\n",
       "\t\t\t\t\t\t\t\t\t\t\t\t\t}\n",
       "\t\t\t\t\t\t\t\t\t\t\t\t</style>\n",
       "\n",
       "\t\t\t\t\t\t\t\t\t\t\t\t<div><div class=\"grid-container\"><div class=\"grid-item\"><pre style=\"&#102;&#111;&#110;&#116;&#45;&#102;&#97;&#109;&#105;&#108;&#121;&#58;&#32;&#34;&#67;&#111;&#117;&#114;&#105;&#101;&#114;&#32;&#78;&#101;&#119;&#34;&#44;&#67;&#111;&#117;&#114;&#105;&#101;&#114;&#44;&#109;&#111;&#110;&#111;&#115;&#112;&#97;&#99;&#101;&#59;\">&#123;&#123;&#49;&#44;&#32;&#49;&#44;&#32;&#50;&#44;&#32;&#50;&#125;&#44;&#32;&#123;&#49;&#44;&#32;&#50;&#44;&#32;&#49;&#125;&#125;</pre></div><div class=\"grid-item\"><pre style=\"&#102;&#111;&#110;&#116;&#45;&#102;&#97;&#109;&#105;&#108;&#121;&#58;&#32;&#34;&#67;&#111;&#117;&#114;&#105;&#101;&#114;&#32;&#78;&#101;&#119;&#34;&#44;&#67;&#111;&#117;&#114;&#105;&#101;&#114;&#44;&#109;&#111;&#110;&#111;&#115;&#112;&#97;&#99;&#101;&#59;\">&#123;&#123;&#125;&#44;&#32;&#123;&#125;&#44;&#32;&#123;&#125;&#44;&#32;&#123;&#123;&#49;&#44;&#32;&#50;&#44;&#32;&#49;&#125;&#125;&#44;&#32;&#123;&#123;&#49;&#44;&#32;&#49;&#44;&#32;&#50;&#44;&#32;&#50;&#125;&#44;&#32;&#123;&#49;&#44;&#32;&#50;&#44;&#32;&#49;&#125;&#125;&#125;</pre></div><div class=\"grid-item\"><pre style=\"&#102;&#111;&#110;&#116;&#45;&#102;&#97;&#109;&#105;&#108;&#121;&#58;&#32;&#34;&#67;&#111;&#117;&#114;&#105;&#101;&#114;&#32;&#78;&#101;&#119;&#34;&#44;&#67;&#111;&#117;&#114;&#105;&#101;&#114;&#44;&#109;&#111;&#110;&#111;&#115;&#112;&#97;&#99;&#101;&#59;\">&#123;&#123;&#123;&#49;&#44;&#32;&#50;&#44;&#32;&#49;&#125;&#125;&#44;&#32;&#123;&#123;&#49;&#44;&#32;&#49;&#44;&#32;&#50;&#44;&#32;&#50;&#125;&#125;&#125;</pre></div></div></div>"
      ],
      "text/plain": [
       "{{1, 1, 2, 2}, {1, 2, 1}}\n",
       "{{}, {}, {}, {{1, 2, 1}}, {{1, 1, 2, 2}, {1, 2, 1}}}\n",
       "{{{1, 2, 1}}, {{1, 1, 2, 2}}}"
      ]
     },
     "execution_count": 6,
     "metadata": {
      "text/html": [],
      "text/plain": []
     },
     "output_type": "execute_result"
    }
   ],
   "source": [
    "Position[euler, n]\n",
    "Function[level, Position[euler, n, level]] /@ {0, 1, 2, 3, 4}\n",
    "Function[level, Position[euler, n, level]] /@ {{3}, {4}}"
   ]
  },
  {
   "cell_type": "code",
   "execution_count": 9,
   "metadata": {
    "vscode": {
     "languageId": "wolfram language"
    }
   },
   "outputs": [
    {
     "data": {
      "text/html": [
       "<style>\n",
       "\t\t\t\t\t\t\t\t\t\t\t\t\t.grid-container {\n",
       "\t\t\t\t\t\t\t\t\t\t\t\t\t\tdisplay: inline-grid;\n",
       "\t\t\t\t\t\t\t\t\t\t\t\t\t\tgrid-template-columns: auto;\n",
       "\t\t\t\t\t\t\t\t\t\t\t\t\t}\n",
       "\t\t\t\t\t\t\t\t\t\t\t\t</style>\n",
       "\n",
       "\t\t\t\t\t\t\t\t\t\t\t\t<div><div class=\"grid-container\"><div class=\"grid-item\"><pre style=\"&#102;&#111;&#110;&#116;&#45;&#102;&#97;&#109;&#105;&#108;&#121;&#58;&#32;&#34;&#67;&#111;&#117;&#114;&#105;&#101;&#114;&#32;&#78;&#101;&#119;&#34;&#44;&#67;&#111;&#117;&#114;&#105;&#101;&#114;&#44;&#109;&#111;&#110;&#111;&#115;&#112;&#97;&#99;&#101;&#59;\">&#123;&#51;&#44;&#32;&#53;&#44;&#32;&#55;&#44;&#32;&#49;&#49;&#44;&#32;&#49;&#51;&#44;&#32;&#49;&#55;&#44;&#32;&#49;&#57;&#44;&#32;&#50;&#51;&#44;&#32;&#50;&#57;&#125;</pre></div><div class=\"grid-item\"><pre style=\"&#102;&#111;&#110;&#116;&#45;&#102;&#97;&#109;&#105;&#108;&#121;&#58;&#32;&#34;&#67;&#111;&#117;&#114;&#105;&#101;&#114;&#32;&#78;&#101;&#119;&#34;&#44;&#67;&#111;&#117;&#114;&#105;&#101;&#114;&#44;&#109;&#111;&#110;&#111;&#115;&#112;&#97;&#99;&#101;&#59;\">&#123;&#53;&#44;&#32;&#49;&#51;&#44;&#32;&#49;&#55;&#44;&#32;&#50;&#57;&#125;</pre></div></div></div>"
      ],
      "text/plain": [
       "{3, 5, 7, 11, 13, 17, 19, 23, 29}\n",
       "{5, 13, 17, 29}"
      ]
     },
     "execution_count": 9,
     "metadata": {
      "text/html": [],
      "text/plain": []
     },
     "output_type": "execute_result"
    }
   ],
   "source": [
    "Select[Prime /@ Range[10], OddQ]\n",
    "Select[Prime /@ Range[10], Mod[#, 4] == 1 &]\n",
    "(* Select[list,crit] ,list无需List的头部,Select[crit][list] 等价于 Select[list,crit]*)"
   ]
  },
  {
   "cell_type": "markdown",
   "metadata": {},
   "source": [
    "* 添加、删除和修改:"
   ]
  },
  {
   "cell_type": "code",
   "execution_count": 11,
   "metadata": {
    "vscode": {
     "languageId": "wolfram language"
    }
   },
   "outputs": [
    {
     "data": {
      "text/html": [
       "<style>\n",
       "\t\t\t\t\t\t\t\t\t\t\t\t\t.grid-container {\n",
       "\t\t\t\t\t\t\t\t\t\t\t\t\t\tdisplay: inline-grid;\n",
       "\t\t\t\t\t\t\t\t\t\t\t\t\t\tgrid-template-columns: auto;\n",
       "\t\t\t\t\t\t\t\t\t\t\t\t\t}\n",
       "\t\t\t\t\t\t\t\t\t\t\t\t</style>\n",
       "\n",
       "\t\t\t\t\t\t\t\t\t\t\t\t<div><div class=\"grid-container\"><div class=\"grid-item\"><pre style=\"&#102;&#111;&#110;&#116;&#45;&#102;&#97;&#109;&#105;&#108;&#121;&#58;&#32;&#34;&#67;&#111;&#117;&#114;&#105;&#101;&#114;&#32;&#78;&#101;&#119;&#34;&#44;&#67;&#111;&#117;&#114;&#105;&#101;&#114;&#44;&#109;&#111;&#110;&#111;&#115;&#112;&#97;&#99;&#101;&#59;\">&#102;&#91;&#97;&#44;&#32;&#98;&#44;&#32;&#99;&#93;</pre></div><div class=\"grid-item\"><pre style=\"&#102;&#111;&#110;&#116;&#45;&#102;&#97;&#109;&#105;&#108;&#121;&#58;&#32;&#34;&#67;&#111;&#117;&#114;&#105;&#101;&#114;&#32;&#78;&#101;&#119;&#34;&#44;&#67;&#111;&#117;&#114;&#105;&#101;&#114;&#44;&#109;&#111;&#110;&#111;&#115;&#112;&#97;&#99;&#101;&#59;\">&#123;&#102;&#91;&#122;&#44;&#32;&#97;&#44;&#32;&#98;&#44;&#32;&#99;&#93;&#44;&#32;&#102;&#91;&#97;&#44;&#32;&#98;&#44;&#32;&#99;&#44;&#32;&#100;&#93;&#44;&#32;&#102;&#91;&#97;&#44;&#32;&#105;&#44;&#32;&#98;&#44;&#32;&#99;&#93;&#44;&#32;&#102;&#91;&#97;&#44;&#32;&#98;&#44;&#32;&#105;&#44;&#32;&#99;&#93;&#125;</pre></div></div></div>"
      ],
      "text/plain": [
       "f[a, b, c]\n",
       "{f[z, a, b, c], f[a, b, c, d], f[a, i, b, c], f[a, b, i, c]}"
      ]
     },
     "execution_count": 11,
     "metadata": {
      "text/html": [],
      "text/plain": []
     },
     "output_type": "execute_result"
    }
   ],
   "source": [
    "ex = f[a, b, c]\n",
    "\n",
    "{Prepend[ex, z], Append[ex, d], Insert[ex, i, 2], Insert[ex, i, -2]}"
   ]
  },
  {
   "cell_type": "code",
   "execution_count": 13,
   "metadata": {
    "vscode": {
     "languageId": "wolfram language"
    }
   },
   "outputs": [
    {
     "data": {
      "text/html": [
       "<div><pre style=\"&#102;&#111;&#110;&#116;&#45;&#102;&#97;&#109;&#105;&#108;&#121;&#58;&#32;&#34;&#67;&#111;&#117;&#114;&#105;&#101;&#114;&#32;&#78;&#101;&#119;&#34;&#44;&#67;&#111;&#117;&#114;&#105;&#101;&#114;&#44;&#109;&#111;&#110;&#111;&#115;&#112;&#97;&#99;&#101;&#59;\">&#123;&#102;&#91;&#122;&#44;&#32;&#97;&#44;&#32;&#98;&#44;&#32;&#99;&#93;&#44;&#32;&#102;&#91;&#122;&#44;&#32;&#97;&#44;&#32;&#98;&#44;&#32;&#99;&#44;&#32;&#100;&#93;&#125;</pre></div>"
      ],
      "text/plain": [
       "{f[z, a, b, c], f[z, a, b, c, d]}"
      ]
     },
     "execution_count": 13,
     "metadata": {
      "text/html": [],
      "text/plain": []
     },
     "output_type": "execute_result"
    }
   ],
   "source": [
    "{PrependTo[ex, z], AppendTo[ex, d]}"
   ]
  },
  {
   "cell_type": "code",
   "execution_count": 14,
   "metadata": {
    "vscode": {
     "languageId": "wolfram language"
    }
   },
   "outputs": [
    {
     "data": {
      "text/html": [
       "<style>\n",
       "\t\t\t\t\t\t\t\t\t\t\t\t\t.grid-container {\n",
       "\t\t\t\t\t\t\t\t\t\t\t\t\t\tdisplay: inline-grid;\n",
       "\t\t\t\t\t\t\t\t\t\t\t\t\t\tgrid-template-columns: auto;\n",
       "\t\t\t\t\t\t\t\t\t\t\t\t\t}\n",
       "\t\t\t\t\t\t\t\t\t\t\t\t</style>\n",
       "\n",
       "\t\t\t\t\t\t\t\t\t\t\t\t<div><div class=\"grid-container\"><div class=\"grid-item\"><pre style=\"&#102;&#111;&#110;&#116;&#45;&#102;&#97;&#109;&#105;&#108;&#121;&#58;&#32;&#34;&#67;&#111;&#117;&#114;&#105;&#101;&#114;&#32;&#78;&#101;&#119;&#34;&#44;&#67;&#111;&#117;&#114;&#105;&#101;&#114;&#44;&#109;&#111;&#110;&#111;&#115;&#112;&#97;&#99;&#101;&#59;\">&#102;&#91;&#97;&#44;&#32;&#98;&#44;&#32;&#99;&#44;&#32;&#100;&#93;</pre></div><div class=\"grid-item\"><pre style=\"&#102;&#111;&#110;&#116;&#45;&#102;&#97;&#109;&#105;&#108;&#121;&#58;&#32;&#34;&#67;&#111;&#117;&#114;&#105;&#101;&#114;&#32;&#78;&#101;&#119;&#34;&#44;&#67;&#111;&#117;&#114;&#105;&#101;&#114;&#44;&#109;&#111;&#110;&#111;&#115;&#112;&#97;&#99;&#101;&#59;\">&#102;&#91;&#97;&#44;&#32;&#98;&#44;&#32;&#99;&#93;</pre></div></div></div>"
      ],
      "text/plain": [
       "f[a, b, c, d]\n",
       "f[a, b, c]"
      ]
     },
     "execution_count": 14,
     "metadata": {
      "text/html": [],
      "text/plain": []
     },
     "output_type": "execute_result"
    }
   ],
   "source": [
    "Delete[ex, 1]\n",
    "Delete[ex, {{1}, {-1}}]"
   ]
  },
  {
   "cell_type": "code",
   "execution_count": 16,
   "metadata": {
    "vscode": {
     "languageId": "wolfram language"
    }
   },
   "outputs": [
    {
     "data": {
      "text/html": [
       "<div><pre style=\"&#102;&#111;&#110;&#116;&#45;&#102;&#97;&#109;&#105;&#108;&#121;&#58;&#32;&#34;&#67;&#111;&#117;&#114;&#105;&#101;&#114;&#32;&#78;&#101;&#119;&#34;&#44;&#67;&#111;&#117;&#114;&#105;&#101;&#114;&#44;&#109;&#111;&#110;&#111;&#115;&#112;&#97;&#99;&#101;&#59;\">&#123;&#102;&#91;&#120;&#44;&#32;&#97;&#44;&#32;&#98;&#44;&#32;&#99;&#44;&#32;&#100;&#93;&#44;&#32;&#102;&#91;&#122;&#44;&#32;&#97;&#44;&#32;&#98;&#44;&#32;&#99;&#44;&#32;&#100;&#93;&#125;</pre></div>"
      ],
      "text/plain": [
       "{f[x, a, b, c, d], f[z, a, b, c, d]}"
      ]
     },
     "execution_count": 16,
     "metadata": {
      "text/html": [],
      "text/plain": []
     },
     "output_type": "execute_result"
    }
   ],
   "source": [
    "{ReplacePart[ex, 1 -> x], ex}"
   ]
  },
  {
   "cell_type": "code",
   "execution_count": 17,
   "metadata": {
    "vscode": {
     "languageId": "wolfram language"
    }
   },
   "outputs": [
    {
     "data": {
      "text/html": [
       "<style>\n",
       "\t\t\t\t\t\t\t\t\t\t\t\t\t.grid-container {\n",
       "\t\t\t\t\t\t\t\t\t\t\t\t\t\tdisplay: inline-grid;\n",
       "\t\t\t\t\t\t\t\t\t\t\t\t\t\tgrid-template-columns: auto;\n",
       "\t\t\t\t\t\t\t\t\t\t\t\t\t}\n",
       "\t\t\t\t\t\t\t\t\t\t\t\t</style>\n",
       "\n",
       "\t\t\t\t\t\t\t\t\t\t\t\t<div><div class=\"grid-container\"><div class=\"grid-item\"><pre style=\"&#102;&#111;&#110;&#116;&#45;&#102;&#97;&#109;&#105;&#108;&#121;&#58;&#32;&#34;&#67;&#111;&#117;&#114;&#105;&#101;&#114;&#32;&#78;&#101;&#119;&#34;&#44;&#67;&#111;&#117;&#114;&#105;&#101;&#114;&#44;&#109;&#111;&#110;&#111;&#115;&#112;&#97;&#99;&#101;&#59;\">&#102;&#91;&#100;&#44;&#32;&#99;&#44;&#32;&#98;&#44;&#32;&#97;&#44;&#32;&#122;&#93;</pre></div><div class=\"grid-item\"><pre style=\"&#102;&#111;&#110;&#116;&#45;&#102;&#97;&#109;&#105;&#108;&#121;&#58;&#32;&#34;&#67;&#111;&#117;&#114;&#105;&#101;&#114;&#32;&#78;&#101;&#119;&#34;&#44;&#67;&#111;&#117;&#114;&#105;&#101;&#114;&#44;&#109;&#111;&#110;&#111;&#115;&#112;&#97;&#99;&#101;&#59;\">&#102;&#91;&#98;&#44;&#32;&#99;&#44;&#32;&#100;&#44;&#32;&#122;&#44;&#32;&#97;&#93;</pre></div><div class=\"grid-item\"><pre style=\"&#102;&#111;&#110;&#116;&#45;&#102;&#97;&#109;&#105;&#108;&#121;&#58;&#32;&#34;&#67;&#111;&#117;&#114;&#105;&#101;&#114;&#32;&#78;&#101;&#119;&#34;&#44;&#67;&#111;&#117;&#114;&#105;&#101;&#114;&#44;&#109;&#111;&#110;&#111;&#115;&#112;&#97;&#99;&#101;&#59;\">&#102;&#91;&#97;&#44;&#32;&#98;&#44;&#32;&#99;&#44;&#32;&#100;&#44;&#32;&#122;&#93;</pre></div></div></div>"
      ],
      "text/plain": [
       "f[d, c, b, a, z]\n",
       "f[b, c, d, z, a]\n",
       "f[a, b, c, d, z]"
      ]
     },
     "execution_count": 17,
     "metadata": {
      "text/html": [],
      "text/plain": []
     },
     "output_type": "execute_result"
    }
   ],
   "source": [
    "Reverse[ex]\n",
    "RotateLeft[ex, 2]\n",
    "RotateRight[ex, -1]"
   ]
  },
  {
   "cell_type": "code",
   "execution_count": 20,
   "metadata": {
    "vscode": {
     "languageId": "wolfram language"
    }
   },
   "outputs": [
    {
     "data": {
      "text/html": [
       "<div><pre style=\"&#102;&#111;&#110;&#116;&#45;&#102;&#97;&#109;&#105;&#108;&#121;&#58;&#32;&#34;&#67;&#111;&#117;&#114;&#105;&#101;&#114;&#32;&#78;&#101;&#119;&#34;&#44;&#67;&#111;&#117;&#114;&#105;&#101;&#114;&#44;&#109;&#111;&#110;&#111;&#115;&#112;&#97;&#99;&#101;&#59;\">&#102;&#91;&#121;&#44;&#32;&#97;&#44;&#32;&#98;&#44;&#32;&#99;&#44;&#32;&#100;&#93;</pre></div>"
      ],
      "text/plain": [
       "f[y, a, b, c, d]"
      ]
     },
     "execution_count": 21,
     "metadata": {
      "text/html": [],
      "text/plain": []
     },
     "output_type": "execute_result"
    }
   ],
   "source": [
    "ex[[1]] = y;\n",
    "ex"
   ]
  },
  {
   "cell_type": "markdown",
   "metadata": {},
   "source": [
    "* 头部一样的表达式之间的集合运算："
   ]
  },
  {
   "cell_type": "code",
   "execution_count": 22,
   "metadata": {
    "vscode": {
     "languageId": "wolfram language"
    }
   },
   "outputs": [
    {
     "data": {
      "text/html": [
       "<div><pre style=\"&#102;&#111;&#110;&#116;&#45;&#102;&#97;&#109;&#105;&#108;&#121;&#58;&#32;&#34;&#67;&#111;&#117;&#114;&#105;&#101;&#114;&#32;&#78;&#101;&#119;&#34;&#44;&#67;&#111;&#117;&#114;&#105;&#101;&#114;&#44;&#109;&#111;&#110;&#111;&#115;&#112;&#97;&#99;&#101;&#59;\">&#102;&#91;&#120;&#49;&#44;&#32;&#120;&#50;&#44;&#32;&#120;&#49;&#44;&#32;&#120;&#51;&#93;</pre></div>"
      ],
      "text/plain": [
       "f[x1, x2, x1, x3]"
      ]
     },
     "execution_count": 22,
     "metadata": {
      "text/html": [],
      "text/plain": []
     },
     "output_type": "execute_result"
    }
   ],
   "source": [
    "Join[f[x1, x2], f[x1, x3]]"
   ]
  },
  {
   "cell_type": "code",
   "execution_count": 23,
   "metadata": {
    "vscode": {
     "languageId": "wolfram language"
    }
   },
   "outputs": [
    {
     "data": {
      "text/html": [
       "<style>\n",
       "\t\t\t\t\t\t\t\t\t\t\t\t\t.grid-container {\n",
       "\t\t\t\t\t\t\t\t\t\t\t\t\t\tdisplay: inline-grid;\n",
       "\t\t\t\t\t\t\t\t\t\t\t\t\t\tgrid-template-columns: auto;\n",
       "\t\t\t\t\t\t\t\t\t\t\t\t\t}\n",
       "\t\t\t\t\t\t\t\t\t\t\t\t</style>\n",
       "\n",
       "\t\t\t\t\t\t\t\t\t\t\t\t<div><div class=\"grid-container\"><div class=\"grid-item\"><pre style=\"&#102;&#111;&#110;&#116;&#45;&#102;&#97;&#109;&#105;&#108;&#121;&#58;&#32;&#34;&#67;&#111;&#117;&#114;&#105;&#101;&#114;&#32;&#78;&#101;&#119;&#34;&#44;&#67;&#111;&#117;&#114;&#105;&#101;&#114;&#44;&#109;&#111;&#110;&#111;&#115;&#112;&#97;&#99;&#101;&#59;\">&#102;&#91;&#120;&#49;&#44;&#32;&#120;&#50;&#44;&#32;&#120;&#51;&#93;</pre></div><div class=\"grid-item\"><pre style=\"&#102;&#111;&#110;&#116;&#45;&#102;&#97;&#109;&#105;&#108;&#121;&#58;&#32;&#34;&#67;&#111;&#117;&#114;&#105;&#101;&#114;&#32;&#78;&#101;&#119;&#34;&#44;&#67;&#111;&#117;&#114;&#105;&#101;&#114;&#44;&#109;&#111;&#110;&#111;&#115;&#112;&#97;&#99;&#101;&#59;\">&#123;&#48;&#44;&#32;&#49;&#44;&#32;&#50;&#44;&#32;&#51;&#44;&#32;&#52;&#44;&#32;&#53;&#44;&#32;&#54;&#44;&#32;&#55;&#125;</pre></div></div></div>"
      ],
      "text/plain": [
       "f[x1, x2, x3]\n",
       "{0, 1, 2, 3, 4, 5, 6, 7}"
      ]
     },
     "execution_count": 23,
     "metadata": {
      "text/html": [],
      "text/plain": []
     },
     "output_type": "execute_result"
    }
   ],
   "source": [
    "Union[f[x1, x2], f[x1, x3]]\n",
    "Union[{1, 2, 2, 2, 3, 3, 1, 4, 4, 2, 5, 6, 7, 0}]"
   ]
  },
  {
   "cell_type": "code",
   "execution_count": 25,
   "metadata": {
    "vscode": {
     "languageId": "wolfram language"
    }
   },
   "outputs": [
    {
     "data": {
      "text/html": [
       "<style>\n",
       "\t\t\t\t\t\t\t\t\t\t\t\t\t.grid-container {\n",
       "\t\t\t\t\t\t\t\t\t\t\t\t\t\tdisplay: inline-grid;\n",
       "\t\t\t\t\t\t\t\t\t\t\t\t\t\tgrid-template-columns: auto;\n",
       "\t\t\t\t\t\t\t\t\t\t\t\t\t}\n",
       "\t\t\t\t\t\t\t\t\t\t\t\t</style>\n",
       "\n",
       "\t\t\t\t\t\t\t\t\t\t\t\t<div><div class=\"grid-container\"><div class=\"grid-item\"><pre style=\"&#102;&#111;&#110;&#116;&#45;&#102;&#97;&#109;&#105;&#108;&#121;&#58;&#32;&#34;&#67;&#111;&#117;&#114;&#105;&#101;&#114;&#32;&#78;&#101;&#119;&#34;&#44;&#67;&#111;&#117;&#114;&#105;&#101;&#114;&#44;&#109;&#111;&#110;&#111;&#115;&#112;&#97;&#99;&#101;&#59;\">&#102;&#91;&#120;&#49;&#44;&#32;&#120;&#50;&#93;</pre></div><div class=\"grid-item\"><pre style=\"&#102;&#111;&#110;&#116;&#45;&#102;&#97;&#109;&#105;&#108;&#121;&#58;&#32;&#34;&#67;&#111;&#117;&#114;&#105;&#101;&#114;&#32;&#78;&#101;&#119;&#34;&#44;&#67;&#111;&#117;&#114;&#105;&#101;&#114;&#44;&#109;&#111;&#110;&#111;&#115;&#112;&#97;&#99;&#101;&#59;\">&#102;&#91;&#120;&#51;&#93;</pre></div></div></div>"
      ],
      "text/plain": [
       "f[x1, x2]\n",
       "f[x3]"
      ]
     },
     "execution_count": 25,
     "metadata": {
      "text/html": [],
      "text/plain": []
     },
     "output_type": "execute_result"
    }
   ],
   "source": [
    "Intersection[f[x1, x2, x3], f[x1, x2, x4]]\n",
    "Complement[f[x1, x2, x3], f[x1, x2, x4]]\n"
   ]
  },
  {
   "cell_type": "markdown",
   "metadata": {},
   "source": [
    "$Complement[e_{all},e_1,e_2,...] 给出 e_{all} 中不属于任何 e_i 的元素. $"
   ]
  },
  {
   "cell_type": "markdown",
   "metadata": {},
   "source": [
    "* 排序："
   ]
  },
  {
   "cell_type": "code",
   "execution_count": 27,
   "metadata": {
    "vscode": {
     "languageId": "wolfram language"
    }
   },
   "outputs": [
    {
     "data": {
      "text/html": [
       "<div><pre style=\"&#102;&#111;&#110;&#116;&#45;&#102;&#97;&#109;&#105;&#108;&#121;&#58;&#32;&#34;&#67;&#111;&#117;&#114;&#105;&#101;&#114;&#32;&#78;&#101;&#119;&#34;&#44;&#67;&#111;&#117;&#114;&#105;&#101;&#114;&#44;&#109;&#111;&#110;&#111;&#115;&#112;&#97;&#99;&#101;&#59;\">&#123;&#123;&#53;&#44;&#32;&#56;&#125;&#44;&#32;&#123;&#56;&#44;&#32;&#54;&#125;&#44;&#32;&#123;&#52;&#44;&#32;&#55;&#125;&#44;&#32;&#123;&#50;&#44;&#32;&#54;&#125;&#44;&#32;&#123;&#51;&#44;&#32;&#53;&#125;&#44;&#32;&#123;&#56;&#44;&#32;&#49;&#125;&#44;&#32;&#123;&#57;&#44;&#32;&#53;&#125;&#44;&#32;&#123;&#50;&#44;&#32;&#57;&#125;&#44;&#32;&#123;&#49;&#48;&#44;&#32;&#50;&#125;&#44;&#32;&#123;&#49;&#44;&#32;&#57;&#125;&#44;&#32;&#10;&#32;&#10;&#62;&#32;&#32;&#32;&#123;&#51;&#44;&#32;&#55;&#125;&#44;&#32;&#123;&#52;&#44;&#32;&#53;&#125;&#44;&#32;&#123;&#56;&#44;&#32;&#48;&#125;&#44;&#32;&#123;&#50;&#44;&#32;&#54;&#125;&#44;&#32;&#123;&#56;&#44;&#32;&#48;&#125;&#44;&#32;&#123;&#57;&#44;&#32;&#55;&#125;&#44;&#32;&#123;&#55;&#44;&#32;&#56;&#125;&#44;&#32;&#123;&#56;&#44;&#32;&#57;&#125;&#44;&#32;&#123;&#51;&#44;&#32;&#50;&#125;&#44;&#32;&#123;&#49;&#48;&#44;&#32;&#55;&#125;&#125;</pre></div>"
      ],
      "text/plain": [
       "{{5, 8}, {8, 6}, {4, 7}, {2, 6}, {3, 5}, {8, 1}, {9, 5}, {2, 9}, {10, 2}, {1, 9}, \n",
       " \n",
       ">   {3, 7}, {4, 5}, {8, 0}, {2, 6}, {8, 0}, {9, 7}, {7, 8}, {8, 9}, {3, 2}, {10, 7}}"
      ]
     },
     "execution_count": 27,
     "metadata": {
      "text/html": [],
      "text/plain": []
     },
     "output_type": "execute_result"
    }
   ],
   "source": [
    "list = Array[RandomInteger[10] &, {20, 2}]"
   ]
  },
  {
   "cell_type": "code",
   "execution_count": 28,
   "metadata": {
    "vscode": {
     "languageId": "wolfram language"
    }
   },
   "outputs": [
    {
     "data": {
      "text/html": [
       "<div><pre style=\"&#102;&#111;&#110;&#116;&#45;&#102;&#97;&#109;&#105;&#108;&#121;&#58;&#32;&#34;&#67;&#111;&#117;&#114;&#105;&#101;&#114;&#32;&#78;&#101;&#119;&#34;&#44;&#67;&#111;&#117;&#114;&#105;&#101;&#114;&#44;&#109;&#111;&#110;&#111;&#115;&#112;&#97;&#99;&#101;&#59;\">&#123;&#123;&#49;&#44;&#32;&#57;&#125;&#44;&#32;&#123;&#50;&#44;&#32;&#54;&#125;&#44;&#32;&#123;&#50;&#44;&#32;&#54;&#125;&#44;&#32;&#123;&#50;&#44;&#32;&#57;&#125;&#44;&#32;&#123;&#51;&#44;&#32;&#50;&#125;&#44;&#32;&#123;&#51;&#44;&#32;&#53;&#125;&#44;&#32;&#123;&#51;&#44;&#32;&#55;&#125;&#44;&#32;&#123;&#52;&#44;&#32;&#53;&#125;&#44;&#32;&#123;&#52;&#44;&#32;&#55;&#125;&#44;&#32;&#123;&#53;&#44;&#32;&#56;&#125;&#44;&#32;&#123;&#55;&#44;&#32;&#56;&#125;&#44;&#32;&#10;&#32;&#10;&#62;&#32;&#32;&#32;&#123;&#56;&#44;&#32;&#48;&#125;&#44;&#32;&#123;&#56;&#44;&#32;&#48;&#125;&#44;&#32;&#123;&#56;&#44;&#32;&#49;&#125;&#44;&#32;&#123;&#56;&#44;&#32;&#54;&#125;&#44;&#32;&#123;&#56;&#44;&#32;&#57;&#125;&#44;&#32;&#123;&#57;&#44;&#32;&#53;&#125;&#44;&#32;&#123;&#57;&#44;&#32;&#55;&#125;&#44;&#32;&#123;&#49;&#48;&#44;&#32;&#50;&#125;&#44;&#32;&#123;&#49;&#48;&#44;&#32;&#55;&#125;&#125;</pre></div>"
      ],
      "text/plain": [
       "{{1, 9}, {2, 6}, {2, 6}, {2, 9}, {3, 2}, {3, 5}, {3, 7}, {4, 5}, {4, 7}, {5, 8}, {7, 8}, \n",
       " \n",
       ">   {8, 0}, {8, 0}, {8, 1}, {8, 6}, {8, 9}, {9, 5}, {9, 7}, {10, 2}, {10, 7}}"
      ]
     },
     "execution_count": 28,
     "metadata": {
      "text/html": [],
      "text/plain": []
     },
     "output_type": "execute_result"
    }
   ],
   "source": [
    "Sort[list]"
   ]
  },
  {
   "cell_type": "code",
   "execution_count": 29,
   "metadata": {
    "vscode": {
     "languageId": "wolfram language"
    }
   },
   "outputs": [
    {
     "data": {
      "text/html": [
       "<style>\n",
       "\t\t\t\t\t\t\t\t\t\t\t\t\t.grid-container {\n",
       "\t\t\t\t\t\t\t\t\t\t\t\t\t\tdisplay: inline-grid;\n",
       "\t\t\t\t\t\t\t\t\t\t\t\t\t\tgrid-template-columns: auto;\n",
       "\t\t\t\t\t\t\t\t\t\t\t\t\t}\n",
       "\t\t\t\t\t\t\t\t\t\t\t\t</style>\n",
       "\n",
       "\t\t\t\t\t\t\t\t\t\t\t\t<div><div class=\"grid-container\"><div class=\"grid-item\"><pre style=\"&#102;&#111;&#110;&#116;&#45;&#102;&#97;&#109;&#105;&#108;&#121;&#58;&#32;&#34;&#67;&#111;&#117;&#114;&#105;&#101;&#114;&#32;&#78;&#101;&#119;&#34;&#44;&#67;&#111;&#117;&#114;&#105;&#101;&#114;&#44;&#109;&#111;&#110;&#111;&#115;&#112;&#97;&#99;&#101;&#59;\">&#123;&#123;&#49;&#44;&#32;&#57;&#125;&#44;&#32;&#123;&#50;&#44;&#32;&#54;&#125;&#44;&#32;&#123;&#50;&#44;&#32;&#57;&#125;&#44;&#32;&#123;&#50;&#44;&#32;&#54;&#125;&#44;&#32;&#123;&#51;&#44;&#32;&#50;&#125;&#44;&#32;&#123;&#51;&#44;&#32;&#55;&#125;&#44;&#32;&#123;&#51;&#44;&#32;&#53;&#125;&#44;&#32;&#123;&#52;&#44;&#32;&#53;&#125;&#44;&#32;&#123;&#52;&#44;&#32;&#55;&#125;&#44;&#32;&#123;&#53;&#44;&#32;&#56;&#125;&#44;&#32;&#123;&#55;&#44;&#32;&#56;&#125;&#44;&#32;&#10;&#32;&#10;&#62;&#32;&#32;&#32;&#123;&#56;&#44;&#32;&#57;&#125;&#44;&#32;&#123;&#56;&#44;&#32;&#48;&#125;&#44;&#32;&#123;&#56;&#44;&#32;&#48;&#125;&#44;&#32;&#123;&#56;&#44;&#32;&#49;&#125;&#44;&#32;&#123;&#56;&#44;&#32;&#54;&#125;&#44;&#32;&#123;&#57;&#44;&#32;&#55;&#125;&#44;&#32;&#123;&#57;&#44;&#32;&#53;&#125;&#44;&#32;&#123;&#49;&#48;&#44;&#32;&#55;&#125;&#44;&#32;&#123;&#49;&#48;&#44;&#32;&#50;&#125;&#125;</pre></div><div class=\"grid-item\"><pre style=\"&#102;&#111;&#110;&#116;&#45;&#102;&#97;&#109;&#105;&#108;&#121;&#58;&#32;&#34;&#67;&#111;&#117;&#114;&#105;&#101;&#114;&#32;&#78;&#101;&#119;&#34;&#44;&#67;&#111;&#117;&#114;&#105;&#101;&#114;&#44;&#109;&#111;&#110;&#111;&#115;&#112;&#97;&#99;&#101;&#59;\">&#123;&#123;&#49;&#44;&#32;&#57;&#125;&#44;&#32;&#123;&#50;&#44;&#32;&#54;&#125;&#44;&#32;&#123;&#50;&#44;&#32;&#57;&#125;&#44;&#32;&#123;&#50;&#44;&#32;&#54;&#125;&#44;&#32;&#123;&#51;&#44;&#32;&#50;&#125;&#44;&#32;&#123;&#51;&#44;&#32;&#55;&#125;&#44;&#32;&#123;&#51;&#44;&#32;&#53;&#125;&#44;&#32;&#123;&#52;&#44;&#32;&#53;&#125;&#44;&#32;&#123;&#52;&#44;&#32;&#55;&#125;&#44;&#32;&#123;&#53;&#44;&#32;&#56;&#125;&#44;&#32;&#123;&#55;&#44;&#32;&#56;&#125;&#44;&#32;&#10;&#32;&#10;&#62;&#32;&#32;&#32;&#123;&#56;&#44;&#32;&#57;&#125;&#44;&#32;&#123;&#56;&#44;&#32;&#48;&#125;&#44;&#32;&#123;&#56;&#44;&#32;&#48;&#125;&#44;&#32;&#123;&#56;&#44;&#32;&#49;&#125;&#44;&#32;&#123;&#56;&#44;&#32;&#54;&#125;&#44;&#32;&#123;&#57;&#44;&#32;&#55;&#125;&#44;&#32;&#123;&#57;&#44;&#32;&#53;&#125;&#44;&#32;&#123;&#49;&#48;&#44;&#32;&#55;&#125;&#44;&#32;&#123;&#49;&#48;&#44;&#32;&#50;&#125;&#125;</pre></div></div></div>"
      ],
      "text/plain": [
       "{{1, 9}, {2, 6}, {2, 9}, {2, 6}, {3, 2}, {3, 7}, {3, 5}, {4, 5}, {4, 7}, {5, 8}, {7, 8}, \n",
       " \n",
       ">   {8, 9}, {8, 0}, {8, 0}, {8, 1}, {8, 6}, {9, 7}, {9, 5}, {10, 7}, {10, 2}}\n",
       "{{1, 9}, {2, 6}, {2, 9}, {2, 6}, {3, 2}, {3, 7}, {3, 5}, {4, 5}, {4, 7}, {5, 8}, {7, 8}, \n",
       " \n",
       ">   {8, 9}, {8, 0}, {8, 0}, {8, 1}, {8, 6}, {9, 7}, {9, 5}, {10, 7}, {10, 2}}"
      ]
     },
     "execution_count": 29,
     "metadata": {
      "text/html": [],
      "text/plain": []
     },
     "output_type": "execute_result"
    }
   ],
   "source": [
    "Sort[list, Function[{list1, list2}, list1[[1]] < list2[[1]]]]\n",
    "Sort[list, #1[[1]] < #2[[1]] &]"
   ]
  },
  {
   "cell_type": "code",
   "execution_count": 31,
   "metadata": {
    "vscode": {
     "languageId": "wolfram language"
    }
   },
   "outputs": [
    {
     "data": {
      "text/html": [
       "<div><pre style=\"&#102;&#111;&#110;&#116;&#45;&#102;&#97;&#109;&#105;&#108;&#121;&#58;&#32;&#34;&#67;&#111;&#117;&#114;&#105;&#101;&#114;&#32;&#78;&#101;&#119;&#34;&#44;&#67;&#111;&#117;&#114;&#105;&#101;&#114;&#44;&#109;&#111;&#110;&#111;&#115;&#112;&#97;&#99;&#101;&#59;\">&#123;&#123;&#49;&#44;&#32;&#57;&#125;&#44;&#32;&#123;&#50;&#44;&#32;&#54;&#125;&#44;&#32;&#123;&#50;&#44;&#32;&#57;&#125;&#44;&#32;&#123;&#50;&#44;&#32;&#54;&#125;&#44;&#32;&#123;&#51;&#44;&#32;&#53;&#125;&#44;&#32;&#123;&#51;&#44;&#32;&#55;&#125;&#44;&#32;&#123;&#51;&#44;&#32;&#50;&#125;&#44;&#32;&#123;&#52;&#44;&#32;&#55;&#125;&#44;&#32;&#123;&#52;&#44;&#32;&#53;&#125;&#44;&#32;&#123;&#53;&#44;&#32;&#56;&#125;&#44;&#32;&#123;&#55;&#44;&#32;&#56;&#125;&#44;&#32;&#10;&#32;&#10;&#62;&#32;&#32;&#32;&#123;&#56;&#44;&#32;&#54;&#125;&#44;&#32;&#123;&#56;&#44;&#32;&#49;&#125;&#44;&#32;&#123;&#56;&#44;&#32;&#48;&#125;&#44;&#32;&#123;&#56;&#44;&#32;&#48;&#125;&#44;&#32;&#123;&#56;&#44;&#32;&#57;&#125;&#44;&#32;&#123;&#57;&#44;&#32;&#53;&#125;&#44;&#32;&#123;&#57;&#44;&#32;&#55;&#125;&#44;&#32;&#123;&#49;&#48;&#44;&#32;&#50;&#125;&#44;&#32;&#123;&#49;&#48;&#44;&#32;&#55;&#125;&#125;</pre></div>"
      ],
      "text/plain": [
       "{{1, 9}, {2, 6}, {2, 9}, {2, 6}, {3, 5}, {3, 7}, {3, 2}, {4, 7}, {4, 5}, {5, 8}, {7, 8}, \n",
       " \n",
       ">   {8, 6}, {8, 1}, {8, 0}, {8, 0}, {8, 9}, {9, 5}, {9, 7}, {10, 2}, {10, 7}}"
      ]
     },
     "execution_count": 31,
     "metadata": {
      "text/html": [],
      "text/plain": []
     },
     "output_type": "execute_result"
    }
   ],
   "source": [
    "Sort[list, #1[[1]] <= #2[[1]] &]"
   ]
  },
  {
   "cell_type": "code",
   "execution_count": 32,
   "metadata": {
    "vscode": {
     "languageId": "wolfram language"
    }
   },
   "outputs": [
    {
     "data": {
      "text/html": [
       "<div><pre style=\"&#102;&#111;&#110;&#116;&#45;&#102;&#97;&#109;&#105;&#108;&#121;&#58;&#32;&#34;&#67;&#111;&#117;&#114;&#105;&#101;&#114;&#32;&#78;&#101;&#119;&#34;&#44;&#67;&#111;&#117;&#114;&#105;&#101;&#114;&#44;&#109;&#111;&#110;&#111;&#115;&#112;&#97;&#99;&#101;&#59;\">&#123;&#123;&#49;&#44;&#32;&#57;&#125;&#44;&#32;&#123;&#50;&#44;&#32;&#57;&#125;&#44;&#32;&#123;&#50;&#44;&#32;&#54;&#125;&#44;&#32;&#123;&#50;&#44;&#32;&#54;&#125;&#44;&#32;&#123;&#51;&#44;&#32;&#55;&#125;&#44;&#32;&#123;&#51;&#44;&#32;&#53;&#125;&#44;&#32;&#123;&#51;&#44;&#32;&#50;&#125;&#44;&#32;&#123;&#52;&#44;&#32;&#55;&#125;&#44;&#32;&#123;&#52;&#44;&#32;&#53;&#125;&#44;&#32;&#123;&#53;&#44;&#32;&#56;&#125;&#44;&#32;&#123;&#55;&#44;&#32;&#56;&#125;&#44;&#32;&#10;&#32;&#10;&#62;&#32;&#32;&#32;&#123;&#56;&#44;&#32;&#57;&#125;&#44;&#32;&#123;&#56;&#44;&#32;&#54;&#125;&#44;&#32;&#123;&#56;&#44;&#32;&#49;&#125;&#44;&#32;&#123;&#56;&#44;&#32;&#48;&#125;&#44;&#32;&#123;&#56;&#44;&#32;&#48;&#125;&#44;&#32;&#123;&#57;&#44;&#32;&#55;&#125;&#44;&#32;&#123;&#57;&#44;&#32;&#53;&#125;&#44;&#32;&#123;&#49;&#48;&#44;&#32;&#55;&#125;&#44;&#32;&#123;&#49;&#48;&#44;&#32;&#50;&#125;&#125;</pre></div>"
      ],
      "text/plain": [
       "{{1, 9}, {2, 9}, {2, 6}, {2, 6}, {3, 7}, {3, 5}, {3, 2}, {4, 7}, {4, 5}, {5, 8}, {7, 8}, \n",
       " \n",
       ">   {8, 9}, {8, 6}, {8, 1}, {8, 0}, {8, 0}, {9, 7}, {9, 5}, {10, 7}, {10, 2}}"
      ]
     },
     "execution_count": 32,
     "metadata": {
      "text/html": [],
      "text/plain": []
     },
     "output_type": "execute_result"
    }
   ],
   "source": [
    "Sort[list, (#1[[1]] < #2[[\n",
    "      1]]) || (#1[[1]] == #2[[1]] && #1[[2]] > #2[[2]]) &]"
   ]
  },
  {
   "cell_type": "code",
   "execution_count": 33,
   "metadata": {
    "vscode": {
     "languageId": "wolfram language"
    }
   },
   "outputs": [
    {
     "data": {
      "text/html": [
       "<style>\n",
       "\t\t\t\t\t\t\t\t\t\t\t\t\t.grid-container {\n",
       "\t\t\t\t\t\t\t\t\t\t\t\t\t\tdisplay: inline-grid;\n",
       "\t\t\t\t\t\t\t\t\t\t\t\t\t\tgrid-template-columns: auto;\n",
       "\t\t\t\t\t\t\t\t\t\t\t\t\t}\n",
       "\t\t\t\t\t\t\t\t\t\t\t\t</style>\n",
       "\n",
       "\t\t\t\t\t\t\t\t\t\t\t\t<div><div class=\"grid-container\"><div class=\"grid-item\"><pre style=\"&#102;&#111;&#110;&#116;&#45;&#102;&#97;&#109;&#105;&#108;&#121;&#58;&#32;&#34;&#67;&#111;&#117;&#114;&#105;&#101;&#114;&#32;&#78;&#101;&#119;&#34;&#44;&#67;&#111;&#117;&#114;&#105;&#101;&#114;&#44;&#109;&#111;&#110;&#111;&#115;&#112;&#97;&#99;&#101;&#59;\">&#123;&#49;&#44;&#32;&#50;&#44;&#32;&#51;&#44;&#32;&#52;&#44;&#32;&#53;&#125;</pre></div><div class=\"grid-item\"><pre style=\"&#102;&#111;&#110;&#116;&#45;&#102;&#97;&#109;&#105;&#108;&#121;&#58;&#32;&#34;&#67;&#111;&#117;&#114;&#105;&#101;&#114;&#32;&#78;&#101;&#119;&#34;&#44;&#67;&#111;&#117;&#114;&#105;&#101;&#114;&#44;&#109;&#111;&#110;&#111;&#115;&#112;&#97;&#99;&#101;&#59;\">&#123;&#52;&#44;&#32;&#49;&#44;&#32;&#50;&#44;&#32;&#53;&#44;&#32;&#51;&#125;</pre></div><div class=\"grid-item\"><pre style=\"&#102;&#111;&#110;&#116;&#45;&#102;&#97;&#109;&#105;&#108;&#121;&#58;&#32;&#34;&#67;&#111;&#117;&#114;&#105;&#101;&#114;&#32;&#78;&#101;&#119;&#34;&#44;&#67;&#111;&#117;&#114;&#105;&#101;&#114;&#44;&#109;&#111;&#110;&#111;&#115;&#112;&#97;&#99;&#101;&#59;\">&#123;&#49;&#44;&#32;&#50;&#44;&#32;&#51;&#44;&#32;&#52;&#44;&#32;&#53;&#125;</pre></div></div></div>"
      ],
      "text/plain": [
       "{1, 2, 3, 4, 5}\n",
       "{4, 1, 2, 5, 3}\n",
       "{1, 2, 3, 4, 5}"
      ]
     },
     "execution_count": 34,
     "metadata": {
      "text/html": [],
      "text/plain": []
     },
     "output_type": "execute_result"
    }
   ],
   "source": [
    "list = {2, 3, 5, 1, 4};\n",
    "Sort[list]\n",
    "Ordering[list]\n",
    "(* Ordering给出 Sort[list] 顺序排列的位置 *)\n",
    "list[[Ordering[list]]]"
   ]
  },
  {
   "cell_type": "markdown",
   "metadata": {},
   "source": [
    "$eg.找出不大于 n 的所有无平方因子的自然数。$<br/>\n",
    "--一种常用的提速技巧。"
   ]
  },
  {
   "cell_type": "code",
   "execution_count": 37,
   "metadata": {
    "scrolled": true,
    "vscode": {
     "languageId": "wolfram language"
    }
   },
   "outputs": [
    {
     "data": {
      "text/html": [
       "<div><pre style=\"&#102;&#111;&#110;&#116;&#45;&#102;&#97;&#109;&#105;&#108;&#121;&#58;&#32;&#34;&#67;&#111;&#117;&#114;&#105;&#101;&#114;&#32;&#78;&#101;&#119;&#34;&#44;&#67;&#111;&#117;&#114;&#105;&#101;&#114;&#44;&#109;&#111;&#110;&#111;&#115;&#112;&#97;&#99;&#101;&#59;\">&#123;&#48;&#46;&#50;&#56;&#49;&#50;&#53;&#44;&#32;&#48;&#46;&#51;&#55;&#53;&#44;&#32;&#48;&#46;&#48;&#54;&#50;&#53;&#44;&#32;&#48;&#46;&#48;&#52;&#54;&#56;&#55;&#53;&#125;</pre></div>"
      ],
      "text/plain": [
       "{0.28125, 0.375, 0.0625, 0.046875}"
      ]
     },
     "execution_count": 45,
     "metadata": {
      "text/html": [],
      "text/plain": []
     },
     "output_type": "execute_result"
    }
   ],
   "source": [
    "(* 方法一：AppendTo *)\n",
    "solution1 =\n",
    "  Function[n, L = {}; \n",
    "   Function[i, If[SquareFreeQ[i], AppendTo[L, i]]] /@ Range[n]; L];\n",
    "\n",
    "(* 方法二：PrependTo *)\n",
    "solution2 =\n",
    "  Function[n, L = {}; \n",
    "   Function[i, If[SquareFreeQ[i], PrependTo[L, i]]] /@ Range[n]; \n",
    "   Reverse[L]];\n",
    "\n",
    "(* 方法三：嵌套表+Flatten *)\n",
    "solution3 =\n",
    "  Function[n, L = {}; \n",
    "   Function[i, If[SquareFreeQ[i], L = {L, i}]] /@ Range[n]; \n",
    "   Flatten[L]];\n",
    "\n",
    "(* 方法四：收获与播种 *)\n",
    "solution4 =\n",
    "  Function[n, \n",
    "   Reap[Function[i, If[SquareFreeQ[i], Sow[i], 0]] /@ Range[n]][[2, \n",
    "    1]]];\n",
    "\n",
    "Timing[#[20000]][[1]] & /@ {solution1, solution2, solution3, \n",
    "  solution4}\n"
   ]
  },
  {
   "cell_type": "markdown",
   "metadata": {},
   "source": [
    "$\n",
    "eg2.求 Pell 方程 x^2-2y^2=1 的满足 1\\leq y \\leq n 的解。$"
   ]
  },
  {
   "cell_type": "code",
   "execution_count": 1,
   "metadata": {
    "vscode": {
     "languageId": "wolfram language"
    }
   },
   "outputs": [
    {
     "data": {
      "text/html": [
       "<div><pre style=\"&#102;&#111;&#110;&#116;&#45;&#102;&#97;&#109;&#105;&#108;&#121;&#58;&#32;&#34;&#67;&#111;&#117;&#114;&#105;&#101;&#114;&#32;&#78;&#101;&#119;&#34;&#44;&#67;&#111;&#117;&#114;&#105;&#101;&#114;&#44;&#109;&#111;&#110;&#111;&#115;&#112;&#97;&#99;&#101;&#59;\">&#123;&#123;&#48;&#46;&#49;&#56;&#55;&#53;&#44;&#32;&#123;&#123;&#51;&#44;&#32;&#50;&#125;&#44;&#32;&#123;&#49;&#55;&#44;&#32;&#49;&#50;&#125;&#44;&#32;&#123;&#57;&#57;&#44;&#32;&#55;&#48;&#125;&#44;&#32;&#123;&#53;&#55;&#55;&#44;&#32;&#52;&#48;&#56;&#125;&#44;&#32;&#123;&#51;&#51;&#54;&#51;&#44;&#32;&#50;&#51;&#55;&#56;&#125;&#44;&#32;&#123;&#49;&#57;&#54;&#48;&#49;&#44;&#32;&#49;&#51;&#56;&#54;&#48;&#125;&#125;&#125;&#44;&#32;&#10;&#32;&#10;&#62;&#32;&#32;&#32;&#123;&#48;&#46;&#49;&#55;&#49;&#56;&#55;&#53;&#44;&#32;&#123;&#123;&#51;&#44;&#32;&#50;&#125;&#44;&#32;&#123;&#49;&#55;&#44;&#32;&#49;&#50;&#125;&#44;&#32;&#123;&#57;&#57;&#44;&#32;&#55;&#48;&#125;&#44;&#32;&#123;&#53;&#55;&#55;&#44;&#32;&#52;&#48;&#56;&#125;&#44;&#32;&#123;&#51;&#51;&#54;&#51;&#44;&#32;&#50;&#51;&#55;&#56;&#125;&#44;&#32;&#123;&#49;&#57;&#54;&#48;&#49;&#44;&#32;&#49;&#51;&#56;&#54;&#48;&#125;&#125;&#125;&#125;</pre></div>"
      ],
      "text/plain": [
       "{{0.1875, {{3, 2}, {17, 12}, {99, 70}, {577, 408}, {3363, 2378}, {19601, 13860}}}, \n",
       " \n",
       ">   {0.171875, {{3, 2}, {17, 12}, {99, 70}, {577, 408}, {3363, 2378}, {19601, 13860}}}}"
      ]
     },
     "execution_count": 8,
     "metadata": {
      "text/html": [],
      "text/plain": []
     },
     "output_type": "execute_result"
    }
   ],
   "source": [
    "(* 如果搜索结果本身也含有表的结构，嵌套表+Flatten 就会破坏结果的内部结构。 *)\n",
    "(* 这时候我们可以用下面的技巧将结果的内部结构保护起来。 *)\n",
    "(* 收获与播种法没有这样的问题。 *)\n",
    "\n",
    "\n",
    "(* 方法一：嵌套表+Flatten *)\n",
    "solution5 = \n",
    "  Function[n, L = {}; \n",
    "   Do[If[IntegerQ[x = Sqrt[1 + 2 y^2]], L = {L, list[x, y]}], {y, n}];\n",
    "    Flatten[L] /. {list -> List}];\n",
    "\n",
    "(* 方法二：收获与播种 *)\n",
    "solution6 = \n",
    "  Function[n, \n",
    "   Reap[Do[If[IntegerQ[x = Sqrt[1 + 2 y^2]], Sow[{x, y}]], {y, n}]][[\n",
    "    2, 1]]];\n",
    "\n",
    "Timing[#[20000]] & /@ {solution5, solution6}"
   ]
  }
 ],
 "metadata": {
  "kernelspec": {
   "display_name": "Wolfram Language 12.2",
   "language": "Wolfram Language",
   "name": "wolfram language 12.2"
  },
  "language_info": {
   "codemirror_mode": "mathematica",
   "file_extension": ".m",
   "mimetype": "application/vnd.wolfram.m",
   "name": "Wolfram Language",
   "pygments_lexer": "mathematica",
   "version": "12.0"
  }
 },
 "nbformat": 4,
 "nbformat_minor": 4
}
