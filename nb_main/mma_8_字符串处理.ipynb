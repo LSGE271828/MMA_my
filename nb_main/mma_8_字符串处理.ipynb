{
 "cells": [
  {
   "cell_type": "markdown",
   "metadata": {},
   "source": [
    "### 字符串处理"
   ]
  },
  {
   "cell_type": "markdown",
   "metadata": {},
   "source": [
    "当Mathematica和其他软件协作时，经常会用文件传输数据，或者通过命令行参数调用其它程序。在这种过程中，字符串的各种处理是经常用到的。<br>\n",
    "比如将Mathematica的表达式转换为其它程序的命令行参数，或者将输入或者输出调整成适当的格式等等。"
   ]
  },
  {
   "cell_type": "code",
   "execution_count": null,
   "metadata": {},
   "outputs": [],
   "source": [
    "StringLength[{\"我是一个字符串！\", \"I am a string!\"}]"
   ]
  },
  {
   "cell_type": "code",
   "execution_count": 1,
   "metadata": {},
   "outputs": [
    {
     "data": {
      "text/html": [
       "<style>\n",
       "\t\t\t\t\t\t\t\t\t\t\t\t\t.grid-container {\n",
       "\t\t\t\t\t\t\t\t\t\t\t\t\t\tdisplay: inline-grid;\n",
       "\t\t\t\t\t\t\t\t\t\t\t\t\t\tgrid-template-columns: auto;\n",
       "\t\t\t\t\t\t\t\t\t\t\t\t\t}\n",
       "\t\t\t\t\t\t\t\t\t\t\t\t</style>\n",
       "\n",
       "\t\t\t\t\t\t\t\t\t\t\t\t<div><div class=\"grid-container\"><div class=\"grid-item\"><pre style=\"&#102;&#111;&#110;&#116;&#45;&#102;&#97;&#109;&#105;&#108;&#121;&#58;&#32;&#34;&#67;&#111;&#117;&#114;&#105;&#101;&#114;&#32;&#78;&#101;&#119;&#34;&#44;&#67;&#111;&#117;&#114;&#105;&#101;&#114;&#44;&#109;&#111;&#110;&#111;&#115;&#112;&#97;&#99;&#101;&#59;\">&#12298;&#19968;&#20010;&#20154;&#26469;&#21040;&#30000;&#32435;&#35199;&#12299;&#10;&#10;&#27627;&#26080;&#30097;&#38382;&#10;&#25105;&#20570;&#30340;&#29275;&#32905;&#39292;&#10;&#26159;&#20840;&#22825;&#19979;&#10;&#26368;&#22909;&#21507;&#30340;</pre></div><div class=\"grid-item\"><pre style=\"&#102;&#111;&#110;&#116;&#45;&#102;&#97;&#109;&#105;&#108;&#121;&#58;&#32;&#34;&#67;&#111;&#117;&#114;&#105;&#101;&#114;&#32;&#78;&#101;&#119;&#34;&#44;&#67;&#111;&#117;&#114;&#105;&#101;&#114;&#44;&#109;&#111;&#110;&#111;&#115;&#112;&#97;&#99;&#101;&#59;\">&#12298;&#19968;&#20010;&#20154;&#26469;&#21040;&#30000;&#32435;&#35199;&#12299;&#10;&#10;&#27627;&#26080;&#30097;&#38382;&#10;&#25105;&#20570;&#30340;&#29275;&#32905;&#39292;&#10;&#26159;&#20840;&#22825;&#19979;&#10;&#26368;&#22909;&#21507;&#30340;</pre></div><div class=\"grid-item\"><pre style=\"&#102;&#111;&#110;&#116;&#45;&#102;&#97;&#109;&#105;&#108;&#121;&#58;&#32;&#34;&#67;&#111;&#117;&#114;&#105;&#101;&#114;&#32;&#78;&#101;&#119;&#34;&#44;&#67;&#111;&#117;&#114;&#105;&#101;&#114;&#44;&#109;&#111;&#110;&#111;&#115;&#112;&#97;&#99;&#101;&#59;\">&#12298;&#19968;&#20010;&#20154;&#26469;&#21040;&#30000;&#32435;&#35199;&#12299;&#10;&#10;&#27627;&#26080;&#30097;&#38382;&#10;&#25105;&#20570;&#30340;&#29275;&#32905;&#39292;&#10;&#26159;&#20840;&#22825;&#19979;&#10;&#26368;&#22909;&#21507;&#30340;</pre></div></div></div>"
      ],
      "text/plain": [
       "《一个人来到田纳西》\n",
       "\n",
       "毫无疑问\n",
       "我做的牛肉饼\n",
       "是全天下\n",
       "最好吃的\n",
       "《一个人来到田纳西》\n",
       "\n",
       "毫无疑问\n",
       "我做的牛肉饼\n",
       "是全天下\n",
       "最好吃的\n",
       "《一个人来到田纳西》\n",
       "\n",
       "毫无疑问\n",
       "我做的牛肉饼\n",
       "是全天下\n",
       "最好吃的"
      ]
     },
     "execution_count": 1,
     "metadata": {
      "text/html": [],
      "text/plain": []
     },
     "output_type": "execute_result"
    }
   ],
   "source": [
    "StringJoin[\"《一个人来到田纳西》\\n\\n\", \"毫无疑问\\n\", \"我做的牛肉饼\\n\", \"是全天下\\n\", \"最好吃的\"]\n",
    "StringJoin[{\"《一个人来到田纳西》\\n\\n\", {\"毫无疑问\\n\", {\"我做的牛肉饼\\n\"}, \"是全天下\\n\"}, \n",
    "  \"最好吃的\"}]\n",
    "\"《一个人来到田纳西》\\n\\n\" <> \"毫无疑问\\n\" <> \"我做的牛肉饼\\n\" <> \"是全天下\\n\" <> \"最好吃的\""
   ]
  },
  {
   "cell_type": "code",
   "execution_count": 4,
   "metadata": {},
   "outputs": [
    {
     "data": {
      "text/html": [
       "<style>\n",
       "\t\t\t\t\t\t\t\t\t\t\t\t\t.grid-container {\n",
       "\t\t\t\t\t\t\t\t\t\t\t\t\t\tdisplay: inline-grid;\n",
       "\t\t\t\t\t\t\t\t\t\t\t\t\t\tgrid-template-columns: auto;\n",
       "\t\t\t\t\t\t\t\t\t\t\t\t\t}\n",
       "\t\t\t\t\t\t\t\t\t\t\t\t</style>\n",
       "\n",
       "\t\t\t\t\t\t\t\t\t\t\t\t<div><div class=\"grid-container\"><div class=\"grid-item\"><pre style=\"&#102;&#111;&#110;&#116;&#45;&#102;&#97;&#109;&#105;&#108;&#121;&#58;&#32;&#34;&#67;&#111;&#117;&#114;&#105;&#101;&#114;&#32;&#78;&#101;&#119;&#34;&#44;&#67;&#111;&#117;&#114;&#105;&#101;&#114;&#44;&#109;&#111;&#110;&#111;&#115;&#112;&#97;&#99;&#101;&#59;\">&#97;&#98;&#99;&#100;&#101;&#102;&#103;&#104;&#105;&#106;&#107;&#108;&#109;&#110;&#111;&#112;&#113;&#114;&#115;&#116;&#117;&#118;&#119;&#120;&#121;&#122;</pre></div><div class=\"grid-item\"><pre style=\"&#102;&#111;&#110;&#116;&#45;&#102;&#97;&#109;&#105;&#108;&#121;&#58;&#32;&#34;&#67;&#111;&#117;&#114;&#105;&#101;&#114;&#32;&#78;&#101;&#119;&#34;&#44;&#67;&#111;&#117;&#114;&#105;&#101;&#114;&#44;&#109;&#111;&#110;&#111;&#115;&#112;&#97;&#99;&#101;&#59;\">&#97;&#98;&#99;&#100;&#101;&#102;&#103;&#104;&#105;&#106;&#107;&#108;</pre></div><div class=\"grid-item\"><pre style=\"&#102;&#111;&#110;&#116;&#45;&#102;&#97;&#109;&#105;&#108;&#121;&#58;&#32;&#34;&#67;&#111;&#117;&#114;&#105;&#101;&#114;&#32;&#78;&#101;&#119;&#34;&#44;&#67;&#111;&#117;&#114;&#105;&#101;&#114;&#44;&#109;&#111;&#110;&#111;&#115;&#112;&#97;&#99;&#101;&#59;\">&#109;&#110;&#111;&#112;&#113;&#114;&#115;&#116;&#117;&#118;&#119;&#120;&#121;&#122;</pre></div><div class=\"grid-item\"><pre style=\"&#102;&#111;&#110;&#116;&#45;&#102;&#97;&#109;&#105;&#108;&#121;&#58;&#32;&#34;&#67;&#111;&#117;&#114;&#105;&#101;&#114;&#32;&#78;&#101;&#119;&#34;&#44;&#67;&#111;&#117;&#114;&#105;&#101;&#114;&#44;&#109;&#111;&#110;&#111;&#115;&#112;&#97;&#99;&#101;&#59;\">&#108;</pre></div></div></div>"
      ],
      "text/plain": [
       "abcdefghijklmnopqrstuvwxyz\n",
       "abcdefghijkl\n",
       "mnopqrstuvwxyz\n",
       "l"
      ]
     },
     "execution_count": 4,
     "metadata": {
      "text/html": [],
      "text/plain": []
     },
     "output_type": "execute_result"
    }
   ],
   "source": [
    "alphabet = StringJoin[CharacterRange[\"a\", \"z\"]]\n",
    "StringTake[alphabet, 12]\n",
    "StringDrop[alphabet, 12]\n",
    "StringPart[alphabet, 12]"
   ]
  },
  {
   "cell_type": "code",
   "execution_count": 8,
   "metadata": {},
   "outputs": [
    {
     "data": {
      "text/html": [
       "<style>\n",
       "\t\t\t\t\t\t\t\t\t\t\t\t\t.grid-container {\n",
       "\t\t\t\t\t\t\t\t\t\t\t\t\t\tdisplay: inline-grid;\n",
       "\t\t\t\t\t\t\t\t\t\t\t\t\t\tgrid-template-columns: auto;\n",
       "\t\t\t\t\t\t\t\t\t\t\t\t\t}\n",
       "\t\t\t\t\t\t\t\t\t\t\t\t</style>\n",
       "\n",
       "\t\t\t\t\t\t\t\t\t\t\t\t<div><div class=\"grid-container\"><div class=\"grid-item\"><pre style=\"&#102;&#111;&#110;&#116;&#45;&#102;&#97;&#109;&#105;&#108;&#121;&#58;&#32;&#34;&#67;&#111;&#117;&#114;&#105;&#101;&#114;&#32;&#78;&#101;&#119;&#34;&#44;&#67;&#111;&#117;&#114;&#105;&#101;&#114;&#44;&#109;&#111;&#110;&#111;&#115;&#112;&#97;&#99;&#101;&#59;\">&#108;&#109;&#110;&#111;&#112;</pre></div><div class=\"grid-item\"><pre style=\"&#102;&#111;&#110;&#116;&#45;&#102;&#97;&#109;&#105;&#108;&#121;&#58;&#32;&#34;&#67;&#111;&#117;&#114;&#105;&#101;&#114;&#32;&#78;&#101;&#119;&#34;&#44;&#67;&#111;&#117;&#114;&#105;&#101;&#114;&#44;&#109;&#111;&#110;&#111;&#115;&#112;&#97;&#99;&#101;&#59;\">&#123;&#108;&#44;&#32;&#112;&#125;</pre></div></div></div>"
      ],
      "text/plain": [
       "lmnop\n",
       "{l, p}"
      ]
     },
     "execution_count": 8,
     "metadata": {
      "text/html": [],
      "text/plain": []
     },
     "output_type": "execute_result"
    }
   ],
   "source": [
    "StringTake[alphabet, {12, 16}]\n",
    "StringPart[alphabet, {12, 16}]"
   ]
  },
  {
   "cell_type": "markdown",
   "metadata": {},
   "source": [
    "* 字符串模式："
   ]
  },
  {
   "cell_type": "code",
   "execution_count": null,
   "metadata": {},
   "outputs": [],
   "source": [
    "MatchQ[{a, b, c, d}, {___, x_, x_, ___}]\n",
    "MatchQ[{a, b, c, c, d}, {___, x_, x_, ___}]"
   ]
  },
  {
   "cell_type": "code",
   "execution_count": null,
   "metadata": {},
   "outputs": [],
   "source": [
    "StringMatchQ[\"abcd\", ___ ~~ x_ ~~ x_ ~~ ___]\n",
    "StringMatchQ[\"abccd\", ___ ~~ x_ ~~ x_ ~~ ___]"
   ]
  },
  {
   "cell_type": "code",
   "execution_count": null,
   "metadata": {},
   "outputs": [],
   "source": [
    "StringFreeQ[\"aabbccdd\", \"bc\" ~~ x_ ~~ \"d\"]"
   ]
  },
  {
   "cell_type": "code",
   "execution_count": null,
   "metadata": {},
   "outputs": [],
   "source": [
    "StringCases[\"aabbccdd\", x_ ~~ x_]\n",
    "StringCases[\"aabbccdd\", x_ ~~ x_ :> x ~~ x ~~ x]"
   ]
  },
  {
   "cell_type": "code",
   "execution_count": null,
   "metadata": {},
   "outputs": [],
   "source": [
    "StringPosition[\"aabbccdd\", x_ ~~ x_ ~~ y_ ~~ y_]"
   ]
  },
  {
   "cell_type": "code",
   "execution_count": null,
   "metadata": {},
   "outputs": [],
   "source": [
    "StringCount[\"abcadcadcbqwertaac\", \"a\"]\n",
    "StringCount[\"abcadcadcbqwertaac\", \"a\" ~~ _ ~~ \"c\"]"
   ]
  },
  {
   "cell_type": "code",
   "execution_count": null,
   "metadata": {},
   "outputs": [],
   "source": [
    "StringReplace[\"abbaabbaa\", \"ab\" -> \"X\"]\n",
    "StringReplace[\"ababbabbaaababa\", \"ab\" .. -> \"X\"]"
   ]
  },
  {
   "cell_type": "code",
   "execution_count": null,
   "metadata": {},
   "outputs": [],
   "source": [
    "StringReplaceList[\"ccccc\", \"c\" -> \"XYX\"]\n",
    "StringReplaceList[\"abcdeabacde\", {\"abc\" -> \"X\", \"cde\" -> \"Y\"}]\n",
    "StringReplace[\"the cat in the hat\", Except[Characters[\"aeiou\"]] -> \"\"]"
   ]
  },
  {
   "cell_type": "code",
   "execution_count": null,
   "metadata": {},
   "outputs": [],
   "source": [
    "StringSplit[\"a bbb  cccc aa   d\"]\n",
    "StringSplit[\"a----bbb---ccc--dddd\", \"--\"]\n",
    "StringSplit[\"a----bbb---ccc--dddd\", \"-\" ..]\n",
    "StringSplit[\"a--.-bbb- -|-ccc--dddd\", (\"-\" | \".\" | \"|\" | \" \") ..]\n",
    "\n",
    "StringSplit[alphabet, \"a\" | \"e\" | \"i\" | \"o\" | \"u\"]\n",
    "StringSplit[alphabet, {\"a\", \"e\", \"i\", \"o\", \"u\"}]"
   ]
  },
  {
   "cell_type": "markdown",
   "metadata": {},
   "source": [
    "* 字符串模式的完整形式："
   ]
  },
  {
   "cell_type": "code",
   "execution_count": null,
   "metadata": {},
   "outputs": [],
   "source": [
    "FullForm[\"a\" ~~ _ ~~ \"b\"]\n",
    "FullForm[\"a\" <> _ <> \"b\"]\n",
    "FullForm[\"a\" ~~ __]\n",
    "FullForm[\"a\" ~~ ___]"
   ]
  },
  {
   "cell_type": "code",
   "execution_count": null,
   "metadata": {},
   "outputs": [],
   "source": [
    "FullForm[\"a\" ~~ x_]\n",
    "FullForm[\"a\" ~~ x : _]"
   ]
  },
  {
   "cell_type": "code",
   "execution_count": null,
   "metadata": {},
   "outputs": [],
   "source": [
    "FullForm[\"a\" ..]\n",
    "FullForm[\"a\" ...]"
   ]
  },
  {
   "cell_type": "code",
   "execution_count": null,
   "metadata": {},
   "outputs": [],
   "source": [
    "FullForm[\"a\" | \"e\" | \"i\" | \"o\" | \"u\"]\n",
    "FullForm[{\"a\", \"e\", \"i\", \"o\", \"u\"}]"
   ]
  },
  {
   "cell_type": "markdown",
   "metadata": {},
   "source": [
    "* 其它字符串模式："
   ]
  },
  {
   "cell_type": "code",
   "execution_count": null,
   "metadata": {},
   "outputs": [],
   "source": [
    "StringSplit[\"a bbb \\t cc\\rcc aa \\n  d\", Whitespace]"
   ]
  },
  {
   "cell_type": "code",
   "execution_count": null,
   "metadata": {},
   "outputs": [],
   "source": [
    "StringSplit[\"a384b6463fc216a5f8ecb6670f86456a\", \n",
    " CharacterRange[\"0\", \"9\"]]\n",
    "StringSplit[\"a384b6463fc216a5f8ecb6670f86456a\", DigitCharacter]"
   ]
  },
  {
   "cell_type": "code",
   "execution_count": null,
   "metadata": {},
   "outputs": [],
   "source": [
    "StringSplit[\"a384b6463fc216a5f8ecb6670f86456a\", \n",
    " CharacterRange[\"a\", \"z\"]]\n",
    "StringSplit[\"a384b6463fc216a5f8ecb6670f86456a\", LetterCharacter]"
   ]
  },
  {
   "cell_type": "code",
   "execution_count": null,
   "metadata": {},
   "outputs": [],
   "source": [
    "StringMatchQ[\"abaababb\", StartOfString ~~ \"a\" ~~ __]\n",
    "StringMatchQ[\"abaababb\", __ ~~ \"a\" ~~ EndOfString]"
   ]
  },
  {
   "cell_type": "code",
   "execution_count": null,
   "metadata": {},
   "outputs": [],
   "source": [
    "StringReplace[\"Deformations of semisimple bihamiltonian structures of \\\n",
    "hydrodynamic type\", WordBoundary ~~ x_ :> ToUpperCase[x]]"
   ]
  },
  {
   "cell_type": "code",
   "execution_count": null,
   "metadata": {},
   "outputs": [],
   "source": [
    "StringCases[\"aabbaccbcadddasadqweqer\", Longest[\"a\" ~~ ___ ~~ \"a\"]]\n",
    "StringCases[\"aabbaccbcadddasadqweqer\", Shortest[\"a\" ~~ ___ ~~ \"a\"], \n",
    " Overlaps -> True]"
   ]
  },
  {
   "cell_type": "markdown",
   "metadata": {},
   "source": [
    "$eg.$去除一段源程序中所有的空行和 C 语言风格的注释"
   ]
  },
  {
   "cell_type": "code",
   "execution_count": null,
   "metadata": {},
   "outputs": [],
   "source": [
    "cSource = \"#include <stdio.h>\\n\\n/*adasd*/ /*asdasd/*adasd*/ada*/ /*/* \\\n",
    "asadsad */ */ /* adasd */\\n\\nint main() {\\n\\n    printf(\\\"Hello, \\\n",
    "World!\\\");\\n    return 0;\\n\\n}\""
   ]
  },
  {
   "cell_type": "code",
   "execution_count": null,
   "metadata": {},
   "outputs": [],
   "source": [
    "FixedPoint[\n",
    " StringReplace[#, {\n",
    "    \"\\n\" .. :> \"\\n\",\n",
    "    StartOfLine ~~ \" \" .. ~~ EndOfLine :> \"\",\n",
    "    \"/*\" ~~ x___ ~~ \"*/\" /; StringFreeQ[x, \"/*\" | \"*/\"] :> \"\"\n",
    "    }] &,\n",
    " cSource\n",
    " ]"
   ]
  },
  {
   "cell_type": "markdown",
   "metadata": {},
   "source": [
    "Mathematica还支持PCRE（Perl Compatible Regular Expressions）语法的正则表达式："
   ]
  },
  {
   "cell_type": "code",
   "execution_count": null,
   "metadata": {},
   "outputs": [],
   "source": [
    "\"c\"\tthe literal character c\n",
    "\".\"\tany character except newline \n",
    "\"\\\"[\\!\\(\\*SubscriptBox[\\(c\\), \\(1\\)]\\)\\!\\(\\*SubscriptBox[\\(c\\), \\(2\\)]\\)\\[Ellipsis]]\\\"\"\tany of the characters Subscript[c, i]\n",
    "\"\\\"[\\!\\(\\*SubscriptBox[\\(c\\), \\(1\\)]\\)-\\!\\(\\*SubscriptBox[\\(c\\), \\(2\\)]\\)]\\\"\"\tany character in the range Subscript[c, 1]\\[Dash]Subscript[c, 2] \n",
    "\"\\\"[^\\!\\(\\*SubscriptBox[\\(c\\), \\(1\\)]\\)\\!\\(\\*SubscriptBox[\\(c\\), \\(2\\)]\\)\\[Ellipsis]]\\\"\"\tany character except the Subscript[c, i]\n",
    "\"p*\"\tp repeated zero or more times \n",
    "\"p+\"\tp repeated one or more times \n",
    "\"p?\"\tzero or one occurrence of p\n",
    "\"p{m,n}\"\tp repeated between m and n times \n",
    "p*?, p+?, p??\tthe shortest consistent strings that match \n",
    "p*+,p++, p?+\tpossessive match\n",
    "\"\\\"(\\!\\(\\*SubscriptBox[\\(p\\), \\(1\\)]\\)\\!\\(\\*SubscriptBox[\\(p\\), \\(2\\)]\\)\\[Ellipsis])\\\"\"\tstrings matching the sequence Subscript[p, 1], Subscript[p, 2], \\[Ellipsis]\n",
    "\"\\\"\\!\\(\\*SubscriptBox[\\(p\\), \\(1\\)]\\)|\\!\\(\\*SubscriptBox[\\(p\\), \\(2\\)]\\)\\\"\"\tstrings matching Subscript[p, 1] or Subscript[p, 2] "
   ]
  },
  {
   "cell_type": "code",
   "execution_count": null,
   "metadata": {},
   "outputs": [],
   "source": [
    "\"\\\\\\\\d\"\tdigit 0\\[Dash]9 \n",
    "\"\\\\\\\\D\"\tnondigit \n",
    "\"\\\\\\\\s\"\tspace, newline, tab, or other whitespace character \n",
    "\"\\\\\\\\S\"\tnon-whitespace character \n",
    "\"\\\\\\\\w\"\tword character (letter, digit, or _) \n",
    "\"\\\\\\\\W\"\tnonword character \n",
    "\"[[:class:]]\"\tcharacters in a named class \n",
    "\"[^[:class:]]\"\tcharacters not in a named class "
   ]
  },
  {
   "cell_type": "code",
   "execution_count": null,
   "metadata": {},
   "outputs": [],
   "source": [
    "^\tthe beginning of the string (or line) \n",
    "$\tthe end of the string (or line) \n",
    "\\\\ A\tthe beginning of the string \n",
    "\\\\ z\tthe end of the string \n",
    "\\\\ Z\tthe end of the string (allowing for a single newline character first) \n",
    "\\\\ b\tword boundary \n",
    "\\\\ B\tanywhere except a word boundary "
   ]
  },
  {
   "cell_type": "code",
   "execution_count": null,
   "metadata": {},
   "outputs": [],
   "source": [
    "(?i)\ttreat uppercase and lowercase as equivalent (ignore case) \n",
    "(?m)\tmake ^ and $ match start and end of lines (multiline mode) \n",
    "(?s)\tallow . to match newline \n",
    "(?x)\tdisregard all whitespace and treat everything between \"#\" and \"\\n\" as comments \n",
    "(?-\\[Backslash]#c)\tunset options "
   ]
  },
  {
   "cell_type": "code",
   "execution_count": null,
   "metadata": {},
   "outputs": [],
   "source": [
    "(?=p)\tthe following text must match p\n",
    "(?!p)\tthe following text cannot match p\n",
    "(?<= p)\tthe preceding text must match p\n",
    "(?<!p)\tthe preceding text cannot match p"
   ]
  },
  {
   "cell_type": "markdown",
   "metadata": {},
   "source": [
    "#### 提速技巧："
   ]
  },
  {
   "cell_type": "markdown",
   "metadata": {},
   "source": [
    "* 字符串模式 vs 正则表达式"
   ]
  },
  {
   "cell_type": "markdown",
   "metadata": {},
   "source": [
    "因为Mathematica处理字符串模式时都是直接将它翻译为正则表达式，所以一般来说这两者的效率没有区别。但是如果有很多字符串表达式，那么翻译的开销可能会增大，所以这时候直接写正则表达式，免去这笔开销，会提高一定的效率。"
   ]
  },
  {
   "cell_type": "markdown",
   "metadata": {},
   "source": [
    "在表达能力方面，两者差不多，不过仍有一些情况不能互相翻译。例如，含有条件判断的字符串模式（即 /; 和 ?）就不能翻译到正则表达式。反之，正则表达式中的某些用法也不能直接翻译成字符串模式，需要配合Mathematica中的其它函数才能实现。"
   ]
  },
  {
   "cell_type": "markdown",
   "metadata": {},
   "source": [
    "* 处理字符串表（List of strings）时一次喂"
   ]
  },
  {
   "cell_type": "code",
   "execution_count": null,
   "metadata": {},
   "outputs": [],
   "source": [
    "test = Table[\n",
    "   StringJoin[{\"a\", \"c\", \"g\", \"t\"}[[#]] & /@ \n",
    "     Table[RandomInteger[{1, 4}], {10}]], {100000}];"
   ]
  },
  {
   "cell_type": "code",
   "execution_count": null,
   "metadata": {},
   "outputs": [],
   "source": [
    "(* 用 Select 的话，将对 test 的每个元素调用一次 StringMatchQ，造成额外的开销 *)\n",
    "Select[test, StringMatchQ[#, \"a\" ~~ ___ ~~ \"ggg\" ~~ ___] &] // Timing\n",
    "\n",
    "(* 这里利用 StringMatchQ 的 Listable 属性，只用了一次调用 *)\n",
    "Pick[test, StringMatchQ[test, \"a\" ~~ ___ ~~ \"ggg\" ~~ ___]] // Timing\n",
    "\n",
    "(* 另一种避免使用 StringMatchQ 的解决方法 *)\n",
    "Flatten[StringCases[test, \n",
    "   StartOfString ~~ \"a\" ~~ ___ ~~ \"ggg\" ~~ ___ ~~ \n",
    "    EndOfString]] // Timing"
   ]
  },
  {
   "cell_type": "markdown",
   "metadata": {},
   "source": [
    "* 将一般的表达式搜索转换为字符串搜索"
   ]
  },
  {
   "cell_type": "code",
   "execution_count": null,
   "metadata": {},
   "outputs": [],
   "source": [
    "test = Range[1000];\n",
    "test[[{50, 75}]] = 5;\n",
    "\n",
    "Position[test, 5]\n",
    "\n",
    "MatchQ[test, {___, x_, ___, x_, ___, x_, ___}] // Timing"
   ]
  },
  {
   "cell_type": "code",
   "execution_count": null,
   "metadata": {},
   "outputs": [],
   "source": [
    "teststr = FromCharacterCode[test];\n",
    "StringPosition[teststr, FromCharacterCode[5]]\n",
    "\n",
    "StringMatchQ[teststr, \n",
    "  StringExpression[___, x_, ___, x_, ___, x_, ___]] // Timing"
   ]
  }
 ],
 "metadata": {
  "kernelspec": {
   "display_name": "Wolfram Language 12.2",
   "language": "Wolfram Language",
   "name": "wolfram language 12.2"
  },
  "language_info": {
   "codemirror_mode": "mathematica",
   "file_extension": ".m",
   "mimetype": "application/vnd.wolfram.m",
   "name": "Wolfram Language",
   "pygments_lexer": "mathematica",
   "version": "12.0"
  }
 },
 "nbformat": 4,
 "nbformat_minor": 4
}
